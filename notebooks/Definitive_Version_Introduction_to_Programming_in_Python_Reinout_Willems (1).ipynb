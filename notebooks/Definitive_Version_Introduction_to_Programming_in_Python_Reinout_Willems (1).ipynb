{
  "nbformat": 4,
  "nbformat_minor": 0,
  "metadata": {
    "colab": {
      "provenance": [],
      "collapsed_sections": [
        "6jfSbGbqtRJO",
        "1e7vmgOls5nP",
        "FeNkmYbdsxKJ",
        "98z9cOIVt_Ap"
      ]
    },
    "kernelspec": {
      "name": "python3",
      "display_name": "Python 3"
    },
    "language_info": {
      "name": "python"
    },
    "widgets": {
      "application/vnd.jupyter.widget-state+json": {
        "0a750581e35345d09b94ffd6ac39c7a5": {
          "model_module": "@jupyter-widgets/controls",
          "model_name": "VBoxModel",
          "model_module_version": "1.5.0",
          "state": {
            "_dom_classes": [
              "widget-interact"
            ],
            "_model_module": "@jupyter-widgets/controls",
            "_model_module_version": "1.5.0",
            "_model_name": "VBoxModel",
            "_view_count": null,
            "_view_module": "@jupyter-widgets/controls",
            "_view_module_version": "1.5.0",
            "_view_name": "VBoxView",
            "box_style": "",
            "children": [
              "IPY_MODEL_cabfc1053a544205b55094f0f6788f0e",
              "IPY_MODEL_9bf8c121086d4743bf094b3f9b457642"
            ],
            "layout": "IPY_MODEL_b011a13bc6b24ab3a1face888b532aee"
          }
        },
        "cabfc1053a544205b55094f0f6788f0e": {
          "model_module": "@jupyter-widgets/controls",
          "model_name": "DropdownModel",
          "model_module_version": "1.5.0",
          "state": {
            "_dom_classes": [],
            "_model_module": "@jupyter-widgets/controls",
            "_model_module_version": "1.5.0",
            "_model_name": "DropdownModel",
            "_options_labels": [
              "Bangladesh",
              "Brunei Darussalam",
              "Cambodia",
              "China",
              "India",
              "Indonesia",
              "Lao People's Democratic Republic",
              "Malaysia",
              "Mongolia",
              "Myanmar",
              "Pakistan",
              "Philippines",
              "Russian Federation",
              "Singapore",
              "Sri Lanka",
              "Thailand",
              "Timor-Leste",
              "Viet Nam"
            ],
            "_view_count": null,
            "_view_module": "@jupyter-widgets/controls",
            "_view_module_version": "1.5.0",
            "_view_name": "DropdownView",
            "description": "Country",
            "description_tooltip": null,
            "disabled": false,
            "index": 0,
            "layout": "IPY_MODEL_12f20b043e5b47a094e1d334b46efbc5",
            "style": "IPY_MODEL_e47ef70ace674f5fa4d6e69760f60e16"
          }
        },
        "9bf8c121086d4743bf094b3f9b457642": {
          "model_module": "@jupyter-widgets/output",
          "model_name": "OutputModel",
          "model_module_version": "1.0.0",
          "state": {
            "_dom_classes": [],
            "_model_module": "@jupyter-widgets/output",
            "_model_module_version": "1.0.0",
            "_model_name": "OutputModel",
            "_view_count": null,
            "_view_module": "@jupyter-widgets/output",
            "_view_module_version": "1.0.0",
            "_view_name": "OutputView",
            "layout": "IPY_MODEL_0310aeb5a9324c528d6799c4210ccd34",
            "msg_id": "",
            "outputs": [
              {
                "output_type": "display_data",
                "data": {
                  "text/plain": "                          Schooling  Average Vaccination Rate\nSchooling                  1.000000                  0.495936\nAverage Vaccination Rate   0.495936                  1.000000",
                  "text/html": "\n  <div id=\"df-8e3b7402-3064-4a20-81b4-5e7af6dc08e9\" class=\"colab-df-container\">\n    <div>\n<style scoped>\n    .dataframe tbody tr th:only-of-type {\n        vertical-align: middle;\n    }\n\n    .dataframe tbody tr th {\n        vertical-align: top;\n    }\n\n    .dataframe thead th {\n        text-align: right;\n    }\n</style>\n<table border=\"1\" class=\"dataframe\">\n  <thead>\n    <tr style=\"text-align: right;\">\n      <th></th>\n      <th>Schooling</th>\n      <th>Average Vaccination Rate</th>\n    </tr>\n  </thead>\n  <tbody>\n    <tr>\n      <th>Schooling</th>\n      <td>1.000000</td>\n      <td>0.495936</td>\n    </tr>\n    <tr>\n      <th>Average Vaccination Rate</th>\n      <td>0.495936</td>\n      <td>1.000000</td>\n    </tr>\n  </tbody>\n</table>\n</div>\n    <div class=\"colab-df-buttons\">\n\n  <div class=\"colab-df-container\">\n    <button class=\"colab-df-convert\" onclick=\"convertToInteractive('df-8e3b7402-3064-4a20-81b4-5e7af6dc08e9')\"\n            title=\"Convert this dataframe to an interactive table.\"\n            style=\"display:none;\">\n\n  <svg xmlns=\"http://www.w3.org/2000/svg\" height=\"24px\" viewBox=\"0 -960 960 960\">\n    <path d=\"M120-120v-720h720v720H120Zm60-500h600v-160H180v160Zm220 220h160v-160H400v160Zm0 220h160v-160H400v160ZM180-400h160v-160H180v160Zm440 0h160v-160H620v160ZM180-180h160v-160H180v160Zm440 0h160v-160H620v160Z\"/>\n  </svg>\n    </button>\n\n  <style>\n    .colab-df-container {\n      display:flex;\n      gap: 12px;\n    }\n\n    .colab-df-convert {\n      background-color: #E8F0FE;\n      border: none;\n      border-radius: 50%;\n      cursor: pointer;\n      display: none;\n      fill: #1967D2;\n      height: 32px;\n      padding: 0 0 0 0;\n      width: 32px;\n    }\n\n    .colab-df-convert:hover {\n      background-color: #E2EBFA;\n      box-shadow: 0px 1px 2px rgba(60, 64, 67, 0.3), 0px 1px 3px 1px rgba(60, 64, 67, 0.15);\n      fill: #174EA6;\n    }\n\n    .colab-df-buttons div {\n      margin-bottom: 4px;\n    }\n\n    [theme=dark] .colab-df-convert {\n      background-color: #3B4455;\n      fill: #D2E3FC;\n    }\n\n    [theme=dark] .colab-df-convert:hover {\n      background-color: #434B5C;\n      box-shadow: 0px 1px 3px 1px rgba(0, 0, 0, 0.15);\n      filter: drop-shadow(0px 1px 2px rgba(0, 0, 0, 0.3));\n      fill: #FFFFFF;\n    }\n  </style>\n\n    <script>\n      const buttonEl =\n        document.querySelector('#df-8e3b7402-3064-4a20-81b4-5e7af6dc08e9 button.colab-df-convert');\n      buttonEl.style.display =\n        google.colab.kernel.accessAllowed ? 'block' : 'none';\n\n      async function convertToInteractive(key) {\n        const element = document.querySelector('#df-8e3b7402-3064-4a20-81b4-5e7af6dc08e9');\n        const dataTable =\n          await google.colab.kernel.invokeFunction('convertToInteractive',\n                                                    [key], {});\n        if (!dataTable) return;\n\n        const docLinkHtml = 'Like what you see? Visit the ' +\n          '<a target=\"_blank\" href=https://colab.research.google.com/notebooks/data_table.ipynb>data table notebook</a>'\n          + ' to learn more about interactive tables.';\n        element.innerHTML = '';\n        dataTable['output_type'] = 'display_data';\n        await google.colab.output.renderOutput(dataTable, element);\n        const docLink = document.createElement('div');\n        docLink.innerHTML = docLinkHtml;\n        element.appendChild(docLink);\n      }\n    </script>\n  </div>\n\n\n<div id=\"df-9f2b32ce-41f8-44a2-8bd4-ccadd3742bbd\">\n  <button class=\"colab-df-quickchart\" onclick=\"quickchart('df-9f2b32ce-41f8-44a2-8bd4-ccadd3742bbd')\"\n            title=\"Suggest charts\"\n            style=\"display:none;\">\n\n<svg xmlns=\"http://www.w3.org/2000/svg\" height=\"24px\"viewBox=\"0 0 24 24\"\n     width=\"24px\">\n    <g>\n        <path d=\"M19 3H5c-1.1 0-2 .9-2 2v14c0 1.1.9 2 2 2h14c1.1 0 2-.9 2-2V5c0-1.1-.9-2-2-2zM9 17H7v-7h2v7zm4 0h-2V7h2v10zm4 0h-2v-4h2v4z\"/>\n    </g>\n</svg>\n  </button>\n\n<style>\n  .colab-df-quickchart {\n      --bg-color: #E8F0FE;\n      --fill-color: #1967D2;\n      --hover-bg-color: #E2EBFA;\n      --hover-fill-color: #174EA6;\n      --disabled-fill-color: #AAA;\n      --disabled-bg-color: #DDD;\n  }\n\n  [theme=dark] .colab-df-quickchart {\n      --bg-color: #3B4455;\n      --fill-color: #D2E3FC;\n      --hover-bg-color: #434B5C;\n      --hover-fill-color: #FFFFFF;\n      --disabled-bg-color: #3B4455;\n      --disabled-fill-color: #666;\n  }\n\n  .colab-df-quickchart {\n    background-color: var(--bg-color);\n    border: none;\n    border-radius: 50%;\n    cursor: pointer;\n    display: none;\n    fill: var(--fill-color);\n    height: 32px;\n    padding: 0;\n    width: 32px;\n  }\n\n  .colab-df-quickchart:hover {\n    background-color: var(--hover-bg-color);\n    box-shadow: 0 1px 2px rgba(60, 64, 67, 0.3), 0 1px 3px 1px rgba(60, 64, 67, 0.15);\n    fill: var(--button-hover-fill-color);\n  }\n\n  .colab-df-quickchart-complete:disabled,\n  .colab-df-quickchart-complete:disabled:hover {\n    background-color: var(--disabled-bg-color);\n    fill: var(--disabled-fill-color);\n    box-shadow: none;\n  }\n\n  .colab-df-spinner {\n    border: 2px solid var(--fill-color);\n    border-color: transparent;\n    border-bottom-color: var(--fill-color);\n    animation:\n      spin 1s steps(1) infinite;\n  }\n\n  @keyframes spin {\n    0% {\n      border-color: transparent;\n      border-bottom-color: var(--fill-color);\n      border-left-color: var(--fill-color);\n    }\n    20% {\n      border-color: transparent;\n      border-left-color: var(--fill-color);\n      border-top-color: var(--fill-color);\n    }\n    30% {\n      border-color: transparent;\n      border-left-color: var(--fill-color);\n      border-top-color: var(--fill-color);\n      border-right-color: var(--fill-color);\n    }\n    40% {\n      border-color: transparent;\n      border-right-color: var(--fill-color);\n      border-top-color: var(--fill-color);\n    }\n    60% {\n      border-color: transparent;\n      border-right-color: var(--fill-color);\n    }\n    80% {\n      border-color: transparent;\n      border-right-color: var(--fill-color);\n      border-bottom-color: var(--fill-color);\n    }\n    90% {\n      border-color: transparent;\n      border-bottom-color: var(--fill-color);\n    }\n  }\n</style>\n\n  <script>\n    async function quickchart(key) {\n      const quickchartButtonEl =\n        document.querySelector('#' + key + ' button');\n      quickchartButtonEl.disabled = true;  // To prevent multiple clicks.\n      quickchartButtonEl.classList.add('colab-df-spinner');\n      try {\n        const charts = await google.colab.kernel.invokeFunction(\n            'suggestCharts', [key], {});\n      } catch (error) {\n        console.error('Error during call to suggestCharts:', error);\n      }\n      quickchartButtonEl.classList.remove('colab-df-spinner');\n      quickchartButtonEl.classList.add('colab-df-quickchart-complete');\n    }\n    (() => {\n      let quickchartButtonEl =\n        document.querySelector('#df-9f2b32ce-41f8-44a2-8bd4-ccadd3742bbd button');\n      quickchartButtonEl.style.display =\n        google.colab.kernel.accessAllowed ? 'block' : 'none';\n    })();\n  </script>\n</div>\n    </div>\n  </div>\n",
                  "application/vnd.google.colaboratory.intrinsic+json": {
                    "type": "dataframe",
                    "summary": "{\n  \"name\": \"         FactorHealth2=fixed(FactorHealth2));\",\n  \"rows\": 2,\n  \"fields\": [\n    {\n      \"column\": \"Schooling\",\n      \"properties\": {\n        \"dtype\": \"number\",\n        \"std\": 0.3564270458564272,\n        \"min\": 0.4959360377532636,\n        \"max\": 1.0,\n        \"num_unique_values\": 2,\n        \"samples\": [\n          0.4959360377532636,\n          1.0\n        ],\n        \"semantic_type\": \"\",\n        \"description\": \"\"\n      }\n    },\n    {\n      \"column\": \"Average Vaccination Rate\",\n      \"properties\": {\n        \"dtype\": \"number\",\n        \"std\": 0.3564270458564272,\n        \"min\": 0.4959360377532636,\n        \"max\": 1.0,\n        \"num_unique_values\": 2,\n        \"samples\": [\n          1.0,\n          0.4959360377532636\n        ],\n        \"semantic_type\": \"\",\n        \"description\": \"\"\n      }\n    }\n  ]\n}"
                  }
                },
                "metadata": {}
              }
            ]
          }
        },
        "b011a13bc6b24ab3a1face888b532aee": {
          "model_module": "@jupyter-widgets/base",
          "model_name": "LayoutModel",
          "model_module_version": "1.2.0",
          "state": {
            "_model_module": "@jupyter-widgets/base",
            "_model_module_version": "1.2.0",
            "_model_name": "LayoutModel",
            "_view_count": null,
            "_view_module": "@jupyter-widgets/base",
            "_view_module_version": "1.2.0",
            "_view_name": "LayoutView",
            "align_content": null,
            "align_items": null,
            "align_self": null,
            "border": null,
            "bottom": null,
            "display": null,
            "flex": null,
            "flex_flow": null,
            "grid_area": null,
            "grid_auto_columns": null,
            "grid_auto_flow": null,
            "grid_auto_rows": null,
            "grid_column": null,
            "grid_gap": null,
            "grid_row": null,
            "grid_template_areas": null,
            "grid_template_columns": null,
            "grid_template_rows": null,
            "height": null,
            "justify_content": null,
            "justify_items": null,
            "left": null,
            "margin": null,
            "max_height": null,
            "max_width": null,
            "min_height": null,
            "min_width": null,
            "object_fit": null,
            "object_position": null,
            "order": null,
            "overflow": null,
            "overflow_x": null,
            "overflow_y": null,
            "padding": null,
            "right": null,
            "top": null,
            "visibility": null,
            "width": null
          }
        },
        "12f20b043e5b47a094e1d334b46efbc5": {
          "model_module": "@jupyter-widgets/base",
          "model_name": "LayoutModel",
          "model_module_version": "1.2.0",
          "state": {
            "_model_module": "@jupyter-widgets/base",
            "_model_module_version": "1.2.0",
            "_model_name": "LayoutModel",
            "_view_count": null,
            "_view_module": "@jupyter-widgets/base",
            "_view_module_version": "1.2.0",
            "_view_name": "LayoutView",
            "align_content": null,
            "align_items": null,
            "align_self": null,
            "border": null,
            "bottom": null,
            "display": null,
            "flex": null,
            "flex_flow": null,
            "grid_area": null,
            "grid_auto_columns": null,
            "grid_auto_flow": null,
            "grid_auto_rows": null,
            "grid_column": null,
            "grid_gap": null,
            "grid_row": null,
            "grid_template_areas": null,
            "grid_template_columns": null,
            "grid_template_rows": null,
            "height": null,
            "justify_content": null,
            "justify_items": null,
            "left": null,
            "margin": null,
            "max_height": null,
            "max_width": null,
            "min_height": null,
            "min_width": null,
            "object_fit": null,
            "object_position": null,
            "order": null,
            "overflow": null,
            "overflow_x": null,
            "overflow_y": null,
            "padding": null,
            "right": null,
            "top": null,
            "visibility": null,
            "width": null
          }
        },
        "e47ef70ace674f5fa4d6e69760f60e16": {
          "model_module": "@jupyter-widgets/controls",
          "model_name": "DescriptionStyleModel",
          "model_module_version": "1.5.0",
          "state": {
            "_model_module": "@jupyter-widgets/controls",
            "_model_module_version": "1.5.0",
            "_model_name": "DescriptionStyleModel",
            "_view_count": null,
            "_view_module": "@jupyter-widgets/base",
            "_view_module_version": "1.2.0",
            "_view_name": "StyleView",
            "description_width": ""
          }
        },
        "0310aeb5a9324c528d6799c4210ccd34": {
          "model_module": "@jupyter-widgets/base",
          "model_name": "LayoutModel",
          "model_module_version": "1.2.0",
          "state": {
            "_model_module": "@jupyter-widgets/base",
            "_model_module_version": "1.2.0",
            "_model_name": "LayoutModel",
            "_view_count": null,
            "_view_module": "@jupyter-widgets/base",
            "_view_module_version": "1.2.0",
            "_view_name": "LayoutView",
            "align_content": null,
            "align_items": null,
            "align_self": null,
            "border": null,
            "bottom": null,
            "display": null,
            "flex": null,
            "flex_flow": null,
            "grid_area": null,
            "grid_auto_columns": null,
            "grid_auto_flow": null,
            "grid_auto_rows": null,
            "grid_column": null,
            "grid_gap": null,
            "grid_row": null,
            "grid_template_areas": null,
            "grid_template_columns": null,
            "grid_template_rows": null,
            "height": null,
            "justify_content": null,
            "justify_items": null,
            "left": null,
            "margin": null,
            "max_height": null,
            "max_width": null,
            "min_height": null,
            "min_width": null,
            "object_fit": null,
            "object_position": null,
            "order": null,
            "overflow": null,
            "overflow_x": null,
            "overflow_y": null,
            "padding": null,
            "right": null,
            "top": null,
            "visibility": null,
            "width": null
          }
        },
        "a109656ea6184cf68de1b3b201b5ab8a": {
          "model_module": "@jupyter-widgets/controls",
          "model_name": "VBoxModel",
          "model_module_version": "1.5.0",
          "state": {
            "_dom_classes": [
              "widget-interact"
            ],
            "_model_module": "@jupyter-widgets/controls",
            "_model_module_version": "1.5.0",
            "_model_name": "VBoxModel",
            "_view_count": null,
            "_view_module": "@jupyter-widgets/controls",
            "_view_module_version": "1.5.0",
            "_view_name": "VBoxView",
            "box_style": "",
            "children": [
              "IPY_MODEL_97b5814f8deb47a9bd724b35e6021564",
              "IPY_MODEL_64fbf04b006d4c3c830106eac5fbbc18"
            ],
            "layout": "IPY_MODEL_2541cf3286584338a0c80a97f2ffd4a8"
          }
        },
        "97b5814f8deb47a9bd724b35e6021564": {
          "model_module": "@jupyter-widgets/controls",
          "model_name": "DropdownModel",
          "model_module_version": "1.5.0",
          "state": {
            "_dom_classes": [],
            "_model_module": "@jupyter-widgets/controls",
            "_model_module_version": "1.5.0",
            "_model_name": "DropdownModel",
            "_options_labels": [
              "Bangladesh",
              "Brunei Darussalam",
              "Cambodia",
              "China",
              "India",
              "Indonesia",
              "Lao People's Democratic Republic",
              "Malaysia",
              "Mongolia",
              "Myanmar",
              "Pakistan",
              "Philippines",
              "Russian Federation",
              "Singapore",
              "Sri Lanka",
              "Thailand",
              "Timor-Leste",
              "Viet Nam"
            ],
            "_view_count": null,
            "_view_module": "@jupyter-widgets/controls",
            "_view_module_version": "1.5.0",
            "_view_name": "DropdownView",
            "description": "Country",
            "description_tooltip": null,
            "disabled": false,
            "index": 0,
            "layout": "IPY_MODEL_a0da5b7de2834853b2a3e9291b0350e1",
            "style": "IPY_MODEL_9148924f78db4837bed7ae646042f13c"
          }
        },
        "64fbf04b006d4c3c830106eac5fbbc18": {
          "model_module": "@jupyter-widgets/output",
          "model_name": "OutputModel",
          "model_module_version": "1.0.0",
          "state": {
            "_dom_classes": [],
            "_model_module": "@jupyter-widgets/output",
            "_model_module_version": "1.0.0",
            "_model_name": "OutputModel",
            "_view_count": null,
            "_view_module": "@jupyter-widgets/output",
            "_view_module_version": "1.0.0",
            "_view_name": "OutputView",
            "layout": "IPY_MODEL_f3e1c516a9e04e9d95a19ee778c65b8a",
            "msg_id": "",
            "outputs": [
              {
                "output_type": "display_data",
                "data": {
                  "text/plain": "                          Schooling  Average Vaccination Rate\nSchooling                  1.000000                  0.495936\nAverage Vaccination Rate   0.495936                  1.000000",
                  "text/html": "\n  <div id=\"df-cb2793a0-96b4-4eaa-b4fd-7ab7162179d2\" class=\"colab-df-container\">\n    <div>\n<style scoped>\n    .dataframe tbody tr th:only-of-type {\n        vertical-align: middle;\n    }\n\n    .dataframe tbody tr th {\n        vertical-align: top;\n    }\n\n    .dataframe thead th {\n        text-align: right;\n    }\n</style>\n<table border=\"1\" class=\"dataframe\">\n  <thead>\n    <tr style=\"text-align: right;\">\n      <th></th>\n      <th>Schooling</th>\n      <th>Average Vaccination Rate</th>\n    </tr>\n  </thead>\n  <tbody>\n    <tr>\n      <th>Schooling</th>\n      <td>1.000000</td>\n      <td>0.495936</td>\n    </tr>\n    <tr>\n      <th>Average Vaccination Rate</th>\n      <td>0.495936</td>\n      <td>1.000000</td>\n    </tr>\n  </tbody>\n</table>\n</div>\n    <div class=\"colab-df-buttons\">\n\n  <div class=\"colab-df-container\">\n    <button class=\"colab-df-convert\" onclick=\"convertToInteractive('df-cb2793a0-96b4-4eaa-b4fd-7ab7162179d2')\"\n            title=\"Convert this dataframe to an interactive table.\"\n            style=\"display:none;\">\n\n  <svg xmlns=\"http://www.w3.org/2000/svg\" height=\"24px\" viewBox=\"0 -960 960 960\">\n    <path d=\"M120-120v-720h720v720H120Zm60-500h600v-160H180v160Zm220 220h160v-160H400v160Zm0 220h160v-160H400v160ZM180-400h160v-160H180v160Zm440 0h160v-160H620v160ZM180-180h160v-160H180v160Zm440 0h160v-160H620v160Z\"/>\n  </svg>\n    </button>\n\n  <style>\n    .colab-df-container {\n      display:flex;\n      gap: 12px;\n    }\n\n    .colab-df-convert {\n      background-color: #E8F0FE;\n      border: none;\n      border-radius: 50%;\n      cursor: pointer;\n      display: none;\n      fill: #1967D2;\n      height: 32px;\n      padding: 0 0 0 0;\n      width: 32px;\n    }\n\n    .colab-df-convert:hover {\n      background-color: #E2EBFA;\n      box-shadow: 0px 1px 2px rgba(60, 64, 67, 0.3), 0px 1px 3px 1px rgba(60, 64, 67, 0.15);\n      fill: #174EA6;\n    }\n\n    .colab-df-buttons div {\n      margin-bottom: 4px;\n    }\n\n    [theme=dark] .colab-df-convert {\n      background-color: #3B4455;\n      fill: #D2E3FC;\n    }\n\n    [theme=dark] .colab-df-convert:hover {\n      background-color: #434B5C;\n      box-shadow: 0px 1px 3px 1px rgba(0, 0, 0, 0.15);\n      filter: drop-shadow(0px 1px 2px rgba(0, 0, 0, 0.3));\n      fill: #FFFFFF;\n    }\n  </style>\n\n    <script>\n      const buttonEl =\n        document.querySelector('#df-cb2793a0-96b4-4eaa-b4fd-7ab7162179d2 button.colab-df-convert');\n      buttonEl.style.display =\n        google.colab.kernel.accessAllowed ? 'block' : 'none';\n\n      async function convertToInteractive(key) {\n        const element = document.querySelector('#df-cb2793a0-96b4-4eaa-b4fd-7ab7162179d2');\n        const dataTable =\n          await google.colab.kernel.invokeFunction('convertToInteractive',\n                                                    [key], {});\n        if (!dataTable) return;\n\n        const docLinkHtml = 'Like what you see? Visit the ' +\n          '<a target=\"_blank\" href=https://colab.research.google.com/notebooks/data_table.ipynb>data table notebook</a>'\n          + ' to learn more about interactive tables.';\n        element.innerHTML = '';\n        dataTable['output_type'] = 'display_data';\n        await google.colab.output.renderOutput(dataTable, element);\n        const docLink = document.createElement('div');\n        docLink.innerHTML = docLinkHtml;\n        element.appendChild(docLink);\n      }\n    </script>\n  </div>\n\n\n<div id=\"df-25aab9fc-8652-4c8a-a79f-5ab67f296a5e\">\n  <button class=\"colab-df-quickchart\" onclick=\"quickchart('df-25aab9fc-8652-4c8a-a79f-5ab67f296a5e')\"\n            title=\"Suggest charts\"\n            style=\"display:none;\">\n\n<svg xmlns=\"http://www.w3.org/2000/svg\" height=\"24px\"viewBox=\"0 0 24 24\"\n     width=\"24px\">\n    <g>\n        <path d=\"M19 3H5c-1.1 0-2 .9-2 2v14c0 1.1.9 2 2 2h14c1.1 0 2-.9 2-2V5c0-1.1-.9-2-2-2zM9 17H7v-7h2v7zm4 0h-2V7h2v10zm4 0h-2v-4h2v4z\"/>\n    </g>\n</svg>\n  </button>\n\n<style>\n  .colab-df-quickchart {\n      --bg-color: #E8F0FE;\n      --fill-color: #1967D2;\n      --hover-bg-color: #E2EBFA;\n      --hover-fill-color: #174EA6;\n      --disabled-fill-color: #AAA;\n      --disabled-bg-color: #DDD;\n  }\n\n  [theme=dark] .colab-df-quickchart {\n      --bg-color: #3B4455;\n      --fill-color: #D2E3FC;\n      --hover-bg-color: #434B5C;\n      --hover-fill-color: #FFFFFF;\n      --disabled-bg-color: #3B4455;\n      --disabled-fill-color: #666;\n  }\n\n  .colab-df-quickchart {\n    background-color: var(--bg-color);\n    border: none;\n    border-radius: 50%;\n    cursor: pointer;\n    display: none;\n    fill: var(--fill-color);\n    height: 32px;\n    padding: 0;\n    width: 32px;\n  }\n\n  .colab-df-quickchart:hover {\n    background-color: var(--hover-bg-color);\n    box-shadow: 0 1px 2px rgba(60, 64, 67, 0.3), 0 1px 3px 1px rgba(60, 64, 67, 0.15);\n    fill: var(--button-hover-fill-color);\n  }\n\n  .colab-df-quickchart-complete:disabled,\n  .colab-df-quickchart-complete:disabled:hover {\n    background-color: var(--disabled-bg-color);\n    fill: var(--disabled-fill-color);\n    box-shadow: none;\n  }\n\n  .colab-df-spinner {\n    border: 2px solid var(--fill-color);\n    border-color: transparent;\n    border-bottom-color: var(--fill-color);\n    animation:\n      spin 1s steps(1) infinite;\n  }\n\n  @keyframes spin {\n    0% {\n      border-color: transparent;\n      border-bottom-color: var(--fill-color);\n      border-left-color: var(--fill-color);\n    }\n    20% {\n      border-color: transparent;\n      border-left-color: var(--fill-color);\n      border-top-color: var(--fill-color);\n    }\n    30% {\n      border-color: transparent;\n      border-left-color: var(--fill-color);\n      border-top-color: var(--fill-color);\n      border-right-color: var(--fill-color);\n    }\n    40% {\n      border-color: transparent;\n      border-right-color: var(--fill-color);\n      border-top-color: var(--fill-color);\n    }\n    60% {\n      border-color: transparent;\n      border-right-color: var(--fill-color);\n    }\n    80% {\n      border-color: transparent;\n      border-right-color: var(--fill-color);\n      border-bottom-color: var(--fill-color);\n    }\n    90% {\n      border-color: transparent;\n      border-bottom-color: var(--fill-color);\n    }\n  }\n</style>\n\n  <script>\n    async function quickchart(key) {\n      const quickchartButtonEl =\n        document.querySelector('#' + key + ' button');\n      quickchartButtonEl.disabled = true;  // To prevent multiple clicks.\n      quickchartButtonEl.classList.add('colab-df-spinner');\n      try {\n        const charts = await google.colab.kernel.invokeFunction(\n            'suggestCharts', [key], {});\n      } catch (error) {\n        console.error('Error during call to suggestCharts:', error);\n      }\n      quickchartButtonEl.classList.remove('colab-df-spinner');\n      quickchartButtonEl.classList.add('colab-df-quickchart-complete');\n    }\n    (() => {\n      let quickchartButtonEl =\n        document.querySelector('#df-25aab9fc-8652-4c8a-a79f-5ab67f296a5e button');\n      quickchartButtonEl.style.display =\n        google.colab.kernel.accessAllowed ? 'block' : 'none';\n    })();\n  </script>\n</div>\n    </div>\n  </div>\n",
                  "application/vnd.google.colaboratory.intrinsic+json": {
                    "type": "dataframe",
                    "summary": "{\n  \"name\": \"         FactorHealth2=fixed(FactorHealth2));\",\n  \"rows\": 2,\n  \"fields\": [\n    {\n      \"column\": \"Schooling\",\n      \"properties\": {\n        \"dtype\": \"number\",\n        \"std\": 0.3564270458564272,\n        \"min\": 0.4959360377532636,\n        \"max\": 1.0,\n        \"num_unique_values\": 2,\n        \"samples\": [\n          0.4959360377532636,\n          1.0\n        ],\n        \"semantic_type\": \"\",\n        \"description\": \"\"\n      }\n    },\n    {\n      \"column\": \"Average Vaccination Rate\",\n      \"properties\": {\n        \"dtype\": \"number\",\n        \"std\": 0.3564270458564272,\n        \"min\": 0.4959360377532636,\n        \"max\": 1.0,\n        \"num_unique_values\": 2,\n        \"samples\": [\n          1.0,\n          0.4959360377532636\n        ],\n        \"semantic_type\": \"\",\n        \"description\": \"\"\n      }\n    }\n  ]\n}"
                  }
                },
                "metadata": {}
              }
            ]
          }
        },
        "2541cf3286584338a0c80a97f2ffd4a8": {
          "model_module": "@jupyter-widgets/base",
          "model_name": "LayoutModel",
          "model_module_version": "1.2.0",
          "state": {
            "_model_module": "@jupyter-widgets/base",
            "_model_module_version": "1.2.0",
            "_model_name": "LayoutModel",
            "_view_count": null,
            "_view_module": "@jupyter-widgets/base",
            "_view_module_version": "1.2.0",
            "_view_name": "LayoutView",
            "align_content": null,
            "align_items": null,
            "align_self": null,
            "border": null,
            "bottom": null,
            "display": null,
            "flex": null,
            "flex_flow": null,
            "grid_area": null,
            "grid_auto_columns": null,
            "grid_auto_flow": null,
            "grid_auto_rows": null,
            "grid_column": null,
            "grid_gap": null,
            "grid_row": null,
            "grid_template_areas": null,
            "grid_template_columns": null,
            "grid_template_rows": null,
            "height": null,
            "justify_content": null,
            "justify_items": null,
            "left": null,
            "margin": null,
            "max_height": null,
            "max_width": null,
            "min_height": null,
            "min_width": null,
            "object_fit": null,
            "object_position": null,
            "order": null,
            "overflow": null,
            "overflow_x": null,
            "overflow_y": null,
            "padding": null,
            "right": null,
            "top": null,
            "visibility": null,
            "width": null
          }
        },
        "a0da5b7de2834853b2a3e9291b0350e1": {
          "model_module": "@jupyter-widgets/base",
          "model_name": "LayoutModel",
          "model_module_version": "1.2.0",
          "state": {
            "_model_module": "@jupyter-widgets/base",
            "_model_module_version": "1.2.0",
            "_model_name": "LayoutModel",
            "_view_count": null,
            "_view_module": "@jupyter-widgets/base",
            "_view_module_version": "1.2.0",
            "_view_name": "LayoutView",
            "align_content": null,
            "align_items": null,
            "align_self": null,
            "border": null,
            "bottom": null,
            "display": null,
            "flex": null,
            "flex_flow": null,
            "grid_area": null,
            "grid_auto_columns": null,
            "grid_auto_flow": null,
            "grid_auto_rows": null,
            "grid_column": null,
            "grid_gap": null,
            "grid_row": null,
            "grid_template_areas": null,
            "grid_template_columns": null,
            "grid_template_rows": null,
            "height": null,
            "justify_content": null,
            "justify_items": null,
            "left": null,
            "margin": null,
            "max_height": null,
            "max_width": null,
            "min_height": null,
            "min_width": null,
            "object_fit": null,
            "object_position": null,
            "order": null,
            "overflow": null,
            "overflow_x": null,
            "overflow_y": null,
            "padding": null,
            "right": null,
            "top": null,
            "visibility": null,
            "width": null
          }
        },
        "9148924f78db4837bed7ae646042f13c": {
          "model_module": "@jupyter-widgets/controls",
          "model_name": "DescriptionStyleModel",
          "model_module_version": "1.5.0",
          "state": {
            "_model_module": "@jupyter-widgets/controls",
            "_model_module_version": "1.5.0",
            "_model_name": "DescriptionStyleModel",
            "_view_count": null,
            "_view_module": "@jupyter-widgets/base",
            "_view_module_version": "1.2.0",
            "_view_name": "StyleView",
            "description_width": ""
          }
        },
        "f3e1c516a9e04e9d95a19ee778c65b8a": {
          "model_module": "@jupyter-widgets/base",
          "model_name": "LayoutModel",
          "model_module_version": "1.2.0",
          "state": {
            "_model_module": "@jupyter-widgets/base",
            "_model_module_version": "1.2.0",
            "_model_name": "LayoutModel",
            "_view_count": null,
            "_view_module": "@jupyter-widgets/base",
            "_view_module_version": "1.2.0",
            "_view_name": "LayoutView",
            "align_content": null,
            "align_items": null,
            "align_self": null,
            "border": null,
            "bottom": null,
            "display": null,
            "flex": null,
            "flex_flow": null,
            "grid_area": null,
            "grid_auto_columns": null,
            "grid_auto_flow": null,
            "grid_auto_rows": null,
            "grid_column": null,
            "grid_gap": null,
            "grid_row": null,
            "grid_template_areas": null,
            "grid_template_columns": null,
            "grid_template_rows": null,
            "height": null,
            "justify_content": null,
            "justify_items": null,
            "left": null,
            "margin": null,
            "max_height": null,
            "max_width": null,
            "min_height": null,
            "min_width": null,
            "object_fit": null,
            "object_position": null,
            "order": null,
            "overflow": null,
            "overflow_x": null,
            "overflow_y": null,
            "padding": null,
            "right": null,
            "top": null,
            "visibility": null,
            "width": null
          }
        },
        "51cdee17276045e190ca74c7b02a4725": {
          "model_module": "@jupyter-widgets/controls",
          "model_name": "VBoxModel",
          "model_module_version": "1.5.0",
          "state": {
            "_dom_classes": [
              "widget-interact"
            ],
            "_model_module": "@jupyter-widgets/controls",
            "_model_module_version": "1.5.0",
            "_model_name": "VBoxModel",
            "_view_count": null,
            "_view_module": "@jupyter-widgets/controls",
            "_view_module_version": "1.5.0",
            "_view_name": "VBoxView",
            "box_style": "",
            "children": [
              "IPY_MODEL_5cf3a38348e642fb80b52b3b12b20ce4",
              "IPY_MODEL_28208a9d84eb413b804e1037b153e654"
            ],
            "layout": "IPY_MODEL_4f6feea783be48f691e2dd0311e34bdb"
          }
        },
        "5cf3a38348e642fb80b52b3b12b20ce4": {
          "model_module": "@jupyter-widgets/controls",
          "model_name": "DropdownModel",
          "model_module_version": "1.5.0",
          "state": {
            "_dom_classes": [],
            "_model_module": "@jupyter-widgets/controls",
            "_model_module_version": "1.5.0",
            "_model_name": "DropdownModel",
            "_options_labels": [
              "Bangladesh",
              "Brunei Darussalam",
              "Cambodia",
              "China",
              "India",
              "Indonesia",
              "Lao People's Democratic Republic",
              "Malaysia",
              "Mongolia",
              "Myanmar",
              "Pakistan",
              "Philippines",
              "Russian Federation",
              "Singapore",
              "Sri Lanka",
              "Thailand",
              "Timor-Leste",
              "Viet Nam"
            ],
            "_view_count": null,
            "_view_module": "@jupyter-widgets/controls",
            "_view_module_version": "1.5.0",
            "_view_name": "DropdownView",
            "description": "Country",
            "description_tooltip": null,
            "disabled": false,
            "index": 0,
            "layout": "IPY_MODEL_2fbde92ea784426cbeb32283643c029f",
            "style": "IPY_MODEL_59788b7e08b74f50a426b385ae435920"
          }
        },
        "28208a9d84eb413b804e1037b153e654": {
          "model_module": "@jupyter-widgets/output",
          "model_name": "OutputModel",
          "model_module_version": "1.0.0",
          "state": {
            "_dom_classes": [],
            "_model_module": "@jupyter-widgets/output",
            "_model_module_version": "1.0.0",
            "_model_name": "OutputModel",
            "_view_count": null,
            "_view_module": "@jupyter-widgets/output",
            "_view_module_version": "1.0.0",
            "_view_name": "OutputView",
            "layout": "IPY_MODEL_4f8cdc0a85a447f1984b288cbac86c6f",
            "msg_id": "",
            "outputs": [
              {
                "output_type": "display_data",
                "data": {
                  "text/html": "\n<div id=\"altair-viz-5f129751f2ed44b4b9da5e17c5cc33c5\"></div>\n<script type=\"text/javascript\">\n  var VEGA_DEBUG = (typeof VEGA_DEBUG == \"undefined\") ? {} : VEGA_DEBUG;\n  (function(spec, embedOpt){\n    let outputDiv = document.currentScript.previousElementSibling;\n    if (outputDiv.id !== \"altair-viz-5f129751f2ed44b4b9da5e17c5cc33c5\") {\n      outputDiv = document.getElementById(\"altair-viz-5f129751f2ed44b4b9da5e17c5cc33c5\");\n    }\n    const paths = {\n      \"vega\": \"https://cdn.jsdelivr.net/npm//vega@5?noext\",\n      \"vega-lib\": \"https://cdn.jsdelivr.net/npm//vega-lib?noext\",\n      \"vega-lite\": \"https://cdn.jsdelivr.net/npm//vega-lite@4.17.0?noext\",\n      \"vega-embed\": \"https://cdn.jsdelivr.net/npm//vega-embed@6?noext\",\n    };\n\n    function maybeLoadScript(lib, version) {\n      var key = `${lib.replace(\"-\", \"\")}_version`;\n      return (VEGA_DEBUG[key] == version) ?\n        Promise.resolve(paths[lib]) :\n        new Promise(function(resolve, reject) {\n          var s = document.createElement('script');\n          document.getElementsByTagName(\"head\")[0].appendChild(s);\n          s.async = true;\n          s.onload = () => {\n            VEGA_DEBUG[key] = version;\n            return resolve(paths[lib]);\n          };\n          s.onerror = () => reject(`Error loading script: ${paths[lib]}`);\n          s.src = paths[lib];\n        });\n    }\n\n    function showError(err) {\n      outputDiv.innerHTML = `<div class=\"error\" style=\"color:red;\">${err}</div>`;\n      throw err;\n    }\n\n    function displayChart(vegaEmbed) {\n      vegaEmbed(outputDiv, spec, embedOpt)\n        .catch(err => showError(`Javascript Error: ${err.message}<br>This usually means there's a typo in your chart specification. See the javascript console for the full traceback.`));\n    }\n\n    if(typeof define === \"function\" && define.amd) {\n      requirejs.config({paths});\n      require([\"vega-embed\"], displayChart, err => showError(`Error loading script: ${err.message}`));\n    } else {\n      maybeLoadScript(\"vega\", \"5\")\n        .then(() => maybeLoadScript(\"vega-lite\", \"4.17.0\"))\n        .then(() => maybeLoadScript(\"vega-embed\", \"6\"))\n        .catch(showError)\n        .then(() => displayChart(vegaEmbed));\n    }\n  })({\"config\": {\"view\": {\"continuousWidth\": 400, \"continuousHeight\": 300}}, \"layer\": [{\"mark\": \"point\", \"encoding\": {\"x\": {\"field\": \"Schooling\", \"type\": \"quantitative\"}, \"y\": {\"field\": \"Average Vaccination Rate\", \"type\": \"quantitative\"}}}, {\"mark\": \"line\", \"encoding\": {\"x\": {\"field\": \"Schooling\", \"type\": \"quantitative\"}, \"y\": {\"field\": \"Average Vaccination Rate\", \"type\": \"quantitative\"}}, \"transform\": [{\"on\": \"Schooling\", \"regression\": \"Average Vaccination Rate\"}]}], \"data\": {\"name\": \"data-61eadcfaec04236cb42a56f6a898f086\"}, \"$schema\": \"https://vega.github.io/schema/vega-lite/v4.17.0.json\", \"datasets\": {\"data-61eadcfaec04236cb42a56f6a898f086\": [{\"Country\": \"Bangladesh\", \"Year\": 2015, \"Hepatitis B\": 97.0, \"Polio\": 97.0, \"Diphtheria\": 97.0, \"Schooling\": 10.2, \"Average Vaccination Rate\": 97.0}, {\"Country\": \"Bangladesh\", \"Year\": 2014, \"Hepatitis B\": 97.0, \"Polio\": 97.0, \"Diphtheria\": 97.0, \"Schooling\": 10.0, \"Average Vaccination Rate\": 97.0}, {\"Country\": \"Bangladesh\", \"Year\": 2013, \"Hepatitis B\": 96.0, \"Polio\": 96.0, \"Diphtheria\": 96.0, \"Schooling\": 10.0, \"Average Vaccination Rate\": 96.0}, {\"Country\": \"Bangladesh\", \"Year\": 2012, \"Hepatitis B\": 94.0, \"Polio\": 94.0, \"Diphtheria\": 94.0, \"Schooling\": 9.9, \"Average Vaccination Rate\": 94.0}, {\"Country\": \"Bangladesh\", \"Year\": 2011, \"Hepatitis B\": 96.0, \"Polio\": 96.0, \"Diphtheria\": 96.0, \"Schooling\": 9.4, \"Average Vaccination Rate\": 96.0}, {\"Country\": \"Bangladesh\", \"Year\": 2010, \"Hepatitis B\": 94.0, \"Polio\": 94.0, \"Diphtheria\": 94.0, \"Schooling\": 8.9, \"Average Vaccination Rate\": 94.0}, {\"Country\": \"Bangladesh\", \"Year\": 2009, \"Hepatitis B\": 97.0, \"Polio\": 97.0, \"Diphtheria\": 97.0, \"Schooling\": 8.4, \"Average Vaccination Rate\": 97.0}, {\"Country\": \"Bangladesh\", \"Year\": 2008, \"Hepatitis B\": 96.0, \"Polio\": 96.0, \"Diphtheria\": 96.0, \"Schooling\": 8.6, \"Average Vaccination Rate\": 96.0}, {\"Country\": \"Bangladesh\", \"Year\": 2007, \"Hepatitis B\": 95.0, \"Polio\": 96.0, \"Diphtheria\": 94.0, \"Schooling\": 8.6, \"Average Vaccination Rate\": 95.0}, {\"Country\": \"Bangladesh\", \"Year\": 2006, \"Hepatitis B\": 86.0, \"Polio\": 95.0, \"Diphtheria\": 94.0, \"Schooling\": 8.4, \"Average Vaccination Rate\": 91.66666666666667}, {\"Country\": \"Bangladesh\", \"Year\": 2005, \"Hepatitis B\": 45.0, \"Polio\": 94.0, \"Diphtheria\": 93.0, \"Schooling\": 8.2, \"Average Vaccination Rate\": 77.33333333333333}]}}, {\"mode\": \"vega-lite\"});\n</script>",
                  "text/plain": "alt.LayerChart(...)"
                },
                "metadata": {}
              }
            ]
          }
        },
        "4f6feea783be48f691e2dd0311e34bdb": {
          "model_module": "@jupyter-widgets/base",
          "model_name": "LayoutModel",
          "model_module_version": "1.2.0",
          "state": {
            "_model_module": "@jupyter-widgets/base",
            "_model_module_version": "1.2.0",
            "_model_name": "LayoutModel",
            "_view_count": null,
            "_view_module": "@jupyter-widgets/base",
            "_view_module_version": "1.2.0",
            "_view_name": "LayoutView",
            "align_content": null,
            "align_items": null,
            "align_self": null,
            "border": null,
            "bottom": null,
            "display": null,
            "flex": null,
            "flex_flow": null,
            "grid_area": null,
            "grid_auto_columns": null,
            "grid_auto_flow": null,
            "grid_auto_rows": null,
            "grid_column": null,
            "grid_gap": null,
            "grid_row": null,
            "grid_template_areas": null,
            "grid_template_columns": null,
            "grid_template_rows": null,
            "height": null,
            "justify_content": null,
            "justify_items": null,
            "left": null,
            "margin": null,
            "max_height": null,
            "max_width": null,
            "min_height": null,
            "min_width": null,
            "object_fit": null,
            "object_position": null,
            "order": null,
            "overflow": null,
            "overflow_x": null,
            "overflow_y": null,
            "padding": null,
            "right": null,
            "top": null,
            "visibility": null,
            "width": null
          }
        },
        "2fbde92ea784426cbeb32283643c029f": {
          "model_module": "@jupyter-widgets/base",
          "model_name": "LayoutModel",
          "model_module_version": "1.2.0",
          "state": {
            "_model_module": "@jupyter-widgets/base",
            "_model_module_version": "1.2.0",
            "_model_name": "LayoutModel",
            "_view_count": null,
            "_view_module": "@jupyter-widgets/base",
            "_view_module_version": "1.2.0",
            "_view_name": "LayoutView",
            "align_content": null,
            "align_items": null,
            "align_self": null,
            "border": null,
            "bottom": null,
            "display": null,
            "flex": null,
            "flex_flow": null,
            "grid_area": null,
            "grid_auto_columns": null,
            "grid_auto_flow": null,
            "grid_auto_rows": null,
            "grid_column": null,
            "grid_gap": null,
            "grid_row": null,
            "grid_template_areas": null,
            "grid_template_columns": null,
            "grid_template_rows": null,
            "height": null,
            "justify_content": null,
            "justify_items": null,
            "left": null,
            "margin": null,
            "max_height": null,
            "max_width": null,
            "min_height": null,
            "min_width": null,
            "object_fit": null,
            "object_position": null,
            "order": null,
            "overflow": null,
            "overflow_x": null,
            "overflow_y": null,
            "padding": null,
            "right": null,
            "top": null,
            "visibility": null,
            "width": null
          }
        },
        "59788b7e08b74f50a426b385ae435920": {
          "model_module": "@jupyter-widgets/controls",
          "model_name": "DescriptionStyleModel",
          "model_module_version": "1.5.0",
          "state": {
            "_model_module": "@jupyter-widgets/controls",
            "_model_module_version": "1.5.0",
            "_model_name": "DescriptionStyleModel",
            "_view_count": null,
            "_view_module": "@jupyter-widgets/base",
            "_view_module_version": "1.2.0",
            "_view_name": "StyleView",
            "description_width": ""
          }
        },
        "4f8cdc0a85a447f1984b288cbac86c6f": {
          "model_module": "@jupyter-widgets/base",
          "model_name": "LayoutModel",
          "model_module_version": "1.2.0",
          "state": {
            "_model_module": "@jupyter-widgets/base",
            "_model_module_version": "1.2.0",
            "_model_name": "LayoutModel",
            "_view_count": null,
            "_view_module": "@jupyter-widgets/base",
            "_view_module_version": "1.2.0",
            "_view_name": "LayoutView",
            "align_content": null,
            "align_items": null,
            "align_self": null,
            "border": null,
            "bottom": null,
            "display": null,
            "flex": null,
            "flex_flow": null,
            "grid_area": null,
            "grid_auto_columns": null,
            "grid_auto_flow": null,
            "grid_auto_rows": null,
            "grid_column": null,
            "grid_gap": null,
            "grid_row": null,
            "grid_template_areas": null,
            "grid_template_columns": null,
            "grid_template_rows": null,
            "height": null,
            "justify_content": null,
            "justify_items": null,
            "left": null,
            "margin": null,
            "max_height": null,
            "max_width": null,
            "min_height": null,
            "min_width": null,
            "object_fit": null,
            "object_position": null,
            "order": null,
            "overflow": null,
            "overflow_x": null,
            "overflow_y": null,
            "padding": null,
            "right": null,
            "top": null,
            "visibility": null,
            "width": null
          }
        },
        "9ffd74fa4f3e48dd907def69e96f5532": {
          "model_module": "@jupyter-widgets/controls",
          "model_name": "VBoxModel",
          "model_module_version": "1.5.0",
          "state": {
            "_dom_classes": [
              "widget-interact"
            ],
            "_model_module": "@jupyter-widgets/controls",
            "_model_module_version": "1.5.0",
            "_model_name": "VBoxModel",
            "_view_count": null,
            "_view_module": "@jupyter-widgets/controls",
            "_view_module_version": "1.5.0",
            "_view_name": "VBoxView",
            "box_style": "",
            "children": [
              "IPY_MODEL_3bdb8f3603c94c18b3a5a72c98afeccc",
              "IPY_MODEL_f6195fc8ed8e410997d6eb3b10bb3530"
            ],
            "layout": "IPY_MODEL_e74bcf7eb1604ba4be4aedb302ef8a62"
          }
        },
        "3bdb8f3603c94c18b3a5a72c98afeccc": {
          "model_module": "@jupyter-widgets/controls",
          "model_name": "DropdownModel",
          "model_module_version": "1.5.0",
          "state": {
            "_dom_classes": [],
            "_model_module": "@jupyter-widgets/controls",
            "_model_module_version": "1.5.0",
            "_model_name": "DropdownModel",
            "_options_labels": [
              "Bangladesh",
              "Brunei Darussalam",
              "Cambodia",
              "China",
              "India",
              "Indonesia",
              "Lao People's Democratic Republic",
              "Malaysia",
              "Mongolia",
              "Myanmar",
              "Pakistan",
              "Philippines",
              "Russian Federation",
              "Singapore",
              "Sri Lanka",
              "Thailand",
              "Timor-Leste",
              "Viet Nam"
            ],
            "_view_count": null,
            "_view_module": "@jupyter-widgets/controls",
            "_view_module_version": "1.5.0",
            "_view_name": "DropdownView",
            "description": "Country",
            "description_tooltip": null,
            "disabled": false,
            "index": 0,
            "layout": "IPY_MODEL_8647b87cd1864c03b3903d1ee6765954",
            "style": "IPY_MODEL_28b3c1ea3d6042c7bb3223b352a4c5e9"
          }
        },
        "f6195fc8ed8e410997d6eb3b10bb3530": {
          "model_module": "@jupyter-widgets/output",
          "model_name": "OutputModel",
          "model_module_version": "1.0.0",
          "state": {
            "_dom_classes": [],
            "_model_module": "@jupyter-widgets/output",
            "_model_module_version": "1.0.0",
            "_model_name": "OutputModel",
            "_view_count": null,
            "_view_module": "@jupyter-widgets/output",
            "_view_module_version": "1.0.0",
            "_view_name": "OutputView",
            "layout": "IPY_MODEL_ad36ecf79937449fa0de526e8ccaf861",
            "msg_id": "",
            "outputs": [
              {
                "output_type": "display_data",
                "data": {
                  "text/html": "\n<div id=\"altair-viz-e5b95a8fe42c4dc48e44ca85fa990653\"></div>\n<script type=\"text/javascript\">\n  var VEGA_DEBUG = (typeof VEGA_DEBUG == \"undefined\") ? {} : VEGA_DEBUG;\n  (function(spec, embedOpt){\n    let outputDiv = document.currentScript.previousElementSibling;\n    if (outputDiv.id !== \"altair-viz-e5b95a8fe42c4dc48e44ca85fa990653\") {\n      outputDiv = document.getElementById(\"altair-viz-e5b95a8fe42c4dc48e44ca85fa990653\");\n    }\n    const paths = {\n      \"vega\": \"https://cdn.jsdelivr.net/npm//vega@5?noext\",\n      \"vega-lib\": \"https://cdn.jsdelivr.net/npm//vega-lib?noext\",\n      \"vega-lite\": \"https://cdn.jsdelivr.net/npm//vega-lite@4.17.0?noext\",\n      \"vega-embed\": \"https://cdn.jsdelivr.net/npm//vega-embed@6?noext\",\n    };\n\n    function maybeLoadScript(lib, version) {\n      var key = `${lib.replace(\"-\", \"\")}_version`;\n      return (VEGA_DEBUG[key] == version) ?\n        Promise.resolve(paths[lib]) :\n        new Promise(function(resolve, reject) {\n          var s = document.createElement('script');\n          document.getElementsByTagName(\"head\")[0].appendChild(s);\n          s.async = true;\n          s.onload = () => {\n            VEGA_DEBUG[key] = version;\n            return resolve(paths[lib]);\n          };\n          s.onerror = () => reject(`Error loading script: ${paths[lib]}`);\n          s.src = paths[lib];\n        });\n    }\n\n    function showError(err) {\n      outputDiv.innerHTML = `<div class=\"error\" style=\"color:red;\">${err}</div>`;\n      throw err;\n    }\n\n    function displayChart(vegaEmbed) {\n      vegaEmbed(outputDiv, spec, embedOpt)\n        .catch(err => showError(`Javascript Error: ${err.message}<br>This usually means there's a typo in your chart specification. See the javascript console for the full traceback.`));\n    }\n\n    if(typeof define === \"function\" && define.amd) {\n      requirejs.config({paths});\n      require([\"vega-embed\"], displayChart, err => showError(`Error loading script: ${err.message}`));\n    } else {\n      maybeLoadScript(\"vega\", \"5\")\n        .then(() => maybeLoadScript(\"vega-lite\", \"4.17.0\"))\n        .then(() => maybeLoadScript(\"vega-embed\", \"6\"))\n        .catch(showError)\n        .then(() => displayChart(vegaEmbed));\n    }\n  })({\"config\": {\"view\": {\"continuousWidth\": 400, \"continuousHeight\": 300}}, \"layer\": [{\"mark\": \"point\", \"encoding\": {\"x\": {\"field\": \"Schooling\", \"type\": \"quantitative\"}, \"y\": {\"field\": \"Average Vaccination Rate\", \"type\": \"quantitative\"}}}, {\"mark\": \"line\", \"encoding\": {\"x\": {\"field\": \"Schooling\", \"type\": \"quantitative\"}, \"y\": {\"field\": \"Average Vaccination Rate\", \"type\": \"quantitative\"}}, \"transform\": [{\"on\": \"Schooling\", \"regression\": \"Average Vaccination Rate\"}]}], \"data\": {\"name\": \"data-61eadcfaec04236cb42a56f6a898f086\"}, \"$schema\": \"https://vega.github.io/schema/vega-lite/v4.17.0.json\", \"datasets\": {\"data-61eadcfaec04236cb42a56f6a898f086\": [{\"Country\": \"Bangladesh\", \"Year\": 2015, \"Hepatitis B\": 97.0, \"Polio\": 97.0, \"Diphtheria\": 97.0, \"Schooling\": 10.2, \"Average Vaccination Rate\": 97.0}, {\"Country\": \"Bangladesh\", \"Year\": 2014, \"Hepatitis B\": 97.0, \"Polio\": 97.0, \"Diphtheria\": 97.0, \"Schooling\": 10.0, \"Average Vaccination Rate\": 97.0}, {\"Country\": \"Bangladesh\", \"Year\": 2013, \"Hepatitis B\": 96.0, \"Polio\": 96.0, \"Diphtheria\": 96.0, \"Schooling\": 10.0, \"Average Vaccination Rate\": 96.0}, {\"Country\": \"Bangladesh\", \"Year\": 2012, \"Hepatitis B\": 94.0, \"Polio\": 94.0, \"Diphtheria\": 94.0, \"Schooling\": 9.9, \"Average Vaccination Rate\": 94.0}, {\"Country\": \"Bangladesh\", \"Year\": 2011, \"Hepatitis B\": 96.0, \"Polio\": 96.0, \"Diphtheria\": 96.0, \"Schooling\": 9.4, \"Average Vaccination Rate\": 96.0}, {\"Country\": \"Bangladesh\", \"Year\": 2010, \"Hepatitis B\": 94.0, \"Polio\": 94.0, \"Diphtheria\": 94.0, \"Schooling\": 8.9, \"Average Vaccination Rate\": 94.0}, {\"Country\": \"Bangladesh\", \"Year\": 2009, \"Hepatitis B\": 97.0, \"Polio\": 97.0, \"Diphtheria\": 97.0, \"Schooling\": 8.4, \"Average Vaccination Rate\": 97.0}, {\"Country\": \"Bangladesh\", \"Year\": 2008, \"Hepatitis B\": 96.0, \"Polio\": 96.0, \"Diphtheria\": 96.0, \"Schooling\": 8.6, \"Average Vaccination Rate\": 96.0}, {\"Country\": \"Bangladesh\", \"Year\": 2007, \"Hepatitis B\": 95.0, \"Polio\": 96.0, \"Diphtheria\": 94.0, \"Schooling\": 8.6, \"Average Vaccination Rate\": 95.0}, {\"Country\": \"Bangladesh\", \"Year\": 2006, \"Hepatitis B\": 86.0, \"Polio\": 95.0, \"Diphtheria\": 94.0, \"Schooling\": 8.4, \"Average Vaccination Rate\": 91.66666666666667}, {\"Country\": \"Bangladesh\", \"Year\": 2005, \"Hepatitis B\": 45.0, \"Polio\": 94.0, \"Diphtheria\": 93.0, \"Schooling\": 8.2, \"Average Vaccination Rate\": 77.33333333333333}]}}, {\"mode\": \"vega-lite\"});\n</script>",
                  "text/plain": "alt.LayerChart(...)"
                },
                "metadata": {}
              }
            ]
          }
        },
        "e74bcf7eb1604ba4be4aedb302ef8a62": {
          "model_module": "@jupyter-widgets/base",
          "model_name": "LayoutModel",
          "model_module_version": "1.2.0",
          "state": {
            "_model_module": "@jupyter-widgets/base",
            "_model_module_version": "1.2.0",
            "_model_name": "LayoutModel",
            "_view_count": null,
            "_view_module": "@jupyter-widgets/base",
            "_view_module_version": "1.2.0",
            "_view_name": "LayoutView",
            "align_content": null,
            "align_items": null,
            "align_self": null,
            "border": null,
            "bottom": null,
            "display": null,
            "flex": null,
            "flex_flow": null,
            "grid_area": null,
            "grid_auto_columns": null,
            "grid_auto_flow": null,
            "grid_auto_rows": null,
            "grid_column": null,
            "grid_gap": null,
            "grid_row": null,
            "grid_template_areas": null,
            "grid_template_columns": null,
            "grid_template_rows": null,
            "height": null,
            "justify_content": null,
            "justify_items": null,
            "left": null,
            "margin": null,
            "max_height": null,
            "max_width": null,
            "min_height": null,
            "min_width": null,
            "object_fit": null,
            "object_position": null,
            "order": null,
            "overflow": null,
            "overflow_x": null,
            "overflow_y": null,
            "padding": null,
            "right": null,
            "top": null,
            "visibility": null,
            "width": null
          }
        },
        "8647b87cd1864c03b3903d1ee6765954": {
          "model_module": "@jupyter-widgets/base",
          "model_name": "LayoutModel",
          "model_module_version": "1.2.0",
          "state": {
            "_model_module": "@jupyter-widgets/base",
            "_model_module_version": "1.2.0",
            "_model_name": "LayoutModel",
            "_view_count": null,
            "_view_module": "@jupyter-widgets/base",
            "_view_module_version": "1.2.0",
            "_view_name": "LayoutView",
            "align_content": null,
            "align_items": null,
            "align_self": null,
            "border": null,
            "bottom": null,
            "display": null,
            "flex": null,
            "flex_flow": null,
            "grid_area": null,
            "grid_auto_columns": null,
            "grid_auto_flow": null,
            "grid_auto_rows": null,
            "grid_column": null,
            "grid_gap": null,
            "grid_row": null,
            "grid_template_areas": null,
            "grid_template_columns": null,
            "grid_template_rows": null,
            "height": null,
            "justify_content": null,
            "justify_items": null,
            "left": null,
            "margin": null,
            "max_height": null,
            "max_width": null,
            "min_height": null,
            "min_width": null,
            "object_fit": null,
            "object_position": null,
            "order": null,
            "overflow": null,
            "overflow_x": null,
            "overflow_y": null,
            "padding": null,
            "right": null,
            "top": null,
            "visibility": null,
            "width": null
          }
        },
        "28b3c1ea3d6042c7bb3223b352a4c5e9": {
          "model_module": "@jupyter-widgets/controls",
          "model_name": "DescriptionStyleModel",
          "model_module_version": "1.5.0",
          "state": {
            "_model_module": "@jupyter-widgets/controls",
            "_model_module_version": "1.5.0",
            "_model_name": "DescriptionStyleModel",
            "_view_count": null,
            "_view_module": "@jupyter-widgets/base",
            "_view_module_version": "1.2.0",
            "_view_name": "StyleView",
            "description_width": ""
          }
        },
        "ad36ecf79937449fa0de526e8ccaf861": {
          "model_module": "@jupyter-widgets/base",
          "model_name": "LayoutModel",
          "model_module_version": "1.2.0",
          "state": {
            "_model_module": "@jupyter-widgets/base",
            "_model_module_version": "1.2.0",
            "_model_name": "LayoutModel",
            "_view_count": null,
            "_view_module": "@jupyter-widgets/base",
            "_view_module_version": "1.2.0",
            "_view_name": "LayoutView",
            "align_content": null,
            "align_items": null,
            "align_self": null,
            "border": null,
            "bottom": null,
            "display": null,
            "flex": null,
            "flex_flow": null,
            "grid_area": null,
            "grid_auto_columns": null,
            "grid_auto_flow": null,
            "grid_auto_rows": null,
            "grid_column": null,
            "grid_gap": null,
            "grid_row": null,
            "grid_template_areas": null,
            "grid_template_columns": null,
            "grid_template_rows": null,
            "height": null,
            "justify_content": null,
            "justify_items": null,
            "left": null,
            "margin": null,
            "max_height": null,
            "max_width": null,
            "min_height": null,
            "min_width": null,
            "object_fit": null,
            "object_position": null,
            "order": null,
            "overflow": null,
            "overflow_x": null,
            "overflow_y": null,
            "padding": null,
            "right": null,
            "top": null,
            "visibility": null,
            "width": null
          }
        },
        "f538b6f854d3422ebec2049fff6ec5dd": {
          "model_module": "@jupyter-widgets/controls",
          "model_name": "VBoxModel",
          "model_module_version": "1.5.0",
          "state": {
            "_dom_classes": [
              "widget-interact"
            ],
            "_model_module": "@jupyter-widgets/controls",
            "_model_module_version": "1.5.0",
            "_model_name": "VBoxModel",
            "_view_count": null,
            "_view_module": "@jupyter-widgets/controls",
            "_view_module_version": "1.5.0",
            "_view_name": "VBoxView",
            "box_style": "",
            "children": [
              "IPY_MODEL_ea4c376862334c428825a1752358529b",
              "IPY_MODEL_b8968e24308c40c38532cc97095921bf"
            ],
            "layout": "IPY_MODEL_9b6f1c17cdcc448fb040754f878d5136"
          }
        },
        "ea4c376862334c428825a1752358529b": {
          "model_module": "@jupyter-widgets/controls",
          "model_name": "DropdownModel",
          "model_module_version": "1.5.0",
          "state": {
            "_dom_classes": [],
            "_model_module": "@jupyter-widgets/controls",
            "_model_module_version": "1.5.0",
            "_model_name": "DropdownModel",
            "_options_labels": [
              "2015",
              "2014",
              "2013",
              "2012",
              "2011",
              "2010",
              "2009",
              "2008",
              "2007",
              "2006",
              "2005",
              "2004",
              "2003",
              "2002",
              "2001",
              "2000"
            ],
            "_view_count": null,
            "_view_module": "@jupyter-widgets/controls",
            "_view_module_version": "1.5.0",
            "_view_name": "DropdownView",
            "description": "Year",
            "description_tooltip": null,
            "disabled": false,
            "index": 0,
            "layout": "IPY_MODEL_e47fab7dc36649fb9defba99af52c7b2",
            "style": "IPY_MODEL_e3745a64bb4e4084b74171e903a73017"
          }
        },
        "b8968e24308c40c38532cc97095921bf": {
          "model_module": "@jupyter-widgets/output",
          "model_name": "OutputModel",
          "model_module_version": "1.0.0",
          "state": {
            "_dom_classes": [],
            "_model_module": "@jupyter-widgets/output",
            "_model_module_version": "1.0.0",
            "_model_name": "OutputModel",
            "_view_count": null,
            "_view_module": "@jupyter-widgets/output",
            "_view_module_version": "1.0.0",
            "_view_name": "OutputView",
            "layout": "IPY_MODEL_682701e2d6d2476e8f43be56346be324",
            "msg_id": "",
            "outputs": [
              {
                "output_type": "display_data",
                "data": {
                  "text/html": "\n<div id=\"altair-viz-7118032399464e48a99526a02d1a83e4\"></div>\n<script type=\"text/javascript\">\n  var VEGA_DEBUG = (typeof VEGA_DEBUG == \"undefined\") ? {} : VEGA_DEBUG;\n  (function(spec, embedOpt){\n    let outputDiv = document.currentScript.previousElementSibling;\n    if (outputDiv.id !== \"altair-viz-7118032399464e48a99526a02d1a83e4\") {\n      outputDiv = document.getElementById(\"altair-viz-7118032399464e48a99526a02d1a83e4\");\n    }\n    const paths = {\n      \"vega\": \"https://cdn.jsdelivr.net/npm//vega@5?noext\",\n      \"vega-lib\": \"https://cdn.jsdelivr.net/npm//vega-lib?noext\",\n      \"vega-lite\": \"https://cdn.jsdelivr.net/npm//vega-lite@4.17.0?noext\",\n      \"vega-embed\": \"https://cdn.jsdelivr.net/npm//vega-embed@6?noext\",\n    };\n\n    function maybeLoadScript(lib, version) {\n      var key = `${lib.replace(\"-\", \"\")}_version`;\n      return (VEGA_DEBUG[key] == version) ?\n        Promise.resolve(paths[lib]) :\n        new Promise(function(resolve, reject) {\n          var s = document.createElement('script');\n          document.getElementsByTagName(\"head\")[0].appendChild(s);\n          s.async = true;\n          s.onload = () => {\n            VEGA_DEBUG[key] = version;\n            return resolve(paths[lib]);\n          };\n          s.onerror = () => reject(`Error loading script: ${paths[lib]}`);\n          s.src = paths[lib];\n        });\n    }\n\n    function showError(err) {\n      outputDiv.innerHTML = `<div class=\"error\" style=\"color:red;\">${err}</div>`;\n      throw err;\n    }\n\n    function displayChart(vegaEmbed) {\n      vegaEmbed(outputDiv, spec, embedOpt)\n        .catch(err => showError(`Javascript Error: ${err.message}<br>This usually means there's a typo in your chart specification. See the javascript console for the full traceback.`));\n    }\n\n    if(typeof define === \"function\" && define.amd) {\n      requirejs.config({paths});\n      require([\"vega-embed\"], displayChart, err => showError(`Error loading script: ${err.message}`));\n    } else {\n      maybeLoadScript(\"vega\", \"5\")\n        .then(() => maybeLoadScript(\"vega-lite\", \"4.17.0\"))\n        .then(() => maybeLoadScript(\"vega-embed\", \"6\"))\n        .catch(showError)\n        .then(() => displayChart(vegaEmbed));\n    }\n  })({\"config\": {\"view\": {\"continuousWidth\": 400, \"continuousHeight\": 300}}, \"data\": {\"name\": \"data-5362a51cc5cb8fbd2e9130e1e3c00b13\"}, \"mark\": \"point\", \"encoding\": {\"color\": {\"field\": \"Country\", \"type\": \"nominal\"}, \"x\": {\"field\": \"Schooling\", \"type\": \"quantitative\"}, \"y\": {\"field\": \"Average Vaccination Rate\", \"type\": \"quantitative\"}}, \"$schema\": \"https://vega.github.io/schema/vega-lite/v4.17.0.json\", \"datasets\": {\"data-5362a51cc5cb8fbd2e9130e1e3c00b13\": [{\"Country\": \"Bangladesh\", \"Year\": 2015, \"Hepatitis B\": 97.0, \"Polio\": 97.0, \"Diphtheria\": 97.0, \"Schooling\": 10.2, \"Average Vaccination Rate\": 97.0}, {\"Country\": \"Brunei Darussalam\", \"Year\": 2015, \"Hepatitis B\": 99.0, \"Polio\": 99.0, \"Diphtheria\": 99.0, \"Schooling\": 14.9, \"Average Vaccination Rate\": 99.0}, {\"Country\": \"Cambodia\", \"Year\": 2015, \"Hepatitis B\": 89.0, \"Polio\": 87.0, \"Diphtheria\": 89.0, \"Schooling\": 10.9, \"Average Vaccination Rate\": 88.33333333333333}, {\"Country\": \"China\", \"Year\": 2015, \"Hepatitis B\": 99.0, \"Polio\": 99.0, \"Diphtheria\": 99.0, \"Schooling\": 13.5, \"Average Vaccination Rate\": 99.0}, {\"Country\": \"India\", \"Year\": 2015, \"Hepatitis B\": 87.0, \"Polio\": 86.0, \"Diphtheria\": 87.0, \"Schooling\": 11.6, \"Average Vaccination Rate\": 86.66666666666667}, {\"Country\": \"Lao People's Democratic Republic\", \"Year\": 2015, \"Hepatitis B\": 89.0, \"Polio\": 89.0, \"Diphtheria\": 89.0, \"Schooling\": 10.8, \"Average Vaccination Rate\": 89.0}, {\"Country\": \"Malaysia\", \"Year\": 2015, \"Hepatitis B\": 99.0, \"Polio\": 99.0, \"Diphtheria\": 99.0, \"Schooling\": 13.1, \"Average Vaccination Rate\": 99.0}, {\"Country\": \"Mongolia\", \"Year\": 2015, \"Hepatitis B\": 99.0, \"Polio\": 99.0, \"Diphtheria\": 99.0, \"Schooling\": 14.8, \"Average Vaccination Rate\": 99.0}, {\"Country\": \"Myanmar\", \"Year\": 2015, \"Hepatitis B\": 89.0, \"Polio\": 89.0, \"Diphtheria\": 89.0, \"Schooling\": 9.1, \"Average Vaccination Rate\": 89.0}, {\"Country\": \"Pakistan\", \"Year\": 2015, \"Hepatitis B\": 72.0, \"Polio\": 72.0, \"Diphtheria\": 72.0, \"Schooling\": 8.1, \"Average Vaccination Rate\": 72.0}, {\"Country\": \"Russian Federation\", \"Year\": 2015, \"Hepatitis B\": 97.0, \"Polio\": 97.0, \"Diphtheria\": 97.0, \"Schooling\": 15.0, \"Average Vaccination Rate\": 97.0}, {\"Country\": \"Singapore\", \"Year\": 2015, \"Hepatitis B\": 96.0, \"Polio\": 96.0, \"Diphtheria\": 96.0, \"Schooling\": 15.4, \"Average Vaccination Rate\": 96.0}, {\"Country\": \"Sri Lanka\", \"Year\": 2015, \"Hepatitis B\": 99.0, \"Polio\": 99.0, \"Diphtheria\": 99.0, \"Schooling\": 14.0, \"Average Vaccination Rate\": 99.0}, {\"Country\": \"Thailand\", \"Year\": 2015, \"Hepatitis B\": 99.0, \"Polio\": 99.0, \"Diphtheria\": 99.0, \"Schooling\": 13.6, \"Average Vaccination Rate\": 99.0}, {\"Country\": \"Timor-Leste\", \"Year\": 2015, \"Hepatitis B\": 76.0, \"Polio\": 75.0, \"Diphtheria\": 76.0, \"Schooling\": 12.5, \"Average Vaccination Rate\": 75.66666666666667}, {\"Country\": \"Viet Nam\", \"Year\": 2015, \"Hepatitis B\": 97.0, \"Polio\": 97.0, \"Diphtheria\": 97.0, \"Schooling\": 12.6, \"Average Vaccination Rate\": 97.0}]}}, {\"mode\": \"vega-lite\"});\n</script>",
                  "text/plain": "alt.Chart(...)"
                },
                "metadata": {}
              }
            ]
          }
        },
        "9b6f1c17cdcc448fb040754f878d5136": {
          "model_module": "@jupyter-widgets/base",
          "model_name": "LayoutModel",
          "model_module_version": "1.2.0",
          "state": {
            "_model_module": "@jupyter-widgets/base",
            "_model_module_version": "1.2.0",
            "_model_name": "LayoutModel",
            "_view_count": null,
            "_view_module": "@jupyter-widgets/base",
            "_view_module_version": "1.2.0",
            "_view_name": "LayoutView",
            "align_content": null,
            "align_items": null,
            "align_self": null,
            "border": null,
            "bottom": null,
            "display": null,
            "flex": null,
            "flex_flow": null,
            "grid_area": null,
            "grid_auto_columns": null,
            "grid_auto_flow": null,
            "grid_auto_rows": null,
            "grid_column": null,
            "grid_gap": null,
            "grid_row": null,
            "grid_template_areas": null,
            "grid_template_columns": null,
            "grid_template_rows": null,
            "height": null,
            "justify_content": null,
            "justify_items": null,
            "left": null,
            "margin": null,
            "max_height": null,
            "max_width": null,
            "min_height": null,
            "min_width": null,
            "object_fit": null,
            "object_position": null,
            "order": null,
            "overflow": null,
            "overflow_x": null,
            "overflow_y": null,
            "padding": null,
            "right": null,
            "top": null,
            "visibility": null,
            "width": null
          }
        },
        "e47fab7dc36649fb9defba99af52c7b2": {
          "model_module": "@jupyter-widgets/base",
          "model_name": "LayoutModel",
          "model_module_version": "1.2.0",
          "state": {
            "_model_module": "@jupyter-widgets/base",
            "_model_module_version": "1.2.0",
            "_model_name": "LayoutModel",
            "_view_count": null,
            "_view_module": "@jupyter-widgets/base",
            "_view_module_version": "1.2.0",
            "_view_name": "LayoutView",
            "align_content": null,
            "align_items": null,
            "align_self": null,
            "border": null,
            "bottom": null,
            "display": null,
            "flex": null,
            "flex_flow": null,
            "grid_area": null,
            "grid_auto_columns": null,
            "grid_auto_flow": null,
            "grid_auto_rows": null,
            "grid_column": null,
            "grid_gap": null,
            "grid_row": null,
            "grid_template_areas": null,
            "grid_template_columns": null,
            "grid_template_rows": null,
            "height": null,
            "justify_content": null,
            "justify_items": null,
            "left": null,
            "margin": null,
            "max_height": null,
            "max_width": null,
            "min_height": null,
            "min_width": null,
            "object_fit": null,
            "object_position": null,
            "order": null,
            "overflow": null,
            "overflow_x": null,
            "overflow_y": null,
            "padding": null,
            "right": null,
            "top": null,
            "visibility": null,
            "width": null
          }
        },
        "e3745a64bb4e4084b74171e903a73017": {
          "model_module": "@jupyter-widgets/controls",
          "model_name": "DescriptionStyleModel",
          "model_module_version": "1.5.0",
          "state": {
            "_model_module": "@jupyter-widgets/controls",
            "_model_module_version": "1.5.0",
            "_model_name": "DescriptionStyleModel",
            "_view_count": null,
            "_view_module": "@jupyter-widgets/base",
            "_view_module_version": "1.2.0",
            "_view_name": "StyleView",
            "description_width": ""
          }
        },
        "682701e2d6d2476e8f43be56346be324": {
          "model_module": "@jupyter-widgets/base",
          "model_name": "LayoutModel",
          "model_module_version": "1.2.0",
          "state": {
            "_model_module": "@jupyter-widgets/base",
            "_model_module_version": "1.2.0",
            "_model_name": "LayoutModel",
            "_view_count": null,
            "_view_module": "@jupyter-widgets/base",
            "_view_module_version": "1.2.0",
            "_view_name": "LayoutView",
            "align_content": null,
            "align_items": null,
            "align_self": null,
            "border": null,
            "bottom": null,
            "display": null,
            "flex": null,
            "flex_flow": null,
            "grid_area": null,
            "grid_auto_columns": null,
            "grid_auto_flow": null,
            "grid_auto_rows": null,
            "grid_column": null,
            "grid_gap": null,
            "grid_row": null,
            "grid_template_areas": null,
            "grid_template_columns": null,
            "grid_template_rows": null,
            "height": null,
            "justify_content": null,
            "justify_items": null,
            "left": null,
            "margin": null,
            "max_height": null,
            "max_width": null,
            "min_height": null,
            "min_width": null,
            "object_fit": null,
            "object_position": null,
            "order": null,
            "overflow": null,
            "overflow_x": null,
            "overflow_y": null,
            "padding": null,
            "right": null,
            "top": null,
            "visibility": null,
            "width": null
          }
        }
      }
    }
  },
  "cells": [
    {
      "cell_type": "markdown",
      "source": [
        "Report made by: Reinout Willems\n",
        "\n",
        "Student ID: I6331474\n",
        "\n"
      ],
      "metadata": {
        "id": "4-bxeWYE7ko6"
      }
    },
    {
      "cell_type": "markdown",
      "source": [
        "# **Research question and short introduction**"
      ],
      "metadata": {
        "id": "67UJZzB4tEvr"
      }
    },
    {
      "cell_type": "markdown",
      "source": [
        "*What is the relation between schooling and the vaccination rate in different Asian countries of the ASEAN Regional Forum (ARF)?*\n",
        "1. What is the relation between schooling and the vaccination rate in some Asian ARF countries?\n",
        "2. How do they compare to other Asian ARF countries?\n",
        "3. What is the overall correlation of the Asian ARF countries?\n",
        "4. How do the countries compare over the years?"
      ],
      "metadata": {
        "id": "glR3DMQ5CxX0"
      }
    },
    {
      "cell_type": "markdown",
      "source": [
        "ARF stands for ASEAN Regional Forum and contains the following countries/unions:\n",
        "Australia, Bangladesh, Brunei Darussalam, Cambodia, Canada, China, Democratic People’s Republic of Korea, European Union, India, Indonesia, Japan, Lao PDR, Malaysia, Mongolia, Myanmar, New Zealand, Pakistan, Papua New Guinea, Philippines, Republic of Korea, Russia, Singapore, Sri Lanka, Thailand, Timor-Leste, United States, and Viet Nam."
      ],
      "metadata": {
        "id": "pAhfE4pmS35F"
      }
    },
    {
      "cell_type": "markdown",
      "source": [
        "Not all the countries in the ARF are Asian (i.e. USA and the EU, so all that countries will be excluded from the research), this leaves us with the following countries: Bangladesh, Brunei Darussalam (Brunei), Cambodia, China, Democratic People’s Republic of Korea (North Korea), India, Indonesia, Japan, Lao PDR (Laos), Malaysia, Mongolia, Myanmar, Pakistan, Philippines, Republic of Korea (South Korea), Russia, Singapore, Sri Lanka, Thailand, Timor-Leste, and Viet Nam"
      ],
      "metadata": {
        "id": "ziClE7jCUrXV"
      }
    },
    {
      "cell_type": "markdown",
      "source": [
        "# **Data collection for research**"
      ],
      "metadata": {
        "id": "6jfSbGbqtRJO"
      }
    },
    {
      "cell_type": "markdown",
      "source": [
        "**Loading the dataset**"
      ],
      "metadata": {
        "id": "Op50FM98JG3_"
      }
    },
    {
      "cell_type": "code",
      "source": [
        "import pandas as pd\n",
        "import numpy as np\n",
        "import altair as alt\n",
        "import ipywidgets as widgets\n",
        "from ipywidgets import interact\n",
        "\n",
        "FactorHealth = pd.read_csv('https://raw.githubusercontent.com/NHameleers/dtz2025-datasets/master/CountryHealthFactors.csv')\n",
        "\n"
      ],
      "metadata": {
        "id": "_v1v_D0XC_uW"
      },
      "execution_count": 1,
      "outputs": []
    },
    {
      "cell_type": "code",
      "source": [
        "FactorHealth = FactorHealth.rename(columns=str.strip)"
      ],
      "metadata": {
        "id": "mN4FAsRBiO_N"
      },
      "execution_count": 2,
      "outputs": []
    },
    {
      "cell_type": "markdown",
      "source": [
        "For determining the average vaccination rate, a new column 'Average Vaccination Rate' was calculated with the average of the sum of 'Hepatitis B', 'Polio', and 'Diphtheria'."
      ],
      "metadata": {
        "id": "DLUVXtqFJyqL"
      }
    },
    {
      "cell_type": "code",
      "source": [
        "FactorHealth['Average Vaccination Rate'] = (FactorHealth['Hepatitis B'] + FactorHealth['Polio'] + FactorHealth['Diphtheria']) / 3"
      ],
      "metadata": {
        "id": "XA06q7q8dnHt"
      },
      "execution_count": 3,
      "outputs": []
    },
    {
      "cell_type": "markdown",
      "source": [
        "**Making a new dataset including values for the research**\n",
        "- To only include the Asian ARF countries, a list called 'Asian_ARFcountries' was made with only the Asian ARF countries\n",
        "- Also, all the columns were put in a list called 'research columns'\n",
        "- The new table included all these research columns, and from the countries only the Asian ARF countries while using a '.isin' function"
      ],
      "metadata": {
        "id": "ZO_18YYIKcmx"
      }
    },
    {
      "cell_type": "code",
      "source": [
        "Asian_ARFcountries = ['Bangladesh', 'Brunei Darussalam', 'China', 'Cambodia', \"Democratic People's Republic of Korea\", 'India', 'Indonesia', 'Japan', \"Lao People's Democratic Republic\", 'Malaysia', 'Mongolia', 'Myanmar', 'Pakistan',\n",
        "'Philippines', 'Republic of Korea', 'Russian Federation', 'Singapore', 'Sri Lanka', 'Thailand', 'Timor-Leste', 'Viet Nam']\n",
        "\n",
        "ResearchColumns = ['Country', 'Year', 'Hepatitis B', 'Polio', 'Diphtheria', 'Schooling', 'Average Vaccination Rate']\n",
        "\n",
        "FactorHealth1 = FactorHealth[FactorHealth['Country'].isin(Asian_ARFcountries)][ResearchColumns]"
      ],
      "metadata": {
        "id": "lwTeBrDPECPQ"
      },
      "execution_count": 4,
      "outputs": []
    },
    {
      "cell_type": "markdown",
      "source": [
        "# **Data cleaning**"
      ],
      "metadata": {
        "id": "1e7vmgOls5nP"
      }
    },
    {
      "cell_type": "markdown",
      "source": [
        "**Data description**\n",
        "- Hepatitis B and the Average vaccination rate have the same amount of missing values\n",
        "- 32 missing values in countries for schooling, since every country has 16 different years of data, it could be only 2 countries containing the missing values"
      ],
      "metadata": {
        "id": "KJ18c_M7Lmbv"
      }
    },
    {
      "cell_type": "code",
      "source": [
        "FactorHealth1.describe()"
      ],
      "metadata": {
        "colab": {
          "base_uri": "https://localhost:8080/",
          "height": 300
        },
        "id": "P3YBpiukUj0f",
        "outputId": "5f2ee44a-7ccf-4d70-aaee-840eddf8ef96"
      },
      "execution_count": 5,
      "outputs": [
        {
          "output_type": "execute_result",
          "data": {
            "text/plain": [
              "              Year  Hepatitis B       Polio  Diphtheria   Schooling  \\\n",
              "count   336.000000   280.000000  334.000000  334.000000  304.000000   \n",
              "mean   2007.500000    81.878571   85.107784   85.532934   11.444079   \n",
              "std       4.616647    24.493864   21.287544   18.273460    2.443250   \n",
              "min    2000.000000     4.000000    5.000000    5.000000    0.000000   \n",
              "25%    2003.750000    77.000000   81.000000   79.000000    9.875000   \n",
              "50%    2007.500000    94.000000   95.000000   94.000000   11.700000   \n",
              "75%    2011.250000    97.000000   98.000000   97.000000   13.225000   \n",
              "max    2015.000000    99.000000   99.000000   99.000000   15.400000   \n",
              "\n",
              "       Average Vaccination Rate  \n",
              "count                280.000000  \n",
              "mean                  85.158333  \n",
              "std                   17.845523  \n",
              "min                    8.000000  \n",
              "25%                   77.583333  \n",
              "50%                   94.333333  \n",
              "75%                   97.000000  \n",
              "max                   99.000000  "
            ],
            "text/html": [
              "\n",
              "  <div id=\"df-20d897da-c893-44ae-9a3d-ea356e045395\" class=\"colab-df-container\">\n",
              "    <div>\n",
              "<style scoped>\n",
              "    .dataframe tbody tr th:only-of-type {\n",
              "        vertical-align: middle;\n",
              "    }\n",
              "\n",
              "    .dataframe tbody tr th {\n",
              "        vertical-align: top;\n",
              "    }\n",
              "\n",
              "    .dataframe thead th {\n",
              "        text-align: right;\n",
              "    }\n",
              "</style>\n",
              "<table border=\"1\" class=\"dataframe\">\n",
              "  <thead>\n",
              "    <tr style=\"text-align: right;\">\n",
              "      <th></th>\n",
              "      <th>Year</th>\n",
              "      <th>Hepatitis B</th>\n",
              "      <th>Polio</th>\n",
              "      <th>Diphtheria</th>\n",
              "      <th>Schooling</th>\n",
              "      <th>Average Vaccination Rate</th>\n",
              "    </tr>\n",
              "  </thead>\n",
              "  <tbody>\n",
              "    <tr>\n",
              "      <th>count</th>\n",
              "      <td>336.000000</td>\n",
              "      <td>280.000000</td>\n",
              "      <td>334.000000</td>\n",
              "      <td>334.000000</td>\n",
              "      <td>304.000000</td>\n",
              "      <td>280.000000</td>\n",
              "    </tr>\n",
              "    <tr>\n",
              "      <th>mean</th>\n",
              "      <td>2007.500000</td>\n",
              "      <td>81.878571</td>\n",
              "      <td>85.107784</td>\n",
              "      <td>85.532934</td>\n",
              "      <td>11.444079</td>\n",
              "      <td>85.158333</td>\n",
              "    </tr>\n",
              "    <tr>\n",
              "      <th>std</th>\n",
              "      <td>4.616647</td>\n",
              "      <td>24.493864</td>\n",
              "      <td>21.287544</td>\n",
              "      <td>18.273460</td>\n",
              "      <td>2.443250</td>\n",
              "      <td>17.845523</td>\n",
              "    </tr>\n",
              "    <tr>\n",
              "      <th>min</th>\n",
              "      <td>2000.000000</td>\n",
              "      <td>4.000000</td>\n",
              "      <td>5.000000</td>\n",
              "      <td>5.000000</td>\n",
              "      <td>0.000000</td>\n",
              "      <td>8.000000</td>\n",
              "    </tr>\n",
              "    <tr>\n",
              "      <th>25%</th>\n",
              "      <td>2003.750000</td>\n",
              "      <td>77.000000</td>\n",
              "      <td>81.000000</td>\n",
              "      <td>79.000000</td>\n",
              "      <td>9.875000</td>\n",
              "      <td>77.583333</td>\n",
              "    </tr>\n",
              "    <tr>\n",
              "      <th>50%</th>\n",
              "      <td>2007.500000</td>\n",
              "      <td>94.000000</td>\n",
              "      <td>95.000000</td>\n",
              "      <td>94.000000</td>\n",
              "      <td>11.700000</td>\n",
              "      <td>94.333333</td>\n",
              "    </tr>\n",
              "    <tr>\n",
              "      <th>75%</th>\n",
              "      <td>2011.250000</td>\n",
              "      <td>97.000000</td>\n",
              "      <td>98.000000</td>\n",
              "      <td>97.000000</td>\n",
              "      <td>13.225000</td>\n",
              "      <td>97.000000</td>\n",
              "    </tr>\n",
              "    <tr>\n",
              "      <th>max</th>\n",
              "      <td>2015.000000</td>\n",
              "      <td>99.000000</td>\n",
              "      <td>99.000000</td>\n",
              "      <td>99.000000</td>\n",
              "      <td>15.400000</td>\n",
              "      <td>99.000000</td>\n",
              "    </tr>\n",
              "  </tbody>\n",
              "</table>\n",
              "</div>\n",
              "    <div class=\"colab-df-buttons\">\n",
              "\n",
              "  <div class=\"colab-df-container\">\n",
              "    <button class=\"colab-df-convert\" onclick=\"convertToInteractive('df-20d897da-c893-44ae-9a3d-ea356e045395')\"\n",
              "            title=\"Convert this dataframe to an interactive table.\"\n",
              "            style=\"display:none;\">\n",
              "\n",
              "  <svg xmlns=\"http://www.w3.org/2000/svg\" height=\"24px\" viewBox=\"0 -960 960 960\">\n",
              "    <path d=\"M120-120v-720h720v720H120Zm60-500h600v-160H180v160Zm220 220h160v-160H400v160Zm0 220h160v-160H400v160ZM180-400h160v-160H180v160Zm440 0h160v-160H620v160ZM180-180h160v-160H180v160Zm440 0h160v-160H620v160Z\"/>\n",
              "  </svg>\n",
              "    </button>\n",
              "\n",
              "  <style>\n",
              "    .colab-df-container {\n",
              "      display:flex;\n",
              "      gap: 12px;\n",
              "    }\n",
              "\n",
              "    .colab-df-convert {\n",
              "      background-color: #E8F0FE;\n",
              "      border: none;\n",
              "      border-radius: 50%;\n",
              "      cursor: pointer;\n",
              "      display: none;\n",
              "      fill: #1967D2;\n",
              "      height: 32px;\n",
              "      padding: 0 0 0 0;\n",
              "      width: 32px;\n",
              "    }\n",
              "\n",
              "    .colab-df-convert:hover {\n",
              "      background-color: #E2EBFA;\n",
              "      box-shadow: 0px 1px 2px rgba(60, 64, 67, 0.3), 0px 1px 3px 1px rgba(60, 64, 67, 0.15);\n",
              "      fill: #174EA6;\n",
              "    }\n",
              "\n",
              "    .colab-df-buttons div {\n",
              "      margin-bottom: 4px;\n",
              "    }\n",
              "\n",
              "    [theme=dark] .colab-df-convert {\n",
              "      background-color: #3B4455;\n",
              "      fill: #D2E3FC;\n",
              "    }\n",
              "\n",
              "    [theme=dark] .colab-df-convert:hover {\n",
              "      background-color: #434B5C;\n",
              "      box-shadow: 0px 1px 3px 1px rgba(0, 0, 0, 0.15);\n",
              "      filter: drop-shadow(0px 1px 2px rgba(0, 0, 0, 0.3));\n",
              "      fill: #FFFFFF;\n",
              "    }\n",
              "  </style>\n",
              "\n",
              "    <script>\n",
              "      const buttonEl =\n",
              "        document.querySelector('#df-20d897da-c893-44ae-9a3d-ea356e045395 button.colab-df-convert');\n",
              "      buttonEl.style.display =\n",
              "        google.colab.kernel.accessAllowed ? 'block' : 'none';\n",
              "\n",
              "      async function convertToInteractive(key) {\n",
              "        const element = document.querySelector('#df-20d897da-c893-44ae-9a3d-ea356e045395');\n",
              "        const dataTable =\n",
              "          await google.colab.kernel.invokeFunction('convertToInteractive',\n",
              "                                                    [key], {});\n",
              "        if (!dataTable) return;\n",
              "\n",
              "        const docLinkHtml = 'Like what you see? Visit the ' +\n",
              "          '<a target=\"_blank\" href=https://colab.research.google.com/notebooks/data_table.ipynb>data table notebook</a>'\n",
              "          + ' to learn more about interactive tables.';\n",
              "        element.innerHTML = '';\n",
              "        dataTable['output_type'] = 'display_data';\n",
              "        await google.colab.output.renderOutput(dataTable, element);\n",
              "        const docLink = document.createElement('div');\n",
              "        docLink.innerHTML = docLinkHtml;\n",
              "        element.appendChild(docLink);\n",
              "      }\n",
              "    </script>\n",
              "  </div>\n",
              "\n",
              "\n",
              "<div id=\"df-cb0dcaf9-2a3f-4687-97c7-5fca2f9e6eff\">\n",
              "  <button class=\"colab-df-quickchart\" onclick=\"quickchart('df-cb0dcaf9-2a3f-4687-97c7-5fca2f9e6eff')\"\n",
              "            title=\"Suggest charts\"\n",
              "            style=\"display:none;\">\n",
              "\n",
              "<svg xmlns=\"http://www.w3.org/2000/svg\" height=\"24px\"viewBox=\"0 0 24 24\"\n",
              "     width=\"24px\">\n",
              "    <g>\n",
              "        <path d=\"M19 3H5c-1.1 0-2 .9-2 2v14c0 1.1.9 2 2 2h14c1.1 0 2-.9 2-2V5c0-1.1-.9-2-2-2zM9 17H7v-7h2v7zm4 0h-2V7h2v10zm4 0h-2v-4h2v4z\"/>\n",
              "    </g>\n",
              "</svg>\n",
              "  </button>\n",
              "\n",
              "<style>\n",
              "  .colab-df-quickchart {\n",
              "      --bg-color: #E8F0FE;\n",
              "      --fill-color: #1967D2;\n",
              "      --hover-bg-color: #E2EBFA;\n",
              "      --hover-fill-color: #174EA6;\n",
              "      --disabled-fill-color: #AAA;\n",
              "      --disabled-bg-color: #DDD;\n",
              "  }\n",
              "\n",
              "  [theme=dark] .colab-df-quickchart {\n",
              "      --bg-color: #3B4455;\n",
              "      --fill-color: #D2E3FC;\n",
              "      --hover-bg-color: #434B5C;\n",
              "      --hover-fill-color: #FFFFFF;\n",
              "      --disabled-bg-color: #3B4455;\n",
              "      --disabled-fill-color: #666;\n",
              "  }\n",
              "\n",
              "  .colab-df-quickchart {\n",
              "    background-color: var(--bg-color);\n",
              "    border: none;\n",
              "    border-radius: 50%;\n",
              "    cursor: pointer;\n",
              "    display: none;\n",
              "    fill: var(--fill-color);\n",
              "    height: 32px;\n",
              "    padding: 0;\n",
              "    width: 32px;\n",
              "  }\n",
              "\n",
              "  .colab-df-quickchart:hover {\n",
              "    background-color: var(--hover-bg-color);\n",
              "    box-shadow: 0 1px 2px rgba(60, 64, 67, 0.3), 0 1px 3px 1px rgba(60, 64, 67, 0.15);\n",
              "    fill: var(--button-hover-fill-color);\n",
              "  }\n",
              "\n",
              "  .colab-df-quickchart-complete:disabled,\n",
              "  .colab-df-quickchart-complete:disabled:hover {\n",
              "    background-color: var(--disabled-bg-color);\n",
              "    fill: var(--disabled-fill-color);\n",
              "    box-shadow: none;\n",
              "  }\n",
              "\n",
              "  .colab-df-spinner {\n",
              "    border: 2px solid var(--fill-color);\n",
              "    border-color: transparent;\n",
              "    border-bottom-color: var(--fill-color);\n",
              "    animation:\n",
              "      spin 1s steps(1) infinite;\n",
              "  }\n",
              "\n",
              "  @keyframes spin {\n",
              "    0% {\n",
              "      border-color: transparent;\n",
              "      border-bottom-color: var(--fill-color);\n",
              "      border-left-color: var(--fill-color);\n",
              "    }\n",
              "    20% {\n",
              "      border-color: transparent;\n",
              "      border-left-color: var(--fill-color);\n",
              "      border-top-color: var(--fill-color);\n",
              "    }\n",
              "    30% {\n",
              "      border-color: transparent;\n",
              "      border-left-color: var(--fill-color);\n",
              "      border-top-color: var(--fill-color);\n",
              "      border-right-color: var(--fill-color);\n",
              "    }\n",
              "    40% {\n",
              "      border-color: transparent;\n",
              "      border-right-color: var(--fill-color);\n",
              "      border-top-color: var(--fill-color);\n",
              "    }\n",
              "    60% {\n",
              "      border-color: transparent;\n",
              "      border-right-color: var(--fill-color);\n",
              "    }\n",
              "    80% {\n",
              "      border-color: transparent;\n",
              "      border-right-color: var(--fill-color);\n",
              "      border-bottom-color: var(--fill-color);\n",
              "    }\n",
              "    90% {\n",
              "      border-color: transparent;\n",
              "      border-bottom-color: var(--fill-color);\n",
              "    }\n",
              "  }\n",
              "</style>\n",
              "\n",
              "  <script>\n",
              "    async function quickchart(key) {\n",
              "      const quickchartButtonEl =\n",
              "        document.querySelector('#' + key + ' button');\n",
              "      quickchartButtonEl.disabled = true;  // To prevent multiple clicks.\n",
              "      quickchartButtonEl.classList.add('colab-df-spinner');\n",
              "      try {\n",
              "        const charts = await google.colab.kernel.invokeFunction(\n",
              "            'suggestCharts', [key], {});\n",
              "      } catch (error) {\n",
              "        console.error('Error during call to suggestCharts:', error);\n",
              "      }\n",
              "      quickchartButtonEl.classList.remove('colab-df-spinner');\n",
              "      quickchartButtonEl.classList.add('colab-df-quickchart-complete');\n",
              "    }\n",
              "    (() => {\n",
              "      let quickchartButtonEl =\n",
              "        document.querySelector('#df-cb0dcaf9-2a3f-4687-97c7-5fca2f9e6eff button');\n",
              "      quickchartButtonEl.style.display =\n",
              "        google.colab.kernel.accessAllowed ? 'block' : 'none';\n",
              "    })();\n",
              "  </script>\n",
              "</div>\n",
              "    </div>\n",
              "  </div>\n"
            ],
            "application/vnd.google.colaboratory.intrinsic+json": {
              "type": "dataframe",
              "summary": "{\n  \"name\": \"FactorHealth1\",\n  \"rows\": 8,\n  \"fields\": [\n    {\n      \"column\": \"Year\",\n      \"properties\": {\n        \"dtype\": \"number\",\n        \"std\": 855.0654086523191,\n        \"min\": 4.616647358833128,\n        \"max\": 2015.0,\n        \"num_unique_values\": 7,\n        \"samples\": [\n          336.0,\n          2007.5,\n          2011.25\n        ],\n        \"semantic_type\": \"\",\n        \"description\": \"\"\n      }\n    },\n    {\n      \"column\": \"Hepatitis B\",\n      \"properties\": {\n        \"dtype\": \"number\",\n        \"std\": 82.80219469890366,\n        \"min\": 4.0,\n        \"max\": 280.0,\n        \"num_unique_values\": 8,\n        \"samples\": [\n          81.87857142857143,\n          94.0,\n          280.0\n        ],\n        \"semantic_type\": \"\",\n        \"description\": \"\"\n      }\n    },\n    {\n      \"column\": \"Polio\",\n      \"properties\": {\n        \"dtype\": \"number\",\n        \"std\": 100.39004670463166,\n        \"min\": 5.0,\n        \"max\": 334.0,\n        \"num_unique_values\": 8,\n        \"samples\": [\n          85.10778443113773,\n          95.0,\n          334.0\n        ],\n        \"semantic_type\": \"\",\n        \"description\": \"\"\n      }\n    },\n    {\n      \"column\": \"Diphtheria\",\n      \"properties\": {\n        \"dtype\": \"number\",\n        \"std\": 100.81035909300321,\n        \"min\": 5.0,\n        \"max\": 334.0,\n        \"num_unique_values\": 8,\n        \"samples\": [\n          85.53293413173652,\n          94.0,\n          334.0\n        ],\n        \"semantic_type\": \"\",\n        \"description\": \"\"\n      }\n    },\n    {\n      \"column\": \"Schooling\",\n      \"properties\": {\n        \"dtype\": \"number\",\n        \"std\": 104.37799950255743,\n        \"min\": 0.0,\n        \"max\": 304.0,\n        \"num_unique_values\": 8,\n        \"samples\": [\n          11.444078947368421,\n          11.7,\n          304.0\n        ],\n        \"semantic_type\": \"\",\n        \"description\": \"\"\n      }\n    },\n    {\n      \"column\": \"Average Vaccination Rate\",\n      \"properties\": {\n        \"dtype\": \"number\",\n        \"std\": 82.9520608323713,\n        \"min\": 8.0,\n        \"max\": 280.0,\n        \"num_unique_values\": 8,\n        \"samples\": [\n          85.15833333333333,\n          94.33333333333333,\n          280.0\n        ],\n        \"semantic_type\": \"\",\n        \"description\": \"\"\n      }\n    }\n  ]\n}"
            }
          },
          "metadata": {},
          "execution_count": 5
        }
      ]
    },
    {
      "cell_type": "markdown",
      "source": [
        "**Schooling**\n",
        "- Looking at the countries in schooling; both North Korea and South Korea can't be found"
      ],
      "metadata": {
        "id": "z8t7NttzNMgn"
      }
    },
    {
      "cell_type": "code",
      "source": [
        "alt.Chart(FactorHealth1).mark_point().encode(\n",
        "    x ='Year',\n",
        "    y ='Schooling',\n",
        "    color = 'Country'\n",
        ")"
      ],
      "metadata": {
        "colab": {
          "base_uri": "https://localhost:8080/",
          "height": 369
        },
        "id": "jr7XjTFnM891",
        "outputId": "2ce23cda-921a-49f5-f289-416e2f84fbef"
      },
      "execution_count": 6,
      "outputs": [
        {
          "output_type": "execute_result",
          "data": {
            "text/html": [
              "\n",
              "<div id=\"altair-viz-7e9e923c891741ae8478cc6eeba5b29f\"></div>\n",
              "<script type=\"text/javascript\">\n",
              "  var VEGA_DEBUG = (typeof VEGA_DEBUG == \"undefined\") ? {} : VEGA_DEBUG;\n",
              "  (function(spec, embedOpt){\n",
              "    let outputDiv = document.currentScript.previousElementSibling;\n",
              "    if (outputDiv.id !== \"altair-viz-7e9e923c891741ae8478cc6eeba5b29f\") {\n",
              "      outputDiv = document.getElementById(\"altair-viz-7e9e923c891741ae8478cc6eeba5b29f\");\n",
              "    }\n",
              "    const paths = {\n",
              "      \"vega\": \"https://cdn.jsdelivr.net/npm//vega@5?noext\",\n",
              "      \"vega-lib\": \"https://cdn.jsdelivr.net/npm//vega-lib?noext\",\n",
              "      \"vega-lite\": \"https://cdn.jsdelivr.net/npm//vega-lite@4.17.0?noext\",\n",
              "      \"vega-embed\": \"https://cdn.jsdelivr.net/npm//vega-embed@6?noext\",\n",
              "    };\n",
              "\n",
              "    function maybeLoadScript(lib, version) {\n",
              "      var key = `${lib.replace(\"-\", \"\")}_version`;\n",
              "      return (VEGA_DEBUG[key] == version) ?\n",
              "        Promise.resolve(paths[lib]) :\n",
              "        new Promise(function(resolve, reject) {\n",
              "          var s = document.createElement('script');\n",
              "          document.getElementsByTagName(\"head\")[0].appendChild(s);\n",
              "          s.async = true;\n",
              "          s.onload = () => {\n",
              "            VEGA_DEBUG[key] = version;\n",
              "            return resolve(paths[lib]);\n",
              "          };\n",
              "          s.onerror = () => reject(`Error loading script: ${paths[lib]}`);\n",
              "          s.src = paths[lib];\n",
              "        });\n",
              "    }\n",
              "\n",
              "    function showError(err) {\n",
              "      outputDiv.innerHTML = `<div class=\"error\" style=\"color:red;\">${err}</div>`;\n",
              "      throw err;\n",
              "    }\n",
              "\n",
              "    function displayChart(vegaEmbed) {\n",
              "      vegaEmbed(outputDiv, spec, embedOpt)\n",
              "        .catch(err => showError(`Javascript Error: ${err.message}<br>This usually means there's a typo in your chart specification. See the javascript console for the full traceback.`));\n",
              "    }\n",
              "\n",
              "    if(typeof define === \"function\" && define.amd) {\n",
              "      requirejs.config({paths});\n",
              "      require([\"vega-embed\"], displayChart, err => showError(`Error loading script: ${err.message}`));\n",
              "    } else {\n",
              "      maybeLoadScript(\"vega\", \"5\")\n",
              "        .then(() => maybeLoadScript(\"vega-lite\", \"4.17.0\"))\n",
              "        .then(() => maybeLoadScript(\"vega-embed\", \"6\"))\n",
              "        .catch(showError)\n",
              "        .then(() => displayChart(vegaEmbed));\n",
              "    }\n",
              "  })({\"config\": {\"view\": {\"continuousWidth\": 400, \"continuousHeight\": 300}}, \"data\": {\"name\": \"data-5d7784e6133ec95ec4ff5e057c2af840\"}, \"mark\": \"point\", \"encoding\": {\"color\": {\"field\": \"Country\", \"type\": \"nominal\"}, \"x\": {\"field\": \"Year\", \"type\": \"quantitative\"}, \"y\": {\"field\": \"Schooling\", \"type\": \"quantitative\"}}, \"$schema\": \"https://vega.github.io/schema/vega-lite/v4.17.0.json\", \"datasets\": {\"data-5d7784e6133ec95ec4ff5e057c2af840\": [{\"Country\": \"Bangladesh\", \"Year\": 2015, \"Hepatitis B\": 97.0, \"Polio\": 97.0, \"Diphtheria\": 97.0, \"Schooling\": 10.2, \"Average Vaccination Rate\": 97.0}, {\"Country\": \"Bangladesh\", \"Year\": 2014, \"Hepatitis B\": 97.0, \"Polio\": 97.0, \"Diphtheria\": 97.0, \"Schooling\": 10.0, \"Average Vaccination Rate\": 97.0}, {\"Country\": \"Bangladesh\", \"Year\": 2013, \"Hepatitis B\": 96.0, \"Polio\": 96.0, \"Diphtheria\": 96.0, \"Schooling\": 10.0, \"Average Vaccination Rate\": 96.0}, {\"Country\": \"Bangladesh\", \"Year\": 2012, \"Hepatitis B\": 94.0, \"Polio\": 94.0, \"Diphtheria\": 94.0, \"Schooling\": 9.9, \"Average Vaccination Rate\": 94.0}, {\"Country\": \"Bangladesh\", \"Year\": 2011, \"Hepatitis B\": 96.0, \"Polio\": 96.0, \"Diphtheria\": 96.0, \"Schooling\": 9.4, \"Average Vaccination Rate\": 96.0}, {\"Country\": \"Bangladesh\", \"Year\": 2010, \"Hepatitis B\": 94.0, \"Polio\": 94.0, \"Diphtheria\": 94.0, \"Schooling\": 8.9, \"Average Vaccination Rate\": 94.0}, {\"Country\": \"Bangladesh\", \"Year\": 2009, \"Hepatitis B\": 97.0, \"Polio\": 97.0, \"Diphtheria\": 97.0, \"Schooling\": 8.4, \"Average Vaccination Rate\": 97.0}, {\"Country\": \"Bangladesh\", \"Year\": 2008, \"Hepatitis B\": 96.0, \"Polio\": 96.0, \"Diphtheria\": 96.0, \"Schooling\": 8.6, \"Average Vaccination Rate\": 96.0}, {\"Country\": \"Bangladesh\", \"Year\": 2007, \"Hepatitis B\": 95.0, \"Polio\": 96.0, \"Diphtheria\": 94.0, \"Schooling\": 8.6, \"Average Vaccination Rate\": 95.0}, {\"Country\": \"Bangladesh\", \"Year\": 2006, \"Hepatitis B\": 86.0, \"Polio\": 95.0, \"Diphtheria\": 94.0, \"Schooling\": 8.4, \"Average Vaccination Rate\": 91.66666666666667}, {\"Country\": \"Bangladesh\", \"Year\": 2005, \"Hepatitis B\": 45.0, \"Polio\": 94.0, \"Diphtheria\": 93.0, \"Schooling\": 8.2, \"Average Vaccination Rate\": 77.33333333333333}, {\"Country\": \"Bangladesh\", \"Year\": 2004, \"Hepatitis B\": 11.0, \"Polio\": 88.0, \"Diphtheria\": 99.0, \"Schooling\": 8.1, \"Average Vaccination Rate\": 66.0}, {\"Country\": \"Bangladesh\", \"Year\": 2003, \"Hepatitis B\": 5.0, \"Polio\": 9.0, \"Diphtheria\": 87.0, \"Schooling\": 7.9, \"Average Vaccination Rate\": 33.666666666666664}, {\"Country\": \"Bangladesh\", \"Year\": 2002, \"Hepatitis B\": null, \"Polio\": 83.0, \"Diphtheria\": 83.0, \"Schooling\": 7.7, \"Average Vaccination Rate\": null}, {\"Country\": \"Bangladesh\", \"Year\": 2001, \"Hepatitis B\": null, \"Polio\": 85.0, \"Diphtheria\": 85.0, \"Schooling\": 7.5, \"Average Vaccination Rate\": null}, {\"Country\": \"Bangladesh\", \"Year\": 2000, \"Hepatitis B\": null, \"Polio\": 83.0, \"Diphtheria\": 82.0, \"Schooling\": 7.3, \"Average Vaccination Rate\": null}, {\"Country\": \"Brunei Darussalam\", \"Year\": 2015, \"Hepatitis B\": 99.0, \"Polio\": 99.0, \"Diphtheria\": 99.0, \"Schooling\": 14.9, \"Average Vaccination Rate\": 99.0}, {\"Country\": \"Brunei Darussalam\", \"Year\": 2014, \"Hepatitis B\": 99.0, \"Polio\": 99.0, \"Diphtheria\": 99.0, \"Schooling\": 15.0, \"Average Vaccination Rate\": 99.0}, {\"Country\": \"Brunei Darussalam\", \"Year\": 2013, \"Hepatitis B\": 98.0, \"Polio\": 99.0, \"Diphtheria\": 99.0, \"Schooling\": 14.9, \"Average Vaccination Rate\": 98.66666666666667}, {\"Country\": \"Brunei Darussalam\", \"Year\": 2012, \"Hepatitis B\": 99.0, \"Polio\": 99.0, \"Diphtheria\": 99.0, \"Schooling\": 14.4, \"Average Vaccination Rate\": 99.0}, {\"Country\": \"Brunei Darussalam\", \"Year\": 2011, \"Hepatitis B\": 93.0, \"Polio\": 99.0, \"Diphtheria\": 97.0, \"Schooling\": 14.1, \"Average Vaccination Rate\": 96.33333333333333}, {\"Country\": \"Brunei Darussalam\", \"Year\": 2010, \"Hepatitis B\": 96.0, \"Polio\": 99.0, \"Diphtheria\": 95.0, \"Schooling\": 14.2, \"Average Vaccination Rate\": 96.66666666666667}, {\"Country\": \"Brunei Darussalam\", \"Year\": 2009, \"Hepatitis B\": 96.0, \"Polio\": 99.0, \"Diphtheria\": 99.0, \"Schooling\": 14.1, \"Average Vaccination Rate\": 98.0}, {\"Country\": \"Brunei Darussalam\", \"Year\": 2008, \"Hepatitis B\": 96.0, \"Polio\": 97.0, \"Diphtheria\": 98.0, \"Schooling\": 14.2, \"Average Vaccination Rate\": 97.0}, {\"Country\": \"Brunei Darussalam\", \"Year\": 2007, \"Hepatitis B\": 97.0, \"Polio\": 95.0, \"Diphtheria\": 99.0, \"Schooling\": 14.3, \"Average Vaccination Rate\": 97.0}, {\"Country\": \"Brunei Darussalam\", \"Year\": 2006, \"Hepatitis B\": 99.0, \"Polio\": 94.0, \"Diphtheria\": 97.0, \"Schooling\": 14.3, \"Average Vaccination Rate\": 96.66666666666667}, {\"Country\": \"Brunei Darussalam\", \"Year\": 2005, \"Hepatitis B\": 99.0, \"Polio\": 93.0, \"Diphtheria\": 94.0, \"Schooling\": 14.1, \"Average Vaccination Rate\": 95.33333333333333}, {\"Country\": \"Brunei Darussalam\", \"Year\": 2004, \"Hepatitis B\": 99.0, \"Polio\": 92.0, \"Diphtheria\": 92.0, \"Schooling\": 13.7, \"Average Vaccination Rate\": 94.33333333333333}, {\"Country\": \"Brunei Darussalam\", \"Year\": 2003, \"Hepatitis B\": 99.0, \"Polio\": 99.0, \"Diphtheria\": 92.0, \"Schooling\": 13.4, \"Average Vaccination Rate\": 96.66666666666667}, {\"Country\": \"Brunei Darussalam\", \"Year\": 2002, \"Hepatitis B\": 99.0, \"Polio\": 99.0, \"Diphtheria\": 94.0, \"Schooling\": 13.3, \"Average Vaccination Rate\": 97.33333333333333}, {\"Country\": \"Brunei Darussalam\", \"Year\": 2001, \"Hepatitis B\": 99.0, \"Polio\": 99.0, \"Diphtheria\": 97.0, \"Schooling\": 13.4, \"Average Vaccination Rate\": 98.33333333333333}, {\"Country\": \"Brunei Darussalam\", \"Year\": 2000, \"Hepatitis B\": 99.0, \"Polio\": 99.0, \"Diphtheria\": 99.0, \"Schooling\": 13.4, \"Average Vaccination Rate\": 99.0}, {\"Country\": \"Cambodia\", \"Year\": 2015, \"Hepatitis B\": 89.0, \"Polio\": 87.0, \"Diphtheria\": 89.0, \"Schooling\": 10.9, \"Average Vaccination Rate\": 88.33333333333333}, {\"Country\": \"Cambodia\", \"Year\": 2014, \"Hepatitis B\": 88.0, \"Polio\": 87.0, \"Diphtheria\": 88.0, \"Schooling\": 10.9, \"Average Vaccination Rate\": 87.66666666666667}, {\"Country\": \"Cambodia\", \"Year\": 2013, \"Hepatitis B\": 83.0, \"Polio\": 66.0, \"Diphtheria\": 83.0, \"Schooling\": 10.8, \"Average Vaccination Rate\": 77.33333333333333}, {\"Country\": \"Cambodia\", \"Year\": 2012, \"Hepatitis B\": 86.0, \"Polio\": 84.0, \"Diphtheria\": 86.0, \"Schooling\": 10.7, \"Average Vaccination Rate\": 85.33333333333333}, {\"Country\": \"Cambodia\", \"Year\": 2011, \"Hepatitis B\": 88.0, \"Polio\": 87.0, \"Diphtheria\": 88.0, \"Schooling\": 10.7, \"Average Vaccination Rate\": 87.66666666666667}, {\"Country\": \"Cambodia\", \"Year\": 2010, \"Hepatitis B\": 89.0, \"Polio\": 88.0, \"Diphtheria\": 89.0, \"Schooling\": 10.6, \"Average Vaccination Rate\": 88.66666666666667}, {\"Country\": \"Cambodia\", \"Year\": 2009, \"Hepatitis B\": 92.0, \"Polio\": 95.0, \"Diphtheria\": 94.0, \"Schooling\": 10.5, \"Average Vaccination Rate\": 93.66666666666667}, {\"Country\": \"Cambodia\", \"Year\": 2008, \"Hepatitis B\": 91.0, \"Polio\": 91.0, \"Diphtheria\": 91.0, \"Schooling\": 10.5, \"Average Vaccination Rate\": 91.0}, {\"Country\": \"Cambodia\", \"Year\": 2007, \"Hepatitis B\": 82.0, \"Polio\": 82.0, \"Diphtheria\": 82.0, \"Schooling\": 10.3, \"Average Vaccination Rate\": 82.0}, {\"Country\": \"Cambodia\", \"Year\": 2006, \"Hepatitis B\": 8.0, \"Polio\": 8.0, \"Diphtheria\": 8.0, \"Schooling\": 10.1, \"Average Vaccination Rate\": 8.0}, {\"Country\": \"Cambodia\", \"Year\": 2005, \"Hepatitis B\": null, \"Polio\": 82.0, \"Diphtheria\": 82.0, \"Schooling\": 10.0, \"Average Vaccination Rate\": null}, {\"Country\": \"Cambodia\", \"Year\": 2004, \"Hepatitis B\": null, \"Polio\": 86.0, \"Diphtheria\": 85.0, \"Schooling\": 9.7, \"Average Vaccination Rate\": null}, {\"Country\": \"Cambodia\", \"Year\": 2003, \"Hepatitis B\": null, \"Polio\": 69.0, \"Diphtheria\": 69.0, \"Schooling\": 9.3, \"Average Vaccination Rate\": null}, {\"Country\": \"Cambodia\", \"Year\": 2002, \"Hepatitis B\": null, \"Polio\": 54.0, \"Diphtheria\": 54.0, \"Schooling\": 8.2, \"Average Vaccination Rate\": null}, {\"Country\": \"Cambodia\", \"Year\": 2001, \"Hepatitis B\": null, \"Polio\": 59.0, \"Diphtheria\": 6.0, \"Schooling\": 7.6, \"Average Vaccination Rate\": null}, {\"Country\": \"Cambodia\", \"Year\": 2000, \"Hepatitis B\": null, \"Polio\": 62.0, \"Diphtheria\": 59.0, \"Schooling\": 7.2, \"Average Vaccination Rate\": null}, {\"Country\": \"China\", \"Year\": 2015, \"Hepatitis B\": 99.0, \"Polio\": 99.0, \"Diphtheria\": 99.0, \"Schooling\": 13.5, \"Average Vaccination Rate\": 99.0}, {\"Country\": \"China\", \"Year\": 2014, \"Hepatitis B\": 99.0, \"Polio\": 99.0, \"Diphtheria\": 99.0, \"Schooling\": 13.1, \"Average Vaccination Rate\": 99.0}, {\"Country\": \"China\", \"Year\": 2013, \"Hepatitis B\": 99.0, \"Polio\": 99.0, \"Diphtheria\": 99.0, \"Schooling\": 12.7, \"Average Vaccination Rate\": 99.0}, {\"Country\": \"China\", \"Year\": 2012, \"Hepatitis B\": 99.0, \"Polio\": 99.0, \"Diphtheria\": 99.0, \"Schooling\": 12.4, \"Average Vaccination Rate\": 99.0}, {\"Country\": \"China\", \"Year\": 2011, \"Hepatitis B\": 99.0, \"Polio\": 99.0, \"Diphtheria\": 99.0, \"Schooling\": 12.8, \"Average Vaccination Rate\": 99.0}, {\"Country\": \"China\", \"Year\": 2010, \"Hepatitis B\": 99.0, \"Polio\": 99.0, \"Diphtheria\": 99.0, \"Schooling\": 12.5, \"Average Vaccination Rate\": 99.0}, {\"Country\": \"China\", \"Year\": 2009, \"Hepatitis B\": 99.0, \"Polio\": 99.0, \"Diphtheria\": 99.0, \"Schooling\": 12.2, \"Average Vaccination Rate\": 99.0}, {\"Country\": \"China\", \"Year\": 2008, \"Hepatitis B\": 95.0, \"Polio\": 99.0, \"Diphtheria\": 97.0, \"Schooling\": 11.9, \"Average Vaccination Rate\": 97.0}, {\"Country\": \"China\", \"Year\": 2007, \"Hepatitis B\": 92.0, \"Polio\": 94.0, \"Diphtheria\": 93.0, \"Schooling\": 11.4, \"Average Vaccination Rate\": 93.0}, {\"Country\": \"China\", \"Year\": 2006, \"Hepatitis B\": 91.0, \"Polio\": 94.0, \"Diphtheria\": 93.0, \"Schooling\": 11.0, \"Average Vaccination Rate\": 92.66666666666667}, {\"Country\": \"China\", \"Year\": 2005, \"Hepatitis B\": 84.0, \"Polio\": 87.0, \"Diphtheria\": 87.0, \"Schooling\": 10.6, \"Average Vaccination Rate\": 86.0}, {\"Country\": \"China\", \"Year\": 2004, \"Hepatitis B\": 79.0, \"Polio\": 87.0, \"Diphtheria\": 87.0, \"Schooling\": 10.2, \"Average Vaccination Rate\": 84.33333333333333}, {\"Country\": \"China\", \"Year\": 2003, \"Hepatitis B\": 75.0, \"Polio\": 87.0, \"Diphtheria\": 86.0, \"Schooling\": 9.9, \"Average Vaccination Rate\": 82.66666666666667}, {\"Country\": \"China\", \"Year\": 2002, \"Hepatitis B\": 7.0, \"Polio\": 86.0, \"Diphtheria\": 86.0, \"Schooling\": 9.7, \"Average Vaccination Rate\": 59.666666666666664}, {\"Country\": \"China\", \"Year\": 2001, \"Hepatitis B\": 65.0, \"Polio\": 86.0, \"Diphtheria\": 86.0, \"Schooling\": 9.6, \"Average Vaccination Rate\": 79.0}, {\"Country\": \"China\", \"Year\": 2000, \"Hepatitis B\": 6.0, \"Polio\": 86.0, \"Diphtheria\": 85.0, \"Schooling\": 9.5, \"Average Vaccination Rate\": 59.0}, {\"Country\": \"Democratic People's Republic of Korea\", \"Year\": 2015, \"Hepatitis B\": 96.0, \"Polio\": 99.0, \"Diphtheria\": 96.0, \"Schooling\": null, \"Average Vaccination Rate\": 97.0}, {\"Country\": \"Democratic People's Republic of Korea\", \"Year\": 2014, \"Hepatitis B\": 93.0, \"Polio\": 99.0, \"Diphtheria\": 93.0, \"Schooling\": null, \"Average Vaccination Rate\": 95.0}, {\"Country\": \"Democratic People's Republic of Korea\", \"Year\": 2013, \"Hepatitis B\": 93.0, \"Polio\": 99.0, \"Diphtheria\": 93.0, \"Schooling\": null, \"Average Vaccination Rate\": 95.0}, {\"Country\": \"Democratic People's Republic of Korea\", \"Year\": 2012, \"Hepatitis B\": 96.0, \"Polio\": 99.0, \"Diphtheria\": 96.0, \"Schooling\": null, \"Average Vaccination Rate\": 97.0}, {\"Country\": \"Democratic People's Republic of Korea\", \"Year\": 2011, \"Hepatitis B\": 94.0, \"Polio\": 99.0, \"Diphtheria\": 94.0, \"Schooling\": null, \"Average Vaccination Rate\": 95.66666666666667}, {\"Country\": \"Democratic People's Republic of Korea\", \"Year\": 2010, \"Hepatitis B\": 93.0, \"Polio\": 99.0, \"Diphtheria\": 93.0, \"Schooling\": null, \"Average Vaccination Rate\": 95.0}, {\"Country\": \"Democratic People's Republic of Korea\", \"Year\": 2009, \"Hepatitis B\": 93.0, \"Polio\": 98.0, \"Diphtheria\": 93.0, \"Schooling\": null, \"Average Vaccination Rate\": 94.66666666666667}, {\"Country\": \"Democratic People's Republic of Korea\", \"Year\": 2008, \"Hepatitis B\": 92.0, \"Polio\": 98.0, \"Diphtheria\": 92.0, \"Schooling\": null, \"Average Vaccination Rate\": 94.0}, {\"Country\": \"Democratic People's Republic of Korea\", \"Year\": 2007, \"Hepatitis B\": 92.0, \"Polio\": 99.0, \"Diphtheria\": 92.0, \"Schooling\": null, \"Average Vaccination Rate\": 94.33333333333333}, {\"Country\": \"Democratic People's Republic of Korea\", \"Year\": 2006, \"Hepatitis B\": 96.0, \"Polio\": 98.0, \"Diphtheria\": 89.0, \"Schooling\": null, \"Average Vaccination Rate\": 94.33333333333333}, {\"Country\": \"Democratic People's Republic of Korea\", \"Year\": 2005, \"Hepatitis B\": 92.0, \"Polio\": 97.0, \"Diphtheria\": 79.0, \"Schooling\": null, \"Average Vaccination Rate\": 89.33333333333333}, {\"Country\": \"Democratic People's Republic of Korea\", \"Year\": 2004, \"Hepatitis B\": 98.0, \"Polio\": 99.0, \"Diphtheria\": 72.0, \"Schooling\": null, \"Average Vaccination Rate\": 89.66666666666667}, {\"Country\": \"Democratic People's Republic of Korea\", \"Year\": 2003, \"Hepatitis B\": 27.0, \"Polio\": 99.0, \"Diphtheria\": 68.0, \"Schooling\": null, \"Average Vaccination Rate\": 64.66666666666667}, {\"Country\": \"Democratic People's Republic of Korea\", \"Year\": 2002, \"Hepatitis B\": null, \"Polio\": 99.0, \"Diphtheria\": 64.0, \"Schooling\": null, \"Average Vaccination Rate\": null}, {\"Country\": \"Democratic People's Republic of Korea\", \"Year\": 2001, \"Hepatitis B\": null, \"Polio\": 98.0, \"Diphtheria\": 62.0, \"Schooling\": null, \"Average Vaccination Rate\": null}, {\"Country\": \"Democratic People's Republic of Korea\", \"Year\": 2000, \"Hepatitis B\": null, \"Polio\": 93.0, \"Diphtheria\": 56.0, \"Schooling\": null, \"Average Vaccination Rate\": null}, {\"Country\": \"India\", \"Year\": 2015, \"Hepatitis B\": 87.0, \"Polio\": 86.0, \"Diphtheria\": 87.0, \"Schooling\": 11.6, \"Average Vaccination Rate\": 86.66666666666667}, {\"Country\": \"India\", \"Year\": 2014, \"Hepatitis B\": 79.0, \"Polio\": 84.0, \"Diphtheria\": 85.0, \"Schooling\": 11.6, \"Average Vaccination Rate\": 82.66666666666667}, {\"Country\": \"India\", \"Year\": 2013, \"Hepatitis B\": 7.0, \"Polio\": 82.0, \"Diphtheria\": 83.0, \"Schooling\": 11.5, \"Average Vaccination Rate\": 57.333333333333336}, {\"Country\": \"India\", \"Year\": 2012, \"Hepatitis B\": 73.0, \"Polio\": 79.0, \"Diphtheria\": 82.0, \"Schooling\": 11.3, \"Average Vaccination Rate\": 78.0}, {\"Country\": \"India\", \"Year\": 2011, \"Hepatitis B\": 44.0, \"Polio\": 79.0, \"Diphtheria\": 82.0, \"Schooling\": 10.8, \"Average Vaccination Rate\": 68.33333333333333}, {\"Country\": \"India\", \"Year\": 2010, \"Hepatitis B\": 38.0, \"Polio\": 76.0, \"Diphtheria\": 79.0, \"Schooling\": 10.4, \"Average Vaccination Rate\": 64.33333333333333}, {\"Country\": \"India\", \"Year\": 2009, \"Hepatitis B\": 37.0, \"Polio\": 73.0, \"Diphtheria\": 74.0, \"Schooling\": 10.5, \"Average Vaccination Rate\": 61.333333333333336}, {\"Country\": \"India\", \"Year\": 2008, \"Hepatitis B\": 29.0, \"Polio\": 69.0, \"Diphtheria\": 7.0, \"Schooling\": 10.2, \"Average Vaccination Rate\": 35.0}, {\"Country\": \"India\", \"Year\": 2007, \"Hepatitis B\": 6.0, \"Polio\": 67.0, \"Diphtheria\": 64.0, \"Schooling\": 9.9, \"Average Vaccination Rate\": 45.666666666666664}, {\"Country\": \"India\", \"Year\": 2006, \"Hepatitis B\": 6.0, \"Polio\": 66.0, \"Diphtheria\": 65.0, \"Schooling\": 9.7, \"Average Vaccination Rate\": 45.666666666666664}, {\"Country\": \"India\", \"Year\": 2005, \"Hepatitis B\": 8.0, \"Polio\": 65.0, \"Diphtheria\": 65.0, \"Schooling\": 9.4, \"Average Vaccination Rate\": 46.0}, {\"Country\": \"India\", \"Year\": 2004, \"Hepatitis B\": 6.0, \"Polio\": 58.0, \"Diphtheria\": 63.0, \"Schooling\": 9.2, \"Average Vaccination Rate\": 42.333333333333336}, {\"Country\": \"India\", \"Year\": 2003, \"Hepatitis B\": null, \"Polio\": 57.0, \"Diphtheria\": 61.0, \"Schooling\": 8.6, \"Average Vaccination Rate\": null}, {\"Country\": \"India\", \"Year\": 2002, \"Hepatitis B\": null, \"Polio\": 58.0, \"Diphtheria\": 59.0, \"Schooling\": 8.4, \"Average Vaccination Rate\": null}, {\"Country\": \"India\", \"Year\": 2001, \"Hepatitis B\": null, \"Polio\": 58.0, \"Diphtheria\": 59.0, \"Schooling\": 8.3, \"Average Vaccination Rate\": null}, {\"Country\": \"India\", \"Year\": 2000, \"Hepatitis B\": null, \"Polio\": 57.0, \"Diphtheria\": 58.0, \"Schooling\": 8.3, \"Average Vaccination Rate\": null}, {\"Country\": \"Indonesia\", \"Year\": 2015, \"Hepatitis B\": 78.0, \"Polio\": 8.0, \"Diphtheria\": 78.0, \"Schooling\": 12.9, \"Average Vaccination Rate\": 54.666666666666664}, {\"Country\": \"Indonesia\", \"Year\": 2014, \"Hepatitis B\": 78.0, \"Polio\": 8.0, \"Diphtheria\": 78.0, \"Schooling\": 12.9, \"Average Vaccination Rate\": 54.666666666666664}, {\"Country\": \"Indonesia\", \"Year\": 2013, \"Hepatitis B\": 85.0, \"Polio\": 86.0, \"Diphtheria\": 85.0, \"Schooling\": 12.9, \"Average Vaccination Rate\": 85.33333333333333}, {\"Country\": \"Indonesia\", \"Year\": 2012, \"Hepatitis B\": 83.0, \"Polio\": 84.0, \"Diphtheria\": 83.0, \"Schooling\": 12.6, \"Average Vaccination Rate\": 83.33333333333333}, {\"Country\": \"Indonesia\", \"Year\": 2011, \"Hepatitis B\": 81.0, \"Polio\": 81.0, \"Diphtheria\": 81.0, \"Schooling\": 12.3, \"Average Vaccination Rate\": 81.0}, {\"Country\": \"Indonesia\", \"Year\": 2010, \"Hepatitis B\": 83.0, \"Polio\": 82.0, \"Diphtheria\": 81.0, \"Schooling\": 12.1, \"Average Vaccination Rate\": 82.0}, {\"Country\": \"Indonesia\", \"Year\": 2009, \"Hepatitis B\": 82.0, \"Polio\": 85.0, \"Diphtheria\": 78.0, \"Schooling\": 11.7, \"Average Vaccination Rate\": 81.66666666666667}, {\"Country\": \"Indonesia\", \"Year\": 2008, \"Hepatitis B\": 82.0, \"Polio\": 83.0, \"Diphtheria\": 77.0, \"Schooling\": 11.7, \"Average Vaccination Rate\": 80.66666666666667}, {\"Country\": \"Indonesia\", \"Year\": 2007, \"Hepatitis B\": 76.0, \"Polio\": 77.0, \"Diphtheria\": 73.0, \"Schooling\": 11.0, \"Average Vaccination Rate\": 75.33333333333333}, {\"Country\": \"Indonesia\", \"Year\": 2006, \"Hepatitis B\": 66.0, \"Polio\": 78.0, \"Diphtheria\": 72.0, \"Schooling\": 10.9, \"Average Vaccination Rate\": 72.0}, {\"Country\": \"Indonesia\", \"Year\": 2005, \"Hepatitis B\": 65.0, \"Polio\": 79.0, \"Diphtheria\": 72.0, \"Schooling\": 11.1, \"Average Vaccination Rate\": 72.0}, {\"Country\": \"Indonesia\", \"Year\": 2004, \"Hepatitis B\": 64.0, \"Polio\": 79.0, \"Diphtheria\": 71.0, \"Schooling\": 11.0, \"Average Vaccination Rate\": 71.33333333333333}, {\"Country\": \"Indonesia\", \"Year\": 2003, \"Hepatitis B\": 64.0, \"Polio\": 8.0, \"Diphtheria\": 71.0, \"Schooling\": 10.8, \"Average Vaccination Rate\": 47.666666666666664}, {\"Country\": \"Indonesia\", \"Year\": 2002, \"Hepatitis B\": 63.0, \"Polio\": 8.0, \"Diphtheria\": 7.0, \"Schooling\": 10.6, \"Average Vaccination Rate\": 26.0}, {\"Country\": \"Indonesia\", \"Year\": 2001, \"Hepatitis B\": 62.0, \"Polio\": 77.0, \"Diphtheria\": 76.0, \"Schooling\": 10.6, \"Average Vaccination Rate\": 71.66666666666667}, {\"Country\": \"Indonesia\", \"Year\": 2000, \"Hepatitis B\": 65.0, \"Polio\": 72.0, \"Diphtheria\": 75.0, \"Schooling\": 10.7, \"Average Vaccination Rate\": 70.66666666666667}, {\"Country\": \"Japan\", \"Year\": 2015, \"Hepatitis B\": null, \"Polio\": 99.0, \"Diphtheria\": 96.0, \"Schooling\": 15.3, \"Average Vaccination Rate\": null}, {\"Country\": \"Japan\", \"Year\": 2014, \"Hepatitis B\": null, \"Polio\": 99.0, \"Diphtheria\": 96.0, \"Schooling\": 15.3, \"Average Vaccination Rate\": null}, {\"Country\": \"Japan\", \"Year\": 2013, \"Hepatitis B\": null, \"Polio\": 99.0, \"Diphtheria\": 96.0, \"Schooling\": 15.3, \"Average Vaccination Rate\": null}, {\"Country\": \"Japan\", \"Year\": 2012, \"Hepatitis B\": null, \"Polio\": 99.0, \"Diphtheria\": 97.0, \"Schooling\": 15.3, \"Average Vaccination Rate\": null}, {\"Country\": \"Japan\", \"Year\": 2011, \"Hepatitis B\": null, \"Polio\": 96.0, \"Diphtheria\": 97.0, \"Schooling\": 15.1, \"Average Vaccination Rate\": null}, {\"Country\": \"Japan\", \"Year\": 2010, \"Hepatitis B\": null, \"Polio\": 98.0, \"Diphtheria\": 97.0, \"Schooling\": 15.1, \"Average Vaccination Rate\": null}, {\"Country\": \"Japan\", \"Year\": 2009, \"Hepatitis B\": null, \"Polio\": 99.0, \"Diphtheria\": 97.0, \"Schooling\": 15.0, \"Average Vaccination Rate\": null}, {\"Country\": \"Japan\", \"Year\": 2008, \"Hepatitis B\": null, \"Polio\": 98.0, \"Diphtheria\": 98.0, \"Schooling\": 15.0, \"Average Vaccination Rate\": null}, {\"Country\": \"Japan\", \"Year\": 2007, \"Hepatitis B\": null, \"Polio\": 97.0, \"Diphtheria\": 98.0, \"Schooling\": 15.0, \"Average Vaccination Rate\": null}, {\"Country\": \"Japan\", \"Year\": 2006, \"Hepatitis B\": null, \"Polio\": 95.0, \"Diphtheria\": 98.0, \"Schooling\": 14.9, \"Average Vaccination Rate\": null}, {\"Country\": \"Japan\", \"Year\": 2005, \"Hepatitis B\": null, \"Polio\": 95.0, \"Diphtheria\": 98.0, \"Schooling\": 14.9, \"Average Vaccination Rate\": null}, {\"Country\": \"Japan\", \"Year\": 2004, \"Hepatitis B\": null, \"Polio\": 97.0, \"Diphtheria\": 99.0, \"Schooling\": 14.8, \"Average Vaccination Rate\": null}, {\"Country\": \"Japan\", \"Year\": 2003, \"Hepatitis B\": null, \"Polio\": 97.0, \"Diphtheria\": 97.0, \"Schooling\": 14.8, \"Average Vaccination Rate\": null}, {\"Country\": \"Japan\", \"Year\": 2002, \"Hepatitis B\": null, \"Polio\": 89.0, \"Diphtheria\": 96.0, \"Schooling\": 14.7, \"Average Vaccination Rate\": null}, {\"Country\": \"Japan\", \"Year\": 2001, \"Hepatitis B\": null, \"Polio\": 81.0, \"Diphtheria\": 95.0, \"Schooling\": 14.6, \"Average Vaccination Rate\": null}, {\"Country\": \"Japan\", \"Year\": 2000, \"Hepatitis B\": null, \"Polio\": 98.0, \"Diphtheria\": 85.0, \"Schooling\": 14.5, \"Average Vaccination Rate\": null}, {\"Country\": \"Lao People's Democratic Republic\", \"Year\": 2015, \"Hepatitis B\": 89.0, \"Polio\": 89.0, \"Diphtheria\": 89.0, \"Schooling\": 10.8, \"Average Vaccination Rate\": 89.0}, {\"Country\": \"Lao People's Democratic Republic\", \"Year\": 2014, \"Hepatitis B\": 88.0, \"Polio\": 88.0, \"Diphtheria\": 88.0, \"Schooling\": 10.6, \"Average Vaccination Rate\": 88.0}, {\"Country\": \"Lao People's Democratic Republic\", \"Year\": 2013, \"Hepatitis B\": 87.0, \"Polio\": 86.0, \"Diphtheria\": 87.0, \"Schooling\": 10.4, \"Average Vaccination Rate\": 86.66666666666667}, {\"Country\": \"Lao People's Democratic Republic\", \"Year\": 2012, \"Hepatitis B\": 79.0, \"Polio\": 78.0, \"Diphtheria\": 79.0, \"Schooling\": 10.2, \"Average Vaccination Rate\": 78.66666666666667}, {\"Country\": \"Lao People's Democratic Republic\", \"Year\": 2011, \"Hepatitis B\": 78.0, \"Polio\": 79.0, \"Diphtheria\": 78.0, \"Schooling\": 9.9, \"Average Vaccination Rate\": 78.33333333333333}, {\"Country\": \"Lao People's Democratic Republic\", \"Year\": 2010, \"Hepatitis B\": 74.0, \"Polio\": 76.0, \"Diphtheria\": 74.0, \"Schooling\": 9.6, \"Average Vaccination Rate\": 74.66666666666667}, {\"Country\": \"Lao People's Democratic Republic\", \"Year\": 2009, \"Hepatitis B\": 67.0, \"Polio\": 67.0, \"Diphtheria\": 67.0, \"Schooling\": 9.4, \"Average Vaccination Rate\": 67.0}, {\"Country\": \"Lao People's Democratic Republic\", \"Year\": 2008, \"Hepatitis B\": 61.0, \"Polio\": 6.0, \"Diphtheria\": 61.0, \"Schooling\": 9.2, \"Average Vaccination Rate\": 42.666666666666664}, {\"Country\": \"Lao People's Democratic Republic\", \"Year\": 2007, \"Hepatitis B\": 5.0, \"Polio\": 46.0, \"Diphtheria\": 5.0, \"Schooling\": 9.0, \"Average Vaccination Rate\": 18.666666666666668}, {\"Country\": \"Lao People's Democratic Republic\", \"Year\": 2006, \"Hepatitis B\": 57.0, \"Polio\": 56.0, \"Diphtheria\": 57.0, \"Schooling\": 9.0, \"Average Vaccination Rate\": 56.666666666666664}, {\"Country\": \"Lao People's Democratic Republic\", \"Year\": 2005, \"Hepatitis B\": 49.0, \"Polio\": 5.0, \"Diphtheria\": 49.0, \"Schooling\": 8.7, \"Average Vaccination Rate\": 34.333333333333336}, {\"Country\": \"Lao People's Democratic Republic\", \"Year\": 2004, \"Hepatitis B\": 45.0, \"Polio\": 46.0, \"Diphtheria\": 45.0, \"Schooling\": 8.6, \"Average Vaccination Rate\": 45.333333333333336}, {\"Country\": \"Lao People's Democratic Republic\", \"Year\": 2003, \"Hepatitis B\": 5.0, \"Polio\": 52.0, \"Diphtheria\": 49.0, \"Schooling\": 8.3, \"Average Vaccination Rate\": 35.333333333333336}, {\"Country\": \"Lao People's Democratic Republic\", \"Year\": 2002, \"Hepatitis B\": null, \"Polio\": 55.0, \"Diphtheria\": 53.0, \"Schooling\": 8.0, \"Average Vaccination Rate\": null}, {\"Country\": \"Lao People's Democratic Republic\", \"Year\": 2001, \"Hepatitis B\": null, \"Polio\": 55.0, \"Diphtheria\": 52.0, \"Schooling\": 8.0, \"Average Vaccination Rate\": null}, {\"Country\": \"Lao People's Democratic Republic\", \"Year\": 2000, \"Hepatitis B\": null, \"Polio\": 57.0, \"Diphtheria\": 51.0, \"Schooling\": 8.0, \"Average Vaccination Rate\": null}, {\"Country\": \"Malaysia\", \"Year\": 2015, \"Hepatitis B\": 99.0, \"Polio\": 99.0, \"Diphtheria\": 99.0, \"Schooling\": 13.1, \"Average Vaccination Rate\": 99.0}, {\"Country\": \"Malaysia\", \"Year\": 2014, \"Hepatitis B\": 96.0, \"Polio\": 97.0, \"Diphtheria\": 97.0, \"Schooling\": 13.0, \"Average Vaccination Rate\": 96.66666666666667}, {\"Country\": \"Malaysia\", \"Year\": 2013, \"Hepatitis B\": 96.0, \"Polio\": 97.0, \"Diphtheria\": 97.0, \"Schooling\": 12.9, \"Average Vaccination Rate\": 96.66666666666667}, {\"Country\": \"Malaysia\", \"Year\": 2012, \"Hepatitis B\": 97.0, \"Polio\": 97.0, \"Diphtheria\": 97.0, \"Schooling\": 12.9, \"Average Vaccination Rate\": 97.0}, {\"Country\": \"Malaysia\", \"Year\": 2011, \"Hepatitis B\": 96.0, \"Polio\": 96.0, \"Diphtheria\": 96.0, \"Schooling\": 13.0, \"Average Vaccination Rate\": 96.0}, {\"Country\": \"Malaysia\", \"Year\": 2010, \"Hepatitis B\": 96.0, \"Polio\": 96.0, \"Diphtheria\": 96.0, \"Schooling\": 12.8, \"Average Vaccination Rate\": 96.0}, {\"Country\": \"Malaysia\", \"Year\": 2009, \"Hepatitis B\": 96.0, \"Polio\": 97.0, \"Diphtheria\": 97.0, \"Schooling\": 12.6, \"Average Vaccination Rate\": 96.66666666666667}, {\"Country\": \"Malaysia\", \"Year\": 2008, \"Hepatitis B\": 97.0, \"Polio\": 97.0, \"Diphtheria\": 97.0, \"Schooling\": 12.5, \"Average Vaccination Rate\": 97.0}, {\"Country\": \"Malaysia\", \"Year\": 2007, \"Hepatitis B\": 96.0, \"Polio\": 97.0, \"Diphtheria\": 97.0, \"Schooling\": 12.3, \"Average Vaccination Rate\": 96.66666666666667}, {\"Country\": \"Malaysia\", \"Year\": 2006, \"Hepatitis B\": 95.0, \"Polio\": 95.0, \"Diphtheria\": 95.0, \"Schooling\": 12.7, \"Average Vaccination Rate\": 95.0}, {\"Country\": \"Malaysia\", \"Year\": 2005, \"Hepatitis B\": 96.0, \"Polio\": 96.0, \"Diphtheria\": 96.0, \"Schooling\": 12.9, \"Average Vaccination Rate\": 96.0}, {\"Country\": \"Malaysia\", \"Year\": 2004, \"Hepatitis B\": 94.0, \"Polio\": 95.0, \"Diphtheria\": 95.0, \"Schooling\": 12.7, \"Average Vaccination Rate\": 94.66666666666667}, {\"Country\": \"Malaysia\", \"Year\": 2003, \"Hepatitis B\": 95.0, \"Polio\": 96.0, \"Diphtheria\": 96.0, \"Schooling\": 12.1, \"Average Vaccination Rate\": 95.66666666666667}, {\"Country\": \"Malaysia\", \"Year\": 2002, \"Hepatitis B\": 95.0, \"Polio\": 94.0, \"Diphtheria\": 94.0, \"Schooling\": 12.0, \"Average Vaccination Rate\": 94.33333333333333}, {\"Country\": \"Malaysia\", \"Year\": 2001, \"Hepatitis B\": 95.0, \"Polio\": 95.0, \"Diphtheria\": 96.0, \"Schooling\": 11.9, \"Average Vaccination Rate\": 95.33333333333333}, {\"Country\": \"Malaysia\", \"Year\": 2000, \"Hepatitis B\": 97.0, \"Polio\": 98.0, \"Diphtheria\": 98.0, \"Schooling\": 11.6, \"Average Vaccination Rate\": 97.66666666666667}, {\"Country\": \"Mongolia\", \"Year\": 2015, \"Hepatitis B\": 99.0, \"Polio\": 99.0, \"Diphtheria\": 99.0, \"Schooling\": 14.8, \"Average Vaccination Rate\": 99.0}, {\"Country\": \"Mongolia\", \"Year\": 2014, \"Hepatitis B\": 99.0, \"Polio\": 99.0, \"Diphtheria\": 99.0, \"Schooling\": 14.8, \"Average Vaccination Rate\": 99.0}, {\"Country\": \"Mongolia\", \"Year\": 2013, \"Hepatitis B\": 98.0, \"Polio\": 98.0, \"Diphtheria\": 98.0, \"Schooling\": 14.7, \"Average Vaccination Rate\": 98.0}, {\"Country\": \"Mongolia\", \"Year\": 2012, \"Hepatitis B\": 99.0, \"Polio\": 99.0, \"Diphtheria\": 99.0, \"Schooling\": 14.7, \"Average Vaccination Rate\": 99.0}, {\"Country\": \"Mongolia\", \"Year\": 2011, \"Hepatitis B\": 99.0, \"Polio\": 99.0, \"Diphtheria\": 99.0, \"Schooling\": 14.6, \"Average Vaccination Rate\": 99.0}, {\"Country\": \"Mongolia\", \"Year\": 2010, \"Hepatitis B\": 96.0, \"Polio\": 96.0, \"Diphtheria\": 96.0, \"Schooling\": 14.3, \"Average Vaccination Rate\": 96.0}, {\"Country\": \"Mongolia\", \"Year\": 2009, \"Hepatitis B\": 97.0, \"Polio\": 96.0, \"Diphtheria\": 95.0, \"Schooling\": 13.8, \"Average Vaccination Rate\": 96.0}, {\"Country\": \"Mongolia\", \"Year\": 2008, \"Hepatitis B\": 96.0, \"Polio\": 95.0, \"Diphtheria\": 96.0, \"Schooling\": 13.4, \"Average Vaccination Rate\": 95.66666666666667}, {\"Country\": \"Mongolia\", \"Year\": 2007, \"Hepatitis B\": 98.0, \"Polio\": 99.0, \"Diphtheria\": 95.0, \"Schooling\": 13.0, \"Average Vaccination Rate\": 97.33333333333333}, {\"Country\": \"Mongolia\", \"Year\": 2006, \"Hepatitis B\": 98.0, \"Polio\": 98.0, \"Diphtheria\": 99.0, \"Schooling\": 12.7, \"Average Vaccination Rate\": 98.33333333333333}, {\"Country\": \"Mongolia\", \"Year\": 2005, \"Hepatitis B\": 98.0, \"Polio\": 99.0, \"Diphtheria\": 99.0, \"Schooling\": 11.8, \"Average Vaccination Rate\": 98.66666666666667}, {\"Country\": \"Mongolia\", \"Year\": 2004, \"Hepatitis B\": 98.0, \"Polio\": 99.0, \"Diphtheria\": 99.0, \"Schooling\": 11.2, \"Average Vaccination Rate\": 98.66666666666667}, {\"Country\": \"Mongolia\", \"Year\": 2003, \"Hepatitis B\": 98.0, \"Polio\": 98.0, \"Diphtheria\": 98.0, \"Schooling\": 10.5, \"Average Vaccination Rate\": 98.0}, {\"Country\": \"Mongolia\", \"Year\": 2002, \"Hepatitis B\": 98.0, \"Polio\": 98.0, \"Diphtheria\": 98.0, \"Schooling\": 10.1, \"Average Vaccination Rate\": 98.0}, {\"Country\": \"Mongolia\", \"Year\": 2001, \"Hepatitis B\": 95.0, \"Polio\": 95.0, \"Diphtheria\": 95.0, \"Schooling\": 9.4, \"Average Vaccination Rate\": 95.0}, {\"Country\": \"Mongolia\", \"Year\": 2000, \"Hepatitis B\": 93.0, \"Polio\": 94.0, \"Diphtheria\": 94.0, \"Schooling\": 8.9, \"Average Vaccination Rate\": 93.66666666666667}, {\"Country\": \"Myanmar\", \"Year\": 2015, \"Hepatitis B\": 89.0, \"Polio\": 89.0, \"Diphtheria\": 89.0, \"Schooling\": 9.1, \"Average Vaccination Rate\": 89.0}, {\"Country\": \"Myanmar\", \"Year\": 2014, \"Hepatitis B\": 88.0, \"Polio\": 88.0, \"Diphtheria\": 88.0, \"Schooling\": 9.1, \"Average Vaccination Rate\": 88.0}, {\"Country\": \"Myanmar\", \"Year\": 2013, \"Hepatitis B\": 75.0, \"Polio\": 76.0, \"Diphtheria\": 75.0, \"Schooling\": 9.1, \"Average Vaccination Rate\": 75.33333333333333}, {\"Country\": \"Myanmar\", \"Year\": 2012, \"Hepatitis B\": 58.0, \"Polio\": 87.0, \"Diphtheria\": 84.0, \"Schooling\": 9.1, \"Average Vaccination Rate\": 76.33333333333333}, {\"Country\": \"Myanmar\", \"Year\": 2011, \"Hepatitis B\": 4.0, \"Polio\": 9.0, \"Diphtheria\": 84.0, \"Schooling\": 9.1, \"Average Vaccination Rate\": 32.333333333333336}, {\"Country\": \"Myanmar\", \"Year\": 2010, \"Hepatitis B\": 92.0, \"Polio\": 9.0, \"Diphtheria\": 9.0, \"Schooling\": 8.8, \"Average Vaccination Rate\": 36.666666666666664}, {\"Country\": \"Myanmar\", \"Year\": 2009, \"Hepatitis B\": 91.0, \"Polio\": 9.0, \"Diphtheria\": 9.0, \"Schooling\": 8.5, \"Average Vaccination Rate\": 36.333333333333336}, {\"Country\": \"Myanmar\", \"Year\": 2008, \"Hepatitis B\": 85.0, \"Polio\": 85.0, \"Diphtheria\": 85.0, \"Schooling\": 8.2, \"Average Vaccination Rate\": 85.0}, {\"Country\": \"Myanmar\", \"Year\": 2007, \"Hepatitis B\": 85.0, \"Polio\": 84.0, \"Diphtheria\": 86.0, \"Schooling\": 8.1, \"Average Vaccination Rate\": 85.0}, {\"Country\": \"Myanmar\", \"Year\": 2006, \"Hepatitis B\": 75.0, \"Polio\": 82.0, \"Diphtheria\": 82.0, \"Schooling\": 8.0, \"Average Vaccination Rate\": 79.66666666666667}, {\"Country\": \"Myanmar\", \"Year\": 2005, \"Hepatitis B\": 62.0, \"Polio\": 86.0, \"Diphtheria\": 73.0, \"Schooling\": 7.9, \"Average Vaccination Rate\": 73.66666666666667}, {\"Country\": \"Myanmar\", \"Year\": 2004, \"Hepatitis B\": 39.0, \"Polio\": 92.0, \"Diphtheria\": 82.0, \"Schooling\": 7.8, \"Average Vaccination Rate\": 71.0}, {\"Country\": \"Myanmar\", \"Year\": 2003, \"Hepatitis B\": 8.0, \"Polio\": 86.0, \"Diphtheria\": 78.0, \"Schooling\": 7.7, \"Average Vaccination Rate\": 57.333333333333336}, {\"Country\": \"Myanmar\", \"Year\": 2002, \"Hepatitis B\": null, \"Polio\": 84.0, \"Diphtheria\": 79.0, \"Schooling\": 7.6, \"Average Vaccination Rate\": null}, {\"Country\": \"Myanmar\", \"Year\": 2001, \"Hepatitis B\": null, \"Polio\": 77.0, \"Diphtheria\": 73.0, \"Schooling\": 7.6, \"Average Vaccination Rate\": null}, {\"Country\": \"Myanmar\", \"Year\": 2000, \"Hepatitis B\": null, \"Polio\": 88.0, \"Diphtheria\": 82.0, \"Schooling\": 7.5, \"Average Vaccination Rate\": null}, {\"Country\": \"Pakistan\", \"Year\": 2015, \"Hepatitis B\": 72.0, \"Polio\": 72.0, \"Diphtheria\": 72.0, \"Schooling\": 8.1, \"Average Vaccination Rate\": 72.0}, {\"Country\": \"Pakistan\", \"Year\": 2014, \"Hepatitis B\": 72.0, \"Polio\": 72.0, \"Diphtheria\": 72.0, \"Schooling\": 7.8, \"Average Vaccination Rate\": 72.0}, {\"Country\": \"Pakistan\", \"Year\": 2013, \"Hepatitis B\": 72.0, \"Polio\": 72.0, \"Diphtheria\": 72.0, \"Schooling\": 7.7, \"Average Vaccination Rate\": 72.0}, {\"Country\": \"Pakistan\", \"Year\": 2012, \"Hepatitis B\": 72.0, \"Polio\": 72.0, \"Diphtheria\": 72.0, \"Schooling\": 7.6, \"Average Vaccination Rate\": 72.0}, {\"Country\": \"Pakistan\", \"Year\": 2011, \"Hepatitis B\": 74.0, \"Polio\": 75.0, \"Diphtheria\": 74.0, \"Schooling\": 7.5, \"Average Vaccination Rate\": 74.33333333333333}, {\"Country\": \"Pakistan\", \"Year\": 2010, \"Hepatitis B\": 82.0, \"Polio\": 82.0, \"Diphtheria\": 82.0, \"Schooling\": 7.5, \"Average Vaccination Rate\": 82.0}, {\"Country\": \"Pakistan\", \"Year\": 2009, \"Hepatitis B\": 78.0, \"Polio\": 7.0, \"Diphtheria\": 71.0, \"Schooling\": 7.3, \"Average Vaccination Rate\": 52.0}, {\"Country\": \"Pakistan\", \"Year\": 2008, \"Hepatitis B\": 65.0, \"Polio\": 7.0, \"Diphtheria\": 62.0, \"Schooling\": 7.3, \"Average Vaccination Rate\": 44.666666666666664}, {\"Country\": \"Pakistan\", \"Year\": 2007, \"Hepatitis B\": 75.0, \"Polio\": 75.0, \"Diphtheria\": 75.0, \"Schooling\": 6.7, \"Average Vaccination Rate\": 75.0}, {\"Country\": \"Pakistan\", \"Year\": 2006, \"Hepatitis B\": 78.0, \"Polio\": 77.0, \"Diphtheria\": 78.0, \"Schooling\": 6.5, \"Average Vaccination Rate\": 77.66666666666667}, {\"Country\": \"Pakistan\", \"Year\": 2005, \"Hepatitis B\": 7.0, \"Polio\": 78.0, \"Diphtheria\": 77.0, \"Schooling\": 6.1, \"Average Vaccination Rate\": 54.0}, {\"Country\": \"Pakistan\", \"Year\": 2004, \"Hepatitis B\": 65.0, \"Polio\": 65.0, \"Diphtheria\": 65.0, \"Schooling\": 5.6, \"Average Vaccination Rate\": 65.0}, {\"Country\": \"Pakistan\", \"Year\": 2003, \"Hepatitis B\": 63.0, \"Polio\": 69.0, \"Diphtheria\": 67.0, \"Schooling\": 5.6, \"Average Vaccination Rate\": 66.33333333333333}, {\"Country\": \"Pakistan\", \"Year\": 2002, \"Hepatitis B\": null, \"Polio\": 71.0, \"Diphtheria\": 68.0, \"Schooling\": 5.5, \"Average Vaccination Rate\": null}, {\"Country\": \"Pakistan\", \"Year\": 2001, \"Hepatitis B\": null, \"Polio\": 68.0, \"Diphtheria\": 65.0, \"Schooling\": 5.4, \"Average Vaccination Rate\": null}, {\"Country\": \"Pakistan\", \"Year\": 2000, \"Hepatitis B\": null, \"Polio\": 65.0, \"Diphtheria\": 62.0, \"Schooling\": 5.3, \"Average Vaccination Rate\": null}, {\"Country\": \"Philippines\", \"Year\": 2015, \"Hepatitis B\": 6.0, \"Polio\": 79.0, \"Diphtheria\": 6.0, \"Schooling\": 11.7, \"Average Vaccination Rate\": 30.333333333333332}, {\"Country\": \"Philippines\", \"Year\": 2014, \"Hepatitis B\": 67.0, \"Polio\": 77.0, \"Diphtheria\": 67.0, \"Schooling\": 11.7, \"Average Vaccination Rate\": 70.33333333333333}, {\"Country\": \"Philippines\", \"Year\": 2013, \"Hepatitis B\": 89.0, \"Polio\": 84.0, \"Diphtheria\": 89.0, \"Schooling\": 11.7, \"Average Vaccination Rate\": 87.33333333333333}, {\"Country\": \"Philippines\", \"Year\": 2012, \"Hepatitis B\": 88.0, \"Polio\": 88.0, \"Diphtheria\": 88.0, \"Schooling\": 11.6, \"Average Vaccination Rate\": 88.0}, {\"Country\": \"Philippines\", \"Year\": 2011, \"Hepatitis B\": 87.0, \"Polio\": 87.0, \"Diphtheria\": 87.0, \"Schooling\": 11.5, \"Average Vaccination Rate\": 87.0}, {\"Country\": \"Philippines\", \"Year\": 2010, \"Hepatitis B\": 77.0, \"Polio\": 78.0, \"Diphtheria\": 79.0, \"Schooling\": 11.4, \"Average Vaccination Rate\": 78.0}, {\"Country\": \"Philippines\", \"Year\": 2009, \"Hepatitis B\": 85.0, \"Polio\": 86.0, \"Diphtheria\": 87.0, \"Schooling\": 11.7, \"Average Vaccination Rate\": 86.0}, {\"Country\": \"Philippines\", \"Year\": 2008, \"Hepatitis B\": 88.0, \"Polio\": 91.0, \"Diphtheria\": 91.0, \"Schooling\": 11.5, \"Average Vaccination Rate\": 90.0}, {\"Country\": \"Philippines\", \"Year\": 2007, \"Hepatitis B\": 87.0, \"Polio\": 87.0, \"Diphtheria\": 87.0, \"Schooling\": 11.4, \"Average Vaccination Rate\": 87.0}, {\"Country\": \"Philippines\", \"Year\": 2006, \"Hepatitis B\": 77.0, \"Polio\": 88.0, \"Diphtheria\": 88.0, \"Schooling\": 11.5, \"Average Vaccination Rate\": 84.33333333333333}, {\"Country\": \"Philippines\", \"Year\": 2005, \"Hepatitis B\": 49.0, \"Polio\": 9.0, \"Diphtheria\": 89.0, \"Schooling\": 11.6, \"Average Vaccination Rate\": 49.0}, {\"Country\": \"Philippines\", \"Year\": 2004, \"Hepatitis B\": 48.0, \"Polio\": 85.0, \"Diphtheria\": 88.0, \"Schooling\": 11.6, \"Average Vaccination Rate\": 73.66666666666667}, {\"Country\": \"Philippines\", \"Year\": 2003, \"Hepatitis B\": 52.0, \"Polio\": 85.0, \"Diphtheria\": 84.0, \"Schooling\": 11.6, \"Average Vaccination Rate\": 73.66666666666667}, {\"Country\": \"Philippines\", \"Year\": 2002, \"Hepatitis B\": 42.0, \"Polio\": 77.0, \"Diphtheria\": 79.0, \"Schooling\": 11.4, \"Average Vaccination Rate\": 66.0}, {\"Country\": \"Philippines\", \"Year\": 2001, \"Hepatitis B\": 45.0, \"Polio\": 76.0, \"Diphtheria\": 79.0, \"Schooling\": 11.4, \"Average Vaccination Rate\": 66.66666666666667}, {\"Country\": \"Philippines\", \"Year\": 2000, \"Hepatitis B\": 7.0, \"Polio\": 74.0, \"Diphtheria\": 78.0, \"Schooling\": 11.4, \"Average Vaccination Rate\": 53.0}, {\"Country\": \"Republic of Korea\", \"Year\": 2015, \"Hepatitis B\": 98.0, \"Polio\": 98.0, \"Diphtheria\": 98.0, \"Schooling\": null, \"Average Vaccination Rate\": 98.0}, {\"Country\": \"Republic of Korea\", \"Year\": 2014, \"Hepatitis B\": 99.0, \"Polio\": 99.0, \"Diphtheria\": 99.0, \"Schooling\": null, \"Average Vaccination Rate\": 99.0}, {\"Country\": \"Republic of Korea\", \"Year\": 2013, \"Hepatitis B\": 99.0, \"Polio\": 99.0, \"Diphtheria\": 99.0, \"Schooling\": null, \"Average Vaccination Rate\": 99.0}, {\"Country\": \"Republic of Korea\", \"Year\": 2012, \"Hepatitis B\": 99.0, \"Polio\": 99.0, \"Diphtheria\": 99.0, \"Schooling\": null, \"Average Vaccination Rate\": 99.0}, {\"Country\": \"Republic of Korea\", \"Year\": 2011, \"Hepatitis B\": 99.0, \"Polio\": 98.0, \"Diphtheria\": 99.0, \"Schooling\": null, \"Average Vaccination Rate\": 98.66666666666667}, {\"Country\": \"Republic of Korea\", \"Year\": 2010, \"Hepatitis B\": 94.0, \"Polio\": 95.0, \"Diphtheria\": 94.0, \"Schooling\": null, \"Average Vaccination Rate\": 94.33333333333333}, {\"Country\": \"Republic of Korea\", \"Year\": 2009, \"Hepatitis B\": 94.0, \"Polio\": 95.0, \"Diphtheria\": 94.0, \"Schooling\": null, \"Average Vaccination Rate\": 94.33333333333333}, {\"Country\": \"Republic of Korea\", \"Year\": 2008, \"Hepatitis B\": 94.0, \"Polio\": 92.0, \"Diphtheria\": 94.0, \"Schooling\": null, \"Average Vaccination Rate\": 93.33333333333333}, {\"Country\": \"Republic of Korea\", \"Year\": 2007, \"Hepatitis B\": 91.0, \"Polio\": 91.0, \"Diphtheria\": 91.0, \"Schooling\": null, \"Average Vaccination Rate\": 91.0}, {\"Country\": \"Republic of Korea\", \"Year\": 2006, \"Hepatitis B\": 99.0, \"Polio\": 98.0, \"Diphtheria\": 98.0, \"Schooling\": null, \"Average Vaccination Rate\": 98.33333333333333}, {\"Country\": \"Republic of Korea\", \"Year\": 2005, \"Hepatitis B\": 99.0, \"Polio\": 96.0, \"Diphtheria\": 96.0, \"Schooling\": null, \"Average Vaccination Rate\": 97.0}, {\"Country\": \"Republic of Korea\", \"Year\": 2004, \"Hepatitis B\": 92.0, \"Polio\": 9.0, \"Diphtheria\": 88.0, \"Schooling\": null, \"Average Vaccination Rate\": 63.0}, {\"Country\": \"Republic of Korea\", \"Year\": 2003, \"Hepatitis B\": 91.0, \"Polio\": 94.0, \"Diphtheria\": 97.0, \"Schooling\": null, \"Average Vaccination Rate\": 94.0}, {\"Country\": \"Republic of Korea\", \"Year\": 2002, \"Hepatitis B\": 92.0, \"Polio\": 99.0, \"Diphtheria\": 97.0, \"Schooling\": null, \"Average Vaccination Rate\": 96.0}, {\"Country\": \"Republic of Korea\", \"Year\": 2001, \"Hepatitis B\": 89.0, \"Polio\": 99.0, \"Diphtheria\": 97.0, \"Schooling\": null, \"Average Vaccination Rate\": 95.0}, {\"Country\": \"Republic of Korea\", \"Year\": 2000, \"Hepatitis B\": 93.0, \"Polio\": 99.0, \"Diphtheria\": 97.0, \"Schooling\": null, \"Average Vaccination Rate\": 96.33333333333333}, {\"Country\": \"Russian Federation\", \"Year\": 2015, \"Hepatitis B\": 97.0, \"Polio\": 97.0, \"Diphtheria\": 97.0, \"Schooling\": 15.0, \"Average Vaccination Rate\": 97.0}, {\"Country\": \"Russian Federation\", \"Year\": 2014, \"Hepatitis B\": 97.0, \"Polio\": 97.0, \"Diphtheria\": 97.0, \"Schooling\": 14.9, \"Average Vaccination Rate\": 97.0}, {\"Country\": \"Russian Federation\", \"Year\": 2013, \"Hepatitis B\": 97.0, \"Polio\": 98.0, \"Diphtheria\": 97.0, \"Schooling\": 14.6, \"Average Vaccination Rate\": 97.33333333333333}, {\"Country\": \"Russian Federation\", \"Year\": 2012, \"Hepatitis B\": 97.0, \"Polio\": 98.0, \"Diphtheria\": 97.0, \"Schooling\": 14.3, \"Average Vaccination Rate\": 97.33333333333333}, {\"Country\": \"Russian Federation\", \"Year\": 2011, \"Hepatitis B\": 97.0, \"Polio\": 97.0, \"Diphtheria\": 97.0, \"Schooling\": 14.0, \"Average Vaccination Rate\": 97.0}, {\"Country\": \"Russian Federation\", \"Year\": 2010, \"Hepatitis B\": 97.0, \"Polio\": 98.0, \"Diphtheria\": 97.0, \"Schooling\": 13.7, \"Average Vaccination Rate\": 97.33333333333333}, {\"Country\": \"Russian Federation\", \"Year\": 2009, \"Hepatitis B\": 98.0, \"Polio\": 98.0, \"Diphtheria\": 98.0, \"Schooling\": 14.0, \"Average Vaccination Rate\": 98.0}, {\"Country\": \"Russian Federation\", \"Year\": 2008, \"Hepatitis B\": 98.0, \"Polio\": 98.0, \"Diphtheria\": 98.0, \"Schooling\": 13.9, \"Average Vaccination Rate\": 98.0}, {\"Country\": \"Russian Federation\", \"Year\": 2007, \"Hepatitis B\": 98.0, \"Polio\": 98.0, \"Diphtheria\": 98.0, \"Schooling\": 13.8, \"Average Vaccination Rate\": 98.0}, {\"Country\": \"Russian Federation\", \"Year\": 2006, \"Hepatitis B\": 98.0, \"Polio\": 98.0, \"Diphtheria\": 98.0, \"Schooling\": 13.8, \"Average Vaccination Rate\": 98.0}, {\"Country\": \"Russian Federation\", \"Year\": 2005, \"Hepatitis B\": 97.0, \"Polio\": 98.0, \"Diphtheria\": 98.0, \"Schooling\": 13.7, \"Average Vaccination Rate\": 97.66666666666667}, {\"Country\": \"Russian Federation\", \"Year\": 2004, \"Hepatitis B\": 96.0, \"Polio\": 98.0, \"Diphtheria\": 97.0, \"Schooling\": 13.6, \"Average Vaccination Rate\": 97.0}, {\"Country\": \"Russian Federation\", \"Year\": 2003, \"Hepatitis B\": 94.0, \"Polio\": 97.0, \"Diphtheria\": 96.0, \"Schooling\": 13.2, \"Average Vaccination Rate\": 95.66666666666667}, {\"Country\": \"Russian Federation\", \"Year\": 2002, \"Hepatitis B\": 81.0, \"Polio\": 97.0, \"Diphtheria\": 97.0, \"Schooling\": 12.8, \"Average Vaccination Rate\": 91.66666666666667}, {\"Country\": \"Russian Federation\", \"Year\": 2001, \"Hepatitis B\": 43.0, \"Polio\": 97.0, \"Diphtheria\": 96.0, \"Schooling\": 12.5, \"Average Vaccination Rate\": 78.66666666666667}, {\"Country\": \"Russian Federation\", \"Year\": 2000, \"Hepatitis B\": null, \"Polio\": 97.0, \"Diphtheria\": 96.0, \"Schooling\": 12.1, \"Average Vaccination Rate\": null}, {\"Country\": \"Singapore\", \"Year\": 2015, \"Hepatitis B\": 96.0, \"Polio\": 96.0, \"Diphtheria\": 96.0, \"Schooling\": 15.4, \"Average Vaccination Rate\": 96.0}, {\"Country\": \"Singapore\", \"Year\": 2014, \"Hepatitis B\": 96.0, \"Polio\": 96.0, \"Diphtheria\": 96.0, \"Schooling\": 15.4, \"Average Vaccination Rate\": 96.0}, {\"Country\": \"Singapore\", \"Year\": 2013, \"Hepatitis B\": 97.0, \"Polio\": 97.0, \"Diphtheria\": 97.0, \"Schooling\": 15.4, \"Average Vaccination Rate\": 97.0}, {\"Country\": \"Singapore\", \"Year\": 2012, \"Hepatitis B\": 97.0, \"Polio\": 97.0, \"Diphtheria\": 97.0, \"Schooling\": 15.4, \"Average Vaccination Rate\": 97.0}, {\"Country\": \"Singapore\", \"Year\": 2011, \"Hepatitis B\": 96.0, \"Polio\": 96.0, \"Diphtheria\": 96.0, \"Schooling\": 15.2, \"Average Vaccination Rate\": 96.0}, {\"Country\": \"Singapore\", \"Year\": 2010, \"Hepatitis B\": 96.0, \"Polio\": 96.0, \"Diphtheria\": 96.0, \"Schooling\": 14.5, \"Average Vaccination Rate\": 96.0}, {\"Country\": \"Singapore\", \"Year\": 2009, \"Hepatitis B\": 96.0, \"Polio\": 97.0, \"Diphtheria\": 97.0, \"Schooling\": 14.4, \"Average Vaccination Rate\": 96.66666666666667}, {\"Country\": \"Singapore\", \"Year\": 2008, \"Hepatitis B\": 97.0, \"Polio\": 97.0, \"Diphtheria\": 97.0, \"Schooling\": 14.2, \"Average Vaccination Rate\": 97.0}, {\"Country\": \"Singapore\", \"Year\": 2007, \"Hepatitis B\": 96.0, \"Polio\": 97.0, \"Diphtheria\": 97.0, \"Schooling\": 14.1, \"Average Vaccination Rate\": 96.66666666666667}, {\"Country\": \"Singapore\", \"Year\": 2006, \"Hepatitis B\": 95.0, \"Polio\": 95.0, \"Diphtheria\": 95.0, \"Schooling\": 13.9, \"Average Vaccination Rate\": 95.0}, {\"Country\": \"Singapore\", \"Year\": 2005, \"Hepatitis B\": 96.0, \"Polio\": 96.0, \"Diphtheria\": 96.0, \"Schooling\": 12.6, \"Average Vaccination Rate\": 96.0}, {\"Country\": \"Singapore\", \"Year\": 2004, \"Hepatitis B\": 94.0, \"Polio\": 95.0, \"Diphtheria\": 95.0, \"Schooling\": 12.7, \"Average Vaccination Rate\": 94.66666666666667}, {\"Country\": \"Singapore\", \"Year\": 2003, \"Hepatitis B\": 95.0, \"Polio\": 96.0, \"Diphtheria\": 96.0, \"Schooling\": 12.7, \"Average Vaccination Rate\": 95.66666666666667}, {\"Country\": \"Singapore\", \"Year\": 2002, \"Hepatitis B\": 95.0, \"Polio\": 94.0, \"Diphtheria\": 94.0, \"Schooling\": 12.6, \"Average Vaccination Rate\": 94.33333333333333}, {\"Country\": \"Singapore\", \"Year\": 2001, \"Hepatitis B\": 95.0, \"Polio\": 95.0, \"Diphtheria\": 96.0, \"Schooling\": 12.7, \"Average Vaccination Rate\": 95.33333333333333}, {\"Country\": \"Singapore\", \"Year\": 2000, \"Hepatitis B\": 97.0, \"Polio\": 98.0, \"Diphtheria\": 98.0, \"Schooling\": 12.5, \"Average Vaccination Rate\": 97.66666666666667}, {\"Country\": \"Sri Lanka\", \"Year\": 2015, \"Hepatitis B\": 99.0, \"Polio\": 99.0, \"Diphtheria\": 99.0, \"Schooling\": 14.0, \"Average Vaccination Rate\": 99.0}, {\"Country\": \"Sri Lanka\", \"Year\": 2014, \"Hepatitis B\": 99.0, \"Polio\": 99.0, \"Diphtheria\": 99.0, \"Schooling\": 14.0, \"Average Vaccination Rate\": 99.0}, {\"Country\": \"Sri Lanka\", \"Year\": 2013, \"Hepatitis B\": 99.0, \"Polio\": 99.0, \"Diphtheria\": 99.0, \"Schooling\": 13.8, \"Average Vaccination Rate\": 99.0}, {\"Country\": \"Sri Lanka\", \"Year\": 2012, \"Hepatitis B\": 99.0, \"Polio\": 99.0, \"Diphtheria\": 99.0, \"Schooling\": 13.7, \"Average Vaccination Rate\": 99.0}, {\"Country\": \"Sri Lanka\", \"Year\": 2011, \"Hepatitis B\": 99.0, \"Polio\": 99.0, \"Diphtheria\": 99.0, \"Schooling\": 13.6, \"Average Vaccination Rate\": 99.0}, {\"Country\": \"Sri Lanka\", \"Year\": 2010, \"Hepatitis B\": 99.0, \"Polio\": 99.0, \"Diphtheria\": 99.0, \"Schooling\": 13.5, \"Average Vaccination Rate\": 99.0}, {\"Country\": \"Sri Lanka\", \"Year\": 2009, \"Hepatitis B\": 97.0, \"Polio\": 97.0, \"Diphtheria\": 97.0, \"Schooling\": 13.4, \"Average Vaccination Rate\": 97.0}, {\"Country\": \"Sri Lanka\", \"Year\": 2008, \"Hepatitis B\": 98.0, \"Polio\": 98.0, \"Diphtheria\": 98.0, \"Schooling\": 13.3, \"Average Vaccination Rate\": 98.0}, {\"Country\": \"Sri Lanka\", \"Year\": 2007, \"Hepatitis B\": 98.0, \"Polio\": 98.0, \"Diphtheria\": 98.0, \"Schooling\": 13.2, \"Average Vaccination Rate\": 98.0}, {\"Country\": \"Sri Lanka\", \"Year\": 2006, \"Hepatitis B\": 98.0, \"Polio\": 98.0, \"Diphtheria\": 98.0, \"Schooling\": 13.1, \"Average Vaccination Rate\": 98.0}, {\"Country\": \"Sri Lanka\", \"Year\": 2005, \"Hepatitis B\": 99.0, \"Polio\": 99.0, \"Diphtheria\": 99.0, \"Schooling\": 12.9, \"Average Vaccination Rate\": 99.0}, {\"Country\": \"Sri Lanka\", \"Year\": 2004, \"Hepatitis B\": 62.0, \"Polio\": 97.0, \"Diphtheria\": 97.0, \"Schooling\": 12.8, \"Average Vaccination Rate\": 85.33333333333333}, {\"Country\": \"Sri Lanka\", \"Year\": 2003, \"Hepatitis B\": 32.0, \"Polio\": 98.0, \"Diphtheria\": 99.0, \"Schooling\": 12.7, \"Average Vaccination Rate\": 76.33333333333333}, {\"Country\": \"Sri Lanka\", \"Year\": 2002, \"Hepatitis B\": null, \"Polio\": 98.0, \"Diphtheria\": 98.0, \"Schooling\": 12.6, \"Average Vaccination Rate\": null}, {\"Country\": \"Sri Lanka\", \"Year\": 2001, \"Hepatitis B\": null, \"Polio\": 98.0, \"Diphtheria\": 98.0, \"Schooling\": 12.5, \"Average Vaccination Rate\": null}, {\"Country\": \"Sri Lanka\", \"Year\": 2000, \"Hepatitis B\": null, \"Polio\": 99.0, \"Diphtheria\": 99.0, \"Schooling\": 12.4, \"Average Vaccination Rate\": null}, {\"Country\": \"Thailand\", \"Year\": 2015, \"Hepatitis B\": 99.0, \"Polio\": 99.0, \"Diphtheria\": 99.0, \"Schooling\": 13.6, \"Average Vaccination Rate\": 99.0}, {\"Country\": \"Thailand\", \"Year\": 2014, \"Hepatitis B\": 99.0, \"Polio\": 99.0, \"Diphtheria\": 99.0, \"Schooling\": 13.6, \"Average Vaccination Rate\": 99.0}, {\"Country\": \"Thailand\", \"Year\": 2013, \"Hepatitis B\": 99.0, \"Polio\": 99.0, \"Diphtheria\": 99.0, \"Schooling\": 13.6, \"Average Vaccination Rate\": 99.0}, {\"Country\": \"Thailand\", \"Year\": 2012, \"Hepatitis B\": 98.0, \"Polio\": 99.0, \"Diphtheria\": 99.0, \"Schooling\": 13.7, \"Average Vaccination Rate\": 98.66666666666667}, {\"Country\": \"Thailand\", \"Year\": 2011, \"Hepatitis B\": 98.0, \"Polio\": 99.0, \"Diphtheria\": 99.0, \"Schooling\": 13.3, \"Average Vaccination Rate\": 98.66666666666667}, {\"Country\": \"Thailand\", \"Year\": 2010, \"Hepatitis B\": 98.0, \"Polio\": 99.0, \"Diphtheria\": 99.0, \"Schooling\": 13.1, \"Average Vaccination Rate\": 98.66666666666667}, {\"Country\": \"Thailand\", \"Year\": 2009, \"Hepatitis B\": 98.0, \"Polio\": 99.0, \"Diphtheria\": 99.0, \"Schooling\": 13.0, \"Average Vaccination Rate\": 98.66666666666667}, {\"Country\": \"Thailand\", \"Year\": 2008, \"Hepatitis B\": 98.0, \"Polio\": 99.0, \"Diphtheria\": 99.0, \"Schooling\": 12.9, \"Average Vaccination Rate\": 98.66666666666667}, {\"Country\": \"Thailand\", \"Year\": 2007, \"Hepatitis B\": 96.0, \"Polio\": 98.0, \"Diphtheria\": 98.0, \"Schooling\": 12.3, \"Average Vaccination Rate\": 97.33333333333333}, {\"Country\": \"Thailand\", \"Year\": 2006, \"Hepatitis B\": 96.0, \"Polio\": 98.0, \"Diphtheria\": 98.0, \"Schooling\": 12.4, \"Average Vaccination Rate\": 97.33333333333333}, {\"Country\": \"Thailand\", \"Year\": 2005, \"Hepatitis B\": 96.0, \"Polio\": 98.0, \"Diphtheria\": 98.0, \"Schooling\": 12.0, \"Average Vaccination Rate\": 97.33333333333333}, {\"Country\": \"Thailand\", \"Year\": 2004, \"Hepatitis B\": 96.0, \"Polio\": 98.0, \"Diphtheria\": 98.0, \"Schooling\": 11.9, \"Average Vaccination Rate\": 97.33333333333333}, {\"Country\": \"Thailand\", \"Year\": 2003, \"Hepatitis B\": 96.0, \"Polio\": 98.0, \"Diphtheria\": 98.0, \"Schooling\": 11.8, \"Average Vaccination Rate\": 97.33333333333333}, {\"Country\": \"Thailand\", \"Year\": 2002, \"Hepatitis B\": 95.0, \"Polio\": 97.0, \"Diphtheria\": 96.0, \"Schooling\": 11.5, \"Average Vaccination Rate\": 96.0}, {\"Country\": \"Thailand\", \"Year\": 2001, \"Hepatitis B\": 95.0, \"Polio\": 97.0, \"Diphtheria\": 96.0, \"Schooling\": 11.2, \"Average Vaccination Rate\": 96.0}, {\"Country\": \"Thailand\", \"Year\": 2000, \"Hepatitis B\": 95.0, \"Polio\": 97.0, \"Diphtheria\": 97.0, \"Schooling\": 10.9, \"Average Vaccination Rate\": 96.33333333333333}, {\"Country\": \"Timor-Leste\", \"Year\": 2015, \"Hepatitis B\": 76.0, \"Polio\": 75.0, \"Diphtheria\": 76.0, \"Schooling\": 12.5, \"Average Vaccination Rate\": 75.66666666666667}, {\"Country\": \"Timor-Leste\", \"Year\": 2014, \"Hepatitis B\": 77.0, \"Polio\": 76.0, \"Diphtheria\": 77.0, \"Schooling\": 12.5, \"Average Vaccination Rate\": 76.66666666666667}, {\"Country\": \"Timor-Leste\", \"Year\": 2013, \"Hepatitis B\": 82.0, \"Polio\": 82.0, \"Diphtheria\": 82.0, \"Schooling\": 12.5, \"Average Vaccination Rate\": 82.0}, {\"Country\": \"Timor-Leste\", \"Year\": 2012, \"Hepatitis B\": 83.0, \"Polio\": 83.0, \"Diphtheria\": 83.0, \"Schooling\": 12.5, \"Average Vaccination Rate\": 83.0}, {\"Country\": \"Timor-Leste\", \"Year\": 2011, \"Hepatitis B\": 67.0, \"Polio\": 66.0, \"Diphtheria\": 67.0, \"Schooling\": 12.5, \"Average Vaccination Rate\": 66.66666666666667}, {\"Country\": \"Timor-Leste\", \"Year\": 2010, \"Hepatitis B\": 72.0, \"Polio\": 72.0, \"Diphtheria\": 72.0, \"Schooling\": 12.4, \"Average Vaccination Rate\": 72.0}, {\"Country\": \"Timor-Leste\", \"Year\": 2009, \"Hepatitis B\": 72.0, \"Polio\": 78.0, \"Diphtheria\": 72.0, \"Schooling\": 12.1, \"Average Vaccination Rate\": 74.0}, {\"Country\": \"Timor-Leste\", \"Year\": 2008, \"Hepatitis B\": 79.0, \"Polio\": 79.0, \"Diphtheria\": 79.0, \"Schooling\": 11.7, \"Average Vaccination Rate\": 79.0}, {\"Country\": \"Timor-Leste\", \"Year\": 2007, \"Hepatitis B\": null, \"Polio\": 7.0, \"Diphtheria\": 7.0, \"Schooling\": 11.3, \"Average Vaccination Rate\": null}, {\"Country\": \"Timor-Leste\", \"Year\": 2006, \"Hepatitis B\": null, \"Polio\": 62.0, \"Diphtheria\": 63.0, \"Schooling\": 11.0, \"Average Vaccination Rate\": null}, {\"Country\": \"Timor-Leste\", \"Year\": 2005, \"Hepatitis B\": null, \"Polio\": 55.0, \"Diphtheria\": 55.0, \"Schooling\": 10.6, \"Average Vaccination Rate\": null}, {\"Country\": \"Timor-Leste\", \"Year\": 2004, \"Hepatitis B\": null, \"Polio\": 57.0, \"Diphtheria\": 57.0, \"Schooling\": 10.2, \"Average Vaccination Rate\": null}, {\"Country\": \"Timor-Leste\", \"Year\": 2003, \"Hepatitis B\": null, \"Polio\": 55.0, \"Diphtheria\": 55.0, \"Schooling\": 9.8, \"Average Vaccination Rate\": null}, {\"Country\": \"Timor-Leste\", \"Year\": 2002, \"Hepatitis B\": null, \"Polio\": 38.0, \"Diphtheria\": 54.0, \"Schooling\": 9.8, \"Average Vaccination Rate\": null}, {\"Country\": \"Timor-Leste\", \"Year\": 2001, \"Hepatitis B\": null, \"Polio\": null, \"Diphtheria\": null, \"Schooling\": 9.8, \"Average Vaccination Rate\": null}, {\"Country\": \"Timor-Leste\", \"Year\": 2000, \"Hepatitis B\": null, \"Polio\": null, \"Diphtheria\": null, \"Schooling\": 0.0, \"Average Vaccination Rate\": null}, {\"Country\": \"Viet Nam\", \"Year\": 2015, \"Hepatitis B\": 97.0, \"Polio\": 97.0, \"Diphtheria\": 97.0, \"Schooling\": 12.6, \"Average Vaccination Rate\": 97.0}, {\"Country\": \"Viet Nam\", \"Year\": 2014, \"Hepatitis B\": 95.0, \"Polio\": 96.0, \"Diphtheria\": 95.0, \"Schooling\": 12.5, \"Average Vaccination Rate\": 95.33333333333333}, {\"Country\": \"Viet Nam\", \"Year\": 2013, \"Hepatitis B\": 59.0, \"Polio\": 93.0, \"Diphtheria\": 59.0, \"Schooling\": 12.3, \"Average Vaccination Rate\": 70.33333333333333}, {\"Country\": \"Viet Nam\", \"Year\": 2012, \"Hepatitis B\": 97.0, \"Polio\": 97.0, \"Diphtheria\": 97.0, \"Schooling\": 12.2, \"Average Vaccination Rate\": 97.0}, {\"Country\": \"Viet Nam\", \"Year\": 2011, \"Hepatitis B\": 95.0, \"Polio\": 96.0, \"Diphtheria\": 95.0, \"Schooling\": 12.0, \"Average Vaccination Rate\": 95.33333333333333}, {\"Country\": \"Viet Nam\", \"Year\": 2010, \"Hepatitis B\": 88.0, \"Polio\": 94.0, \"Diphtheria\": 93.0, \"Schooling\": 11.9, \"Average Vaccination Rate\": 91.66666666666667}, {\"Country\": \"Viet Nam\", \"Year\": 2009, \"Hepatitis B\": 94.0, \"Polio\": 97.0, \"Diphtheria\": 96.0, \"Schooling\": 11.7, \"Average Vaccination Rate\": 95.66666666666667}, {\"Country\": \"Viet Nam\", \"Year\": 2008, \"Hepatitis B\": 87.0, \"Polio\": 93.0, \"Diphtheria\": 93.0, \"Schooling\": 11.6, \"Average Vaccination Rate\": 91.0}, {\"Country\": \"Viet Nam\", \"Year\": 2007, \"Hepatitis B\": 67.0, \"Polio\": 92.0, \"Diphtheria\": 92.0, \"Schooling\": 11.4, \"Average Vaccination Rate\": 83.66666666666667}, {\"Country\": \"Viet Nam\", \"Year\": 2006, \"Hepatitis B\": 93.0, \"Polio\": 94.0, \"Diphtheria\": 94.0, \"Schooling\": 11.3, \"Average Vaccination Rate\": 93.66666666666667}, {\"Country\": \"Viet Nam\", \"Year\": 2005, \"Hepatitis B\": 94.0, \"Polio\": 94.0, \"Diphtheria\": 95.0, \"Schooling\": 11.1, \"Average Vaccination Rate\": 94.33333333333333}, {\"Country\": \"Viet Nam\", \"Year\": 2004, \"Hepatitis B\": 94.0, \"Polio\": 96.0, \"Diphtheria\": 96.0, \"Schooling\": 11.0, \"Average Vaccination Rate\": 95.33333333333333}, {\"Country\": \"Viet Nam\", \"Year\": 2003, \"Hepatitis B\": 78.0, \"Polio\": 96.0, \"Diphtheria\": 99.0, \"Schooling\": 10.9, \"Average Vaccination Rate\": 91.0}, {\"Country\": \"Viet Nam\", \"Year\": 2002, \"Hepatitis B\": null, \"Polio\": 92.0, \"Diphtheria\": 75.0, \"Schooling\": 10.7, \"Average Vaccination Rate\": null}, {\"Country\": \"Viet Nam\", \"Year\": 2001, \"Hepatitis B\": null, \"Polio\": 96.0, \"Diphtheria\": 96.0, \"Schooling\": 10.6, \"Average Vaccination Rate\": null}, {\"Country\": \"Viet Nam\", \"Year\": 2000, \"Hepatitis B\": null, \"Polio\": 96.0, \"Diphtheria\": 96.0, \"Schooling\": 10.4, \"Average Vaccination Rate\": null}]}}, {\"mode\": \"vega-lite\"});\n",
              "</script>"
            ],
            "text/plain": [
              "alt.Chart(...)"
            ]
          },
          "metadata": {},
          "execution_count": 6
        }
      ]
    },
    {
      "cell_type": "markdown",
      "source": [
        "**Hepatitis B**\n",
        "- Japan, North Korea and South Korea have no data values (the last two because of missing values in schooling)\n",
        "- Some values of Hepatitis B below/around 10, probably, the decimal was placed wrongly over there"
      ],
      "metadata": {
        "id": "N-SGSX8zNgmE"
      }
    },
    {
      "cell_type": "code",
      "source": [
        "alt.Chart(FactorHealth1).mark_point().encode(\n",
        "    x ='Schooling',\n",
        "    y ='Hepatitis B',\n",
        "    color= 'Country'\n",
        ")"
      ],
      "metadata": {
        "colab": {
          "base_uri": "https://localhost:8080/",
          "height": 369
        },
        "id": "hjxs_f10WQJt",
        "outputId": "bc2427ad-6154-47e6-890d-853dec7bc5bc"
      },
      "execution_count": 7,
      "outputs": [
        {
          "output_type": "execute_result",
          "data": {
            "text/html": [
              "\n",
              "<div id=\"altair-viz-68adb08deaa04c7c8807c20850c9166d\"></div>\n",
              "<script type=\"text/javascript\">\n",
              "  var VEGA_DEBUG = (typeof VEGA_DEBUG == \"undefined\") ? {} : VEGA_DEBUG;\n",
              "  (function(spec, embedOpt){\n",
              "    let outputDiv = document.currentScript.previousElementSibling;\n",
              "    if (outputDiv.id !== \"altair-viz-68adb08deaa04c7c8807c20850c9166d\") {\n",
              "      outputDiv = document.getElementById(\"altair-viz-68adb08deaa04c7c8807c20850c9166d\");\n",
              "    }\n",
              "    const paths = {\n",
              "      \"vega\": \"https://cdn.jsdelivr.net/npm//vega@5?noext\",\n",
              "      \"vega-lib\": \"https://cdn.jsdelivr.net/npm//vega-lib?noext\",\n",
              "      \"vega-lite\": \"https://cdn.jsdelivr.net/npm//vega-lite@4.17.0?noext\",\n",
              "      \"vega-embed\": \"https://cdn.jsdelivr.net/npm//vega-embed@6?noext\",\n",
              "    };\n",
              "\n",
              "    function maybeLoadScript(lib, version) {\n",
              "      var key = `${lib.replace(\"-\", \"\")}_version`;\n",
              "      return (VEGA_DEBUG[key] == version) ?\n",
              "        Promise.resolve(paths[lib]) :\n",
              "        new Promise(function(resolve, reject) {\n",
              "          var s = document.createElement('script');\n",
              "          document.getElementsByTagName(\"head\")[0].appendChild(s);\n",
              "          s.async = true;\n",
              "          s.onload = () => {\n",
              "            VEGA_DEBUG[key] = version;\n",
              "            return resolve(paths[lib]);\n",
              "          };\n",
              "          s.onerror = () => reject(`Error loading script: ${paths[lib]}`);\n",
              "          s.src = paths[lib];\n",
              "        });\n",
              "    }\n",
              "\n",
              "    function showError(err) {\n",
              "      outputDiv.innerHTML = `<div class=\"error\" style=\"color:red;\">${err}</div>`;\n",
              "      throw err;\n",
              "    }\n",
              "\n",
              "    function displayChart(vegaEmbed) {\n",
              "      vegaEmbed(outputDiv, spec, embedOpt)\n",
              "        .catch(err => showError(`Javascript Error: ${err.message}<br>This usually means there's a typo in your chart specification. See the javascript console for the full traceback.`));\n",
              "    }\n",
              "\n",
              "    if(typeof define === \"function\" && define.amd) {\n",
              "      requirejs.config({paths});\n",
              "      require([\"vega-embed\"], displayChart, err => showError(`Error loading script: ${err.message}`));\n",
              "    } else {\n",
              "      maybeLoadScript(\"vega\", \"5\")\n",
              "        .then(() => maybeLoadScript(\"vega-lite\", \"4.17.0\"))\n",
              "        .then(() => maybeLoadScript(\"vega-embed\", \"6\"))\n",
              "        .catch(showError)\n",
              "        .then(() => displayChart(vegaEmbed));\n",
              "    }\n",
              "  })({\"config\": {\"view\": {\"continuousWidth\": 400, \"continuousHeight\": 300}}, \"data\": {\"name\": \"data-5d7784e6133ec95ec4ff5e057c2af840\"}, \"mark\": \"point\", \"encoding\": {\"color\": {\"field\": \"Country\", \"type\": \"nominal\"}, \"x\": {\"field\": \"Schooling\", \"type\": \"quantitative\"}, \"y\": {\"field\": \"Hepatitis B\", \"type\": \"quantitative\"}}, \"$schema\": \"https://vega.github.io/schema/vega-lite/v4.17.0.json\", \"datasets\": {\"data-5d7784e6133ec95ec4ff5e057c2af840\": [{\"Country\": \"Bangladesh\", \"Year\": 2015, \"Hepatitis B\": 97.0, \"Polio\": 97.0, \"Diphtheria\": 97.0, \"Schooling\": 10.2, \"Average Vaccination Rate\": 97.0}, {\"Country\": \"Bangladesh\", \"Year\": 2014, \"Hepatitis B\": 97.0, \"Polio\": 97.0, \"Diphtheria\": 97.0, \"Schooling\": 10.0, \"Average Vaccination Rate\": 97.0}, {\"Country\": \"Bangladesh\", \"Year\": 2013, \"Hepatitis B\": 96.0, \"Polio\": 96.0, \"Diphtheria\": 96.0, \"Schooling\": 10.0, \"Average Vaccination Rate\": 96.0}, {\"Country\": \"Bangladesh\", \"Year\": 2012, \"Hepatitis B\": 94.0, \"Polio\": 94.0, \"Diphtheria\": 94.0, \"Schooling\": 9.9, \"Average Vaccination Rate\": 94.0}, {\"Country\": \"Bangladesh\", \"Year\": 2011, \"Hepatitis B\": 96.0, \"Polio\": 96.0, \"Diphtheria\": 96.0, \"Schooling\": 9.4, \"Average Vaccination Rate\": 96.0}, {\"Country\": \"Bangladesh\", \"Year\": 2010, \"Hepatitis B\": 94.0, \"Polio\": 94.0, \"Diphtheria\": 94.0, \"Schooling\": 8.9, \"Average Vaccination Rate\": 94.0}, {\"Country\": \"Bangladesh\", \"Year\": 2009, \"Hepatitis B\": 97.0, \"Polio\": 97.0, \"Diphtheria\": 97.0, \"Schooling\": 8.4, \"Average Vaccination Rate\": 97.0}, {\"Country\": \"Bangladesh\", \"Year\": 2008, \"Hepatitis B\": 96.0, \"Polio\": 96.0, \"Diphtheria\": 96.0, \"Schooling\": 8.6, \"Average Vaccination Rate\": 96.0}, {\"Country\": \"Bangladesh\", \"Year\": 2007, \"Hepatitis B\": 95.0, \"Polio\": 96.0, \"Diphtheria\": 94.0, \"Schooling\": 8.6, \"Average Vaccination Rate\": 95.0}, {\"Country\": \"Bangladesh\", \"Year\": 2006, \"Hepatitis B\": 86.0, \"Polio\": 95.0, \"Diphtheria\": 94.0, \"Schooling\": 8.4, \"Average Vaccination Rate\": 91.66666666666667}, {\"Country\": \"Bangladesh\", \"Year\": 2005, \"Hepatitis B\": 45.0, \"Polio\": 94.0, \"Diphtheria\": 93.0, \"Schooling\": 8.2, \"Average Vaccination Rate\": 77.33333333333333}, {\"Country\": \"Bangladesh\", \"Year\": 2004, \"Hepatitis B\": 11.0, \"Polio\": 88.0, \"Diphtheria\": 99.0, \"Schooling\": 8.1, \"Average Vaccination Rate\": 66.0}, {\"Country\": \"Bangladesh\", \"Year\": 2003, \"Hepatitis B\": 5.0, \"Polio\": 9.0, \"Diphtheria\": 87.0, \"Schooling\": 7.9, \"Average Vaccination Rate\": 33.666666666666664}, {\"Country\": \"Bangladesh\", \"Year\": 2002, \"Hepatitis B\": null, \"Polio\": 83.0, \"Diphtheria\": 83.0, \"Schooling\": 7.7, \"Average Vaccination Rate\": null}, {\"Country\": \"Bangladesh\", \"Year\": 2001, \"Hepatitis B\": null, \"Polio\": 85.0, \"Diphtheria\": 85.0, \"Schooling\": 7.5, \"Average Vaccination Rate\": null}, {\"Country\": \"Bangladesh\", \"Year\": 2000, \"Hepatitis B\": null, \"Polio\": 83.0, \"Diphtheria\": 82.0, \"Schooling\": 7.3, \"Average Vaccination Rate\": null}, {\"Country\": \"Brunei Darussalam\", \"Year\": 2015, \"Hepatitis B\": 99.0, \"Polio\": 99.0, \"Diphtheria\": 99.0, \"Schooling\": 14.9, \"Average Vaccination Rate\": 99.0}, {\"Country\": \"Brunei Darussalam\", \"Year\": 2014, \"Hepatitis B\": 99.0, \"Polio\": 99.0, \"Diphtheria\": 99.0, \"Schooling\": 15.0, \"Average Vaccination Rate\": 99.0}, {\"Country\": \"Brunei Darussalam\", \"Year\": 2013, \"Hepatitis B\": 98.0, \"Polio\": 99.0, \"Diphtheria\": 99.0, \"Schooling\": 14.9, \"Average Vaccination Rate\": 98.66666666666667}, {\"Country\": \"Brunei Darussalam\", \"Year\": 2012, \"Hepatitis B\": 99.0, \"Polio\": 99.0, \"Diphtheria\": 99.0, \"Schooling\": 14.4, \"Average Vaccination Rate\": 99.0}, {\"Country\": \"Brunei Darussalam\", \"Year\": 2011, \"Hepatitis B\": 93.0, \"Polio\": 99.0, \"Diphtheria\": 97.0, \"Schooling\": 14.1, \"Average Vaccination Rate\": 96.33333333333333}, {\"Country\": \"Brunei Darussalam\", \"Year\": 2010, \"Hepatitis B\": 96.0, \"Polio\": 99.0, \"Diphtheria\": 95.0, \"Schooling\": 14.2, \"Average Vaccination Rate\": 96.66666666666667}, {\"Country\": \"Brunei Darussalam\", \"Year\": 2009, \"Hepatitis B\": 96.0, \"Polio\": 99.0, \"Diphtheria\": 99.0, \"Schooling\": 14.1, \"Average Vaccination Rate\": 98.0}, {\"Country\": \"Brunei Darussalam\", \"Year\": 2008, \"Hepatitis B\": 96.0, \"Polio\": 97.0, \"Diphtheria\": 98.0, \"Schooling\": 14.2, \"Average Vaccination Rate\": 97.0}, {\"Country\": \"Brunei Darussalam\", \"Year\": 2007, \"Hepatitis B\": 97.0, \"Polio\": 95.0, \"Diphtheria\": 99.0, \"Schooling\": 14.3, \"Average Vaccination Rate\": 97.0}, {\"Country\": \"Brunei Darussalam\", \"Year\": 2006, \"Hepatitis B\": 99.0, \"Polio\": 94.0, \"Diphtheria\": 97.0, \"Schooling\": 14.3, \"Average Vaccination Rate\": 96.66666666666667}, {\"Country\": \"Brunei Darussalam\", \"Year\": 2005, \"Hepatitis B\": 99.0, \"Polio\": 93.0, \"Diphtheria\": 94.0, \"Schooling\": 14.1, \"Average Vaccination Rate\": 95.33333333333333}, {\"Country\": \"Brunei Darussalam\", \"Year\": 2004, \"Hepatitis B\": 99.0, \"Polio\": 92.0, \"Diphtheria\": 92.0, \"Schooling\": 13.7, \"Average Vaccination Rate\": 94.33333333333333}, {\"Country\": \"Brunei Darussalam\", \"Year\": 2003, \"Hepatitis B\": 99.0, \"Polio\": 99.0, \"Diphtheria\": 92.0, \"Schooling\": 13.4, \"Average Vaccination Rate\": 96.66666666666667}, {\"Country\": \"Brunei Darussalam\", \"Year\": 2002, \"Hepatitis B\": 99.0, \"Polio\": 99.0, \"Diphtheria\": 94.0, \"Schooling\": 13.3, \"Average Vaccination Rate\": 97.33333333333333}, {\"Country\": \"Brunei Darussalam\", \"Year\": 2001, \"Hepatitis B\": 99.0, \"Polio\": 99.0, \"Diphtheria\": 97.0, \"Schooling\": 13.4, \"Average Vaccination Rate\": 98.33333333333333}, {\"Country\": \"Brunei Darussalam\", \"Year\": 2000, \"Hepatitis B\": 99.0, \"Polio\": 99.0, \"Diphtheria\": 99.0, \"Schooling\": 13.4, \"Average Vaccination Rate\": 99.0}, {\"Country\": \"Cambodia\", \"Year\": 2015, \"Hepatitis B\": 89.0, \"Polio\": 87.0, \"Diphtheria\": 89.0, \"Schooling\": 10.9, \"Average Vaccination Rate\": 88.33333333333333}, {\"Country\": \"Cambodia\", \"Year\": 2014, \"Hepatitis B\": 88.0, \"Polio\": 87.0, \"Diphtheria\": 88.0, \"Schooling\": 10.9, \"Average Vaccination Rate\": 87.66666666666667}, {\"Country\": \"Cambodia\", \"Year\": 2013, \"Hepatitis B\": 83.0, \"Polio\": 66.0, \"Diphtheria\": 83.0, \"Schooling\": 10.8, \"Average Vaccination Rate\": 77.33333333333333}, {\"Country\": \"Cambodia\", \"Year\": 2012, \"Hepatitis B\": 86.0, \"Polio\": 84.0, \"Diphtheria\": 86.0, \"Schooling\": 10.7, \"Average Vaccination Rate\": 85.33333333333333}, {\"Country\": \"Cambodia\", \"Year\": 2011, \"Hepatitis B\": 88.0, \"Polio\": 87.0, \"Diphtheria\": 88.0, \"Schooling\": 10.7, \"Average Vaccination Rate\": 87.66666666666667}, {\"Country\": \"Cambodia\", \"Year\": 2010, \"Hepatitis B\": 89.0, \"Polio\": 88.0, \"Diphtheria\": 89.0, \"Schooling\": 10.6, \"Average Vaccination Rate\": 88.66666666666667}, {\"Country\": \"Cambodia\", \"Year\": 2009, \"Hepatitis B\": 92.0, \"Polio\": 95.0, \"Diphtheria\": 94.0, \"Schooling\": 10.5, \"Average Vaccination Rate\": 93.66666666666667}, {\"Country\": \"Cambodia\", \"Year\": 2008, \"Hepatitis B\": 91.0, \"Polio\": 91.0, \"Diphtheria\": 91.0, \"Schooling\": 10.5, \"Average Vaccination Rate\": 91.0}, {\"Country\": \"Cambodia\", \"Year\": 2007, \"Hepatitis B\": 82.0, \"Polio\": 82.0, \"Diphtheria\": 82.0, \"Schooling\": 10.3, \"Average Vaccination Rate\": 82.0}, {\"Country\": \"Cambodia\", \"Year\": 2006, \"Hepatitis B\": 8.0, \"Polio\": 8.0, \"Diphtheria\": 8.0, \"Schooling\": 10.1, \"Average Vaccination Rate\": 8.0}, {\"Country\": \"Cambodia\", \"Year\": 2005, \"Hepatitis B\": null, \"Polio\": 82.0, \"Diphtheria\": 82.0, \"Schooling\": 10.0, \"Average Vaccination Rate\": null}, {\"Country\": \"Cambodia\", \"Year\": 2004, \"Hepatitis B\": null, \"Polio\": 86.0, \"Diphtheria\": 85.0, \"Schooling\": 9.7, \"Average Vaccination Rate\": null}, {\"Country\": \"Cambodia\", \"Year\": 2003, \"Hepatitis B\": null, \"Polio\": 69.0, \"Diphtheria\": 69.0, \"Schooling\": 9.3, \"Average Vaccination Rate\": null}, {\"Country\": \"Cambodia\", \"Year\": 2002, \"Hepatitis B\": null, \"Polio\": 54.0, \"Diphtheria\": 54.0, \"Schooling\": 8.2, \"Average Vaccination Rate\": null}, {\"Country\": \"Cambodia\", \"Year\": 2001, \"Hepatitis B\": null, \"Polio\": 59.0, \"Diphtheria\": 6.0, \"Schooling\": 7.6, \"Average Vaccination Rate\": null}, {\"Country\": \"Cambodia\", \"Year\": 2000, \"Hepatitis B\": null, \"Polio\": 62.0, \"Diphtheria\": 59.0, \"Schooling\": 7.2, \"Average Vaccination Rate\": null}, {\"Country\": \"China\", \"Year\": 2015, \"Hepatitis B\": 99.0, \"Polio\": 99.0, \"Diphtheria\": 99.0, \"Schooling\": 13.5, \"Average Vaccination Rate\": 99.0}, {\"Country\": \"China\", \"Year\": 2014, \"Hepatitis B\": 99.0, \"Polio\": 99.0, \"Diphtheria\": 99.0, \"Schooling\": 13.1, \"Average Vaccination Rate\": 99.0}, {\"Country\": \"China\", \"Year\": 2013, \"Hepatitis B\": 99.0, \"Polio\": 99.0, \"Diphtheria\": 99.0, \"Schooling\": 12.7, \"Average Vaccination Rate\": 99.0}, {\"Country\": \"China\", \"Year\": 2012, \"Hepatitis B\": 99.0, \"Polio\": 99.0, \"Diphtheria\": 99.0, \"Schooling\": 12.4, \"Average Vaccination Rate\": 99.0}, {\"Country\": \"China\", \"Year\": 2011, \"Hepatitis B\": 99.0, \"Polio\": 99.0, \"Diphtheria\": 99.0, \"Schooling\": 12.8, \"Average Vaccination Rate\": 99.0}, {\"Country\": \"China\", \"Year\": 2010, \"Hepatitis B\": 99.0, \"Polio\": 99.0, \"Diphtheria\": 99.0, \"Schooling\": 12.5, \"Average Vaccination Rate\": 99.0}, {\"Country\": \"China\", \"Year\": 2009, \"Hepatitis B\": 99.0, \"Polio\": 99.0, \"Diphtheria\": 99.0, \"Schooling\": 12.2, \"Average Vaccination Rate\": 99.0}, {\"Country\": \"China\", \"Year\": 2008, \"Hepatitis B\": 95.0, \"Polio\": 99.0, \"Diphtheria\": 97.0, \"Schooling\": 11.9, \"Average Vaccination Rate\": 97.0}, {\"Country\": \"China\", \"Year\": 2007, \"Hepatitis B\": 92.0, \"Polio\": 94.0, \"Diphtheria\": 93.0, \"Schooling\": 11.4, \"Average Vaccination Rate\": 93.0}, {\"Country\": \"China\", \"Year\": 2006, \"Hepatitis B\": 91.0, \"Polio\": 94.0, \"Diphtheria\": 93.0, \"Schooling\": 11.0, \"Average Vaccination Rate\": 92.66666666666667}, {\"Country\": \"China\", \"Year\": 2005, \"Hepatitis B\": 84.0, \"Polio\": 87.0, \"Diphtheria\": 87.0, \"Schooling\": 10.6, \"Average Vaccination Rate\": 86.0}, {\"Country\": \"China\", \"Year\": 2004, \"Hepatitis B\": 79.0, \"Polio\": 87.0, \"Diphtheria\": 87.0, \"Schooling\": 10.2, \"Average Vaccination Rate\": 84.33333333333333}, {\"Country\": \"China\", \"Year\": 2003, \"Hepatitis B\": 75.0, \"Polio\": 87.0, \"Diphtheria\": 86.0, \"Schooling\": 9.9, \"Average Vaccination Rate\": 82.66666666666667}, {\"Country\": \"China\", \"Year\": 2002, \"Hepatitis B\": 7.0, \"Polio\": 86.0, \"Diphtheria\": 86.0, \"Schooling\": 9.7, \"Average Vaccination Rate\": 59.666666666666664}, {\"Country\": \"China\", \"Year\": 2001, \"Hepatitis B\": 65.0, \"Polio\": 86.0, \"Diphtheria\": 86.0, \"Schooling\": 9.6, \"Average Vaccination Rate\": 79.0}, {\"Country\": \"China\", \"Year\": 2000, \"Hepatitis B\": 6.0, \"Polio\": 86.0, \"Diphtheria\": 85.0, \"Schooling\": 9.5, \"Average Vaccination Rate\": 59.0}, {\"Country\": \"Democratic People's Republic of Korea\", \"Year\": 2015, \"Hepatitis B\": 96.0, \"Polio\": 99.0, \"Diphtheria\": 96.0, \"Schooling\": null, \"Average Vaccination Rate\": 97.0}, {\"Country\": \"Democratic People's Republic of Korea\", \"Year\": 2014, \"Hepatitis B\": 93.0, \"Polio\": 99.0, \"Diphtheria\": 93.0, \"Schooling\": null, \"Average Vaccination Rate\": 95.0}, {\"Country\": \"Democratic People's Republic of Korea\", \"Year\": 2013, \"Hepatitis B\": 93.0, \"Polio\": 99.0, \"Diphtheria\": 93.0, \"Schooling\": null, \"Average Vaccination Rate\": 95.0}, {\"Country\": \"Democratic People's Republic of Korea\", \"Year\": 2012, \"Hepatitis B\": 96.0, \"Polio\": 99.0, \"Diphtheria\": 96.0, \"Schooling\": null, \"Average Vaccination Rate\": 97.0}, {\"Country\": \"Democratic People's Republic of Korea\", \"Year\": 2011, \"Hepatitis B\": 94.0, \"Polio\": 99.0, \"Diphtheria\": 94.0, \"Schooling\": null, \"Average Vaccination Rate\": 95.66666666666667}, {\"Country\": \"Democratic People's Republic of Korea\", \"Year\": 2010, \"Hepatitis B\": 93.0, \"Polio\": 99.0, \"Diphtheria\": 93.0, \"Schooling\": null, \"Average Vaccination Rate\": 95.0}, {\"Country\": \"Democratic People's Republic of Korea\", \"Year\": 2009, \"Hepatitis B\": 93.0, \"Polio\": 98.0, \"Diphtheria\": 93.0, \"Schooling\": null, \"Average Vaccination Rate\": 94.66666666666667}, {\"Country\": \"Democratic People's Republic of Korea\", \"Year\": 2008, \"Hepatitis B\": 92.0, \"Polio\": 98.0, \"Diphtheria\": 92.0, \"Schooling\": null, \"Average Vaccination Rate\": 94.0}, {\"Country\": \"Democratic People's Republic of Korea\", \"Year\": 2007, \"Hepatitis B\": 92.0, \"Polio\": 99.0, \"Diphtheria\": 92.0, \"Schooling\": null, \"Average Vaccination Rate\": 94.33333333333333}, {\"Country\": \"Democratic People's Republic of Korea\", \"Year\": 2006, \"Hepatitis B\": 96.0, \"Polio\": 98.0, \"Diphtheria\": 89.0, \"Schooling\": null, \"Average Vaccination Rate\": 94.33333333333333}, {\"Country\": \"Democratic People's Republic of Korea\", \"Year\": 2005, \"Hepatitis B\": 92.0, \"Polio\": 97.0, \"Diphtheria\": 79.0, \"Schooling\": null, \"Average Vaccination Rate\": 89.33333333333333}, {\"Country\": \"Democratic People's Republic of Korea\", \"Year\": 2004, \"Hepatitis B\": 98.0, \"Polio\": 99.0, \"Diphtheria\": 72.0, \"Schooling\": null, \"Average Vaccination Rate\": 89.66666666666667}, {\"Country\": \"Democratic People's Republic of Korea\", \"Year\": 2003, \"Hepatitis B\": 27.0, \"Polio\": 99.0, \"Diphtheria\": 68.0, \"Schooling\": null, \"Average Vaccination Rate\": 64.66666666666667}, {\"Country\": \"Democratic People's Republic of Korea\", \"Year\": 2002, \"Hepatitis B\": null, \"Polio\": 99.0, \"Diphtheria\": 64.0, \"Schooling\": null, \"Average Vaccination Rate\": null}, {\"Country\": \"Democratic People's Republic of Korea\", \"Year\": 2001, \"Hepatitis B\": null, \"Polio\": 98.0, \"Diphtheria\": 62.0, \"Schooling\": null, \"Average Vaccination Rate\": null}, {\"Country\": \"Democratic People's Republic of Korea\", \"Year\": 2000, \"Hepatitis B\": null, \"Polio\": 93.0, \"Diphtheria\": 56.0, \"Schooling\": null, \"Average Vaccination Rate\": null}, {\"Country\": \"India\", \"Year\": 2015, \"Hepatitis B\": 87.0, \"Polio\": 86.0, \"Diphtheria\": 87.0, \"Schooling\": 11.6, \"Average Vaccination Rate\": 86.66666666666667}, {\"Country\": \"India\", \"Year\": 2014, \"Hepatitis B\": 79.0, \"Polio\": 84.0, \"Diphtheria\": 85.0, \"Schooling\": 11.6, \"Average Vaccination Rate\": 82.66666666666667}, {\"Country\": \"India\", \"Year\": 2013, \"Hepatitis B\": 7.0, \"Polio\": 82.0, \"Diphtheria\": 83.0, \"Schooling\": 11.5, \"Average Vaccination Rate\": 57.333333333333336}, {\"Country\": \"India\", \"Year\": 2012, \"Hepatitis B\": 73.0, \"Polio\": 79.0, \"Diphtheria\": 82.0, \"Schooling\": 11.3, \"Average Vaccination Rate\": 78.0}, {\"Country\": \"India\", \"Year\": 2011, \"Hepatitis B\": 44.0, \"Polio\": 79.0, \"Diphtheria\": 82.0, \"Schooling\": 10.8, \"Average Vaccination Rate\": 68.33333333333333}, {\"Country\": \"India\", \"Year\": 2010, \"Hepatitis B\": 38.0, \"Polio\": 76.0, \"Diphtheria\": 79.0, \"Schooling\": 10.4, \"Average Vaccination Rate\": 64.33333333333333}, {\"Country\": \"India\", \"Year\": 2009, \"Hepatitis B\": 37.0, \"Polio\": 73.0, \"Diphtheria\": 74.0, \"Schooling\": 10.5, \"Average Vaccination Rate\": 61.333333333333336}, {\"Country\": \"India\", \"Year\": 2008, \"Hepatitis B\": 29.0, \"Polio\": 69.0, \"Diphtheria\": 7.0, \"Schooling\": 10.2, \"Average Vaccination Rate\": 35.0}, {\"Country\": \"India\", \"Year\": 2007, \"Hepatitis B\": 6.0, \"Polio\": 67.0, \"Diphtheria\": 64.0, \"Schooling\": 9.9, \"Average Vaccination Rate\": 45.666666666666664}, {\"Country\": \"India\", \"Year\": 2006, \"Hepatitis B\": 6.0, \"Polio\": 66.0, \"Diphtheria\": 65.0, \"Schooling\": 9.7, \"Average Vaccination Rate\": 45.666666666666664}, {\"Country\": \"India\", \"Year\": 2005, \"Hepatitis B\": 8.0, \"Polio\": 65.0, \"Diphtheria\": 65.0, \"Schooling\": 9.4, \"Average Vaccination Rate\": 46.0}, {\"Country\": \"India\", \"Year\": 2004, \"Hepatitis B\": 6.0, \"Polio\": 58.0, \"Diphtheria\": 63.0, \"Schooling\": 9.2, \"Average Vaccination Rate\": 42.333333333333336}, {\"Country\": \"India\", \"Year\": 2003, \"Hepatitis B\": null, \"Polio\": 57.0, \"Diphtheria\": 61.0, \"Schooling\": 8.6, \"Average Vaccination Rate\": null}, {\"Country\": \"India\", \"Year\": 2002, \"Hepatitis B\": null, \"Polio\": 58.0, \"Diphtheria\": 59.0, \"Schooling\": 8.4, \"Average Vaccination Rate\": null}, {\"Country\": \"India\", \"Year\": 2001, \"Hepatitis B\": null, \"Polio\": 58.0, \"Diphtheria\": 59.0, \"Schooling\": 8.3, \"Average Vaccination Rate\": null}, {\"Country\": \"India\", \"Year\": 2000, \"Hepatitis B\": null, \"Polio\": 57.0, \"Diphtheria\": 58.0, \"Schooling\": 8.3, \"Average Vaccination Rate\": null}, {\"Country\": \"Indonesia\", \"Year\": 2015, \"Hepatitis B\": 78.0, \"Polio\": 8.0, \"Diphtheria\": 78.0, \"Schooling\": 12.9, \"Average Vaccination Rate\": 54.666666666666664}, {\"Country\": \"Indonesia\", \"Year\": 2014, \"Hepatitis B\": 78.0, \"Polio\": 8.0, \"Diphtheria\": 78.0, \"Schooling\": 12.9, \"Average Vaccination Rate\": 54.666666666666664}, {\"Country\": \"Indonesia\", \"Year\": 2013, \"Hepatitis B\": 85.0, \"Polio\": 86.0, \"Diphtheria\": 85.0, \"Schooling\": 12.9, \"Average Vaccination Rate\": 85.33333333333333}, {\"Country\": \"Indonesia\", \"Year\": 2012, \"Hepatitis B\": 83.0, \"Polio\": 84.0, \"Diphtheria\": 83.0, \"Schooling\": 12.6, \"Average Vaccination Rate\": 83.33333333333333}, {\"Country\": \"Indonesia\", \"Year\": 2011, \"Hepatitis B\": 81.0, \"Polio\": 81.0, \"Diphtheria\": 81.0, \"Schooling\": 12.3, \"Average Vaccination Rate\": 81.0}, {\"Country\": \"Indonesia\", \"Year\": 2010, \"Hepatitis B\": 83.0, \"Polio\": 82.0, \"Diphtheria\": 81.0, \"Schooling\": 12.1, \"Average Vaccination Rate\": 82.0}, {\"Country\": \"Indonesia\", \"Year\": 2009, \"Hepatitis B\": 82.0, \"Polio\": 85.0, \"Diphtheria\": 78.0, \"Schooling\": 11.7, \"Average Vaccination Rate\": 81.66666666666667}, {\"Country\": \"Indonesia\", \"Year\": 2008, \"Hepatitis B\": 82.0, \"Polio\": 83.0, \"Diphtheria\": 77.0, \"Schooling\": 11.7, \"Average Vaccination Rate\": 80.66666666666667}, {\"Country\": \"Indonesia\", \"Year\": 2007, \"Hepatitis B\": 76.0, \"Polio\": 77.0, \"Diphtheria\": 73.0, \"Schooling\": 11.0, \"Average Vaccination Rate\": 75.33333333333333}, {\"Country\": \"Indonesia\", \"Year\": 2006, \"Hepatitis B\": 66.0, \"Polio\": 78.0, \"Diphtheria\": 72.0, \"Schooling\": 10.9, \"Average Vaccination Rate\": 72.0}, {\"Country\": \"Indonesia\", \"Year\": 2005, \"Hepatitis B\": 65.0, \"Polio\": 79.0, \"Diphtheria\": 72.0, \"Schooling\": 11.1, \"Average Vaccination Rate\": 72.0}, {\"Country\": \"Indonesia\", \"Year\": 2004, \"Hepatitis B\": 64.0, \"Polio\": 79.0, \"Diphtheria\": 71.0, \"Schooling\": 11.0, \"Average Vaccination Rate\": 71.33333333333333}, {\"Country\": \"Indonesia\", \"Year\": 2003, \"Hepatitis B\": 64.0, \"Polio\": 8.0, \"Diphtheria\": 71.0, \"Schooling\": 10.8, \"Average Vaccination Rate\": 47.666666666666664}, {\"Country\": \"Indonesia\", \"Year\": 2002, \"Hepatitis B\": 63.0, \"Polio\": 8.0, \"Diphtheria\": 7.0, \"Schooling\": 10.6, \"Average Vaccination Rate\": 26.0}, {\"Country\": \"Indonesia\", \"Year\": 2001, \"Hepatitis B\": 62.0, \"Polio\": 77.0, \"Diphtheria\": 76.0, \"Schooling\": 10.6, \"Average Vaccination Rate\": 71.66666666666667}, {\"Country\": \"Indonesia\", \"Year\": 2000, \"Hepatitis B\": 65.0, \"Polio\": 72.0, \"Diphtheria\": 75.0, \"Schooling\": 10.7, \"Average Vaccination Rate\": 70.66666666666667}, {\"Country\": \"Japan\", \"Year\": 2015, \"Hepatitis B\": null, \"Polio\": 99.0, \"Diphtheria\": 96.0, \"Schooling\": 15.3, \"Average Vaccination Rate\": null}, {\"Country\": \"Japan\", \"Year\": 2014, \"Hepatitis B\": null, \"Polio\": 99.0, \"Diphtheria\": 96.0, \"Schooling\": 15.3, \"Average Vaccination Rate\": null}, {\"Country\": \"Japan\", \"Year\": 2013, \"Hepatitis B\": null, \"Polio\": 99.0, \"Diphtheria\": 96.0, \"Schooling\": 15.3, \"Average Vaccination Rate\": null}, {\"Country\": \"Japan\", \"Year\": 2012, \"Hepatitis B\": null, \"Polio\": 99.0, \"Diphtheria\": 97.0, \"Schooling\": 15.3, \"Average Vaccination Rate\": null}, {\"Country\": \"Japan\", \"Year\": 2011, \"Hepatitis B\": null, \"Polio\": 96.0, \"Diphtheria\": 97.0, \"Schooling\": 15.1, \"Average Vaccination Rate\": null}, {\"Country\": \"Japan\", \"Year\": 2010, \"Hepatitis B\": null, \"Polio\": 98.0, \"Diphtheria\": 97.0, \"Schooling\": 15.1, \"Average Vaccination Rate\": null}, {\"Country\": \"Japan\", \"Year\": 2009, \"Hepatitis B\": null, \"Polio\": 99.0, \"Diphtheria\": 97.0, \"Schooling\": 15.0, \"Average Vaccination Rate\": null}, {\"Country\": \"Japan\", \"Year\": 2008, \"Hepatitis B\": null, \"Polio\": 98.0, \"Diphtheria\": 98.0, \"Schooling\": 15.0, \"Average Vaccination Rate\": null}, {\"Country\": \"Japan\", \"Year\": 2007, \"Hepatitis B\": null, \"Polio\": 97.0, \"Diphtheria\": 98.0, \"Schooling\": 15.0, \"Average Vaccination Rate\": null}, {\"Country\": \"Japan\", \"Year\": 2006, \"Hepatitis B\": null, \"Polio\": 95.0, \"Diphtheria\": 98.0, \"Schooling\": 14.9, \"Average Vaccination Rate\": null}, {\"Country\": \"Japan\", \"Year\": 2005, \"Hepatitis B\": null, \"Polio\": 95.0, \"Diphtheria\": 98.0, \"Schooling\": 14.9, \"Average Vaccination Rate\": null}, {\"Country\": \"Japan\", \"Year\": 2004, \"Hepatitis B\": null, \"Polio\": 97.0, \"Diphtheria\": 99.0, \"Schooling\": 14.8, \"Average Vaccination Rate\": null}, {\"Country\": \"Japan\", \"Year\": 2003, \"Hepatitis B\": null, \"Polio\": 97.0, \"Diphtheria\": 97.0, \"Schooling\": 14.8, \"Average Vaccination Rate\": null}, {\"Country\": \"Japan\", \"Year\": 2002, \"Hepatitis B\": null, \"Polio\": 89.0, \"Diphtheria\": 96.0, \"Schooling\": 14.7, \"Average Vaccination Rate\": null}, {\"Country\": \"Japan\", \"Year\": 2001, \"Hepatitis B\": null, \"Polio\": 81.0, \"Diphtheria\": 95.0, \"Schooling\": 14.6, \"Average Vaccination Rate\": null}, {\"Country\": \"Japan\", \"Year\": 2000, \"Hepatitis B\": null, \"Polio\": 98.0, \"Diphtheria\": 85.0, \"Schooling\": 14.5, \"Average Vaccination Rate\": null}, {\"Country\": \"Lao People's Democratic Republic\", \"Year\": 2015, \"Hepatitis B\": 89.0, \"Polio\": 89.0, \"Diphtheria\": 89.0, \"Schooling\": 10.8, \"Average Vaccination Rate\": 89.0}, {\"Country\": \"Lao People's Democratic Republic\", \"Year\": 2014, \"Hepatitis B\": 88.0, \"Polio\": 88.0, \"Diphtheria\": 88.0, \"Schooling\": 10.6, \"Average Vaccination Rate\": 88.0}, {\"Country\": \"Lao People's Democratic Republic\", \"Year\": 2013, \"Hepatitis B\": 87.0, \"Polio\": 86.0, \"Diphtheria\": 87.0, \"Schooling\": 10.4, \"Average Vaccination Rate\": 86.66666666666667}, {\"Country\": \"Lao People's Democratic Republic\", \"Year\": 2012, \"Hepatitis B\": 79.0, \"Polio\": 78.0, \"Diphtheria\": 79.0, \"Schooling\": 10.2, \"Average Vaccination Rate\": 78.66666666666667}, {\"Country\": \"Lao People's Democratic Republic\", \"Year\": 2011, \"Hepatitis B\": 78.0, \"Polio\": 79.0, \"Diphtheria\": 78.0, \"Schooling\": 9.9, \"Average Vaccination Rate\": 78.33333333333333}, {\"Country\": \"Lao People's Democratic Republic\", \"Year\": 2010, \"Hepatitis B\": 74.0, \"Polio\": 76.0, \"Diphtheria\": 74.0, \"Schooling\": 9.6, \"Average Vaccination Rate\": 74.66666666666667}, {\"Country\": \"Lao People's Democratic Republic\", \"Year\": 2009, \"Hepatitis B\": 67.0, \"Polio\": 67.0, \"Diphtheria\": 67.0, \"Schooling\": 9.4, \"Average Vaccination Rate\": 67.0}, {\"Country\": \"Lao People's Democratic Republic\", \"Year\": 2008, \"Hepatitis B\": 61.0, \"Polio\": 6.0, \"Diphtheria\": 61.0, \"Schooling\": 9.2, \"Average Vaccination Rate\": 42.666666666666664}, {\"Country\": \"Lao People's Democratic Republic\", \"Year\": 2007, \"Hepatitis B\": 5.0, \"Polio\": 46.0, \"Diphtheria\": 5.0, \"Schooling\": 9.0, \"Average Vaccination Rate\": 18.666666666666668}, {\"Country\": \"Lao People's Democratic Republic\", \"Year\": 2006, \"Hepatitis B\": 57.0, \"Polio\": 56.0, \"Diphtheria\": 57.0, \"Schooling\": 9.0, \"Average Vaccination Rate\": 56.666666666666664}, {\"Country\": \"Lao People's Democratic Republic\", \"Year\": 2005, \"Hepatitis B\": 49.0, \"Polio\": 5.0, \"Diphtheria\": 49.0, \"Schooling\": 8.7, \"Average Vaccination Rate\": 34.333333333333336}, {\"Country\": \"Lao People's Democratic Republic\", \"Year\": 2004, \"Hepatitis B\": 45.0, \"Polio\": 46.0, \"Diphtheria\": 45.0, \"Schooling\": 8.6, \"Average Vaccination Rate\": 45.333333333333336}, {\"Country\": \"Lao People's Democratic Republic\", \"Year\": 2003, \"Hepatitis B\": 5.0, \"Polio\": 52.0, \"Diphtheria\": 49.0, \"Schooling\": 8.3, \"Average Vaccination Rate\": 35.333333333333336}, {\"Country\": \"Lao People's Democratic Republic\", \"Year\": 2002, \"Hepatitis B\": null, \"Polio\": 55.0, \"Diphtheria\": 53.0, \"Schooling\": 8.0, \"Average Vaccination Rate\": null}, {\"Country\": \"Lao People's Democratic Republic\", \"Year\": 2001, \"Hepatitis B\": null, \"Polio\": 55.0, \"Diphtheria\": 52.0, \"Schooling\": 8.0, \"Average Vaccination Rate\": null}, {\"Country\": \"Lao People's Democratic Republic\", \"Year\": 2000, \"Hepatitis B\": null, \"Polio\": 57.0, \"Diphtheria\": 51.0, \"Schooling\": 8.0, \"Average Vaccination Rate\": null}, {\"Country\": \"Malaysia\", \"Year\": 2015, \"Hepatitis B\": 99.0, \"Polio\": 99.0, \"Diphtheria\": 99.0, \"Schooling\": 13.1, \"Average Vaccination Rate\": 99.0}, {\"Country\": \"Malaysia\", \"Year\": 2014, \"Hepatitis B\": 96.0, \"Polio\": 97.0, \"Diphtheria\": 97.0, \"Schooling\": 13.0, \"Average Vaccination Rate\": 96.66666666666667}, {\"Country\": \"Malaysia\", \"Year\": 2013, \"Hepatitis B\": 96.0, \"Polio\": 97.0, \"Diphtheria\": 97.0, \"Schooling\": 12.9, \"Average Vaccination Rate\": 96.66666666666667}, {\"Country\": \"Malaysia\", \"Year\": 2012, \"Hepatitis B\": 97.0, \"Polio\": 97.0, \"Diphtheria\": 97.0, \"Schooling\": 12.9, \"Average Vaccination Rate\": 97.0}, {\"Country\": \"Malaysia\", \"Year\": 2011, \"Hepatitis B\": 96.0, \"Polio\": 96.0, \"Diphtheria\": 96.0, \"Schooling\": 13.0, \"Average Vaccination Rate\": 96.0}, {\"Country\": \"Malaysia\", \"Year\": 2010, \"Hepatitis B\": 96.0, \"Polio\": 96.0, \"Diphtheria\": 96.0, \"Schooling\": 12.8, \"Average Vaccination Rate\": 96.0}, {\"Country\": \"Malaysia\", \"Year\": 2009, \"Hepatitis B\": 96.0, \"Polio\": 97.0, \"Diphtheria\": 97.0, \"Schooling\": 12.6, \"Average Vaccination Rate\": 96.66666666666667}, {\"Country\": \"Malaysia\", \"Year\": 2008, \"Hepatitis B\": 97.0, \"Polio\": 97.0, \"Diphtheria\": 97.0, \"Schooling\": 12.5, \"Average Vaccination Rate\": 97.0}, {\"Country\": \"Malaysia\", \"Year\": 2007, \"Hepatitis B\": 96.0, \"Polio\": 97.0, \"Diphtheria\": 97.0, \"Schooling\": 12.3, \"Average Vaccination Rate\": 96.66666666666667}, {\"Country\": \"Malaysia\", \"Year\": 2006, \"Hepatitis B\": 95.0, \"Polio\": 95.0, \"Diphtheria\": 95.0, \"Schooling\": 12.7, \"Average Vaccination Rate\": 95.0}, {\"Country\": \"Malaysia\", \"Year\": 2005, \"Hepatitis B\": 96.0, \"Polio\": 96.0, \"Diphtheria\": 96.0, \"Schooling\": 12.9, \"Average Vaccination Rate\": 96.0}, {\"Country\": \"Malaysia\", \"Year\": 2004, \"Hepatitis B\": 94.0, \"Polio\": 95.0, \"Diphtheria\": 95.0, \"Schooling\": 12.7, \"Average Vaccination Rate\": 94.66666666666667}, {\"Country\": \"Malaysia\", \"Year\": 2003, \"Hepatitis B\": 95.0, \"Polio\": 96.0, \"Diphtheria\": 96.0, \"Schooling\": 12.1, \"Average Vaccination Rate\": 95.66666666666667}, {\"Country\": \"Malaysia\", \"Year\": 2002, \"Hepatitis B\": 95.0, \"Polio\": 94.0, \"Diphtheria\": 94.0, \"Schooling\": 12.0, \"Average Vaccination Rate\": 94.33333333333333}, {\"Country\": \"Malaysia\", \"Year\": 2001, \"Hepatitis B\": 95.0, \"Polio\": 95.0, \"Diphtheria\": 96.0, \"Schooling\": 11.9, \"Average Vaccination Rate\": 95.33333333333333}, {\"Country\": \"Malaysia\", \"Year\": 2000, \"Hepatitis B\": 97.0, \"Polio\": 98.0, \"Diphtheria\": 98.0, \"Schooling\": 11.6, \"Average Vaccination Rate\": 97.66666666666667}, {\"Country\": \"Mongolia\", \"Year\": 2015, \"Hepatitis B\": 99.0, \"Polio\": 99.0, \"Diphtheria\": 99.0, \"Schooling\": 14.8, \"Average Vaccination Rate\": 99.0}, {\"Country\": \"Mongolia\", \"Year\": 2014, \"Hepatitis B\": 99.0, \"Polio\": 99.0, \"Diphtheria\": 99.0, \"Schooling\": 14.8, \"Average Vaccination Rate\": 99.0}, {\"Country\": \"Mongolia\", \"Year\": 2013, \"Hepatitis B\": 98.0, \"Polio\": 98.0, \"Diphtheria\": 98.0, \"Schooling\": 14.7, \"Average Vaccination Rate\": 98.0}, {\"Country\": \"Mongolia\", \"Year\": 2012, \"Hepatitis B\": 99.0, \"Polio\": 99.0, \"Diphtheria\": 99.0, \"Schooling\": 14.7, \"Average Vaccination Rate\": 99.0}, {\"Country\": \"Mongolia\", \"Year\": 2011, \"Hepatitis B\": 99.0, \"Polio\": 99.0, \"Diphtheria\": 99.0, \"Schooling\": 14.6, \"Average Vaccination Rate\": 99.0}, {\"Country\": \"Mongolia\", \"Year\": 2010, \"Hepatitis B\": 96.0, \"Polio\": 96.0, \"Diphtheria\": 96.0, \"Schooling\": 14.3, \"Average Vaccination Rate\": 96.0}, {\"Country\": \"Mongolia\", \"Year\": 2009, \"Hepatitis B\": 97.0, \"Polio\": 96.0, \"Diphtheria\": 95.0, \"Schooling\": 13.8, \"Average Vaccination Rate\": 96.0}, {\"Country\": \"Mongolia\", \"Year\": 2008, \"Hepatitis B\": 96.0, \"Polio\": 95.0, \"Diphtheria\": 96.0, \"Schooling\": 13.4, \"Average Vaccination Rate\": 95.66666666666667}, {\"Country\": \"Mongolia\", \"Year\": 2007, \"Hepatitis B\": 98.0, \"Polio\": 99.0, \"Diphtheria\": 95.0, \"Schooling\": 13.0, \"Average Vaccination Rate\": 97.33333333333333}, {\"Country\": \"Mongolia\", \"Year\": 2006, \"Hepatitis B\": 98.0, \"Polio\": 98.0, \"Diphtheria\": 99.0, \"Schooling\": 12.7, \"Average Vaccination Rate\": 98.33333333333333}, {\"Country\": \"Mongolia\", \"Year\": 2005, \"Hepatitis B\": 98.0, \"Polio\": 99.0, \"Diphtheria\": 99.0, \"Schooling\": 11.8, \"Average Vaccination Rate\": 98.66666666666667}, {\"Country\": \"Mongolia\", \"Year\": 2004, \"Hepatitis B\": 98.0, \"Polio\": 99.0, \"Diphtheria\": 99.0, \"Schooling\": 11.2, \"Average Vaccination Rate\": 98.66666666666667}, {\"Country\": \"Mongolia\", \"Year\": 2003, \"Hepatitis B\": 98.0, \"Polio\": 98.0, \"Diphtheria\": 98.0, \"Schooling\": 10.5, \"Average Vaccination Rate\": 98.0}, {\"Country\": \"Mongolia\", \"Year\": 2002, \"Hepatitis B\": 98.0, \"Polio\": 98.0, \"Diphtheria\": 98.0, \"Schooling\": 10.1, \"Average Vaccination Rate\": 98.0}, {\"Country\": \"Mongolia\", \"Year\": 2001, \"Hepatitis B\": 95.0, \"Polio\": 95.0, \"Diphtheria\": 95.0, \"Schooling\": 9.4, \"Average Vaccination Rate\": 95.0}, {\"Country\": \"Mongolia\", \"Year\": 2000, \"Hepatitis B\": 93.0, \"Polio\": 94.0, \"Diphtheria\": 94.0, \"Schooling\": 8.9, \"Average Vaccination Rate\": 93.66666666666667}, {\"Country\": \"Myanmar\", \"Year\": 2015, \"Hepatitis B\": 89.0, \"Polio\": 89.0, \"Diphtheria\": 89.0, \"Schooling\": 9.1, \"Average Vaccination Rate\": 89.0}, {\"Country\": \"Myanmar\", \"Year\": 2014, \"Hepatitis B\": 88.0, \"Polio\": 88.0, \"Diphtheria\": 88.0, \"Schooling\": 9.1, \"Average Vaccination Rate\": 88.0}, {\"Country\": \"Myanmar\", \"Year\": 2013, \"Hepatitis B\": 75.0, \"Polio\": 76.0, \"Diphtheria\": 75.0, \"Schooling\": 9.1, \"Average Vaccination Rate\": 75.33333333333333}, {\"Country\": \"Myanmar\", \"Year\": 2012, \"Hepatitis B\": 58.0, \"Polio\": 87.0, \"Diphtheria\": 84.0, \"Schooling\": 9.1, \"Average Vaccination Rate\": 76.33333333333333}, {\"Country\": \"Myanmar\", \"Year\": 2011, \"Hepatitis B\": 4.0, \"Polio\": 9.0, \"Diphtheria\": 84.0, \"Schooling\": 9.1, \"Average Vaccination Rate\": 32.333333333333336}, {\"Country\": \"Myanmar\", \"Year\": 2010, \"Hepatitis B\": 92.0, \"Polio\": 9.0, \"Diphtheria\": 9.0, \"Schooling\": 8.8, \"Average Vaccination Rate\": 36.666666666666664}, {\"Country\": \"Myanmar\", \"Year\": 2009, \"Hepatitis B\": 91.0, \"Polio\": 9.0, \"Diphtheria\": 9.0, \"Schooling\": 8.5, \"Average Vaccination Rate\": 36.333333333333336}, {\"Country\": \"Myanmar\", \"Year\": 2008, \"Hepatitis B\": 85.0, \"Polio\": 85.0, \"Diphtheria\": 85.0, \"Schooling\": 8.2, \"Average Vaccination Rate\": 85.0}, {\"Country\": \"Myanmar\", \"Year\": 2007, \"Hepatitis B\": 85.0, \"Polio\": 84.0, \"Diphtheria\": 86.0, \"Schooling\": 8.1, \"Average Vaccination Rate\": 85.0}, {\"Country\": \"Myanmar\", \"Year\": 2006, \"Hepatitis B\": 75.0, \"Polio\": 82.0, \"Diphtheria\": 82.0, \"Schooling\": 8.0, \"Average Vaccination Rate\": 79.66666666666667}, {\"Country\": \"Myanmar\", \"Year\": 2005, \"Hepatitis B\": 62.0, \"Polio\": 86.0, \"Diphtheria\": 73.0, \"Schooling\": 7.9, \"Average Vaccination Rate\": 73.66666666666667}, {\"Country\": \"Myanmar\", \"Year\": 2004, \"Hepatitis B\": 39.0, \"Polio\": 92.0, \"Diphtheria\": 82.0, \"Schooling\": 7.8, \"Average Vaccination Rate\": 71.0}, {\"Country\": \"Myanmar\", \"Year\": 2003, \"Hepatitis B\": 8.0, \"Polio\": 86.0, \"Diphtheria\": 78.0, \"Schooling\": 7.7, \"Average Vaccination Rate\": 57.333333333333336}, {\"Country\": \"Myanmar\", \"Year\": 2002, \"Hepatitis B\": null, \"Polio\": 84.0, \"Diphtheria\": 79.0, \"Schooling\": 7.6, \"Average Vaccination Rate\": null}, {\"Country\": \"Myanmar\", \"Year\": 2001, \"Hepatitis B\": null, \"Polio\": 77.0, \"Diphtheria\": 73.0, \"Schooling\": 7.6, \"Average Vaccination Rate\": null}, {\"Country\": \"Myanmar\", \"Year\": 2000, \"Hepatitis B\": null, \"Polio\": 88.0, \"Diphtheria\": 82.0, \"Schooling\": 7.5, \"Average Vaccination Rate\": null}, {\"Country\": \"Pakistan\", \"Year\": 2015, \"Hepatitis B\": 72.0, \"Polio\": 72.0, \"Diphtheria\": 72.0, \"Schooling\": 8.1, \"Average Vaccination Rate\": 72.0}, {\"Country\": \"Pakistan\", \"Year\": 2014, \"Hepatitis B\": 72.0, \"Polio\": 72.0, \"Diphtheria\": 72.0, \"Schooling\": 7.8, \"Average Vaccination Rate\": 72.0}, {\"Country\": \"Pakistan\", \"Year\": 2013, \"Hepatitis B\": 72.0, \"Polio\": 72.0, \"Diphtheria\": 72.0, \"Schooling\": 7.7, \"Average Vaccination Rate\": 72.0}, {\"Country\": \"Pakistan\", \"Year\": 2012, \"Hepatitis B\": 72.0, \"Polio\": 72.0, \"Diphtheria\": 72.0, \"Schooling\": 7.6, \"Average Vaccination Rate\": 72.0}, {\"Country\": \"Pakistan\", \"Year\": 2011, \"Hepatitis B\": 74.0, \"Polio\": 75.0, \"Diphtheria\": 74.0, \"Schooling\": 7.5, \"Average Vaccination Rate\": 74.33333333333333}, {\"Country\": \"Pakistan\", \"Year\": 2010, \"Hepatitis B\": 82.0, \"Polio\": 82.0, \"Diphtheria\": 82.0, \"Schooling\": 7.5, \"Average Vaccination Rate\": 82.0}, {\"Country\": \"Pakistan\", \"Year\": 2009, \"Hepatitis B\": 78.0, \"Polio\": 7.0, \"Diphtheria\": 71.0, \"Schooling\": 7.3, \"Average Vaccination Rate\": 52.0}, {\"Country\": \"Pakistan\", \"Year\": 2008, \"Hepatitis B\": 65.0, \"Polio\": 7.0, \"Diphtheria\": 62.0, \"Schooling\": 7.3, \"Average Vaccination Rate\": 44.666666666666664}, {\"Country\": \"Pakistan\", \"Year\": 2007, \"Hepatitis B\": 75.0, \"Polio\": 75.0, \"Diphtheria\": 75.0, \"Schooling\": 6.7, \"Average Vaccination Rate\": 75.0}, {\"Country\": \"Pakistan\", \"Year\": 2006, \"Hepatitis B\": 78.0, \"Polio\": 77.0, \"Diphtheria\": 78.0, \"Schooling\": 6.5, \"Average Vaccination Rate\": 77.66666666666667}, {\"Country\": \"Pakistan\", \"Year\": 2005, \"Hepatitis B\": 7.0, \"Polio\": 78.0, \"Diphtheria\": 77.0, \"Schooling\": 6.1, \"Average Vaccination Rate\": 54.0}, {\"Country\": \"Pakistan\", \"Year\": 2004, \"Hepatitis B\": 65.0, \"Polio\": 65.0, \"Diphtheria\": 65.0, \"Schooling\": 5.6, \"Average Vaccination Rate\": 65.0}, {\"Country\": \"Pakistan\", \"Year\": 2003, \"Hepatitis B\": 63.0, \"Polio\": 69.0, \"Diphtheria\": 67.0, \"Schooling\": 5.6, \"Average Vaccination Rate\": 66.33333333333333}, {\"Country\": \"Pakistan\", \"Year\": 2002, \"Hepatitis B\": null, \"Polio\": 71.0, \"Diphtheria\": 68.0, \"Schooling\": 5.5, \"Average Vaccination Rate\": null}, {\"Country\": \"Pakistan\", \"Year\": 2001, \"Hepatitis B\": null, \"Polio\": 68.0, \"Diphtheria\": 65.0, \"Schooling\": 5.4, \"Average Vaccination Rate\": null}, {\"Country\": \"Pakistan\", \"Year\": 2000, \"Hepatitis B\": null, \"Polio\": 65.0, \"Diphtheria\": 62.0, \"Schooling\": 5.3, \"Average Vaccination Rate\": null}, {\"Country\": \"Philippines\", \"Year\": 2015, \"Hepatitis B\": 6.0, \"Polio\": 79.0, \"Diphtheria\": 6.0, \"Schooling\": 11.7, \"Average Vaccination Rate\": 30.333333333333332}, {\"Country\": \"Philippines\", \"Year\": 2014, \"Hepatitis B\": 67.0, \"Polio\": 77.0, \"Diphtheria\": 67.0, \"Schooling\": 11.7, \"Average Vaccination Rate\": 70.33333333333333}, {\"Country\": \"Philippines\", \"Year\": 2013, \"Hepatitis B\": 89.0, \"Polio\": 84.0, \"Diphtheria\": 89.0, \"Schooling\": 11.7, \"Average Vaccination Rate\": 87.33333333333333}, {\"Country\": \"Philippines\", \"Year\": 2012, \"Hepatitis B\": 88.0, \"Polio\": 88.0, \"Diphtheria\": 88.0, \"Schooling\": 11.6, \"Average Vaccination Rate\": 88.0}, {\"Country\": \"Philippines\", \"Year\": 2011, \"Hepatitis B\": 87.0, \"Polio\": 87.0, \"Diphtheria\": 87.0, \"Schooling\": 11.5, \"Average Vaccination Rate\": 87.0}, {\"Country\": \"Philippines\", \"Year\": 2010, \"Hepatitis B\": 77.0, \"Polio\": 78.0, \"Diphtheria\": 79.0, \"Schooling\": 11.4, \"Average Vaccination Rate\": 78.0}, {\"Country\": \"Philippines\", \"Year\": 2009, \"Hepatitis B\": 85.0, \"Polio\": 86.0, \"Diphtheria\": 87.0, \"Schooling\": 11.7, \"Average Vaccination Rate\": 86.0}, {\"Country\": \"Philippines\", \"Year\": 2008, \"Hepatitis B\": 88.0, \"Polio\": 91.0, \"Diphtheria\": 91.0, \"Schooling\": 11.5, \"Average Vaccination Rate\": 90.0}, {\"Country\": \"Philippines\", \"Year\": 2007, \"Hepatitis B\": 87.0, \"Polio\": 87.0, \"Diphtheria\": 87.0, \"Schooling\": 11.4, \"Average Vaccination Rate\": 87.0}, {\"Country\": \"Philippines\", \"Year\": 2006, \"Hepatitis B\": 77.0, \"Polio\": 88.0, \"Diphtheria\": 88.0, \"Schooling\": 11.5, \"Average Vaccination Rate\": 84.33333333333333}, {\"Country\": \"Philippines\", \"Year\": 2005, \"Hepatitis B\": 49.0, \"Polio\": 9.0, \"Diphtheria\": 89.0, \"Schooling\": 11.6, \"Average Vaccination Rate\": 49.0}, {\"Country\": \"Philippines\", \"Year\": 2004, \"Hepatitis B\": 48.0, \"Polio\": 85.0, \"Diphtheria\": 88.0, \"Schooling\": 11.6, \"Average Vaccination Rate\": 73.66666666666667}, {\"Country\": \"Philippines\", \"Year\": 2003, \"Hepatitis B\": 52.0, \"Polio\": 85.0, \"Diphtheria\": 84.0, \"Schooling\": 11.6, \"Average Vaccination Rate\": 73.66666666666667}, {\"Country\": \"Philippines\", \"Year\": 2002, \"Hepatitis B\": 42.0, \"Polio\": 77.0, \"Diphtheria\": 79.0, \"Schooling\": 11.4, \"Average Vaccination Rate\": 66.0}, {\"Country\": \"Philippines\", \"Year\": 2001, \"Hepatitis B\": 45.0, \"Polio\": 76.0, \"Diphtheria\": 79.0, \"Schooling\": 11.4, \"Average Vaccination Rate\": 66.66666666666667}, {\"Country\": \"Philippines\", \"Year\": 2000, \"Hepatitis B\": 7.0, \"Polio\": 74.0, \"Diphtheria\": 78.0, \"Schooling\": 11.4, \"Average Vaccination Rate\": 53.0}, {\"Country\": \"Republic of Korea\", \"Year\": 2015, \"Hepatitis B\": 98.0, \"Polio\": 98.0, \"Diphtheria\": 98.0, \"Schooling\": null, \"Average Vaccination Rate\": 98.0}, {\"Country\": \"Republic of Korea\", \"Year\": 2014, \"Hepatitis B\": 99.0, \"Polio\": 99.0, \"Diphtheria\": 99.0, \"Schooling\": null, \"Average Vaccination Rate\": 99.0}, {\"Country\": \"Republic of Korea\", \"Year\": 2013, \"Hepatitis B\": 99.0, \"Polio\": 99.0, \"Diphtheria\": 99.0, \"Schooling\": null, \"Average Vaccination Rate\": 99.0}, {\"Country\": \"Republic of Korea\", \"Year\": 2012, \"Hepatitis B\": 99.0, \"Polio\": 99.0, \"Diphtheria\": 99.0, \"Schooling\": null, \"Average Vaccination Rate\": 99.0}, {\"Country\": \"Republic of Korea\", \"Year\": 2011, \"Hepatitis B\": 99.0, \"Polio\": 98.0, \"Diphtheria\": 99.0, \"Schooling\": null, \"Average Vaccination Rate\": 98.66666666666667}, {\"Country\": \"Republic of Korea\", \"Year\": 2010, \"Hepatitis B\": 94.0, \"Polio\": 95.0, \"Diphtheria\": 94.0, \"Schooling\": null, \"Average Vaccination Rate\": 94.33333333333333}, {\"Country\": \"Republic of Korea\", \"Year\": 2009, \"Hepatitis B\": 94.0, \"Polio\": 95.0, \"Diphtheria\": 94.0, \"Schooling\": null, \"Average Vaccination Rate\": 94.33333333333333}, {\"Country\": \"Republic of Korea\", \"Year\": 2008, \"Hepatitis B\": 94.0, \"Polio\": 92.0, \"Diphtheria\": 94.0, \"Schooling\": null, \"Average Vaccination Rate\": 93.33333333333333}, {\"Country\": \"Republic of Korea\", \"Year\": 2007, \"Hepatitis B\": 91.0, \"Polio\": 91.0, \"Diphtheria\": 91.0, \"Schooling\": null, \"Average Vaccination Rate\": 91.0}, {\"Country\": \"Republic of Korea\", \"Year\": 2006, \"Hepatitis B\": 99.0, \"Polio\": 98.0, \"Diphtheria\": 98.0, \"Schooling\": null, \"Average Vaccination Rate\": 98.33333333333333}, {\"Country\": \"Republic of Korea\", \"Year\": 2005, \"Hepatitis B\": 99.0, \"Polio\": 96.0, \"Diphtheria\": 96.0, \"Schooling\": null, \"Average Vaccination Rate\": 97.0}, {\"Country\": \"Republic of Korea\", \"Year\": 2004, \"Hepatitis B\": 92.0, \"Polio\": 9.0, \"Diphtheria\": 88.0, \"Schooling\": null, \"Average Vaccination Rate\": 63.0}, {\"Country\": \"Republic of Korea\", \"Year\": 2003, \"Hepatitis B\": 91.0, \"Polio\": 94.0, \"Diphtheria\": 97.0, \"Schooling\": null, \"Average Vaccination Rate\": 94.0}, {\"Country\": \"Republic of Korea\", \"Year\": 2002, \"Hepatitis B\": 92.0, \"Polio\": 99.0, \"Diphtheria\": 97.0, \"Schooling\": null, \"Average Vaccination Rate\": 96.0}, {\"Country\": \"Republic of Korea\", \"Year\": 2001, \"Hepatitis B\": 89.0, \"Polio\": 99.0, \"Diphtheria\": 97.0, \"Schooling\": null, \"Average Vaccination Rate\": 95.0}, {\"Country\": \"Republic of Korea\", \"Year\": 2000, \"Hepatitis B\": 93.0, \"Polio\": 99.0, \"Diphtheria\": 97.0, \"Schooling\": null, \"Average Vaccination Rate\": 96.33333333333333}, {\"Country\": \"Russian Federation\", \"Year\": 2015, \"Hepatitis B\": 97.0, \"Polio\": 97.0, \"Diphtheria\": 97.0, \"Schooling\": 15.0, \"Average Vaccination Rate\": 97.0}, {\"Country\": \"Russian Federation\", \"Year\": 2014, \"Hepatitis B\": 97.0, \"Polio\": 97.0, \"Diphtheria\": 97.0, \"Schooling\": 14.9, \"Average Vaccination Rate\": 97.0}, {\"Country\": \"Russian Federation\", \"Year\": 2013, \"Hepatitis B\": 97.0, \"Polio\": 98.0, \"Diphtheria\": 97.0, \"Schooling\": 14.6, \"Average Vaccination Rate\": 97.33333333333333}, {\"Country\": \"Russian Federation\", \"Year\": 2012, \"Hepatitis B\": 97.0, \"Polio\": 98.0, \"Diphtheria\": 97.0, \"Schooling\": 14.3, \"Average Vaccination Rate\": 97.33333333333333}, {\"Country\": \"Russian Federation\", \"Year\": 2011, \"Hepatitis B\": 97.0, \"Polio\": 97.0, \"Diphtheria\": 97.0, \"Schooling\": 14.0, \"Average Vaccination Rate\": 97.0}, {\"Country\": \"Russian Federation\", \"Year\": 2010, \"Hepatitis B\": 97.0, \"Polio\": 98.0, \"Diphtheria\": 97.0, \"Schooling\": 13.7, \"Average Vaccination Rate\": 97.33333333333333}, {\"Country\": \"Russian Federation\", \"Year\": 2009, \"Hepatitis B\": 98.0, \"Polio\": 98.0, \"Diphtheria\": 98.0, \"Schooling\": 14.0, \"Average Vaccination Rate\": 98.0}, {\"Country\": \"Russian Federation\", \"Year\": 2008, \"Hepatitis B\": 98.0, \"Polio\": 98.0, \"Diphtheria\": 98.0, \"Schooling\": 13.9, \"Average Vaccination Rate\": 98.0}, {\"Country\": \"Russian Federation\", \"Year\": 2007, \"Hepatitis B\": 98.0, \"Polio\": 98.0, \"Diphtheria\": 98.0, \"Schooling\": 13.8, \"Average Vaccination Rate\": 98.0}, {\"Country\": \"Russian Federation\", \"Year\": 2006, \"Hepatitis B\": 98.0, \"Polio\": 98.0, \"Diphtheria\": 98.0, \"Schooling\": 13.8, \"Average Vaccination Rate\": 98.0}, {\"Country\": \"Russian Federation\", \"Year\": 2005, \"Hepatitis B\": 97.0, \"Polio\": 98.0, \"Diphtheria\": 98.0, \"Schooling\": 13.7, \"Average Vaccination Rate\": 97.66666666666667}, {\"Country\": \"Russian Federation\", \"Year\": 2004, \"Hepatitis B\": 96.0, \"Polio\": 98.0, \"Diphtheria\": 97.0, \"Schooling\": 13.6, \"Average Vaccination Rate\": 97.0}, {\"Country\": \"Russian Federation\", \"Year\": 2003, \"Hepatitis B\": 94.0, \"Polio\": 97.0, \"Diphtheria\": 96.0, \"Schooling\": 13.2, \"Average Vaccination Rate\": 95.66666666666667}, {\"Country\": \"Russian Federation\", \"Year\": 2002, \"Hepatitis B\": 81.0, \"Polio\": 97.0, \"Diphtheria\": 97.0, \"Schooling\": 12.8, \"Average Vaccination Rate\": 91.66666666666667}, {\"Country\": \"Russian Federation\", \"Year\": 2001, \"Hepatitis B\": 43.0, \"Polio\": 97.0, \"Diphtheria\": 96.0, \"Schooling\": 12.5, \"Average Vaccination Rate\": 78.66666666666667}, {\"Country\": \"Russian Federation\", \"Year\": 2000, \"Hepatitis B\": null, \"Polio\": 97.0, \"Diphtheria\": 96.0, \"Schooling\": 12.1, \"Average Vaccination Rate\": null}, {\"Country\": \"Singapore\", \"Year\": 2015, \"Hepatitis B\": 96.0, \"Polio\": 96.0, \"Diphtheria\": 96.0, \"Schooling\": 15.4, \"Average Vaccination Rate\": 96.0}, {\"Country\": \"Singapore\", \"Year\": 2014, \"Hepatitis B\": 96.0, \"Polio\": 96.0, \"Diphtheria\": 96.0, \"Schooling\": 15.4, \"Average Vaccination Rate\": 96.0}, {\"Country\": \"Singapore\", \"Year\": 2013, \"Hepatitis B\": 97.0, \"Polio\": 97.0, \"Diphtheria\": 97.0, \"Schooling\": 15.4, \"Average Vaccination Rate\": 97.0}, {\"Country\": \"Singapore\", \"Year\": 2012, \"Hepatitis B\": 97.0, \"Polio\": 97.0, \"Diphtheria\": 97.0, \"Schooling\": 15.4, \"Average Vaccination Rate\": 97.0}, {\"Country\": \"Singapore\", \"Year\": 2011, \"Hepatitis B\": 96.0, \"Polio\": 96.0, \"Diphtheria\": 96.0, \"Schooling\": 15.2, \"Average Vaccination Rate\": 96.0}, {\"Country\": \"Singapore\", \"Year\": 2010, \"Hepatitis B\": 96.0, \"Polio\": 96.0, \"Diphtheria\": 96.0, \"Schooling\": 14.5, \"Average Vaccination Rate\": 96.0}, {\"Country\": \"Singapore\", \"Year\": 2009, \"Hepatitis B\": 96.0, \"Polio\": 97.0, \"Diphtheria\": 97.0, \"Schooling\": 14.4, \"Average Vaccination Rate\": 96.66666666666667}, {\"Country\": \"Singapore\", \"Year\": 2008, \"Hepatitis B\": 97.0, \"Polio\": 97.0, \"Diphtheria\": 97.0, \"Schooling\": 14.2, \"Average Vaccination Rate\": 97.0}, {\"Country\": \"Singapore\", \"Year\": 2007, \"Hepatitis B\": 96.0, \"Polio\": 97.0, \"Diphtheria\": 97.0, \"Schooling\": 14.1, \"Average Vaccination Rate\": 96.66666666666667}, {\"Country\": \"Singapore\", \"Year\": 2006, \"Hepatitis B\": 95.0, \"Polio\": 95.0, \"Diphtheria\": 95.0, \"Schooling\": 13.9, \"Average Vaccination Rate\": 95.0}, {\"Country\": \"Singapore\", \"Year\": 2005, \"Hepatitis B\": 96.0, \"Polio\": 96.0, \"Diphtheria\": 96.0, \"Schooling\": 12.6, \"Average Vaccination Rate\": 96.0}, {\"Country\": \"Singapore\", \"Year\": 2004, \"Hepatitis B\": 94.0, \"Polio\": 95.0, \"Diphtheria\": 95.0, \"Schooling\": 12.7, \"Average Vaccination Rate\": 94.66666666666667}, {\"Country\": \"Singapore\", \"Year\": 2003, \"Hepatitis B\": 95.0, \"Polio\": 96.0, \"Diphtheria\": 96.0, \"Schooling\": 12.7, \"Average Vaccination Rate\": 95.66666666666667}, {\"Country\": \"Singapore\", \"Year\": 2002, \"Hepatitis B\": 95.0, \"Polio\": 94.0, \"Diphtheria\": 94.0, \"Schooling\": 12.6, \"Average Vaccination Rate\": 94.33333333333333}, {\"Country\": \"Singapore\", \"Year\": 2001, \"Hepatitis B\": 95.0, \"Polio\": 95.0, \"Diphtheria\": 96.0, \"Schooling\": 12.7, \"Average Vaccination Rate\": 95.33333333333333}, {\"Country\": \"Singapore\", \"Year\": 2000, \"Hepatitis B\": 97.0, \"Polio\": 98.0, \"Diphtheria\": 98.0, \"Schooling\": 12.5, \"Average Vaccination Rate\": 97.66666666666667}, {\"Country\": \"Sri Lanka\", \"Year\": 2015, \"Hepatitis B\": 99.0, \"Polio\": 99.0, \"Diphtheria\": 99.0, \"Schooling\": 14.0, \"Average Vaccination Rate\": 99.0}, {\"Country\": \"Sri Lanka\", \"Year\": 2014, \"Hepatitis B\": 99.0, \"Polio\": 99.0, \"Diphtheria\": 99.0, \"Schooling\": 14.0, \"Average Vaccination Rate\": 99.0}, {\"Country\": \"Sri Lanka\", \"Year\": 2013, \"Hepatitis B\": 99.0, \"Polio\": 99.0, \"Diphtheria\": 99.0, \"Schooling\": 13.8, \"Average Vaccination Rate\": 99.0}, {\"Country\": \"Sri Lanka\", \"Year\": 2012, \"Hepatitis B\": 99.0, \"Polio\": 99.0, \"Diphtheria\": 99.0, \"Schooling\": 13.7, \"Average Vaccination Rate\": 99.0}, {\"Country\": \"Sri Lanka\", \"Year\": 2011, \"Hepatitis B\": 99.0, \"Polio\": 99.0, \"Diphtheria\": 99.0, \"Schooling\": 13.6, \"Average Vaccination Rate\": 99.0}, {\"Country\": \"Sri Lanka\", \"Year\": 2010, \"Hepatitis B\": 99.0, \"Polio\": 99.0, \"Diphtheria\": 99.0, \"Schooling\": 13.5, \"Average Vaccination Rate\": 99.0}, {\"Country\": \"Sri Lanka\", \"Year\": 2009, \"Hepatitis B\": 97.0, \"Polio\": 97.0, \"Diphtheria\": 97.0, \"Schooling\": 13.4, \"Average Vaccination Rate\": 97.0}, {\"Country\": \"Sri Lanka\", \"Year\": 2008, \"Hepatitis B\": 98.0, \"Polio\": 98.0, \"Diphtheria\": 98.0, \"Schooling\": 13.3, \"Average Vaccination Rate\": 98.0}, {\"Country\": \"Sri Lanka\", \"Year\": 2007, \"Hepatitis B\": 98.0, \"Polio\": 98.0, \"Diphtheria\": 98.0, \"Schooling\": 13.2, \"Average Vaccination Rate\": 98.0}, {\"Country\": \"Sri Lanka\", \"Year\": 2006, \"Hepatitis B\": 98.0, \"Polio\": 98.0, \"Diphtheria\": 98.0, \"Schooling\": 13.1, \"Average Vaccination Rate\": 98.0}, {\"Country\": \"Sri Lanka\", \"Year\": 2005, \"Hepatitis B\": 99.0, \"Polio\": 99.0, \"Diphtheria\": 99.0, \"Schooling\": 12.9, \"Average Vaccination Rate\": 99.0}, {\"Country\": \"Sri Lanka\", \"Year\": 2004, \"Hepatitis B\": 62.0, \"Polio\": 97.0, \"Diphtheria\": 97.0, \"Schooling\": 12.8, \"Average Vaccination Rate\": 85.33333333333333}, {\"Country\": \"Sri Lanka\", \"Year\": 2003, \"Hepatitis B\": 32.0, \"Polio\": 98.0, \"Diphtheria\": 99.0, \"Schooling\": 12.7, \"Average Vaccination Rate\": 76.33333333333333}, {\"Country\": \"Sri Lanka\", \"Year\": 2002, \"Hepatitis B\": null, \"Polio\": 98.0, \"Diphtheria\": 98.0, \"Schooling\": 12.6, \"Average Vaccination Rate\": null}, {\"Country\": \"Sri Lanka\", \"Year\": 2001, \"Hepatitis B\": null, \"Polio\": 98.0, \"Diphtheria\": 98.0, \"Schooling\": 12.5, \"Average Vaccination Rate\": null}, {\"Country\": \"Sri Lanka\", \"Year\": 2000, \"Hepatitis B\": null, \"Polio\": 99.0, \"Diphtheria\": 99.0, \"Schooling\": 12.4, \"Average Vaccination Rate\": null}, {\"Country\": \"Thailand\", \"Year\": 2015, \"Hepatitis B\": 99.0, \"Polio\": 99.0, \"Diphtheria\": 99.0, \"Schooling\": 13.6, \"Average Vaccination Rate\": 99.0}, {\"Country\": \"Thailand\", \"Year\": 2014, \"Hepatitis B\": 99.0, \"Polio\": 99.0, \"Diphtheria\": 99.0, \"Schooling\": 13.6, \"Average Vaccination Rate\": 99.0}, {\"Country\": \"Thailand\", \"Year\": 2013, \"Hepatitis B\": 99.0, \"Polio\": 99.0, \"Diphtheria\": 99.0, \"Schooling\": 13.6, \"Average Vaccination Rate\": 99.0}, {\"Country\": \"Thailand\", \"Year\": 2012, \"Hepatitis B\": 98.0, \"Polio\": 99.0, \"Diphtheria\": 99.0, \"Schooling\": 13.7, \"Average Vaccination Rate\": 98.66666666666667}, {\"Country\": \"Thailand\", \"Year\": 2011, \"Hepatitis B\": 98.0, \"Polio\": 99.0, \"Diphtheria\": 99.0, \"Schooling\": 13.3, \"Average Vaccination Rate\": 98.66666666666667}, {\"Country\": \"Thailand\", \"Year\": 2010, \"Hepatitis B\": 98.0, \"Polio\": 99.0, \"Diphtheria\": 99.0, \"Schooling\": 13.1, \"Average Vaccination Rate\": 98.66666666666667}, {\"Country\": \"Thailand\", \"Year\": 2009, \"Hepatitis B\": 98.0, \"Polio\": 99.0, \"Diphtheria\": 99.0, \"Schooling\": 13.0, \"Average Vaccination Rate\": 98.66666666666667}, {\"Country\": \"Thailand\", \"Year\": 2008, \"Hepatitis B\": 98.0, \"Polio\": 99.0, \"Diphtheria\": 99.0, \"Schooling\": 12.9, \"Average Vaccination Rate\": 98.66666666666667}, {\"Country\": \"Thailand\", \"Year\": 2007, \"Hepatitis B\": 96.0, \"Polio\": 98.0, \"Diphtheria\": 98.0, \"Schooling\": 12.3, \"Average Vaccination Rate\": 97.33333333333333}, {\"Country\": \"Thailand\", \"Year\": 2006, \"Hepatitis B\": 96.0, \"Polio\": 98.0, \"Diphtheria\": 98.0, \"Schooling\": 12.4, \"Average Vaccination Rate\": 97.33333333333333}, {\"Country\": \"Thailand\", \"Year\": 2005, \"Hepatitis B\": 96.0, \"Polio\": 98.0, \"Diphtheria\": 98.0, \"Schooling\": 12.0, \"Average Vaccination Rate\": 97.33333333333333}, {\"Country\": \"Thailand\", \"Year\": 2004, \"Hepatitis B\": 96.0, \"Polio\": 98.0, \"Diphtheria\": 98.0, \"Schooling\": 11.9, \"Average Vaccination Rate\": 97.33333333333333}, {\"Country\": \"Thailand\", \"Year\": 2003, \"Hepatitis B\": 96.0, \"Polio\": 98.0, \"Diphtheria\": 98.0, \"Schooling\": 11.8, \"Average Vaccination Rate\": 97.33333333333333}, {\"Country\": \"Thailand\", \"Year\": 2002, \"Hepatitis B\": 95.0, \"Polio\": 97.0, \"Diphtheria\": 96.0, \"Schooling\": 11.5, \"Average Vaccination Rate\": 96.0}, {\"Country\": \"Thailand\", \"Year\": 2001, \"Hepatitis B\": 95.0, \"Polio\": 97.0, \"Diphtheria\": 96.0, \"Schooling\": 11.2, \"Average Vaccination Rate\": 96.0}, {\"Country\": \"Thailand\", \"Year\": 2000, \"Hepatitis B\": 95.0, \"Polio\": 97.0, \"Diphtheria\": 97.0, \"Schooling\": 10.9, \"Average Vaccination Rate\": 96.33333333333333}, {\"Country\": \"Timor-Leste\", \"Year\": 2015, \"Hepatitis B\": 76.0, \"Polio\": 75.0, \"Diphtheria\": 76.0, \"Schooling\": 12.5, \"Average Vaccination Rate\": 75.66666666666667}, {\"Country\": \"Timor-Leste\", \"Year\": 2014, \"Hepatitis B\": 77.0, \"Polio\": 76.0, \"Diphtheria\": 77.0, \"Schooling\": 12.5, \"Average Vaccination Rate\": 76.66666666666667}, {\"Country\": \"Timor-Leste\", \"Year\": 2013, \"Hepatitis B\": 82.0, \"Polio\": 82.0, \"Diphtheria\": 82.0, \"Schooling\": 12.5, \"Average Vaccination Rate\": 82.0}, {\"Country\": \"Timor-Leste\", \"Year\": 2012, \"Hepatitis B\": 83.0, \"Polio\": 83.0, \"Diphtheria\": 83.0, \"Schooling\": 12.5, \"Average Vaccination Rate\": 83.0}, {\"Country\": \"Timor-Leste\", \"Year\": 2011, \"Hepatitis B\": 67.0, \"Polio\": 66.0, \"Diphtheria\": 67.0, \"Schooling\": 12.5, \"Average Vaccination Rate\": 66.66666666666667}, {\"Country\": \"Timor-Leste\", \"Year\": 2010, \"Hepatitis B\": 72.0, \"Polio\": 72.0, \"Diphtheria\": 72.0, \"Schooling\": 12.4, \"Average Vaccination Rate\": 72.0}, {\"Country\": \"Timor-Leste\", \"Year\": 2009, \"Hepatitis B\": 72.0, \"Polio\": 78.0, \"Diphtheria\": 72.0, \"Schooling\": 12.1, \"Average Vaccination Rate\": 74.0}, {\"Country\": \"Timor-Leste\", \"Year\": 2008, \"Hepatitis B\": 79.0, \"Polio\": 79.0, \"Diphtheria\": 79.0, \"Schooling\": 11.7, \"Average Vaccination Rate\": 79.0}, {\"Country\": \"Timor-Leste\", \"Year\": 2007, \"Hepatitis B\": null, \"Polio\": 7.0, \"Diphtheria\": 7.0, \"Schooling\": 11.3, \"Average Vaccination Rate\": null}, {\"Country\": \"Timor-Leste\", \"Year\": 2006, \"Hepatitis B\": null, \"Polio\": 62.0, \"Diphtheria\": 63.0, \"Schooling\": 11.0, \"Average Vaccination Rate\": null}, {\"Country\": \"Timor-Leste\", \"Year\": 2005, \"Hepatitis B\": null, \"Polio\": 55.0, \"Diphtheria\": 55.0, \"Schooling\": 10.6, \"Average Vaccination Rate\": null}, {\"Country\": \"Timor-Leste\", \"Year\": 2004, \"Hepatitis B\": null, \"Polio\": 57.0, \"Diphtheria\": 57.0, \"Schooling\": 10.2, \"Average Vaccination Rate\": null}, {\"Country\": \"Timor-Leste\", \"Year\": 2003, \"Hepatitis B\": null, \"Polio\": 55.0, \"Diphtheria\": 55.0, \"Schooling\": 9.8, \"Average Vaccination Rate\": null}, {\"Country\": \"Timor-Leste\", \"Year\": 2002, \"Hepatitis B\": null, \"Polio\": 38.0, \"Diphtheria\": 54.0, \"Schooling\": 9.8, \"Average Vaccination Rate\": null}, {\"Country\": \"Timor-Leste\", \"Year\": 2001, \"Hepatitis B\": null, \"Polio\": null, \"Diphtheria\": null, \"Schooling\": 9.8, \"Average Vaccination Rate\": null}, {\"Country\": \"Timor-Leste\", \"Year\": 2000, \"Hepatitis B\": null, \"Polio\": null, \"Diphtheria\": null, \"Schooling\": 0.0, \"Average Vaccination Rate\": null}, {\"Country\": \"Viet Nam\", \"Year\": 2015, \"Hepatitis B\": 97.0, \"Polio\": 97.0, \"Diphtheria\": 97.0, \"Schooling\": 12.6, \"Average Vaccination Rate\": 97.0}, {\"Country\": \"Viet Nam\", \"Year\": 2014, \"Hepatitis B\": 95.0, \"Polio\": 96.0, \"Diphtheria\": 95.0, \"Schooling\": 12.5, \"Average Vaccination Rate\": 95.33333333333333}, {\"Country\": \"Viet Nam\", \"Year\": 2013, \"Hepatitis B\": 59.0, \"Polio\": 93.0, \"Diphtheria\": 59.0, \"Schooling\": 12.3, \"Average Vaccination Rate\": 70.33333333333333}, {\"Country\": \"Viet Nam\", \"Year\": 2012, \"Hepatitis B\": 97.0, \"Polio\": 97.0, \"Diphtheria\": 97.0, \"Schooling\": 12.2, \"Average Vaccination Rate\": 97.0}, {\"Country\": \"Viet Nam\", \"Year\": 2011, \"Hepatitis B\": 95.0, \"Polio\": 96.0, \"Diphtheria\": 95.0, \"Schooling\": 12.0, \"Average Vaccination Rate\": 95.33333333333333}, {\"Country\": \"Viet Nam\", \"Year\": 2010, \"Hepatitis B\": 88.0, \"Polio\": 94.0, \"Diphtheria\": 93.0, \"Schooling\": 11.9, \"Average Vaccination Rate\": 91.66666666666667}, {\"Country\": \"Viet Nam\", \"Year\": 2009, \"Hepatitis B\": 94.0, \"Polio\": 97.0, \"Diphtheria\": 96.0, \"Schooling\": 11.7, \"Average Vaccination Rate\": 95.66666666666667}, {\"Country\": \"Viet Nam\", \"Year\": 2008, \"Hepatitis B\": 87.0, \"Polio\": 93.0, \"Diphtheria\": 93.0, \"Schooling\": 11.6, \"Average Vaccination Rate\": 91.0}, {\"Country\": \"Viet Nam\", \"Year\": 2007, \"Hepatitis B\": 67.0, \"Polio\": 92.0, \"Diphtheria\": 92.0, \"Schooling\": 11.4, \"Average Vaccination Rate\": 83.66666666666667}, {\"Country\": \"Viet Nam\", \"Year\": 2006, \"Hepatitis B\": 93.0, \"Polio\": 94.0, \"Diphtheria\": 94.0, \"Schooling\": 11.3, \"Average Vaccination Rate\": 93.66666666666667}, {\"Country\": \"Viet Nam\", \"Year\": 2005, \"Hepatitis B\": 94.0, \"Polio\": 94.0, \"Diphtheria\": 95.0, \"Schooling\": 11.1, \"Average Vaccination Rate\": 94.33333333333333}, {\"Country\": \"Viet Nam\", \"Year\": 2004, \"Hepatitis B\": 94.0, \"Polio\": 96.0, \"Diphtheria\": 96.0, \"Schooling\": 11.0, \"Average Vaccination Rate\": 95.33333333333333}, {\"Country\": \"Viet Nam\", \"Year\": 2003, \"Hepatitis B\": 78.0, \"Polio\": 96.0, \"Diphtheria\": 99.0, \"Schooling\": 10.9, \"Average Vaccination Rate\": 91.0}, {\"Country\": \"Viet Nam\", \"Year\": 2002, \"Hepatitis B\": null, \"Polio\": 92.0, \"Diphtheria\": 75.0, \"Schooling\": 10.7, \"Average Vaccination Rate\": null}, {\"Country\": \"Viet Nam\", \"Year\": 2001, \"Hepatitis B\": null, \"Polio\": 96.0, \"Diphtheria\": 96.0, \"Schooling\": 10.6, \"Average Vaccination Rate\": null}, {\"Country\": \"Viet Nam\", \"Year\": 2000, \"Hepatitis B\": null, \"Polio\": 96.0, \"Diphtheria\": 96.0, \"Schooling\": 10.4, \"Average Vaccination Rate\": null}]}}, {\"mode\": \"vega-lite\"});\n",
              "</script>"
            ],
            "text/plain": [
              "alt.Chart(...)"
            ]
          },
          "metadata": {},
          "execution_count": 7
        }
      ]
    },
    {
      "cell_type": "markdown",
      "source": [
        "**Polio**\n",
        "- North Korea and South Korea are missing (because of no values in Schooling)\n",
        "- A few values of Polio are below/around 10, probably because of a wrongly placed decimal"
      ],
      "metadata": {
        "id": "d8OxWMfaOqfC"
      }
    },
    {
      "cell_type": "code",
      "source": [
        "alt.Chart(FactorHealth1).mark_point().encode(\n",
        "    x ='Schooling',\n",
        "    y ='Polio',\n",
        "    color = 'Country'\n",
        ")"
      ],
      "metadata": {
        "colab": {
          "base_uri": "https://localhost:8080/",
          "height": 369
        },
        "id": "3juCx7zBX6YU",
        "outputId": "f53a5764-2523-44b7-fc4d-0db9e8e2c292"
      },
      "execution_count": 8,
      "outputs": [
        {
          "output_type": "execute_result",
          "data": {
            "text/html": [
              "\n",
              "<div id=\"altair-viz-94750df5e19d476bb9fca96d0492e3b4\"></div>\n",
              "<script type=\"text/javascript\">\n",
              "  var VEGA_DEBUG = (typeof VEGA_DEBUG == \"undefined\") ? {} : VEGA_DEBUG;\n",
              "  (function(spec, embedOpt){\n",
              "    let outputDiv = document.currentScript.previousElementSibling;\n",
              "    if (outputDiv.id !== \"altair-viz-94750df5e19d476bb9fca96d0492e3b4\") {\n",
              "      outputDiv = document.getElementById(\"altair-viz-94750df5e19d476bb9fca96d0492e3b4\");\n",
              "    }\n",
              "    const paths = {\n",
              "      \"vega\": \"https://cdn.jsdelivr.net/npm//vega@5?noext\",\n",
              "      \"vega-lib\": \"https://cdn.jsdelivr.net/npm//vega-lib?noext\",\n",
              "      \"vega-lite\": \"https://cdn.jsdelivr.net/npm//vega-lite@4.17.0?noext\",\n",
              "      \"vega-embed\": \"https://cdn.jsdelivr.net/npm//vega-embed@6?noext\",\n",
              "    };\n",
              "\n",
              "    function maybeLoadScript(lib, version) {\n",
              "      var key = `${lib.replace(\"-\", \"\")}_version`;\n",
              "      return (VEGA_DEBUG[key] == version) ?\n",
              "        Promise.resolve(paths[lib]) :\n",
              "        new Promise(function(resolve, reject) {\n",
              "          var s = document.createElement('script');\n",
              "          document.getElementsByTagName(\"head\")[0].appendChild(s);\n",
              "          s.async = true;\n",
              "          s.onload = () => {\n",
              "            VEGA_DEBUG[key] = version;\n",
              "            return resolve(paths[lib]);\n",
              "          };\n",
              "          s.onerror = () => reject(`Error loading script: ${paths[lib]}`);\n",
              "          s.src = paths[lib];\n",
              "        });\n",
              "    }\n",
              "\n",
              "    function showError(err) {\n",
              "      outputDiv.innerHTML = `<div class=\"error\" style=\"color:red;\">${err}</div>`;\n",
              "      throw err;\n",
              "    }\n",
              "\n",
              "    function displayChart(vegaEmbed) {\n",
              "      vegaEmbed(outputDiv, spec, embedOpt)\n",
              "        .catch(err => showError(`Javascript Error: ${err.message}<br>This usually means there's a typo in your chart specification. See the javascript console for the full traceback.`));\n",
              "    }\n",
              "\n",
              "    if(typeof define === \"function\" && define.amd) {\n",
              "      requirejs.config({paths});\n",
              "      require([\"vega-embed\"], displayChart, err => showError(`Error loading script: ${err.message}`));\n",
              "    } else {\n",
              "      maybeLoadScript(\"vega\", \"5\")\n",
              "        .then(() => maybeLoadScript(\"vega-lite\", \"4.17.0\"))\n",
              "        .then(() => maybeLoadScript(\"vega-embed\", \"6\"))\n",
              "        .catch(showError)\n",
              "        .then(() => displayChart(vegaEmbed));\n",
              "    }\n",
              "  })({\"config\": {\"view\": {\"continuousWidth\": 400, \"continuousHeight\": 300}}, \"data\": {\"name\": \"data-5d7784e6133ec95ec4ff5e057c2af840\"}, \"mark\": \"point\", \"encoding\": {\"color\": {\"field\": \"Country\", \"type\": \"nominal\"}, \"x\": {\"field\": \"Schooling\", \"type\": \"quantitative\"}, \"y\": {\"field\": \"Polio\", \"type\": \"quantitative\"}}, \"$schema\": \"https://vega.github.io/schema/vega-lite/v4.17.0.json\", \"datasets\": {\"data-5d7784e6133ec95ec4ff5e057c2af840\": [{\"Country\": \"Bangladesh\", \"Year\": 2015, \"Hepatitis B\": 97.0, \"Polio\": 97.0, \"Diphtheria\": 97.0, \"Schooling\": 10.2, \"Average Vaccination Rate\": 97.0}, {\"Country\": \"Bangladesh\", \"Year\": 2014, \"Hepatitis B\": 97.0, \"Polio\": 97.0, \"Diphtheria\": 97.0, \"Schooling\": 10.0, \"Average Vaccination Rate\": 97.0}, {\"Country\": \"Bangladesh\", \"Year\": 2013, \"Hepatitis B\": 96.0, \"Polio\": 96.0, \"Diphtheria\": 96.0, \"Schooling\": 10.0, \"Average Vaccination Rate\": 96.0}, {\"Country\": \"Bangladesh\", \"Year\": 2012, \"Hepatitis B\": 94.0, \"Polio\": 94.0, \"Diphtheria\": 94.0, \"Schooling\": 9.9, \"Average Vaccination Rate\": 94.0}, {\"Country\": \"Bangladesh\", \"Year\": 2011, \"Hepatitis B\": 96.0, \"Polio\": 96.0, \"Diphtheria\": 96.0, \"Schooling\": 9.4, \"Average Vaccination Rate\": 96.0}, {\"Country\": \"Bangladesh\", \"Year\": 2010, \"Hepatitis B\": 94.0, \"Polio\": 94.0, \"Diphtheria\": 94.0, \"Schooling\": 8.9, \"Average Vaccination Rate\": 94.0}, {\"Country\": \"Bangladesh\", \"Year\": 2009, \"Hepatitis B\": 97.0, \"Polio\": 97.0, \"Diphtheria\": 97.0, \"Schooling\": 8.4, \"Average Vaccination Rate\": 97.0}, {\"Country\": \"Bangladesh\", \"Year\": 2008, \"Hepatitis B\": 96.0, \"Polio\": 96.0, \"Diphtheria\": 96.0, \"Schooling\": 8.6, \"Average Vaccination Rate\": 96.0}, {\"Country\": \"Bangladesh\", \"Year\": 2007, \"Hepatitis B\": 95.0, \"Polio\": 96.0, \"Diphtheria\": 94.0, \"Schooling\": 8.6, \"Average Vaccination Rate\": 95.0}, {\"Country\": \"Bangladesh\", \"Year\": 2006, \"Hepatitis B\": 86.0, \"Polio\": 95.0, \"Diphtheria\": 94.0, \"Schooling\": 8.4, \"Average Vaccination Rate\": 91.66666666666667}, {\"Country\": \"Bangladesh\", \"Year\": 2005, \"Hepatitis B\": 45.0, \"Polio\": 94.0, \"Diphtheria\": 93.0, \"Schooling\": 8.2, \"Average Vaccination Rate\": 77.33333333333333}, {\"Country\": \"Bangladesh\", \"Year\": 2004, \"Hepatitis B\": 11.0, \"Polio\": 88.0, \"Diphtheria\": 99.0, \"Schooling\": 8.1, \"Average Vaccination Rate\": 66.0}, {\"Country\": \"Bangladesh\", \"Year\": 2003, \"Hepatitis B\": 5.0, \"Polio\": 9.0, \"Diphtheria\": 87.0, \"Schooling\": 7.9, \"Average Vaccination Rate\": 33.666666666666664}, {\"Country\": \"Bangladesh\", \"Year\": 2002, \"Hepatitis B\": null, \"Polio\": 83.0, \"Diphtheria\": 83.0, \"Schooling\": 7.7, \"Average Vaccination Rate\": null}, {\"Country\": \"Bangladesh\", \"Year\": 2001, \"Hepatitis B\": null, \"Polio\": 85.0, \"Diphtheria\": 85.0, \"Schooling\": 7.5, \"Average Vaccination Rate\": null}, {\"Country\": \"Bangladesh\", \"Year\": 2000, \"Hepatitis B\": null, \"Polio\": 83.0, \"Diphtheria\": 82.0, \"Schooling\": 7.3, \"Average Vaccination Rate\": null}, {\"Country\": \"Brunei Darussalam\", \"Year\": 2015, \"Hepatitis B\": 99.0, \"Polio\": 99.0, \"Diphtheria\": 99.0, \"Schooling\": 14.9, \"Average Vaccination Rate\": 99.0}, {\"Country\": \"Brunei Darussalam\", \"Year\": 2014, \"Hepatitis B\": 99.0, \"Polio\": 99.0, \"Diphtheria\": 99.0, \"Schooling\": 15.0, \"Average Vaccination Rate\": 99.0}, {\"Country\": \"Brunei Darussalam\", \"Year\": 2013, \"Hepatitis B\": 98.0, \"Polio\": 99.0, \"Diphtheria\": 99.0, \"Schooling\": 14.9, \"Average Vaccination Rate\": 98.66666666666667}, {\"Country\": \"Brunei Darussalam\", \"Year\": 2012, \"Hepatitis B\": 99.0, \"Polio\": 99.0, \"Diphtheria\": 99.0, \"Schooling\": 14.4, \"Average Vaccination Rate\": 99.0}, {\"Country\": \"Brunei Darussalam\", \"Year\": 2011, \"Hepatitis B\": 93.0, \"Polio\": 99.0, \"Diphtheria\": 97.0, \"Schooling\": 14.1, \"Average Vaccination Rate\": 96.33333333333333}, {\"Country\": \"Brunei Darussalam\", \"Year\": 2010, \"Hepatitis B\": 96.0, \"Polio\": 99.0, \"Diphtheria\": 95.0, \"Schooling\": 14.2, \"Average Vaccination Rate\": 96.66666666666667}, {\"Country\": \"Brunei Darussalam\", \"Year\": 2009, \"Hepatitis B\": 96.0, \"Polio\": 99.0, \"Diphtheria\": 99.0, \"Schooling\": 14.1, \"Average Vaccination Rate\": 98.0}, {\"Country\": \"Brunei Darussalam\", \"Year\": 2008, \"Hepatitis B\": 96.0, \"Polio\": 97.0, \"Diphtheria\": 98.0, \"Schooling\": 14.2, \"Average Vaccination Rate\": 97.0}, {\"Country\": \"Brunei Darussalam\", \"Year\": 2007, \"Hepatitis B\": 97.0, \"Polio\": 95.0, \"Diphtheria\": 99.0, \"Schooling\": 14.3, \"Average Vaccination Rate\": 97.0}, {\"Country\": \"Brunei Darussalam\", \"Year\": 2006, \"Hepatitis B\": 99.0, \"Polio\": 94.0, \"Diphtheria\": 97.0, \"Schooling\": 14.3, \"Average Vaccination Rate\": 96.66666666666667}, {\"Country\": \"Brunei Darussalam\", \"Year\": 2005, \"Hepatitis B\": 99.0, \"Polio\": 93.0, \"Diphtheria\": 94.0, \"Schooling\": 14.1, \"Average Vaccination Rate\": 95.33333333333333}, {\"Country\": \"Brunei Darussalam\", \"Year\": 2004, \"Hepatitis B\": 99.0, \"Polio\": 92.0, \"Diphtheria\": 92.0, \"Schooling\": 13.7, \"Average Vaccination Rate\": 94.33333333333333}, {\"Country\": \"Brunei Darussalam\", \"Year\": 2003, \"Hepatitis B\": 99.0, \"Polio\": 99.0, \"Diphtheria\": 92.0, \"Schooling\": 13.4, \"Average Vaccination Rate\": 96.66666666666667}, {\"Country\": \"Brunei Darussalam\", \"Year\": 2002, \"Hepatitis B\": 99.0, \"Polio\": 99.0, \"Diphtheria\": 94.0, \"Schooling\": 13.3, \"Average Vaccination Rate\": 97.33333333333333}, {\"Country\": \"Brunei Darussalam\", \"Year\": 2001, \"Hepatitis B\": 99.0, \"Polio\": 99.0, \"Diphtheria\": 97.0, \"Schooling\": 13.4, \"Average Vaccination Rate\": 98.33333333333333}, {\"Country\": \"Brunei Darussalam\", \"Year\": 2000, \"Hepatitis B\": 99.0, \"Polio\": 99.0, \"Diphtheria\": 99.0, \"Schooling\": 13.4, \"Average Vaccination Rate\": 99.0}, {\"Country\": \"Cambodia\", \"Year\": 2015, \"Hepatitis B\": 89.0, \"Polio\": 87.0, \"Diphtheria\": 89.0, \"Schooling\": 10.9, \"Average Vaccination Rate\": 88.33333333333333}, {\"Country\": \"Cambodia\", \"Year\": 2014, \"Hepatitis B\": 88.0, \"Polio\": 87.0, \"Diphtheria\": 88.0, \"Schooling\": 10.9, \"Average Vaccination Rate\": 87.66666666666667}, {\"Country\": \"Cambodia\", \"Year\": 2013, \"Hepatitis B\": 83.0, \"Polio\": 66.0, \"Diphtheria\": 83.0, \"Schooling\": 10.8, \"Average Vaccination Rate\": 77.33333333333333}, {\"Country\": \"Cambodia\", \"Year\": 2012, \"Hepatitis B\": 86.0, \"Polio\": 84.0, \"Diphtheria\": 86.0, \"Schooling\": 10.7, \"Average Vaccination Rate\": 85.33333333333333}, {\"Country\": \"Cambodia\", \"Year\": 2011, \"Hepatitis B\": 88.0, \"Polio\": 87.0, \"Diphtheria\": 88.0, \"Schooling\": 10.7, \"Average Vaccination Rate\": 87.66666666666667}, {\"Country\": \"Cambodia\", \"Year\": 2010, \"Hepatitis B\": 89.0, \"Polio\": 88.0, \"Diphtheria\": 89.0, \"Schooling\": 10.6, \"Average Vaccination Rate\": 88.66666666666667}, {\"Country\": \"Cambodia\", \"Year\": 2009, \"Hepatitis B\": 92.0, \"Polio\": 95.0, \"Diphtheria\": 94.0, \"Schooling\": 10.5, \"Average Vaccination Rate\": 93.66666666666667}, {\"Country\": \"Cambodia\", \"Year\": 2008, \"Hepatitis B\": 91.0, \"Polio\": 91.0, \"Diphtheria\": 91.0, \"Schooling\": 10.5, \"Average Vaccination Rate\": 91.0}, {\"Country\": \"Cambodia\", \"Year\": 2007, \"Hepatitis B\": 82.0, \"Polio\": 82.0, \"Diphtheria\": 82.0, \"Schooling\": 10.3, \"Average Vaccination Rate\": 82.0}, {\"Country\": \"Cambodia\", \"Year\": 2006, \"Hepatitis B\": 8.0, \"Polio\": 8.0, \"Diphtheria\": 8.0, \"Schooling\": 10.1, \"Average Vaccination Rate\": 8.0}, {\"Country\": \"Cambodia\", \"Year\": 2005, \"Hepatitis B\": null, \"Polio\": 82.0, \"Diphtheria\": 82.0, \"Schooling\": 10.0, \"Average Vaccination Rate\": null}, {\"Country\": \"Cambodia\", \"Year\": 2004, \"Hepatitis B\": null, \"Polio\": 86.0, \"Diphtheria\": 85.0, \"Schooling\": 9.7, \"Average Vaccination Rate\": null}, {\"Country\": \"Cambodia\", \"Year\": 2003, \"Hepatitis B\": null, \"Polio\": 69.0, \"Diphtheria\": 69.0, \"Schooling\": 9.3, \"Average Vaccination Rate\": null}, {\"Country\": \"Cambodia\", \"Year\": 2002, \"Hepatitis B\": null, \"Polio\": 54.0, \"Diphtheria\": 54.0, \"Schooling\": 8.2, \"Average Vaccination Rate\": null}, {\"Country\": \"Cambodia\", \"Year\": 2001, \"Hepatitis B\": null, \"Polio\": 59.0, \"Diphtheria\": 6.0, \"Schooling\": 7.6, \"Average Vaccination Rate\": null}, {\"Country\": \"Cambodia\", \"Year\": 2000, \"Hepatitis B\": null, \"Polio\": 62.0, \"Diphtheria\": 59.0, \"Schooling\": 7.2, \"Average Vaccination Rate\": null}, {\"Country\": \"China\", \"Year\": 2015, \"Hepatitis B\": 99.0, \"Polio\": 99.0, \"Diphtheria\": 99.0, \"Schooling\": 13.5, \"Average Vaccination Rate\": 99.0}, {\"Country\": \"China\", \"Year\": 2014, \"Hepatitis B\": 99.0, \"Polio\": 99.0, \"Diphtheria\": 99.0, \"Schooling\": 13.1, \"Average Vaccination Rate\": 99.0}, {\"Country\": \"China\", \"Year\": 2013, \"Hepatitis B\": 99.0, \"Polio\": 99.0, \"Diphtheria\": 99.0, \"Schooling\": 12.7, \"Average Vaccination Rate\": 99.0}, {\"Country\": \"China\", \"Year\": 2012, \"Hepatitis B\": 99.0, \"Polio\": 99.0, \"Diphtheria\": 99.0, \"Schooling\": 12.4, \"Average Vaccination Rate\": 99.0}, {\"Country\": \"China\", \"Year\": 2011, \"Hepatitis B\": 99.0, \"Polio\": 99.0, \"Diphtheria\": 99.0, \"Schooling\": 12.8, \"Average Vaccination Rate\": 99.0}, {\"Country\": \"China\", \"Year\": 2010, \"Hepatitis B\": 99.0, \"Polio\": 99.0, \"Diphtheria\": 99.0, \"Schooling\": 12.5, \"Average Vaccination Rate\": 99.0}, {\"Country\": \"China\", \"Year\": 2009, \"Hepatitis B\": 99.0, \"Polio\": 99.0, \"Diphtheria\": 99.0, \"Schooling\": 12.2, \"Average Vaccination Rate\": 99.0}, {\"Country\": \"China\", \"Year\": 2008, \"Hepatitis B\": 95.0, \"Polio\": 99.0, \"Diphtheria\": 97.0, \"Schooling\": 11.9, \"Average Vaccination Rate\": 97.0}, {\"Country\": \"China\", \"Year\": 2007, \"Hepatitis B\": 92.0, \"Polio\": 94.0, \"Diphtheria\": 93.0, \"Schooling\": 11.4, \"Average Vaccination Rate\": 93.0}, {\"Country\": \"China\", \"Year\": 2006, \"Hepatitis B\": 91.0, \"Polio\": 94.0, \"Diphtheria\": 93.0, \"Schooling\": 11.0, \"Average Vaccination Rate\": 92.66666666666667}, {\"Country\": \"China\", \"Year\": 2005, \"Hepatitis B\": 84.0, \"Polio\": 87.0, \"Diphtheria\": 87.0, \"Schooling\": 10.6, \"Average Vaccination Rate\": 86.0}, {\"Country\": \"China\", \"Year\": 2004, \"Hepatitis B\": 79.0, \"Polio\": 87.0, \"Diphtheria\": 87.0, \"Schooling\": 10.2, \"Average Vaccination Rate\": 84.33333333333333}, {\"Country\": \"China\", \"Year\": 2003, \"Hepatitis B\": 75.0, \"Polio\": 87.0, \"Diphtheria\": 86.0, \"Schooling\": 9.9, \"Average Vaccination Rate\": 82.66666666666667}, {\"Country\": \"China\", \"Year\": 2002, \"Hepatitis B\": 7.0, \"Polio\": 86.0, \"Diphtheria\": 86.0, \"Schooling\": 9.7, \"Average Vaccination Rate\": 59.666666666666664}, {\"Country\": \"China\", \"Year\": 2001, \"Hepatitis B\": 65.0, \"Polio\": 86.0, \"Diphtheria\": 86.0, \"Schooling\": 9.6, \"Average Vaccination Rate\": 79.0}, {\"Country\": \"China\", \"Year\": 2000, \"Hepatitis B\": 6.0, \"Polio\": 86.0, \"Diphtheria\": 85.0, \"Schooling\": 9.5, \"Average Vaccination Rate\": 59.0}, {\"Country\": \"Democratic People's Republic of Korea\", \"Year\": 2015, \"Hepatitis B\": 96.0, \"Polio\": 99.0, \"Diphtheria\": 96.0, \"Schooling\": null, \"Average Vaccination Rate\": 97.0}, {\"Country\": \"Democratic People's Republic of Korea\", \"Year\": 2014, \"Hepatitis B\": 93.0, \"Polio\": 99.0, \"Diphtheria\": 93.0, \"Schooling\": null, \"Average Vaccination Rate\": 95.0}, {\"Country\": \"Democratic People's Republic of Korea\", \"Year\": 2013, \"Hepatitis B\": 93.0, \"Polio\": 99.0, \"Diphtheria\": 93.0, \"Schooling\": null, \"Average Vaccination Rate\": 95.0}, {\"Country\": \"Democratic People's Republic of Korea\", \"Year\": 2012, \"Hepatitis B\": 96.0, \"Polio\": 99.0, \"Diphtheria\": 96.0, \"Schooling\": null, \"Average Vaccination Rate\": 97.0}, {\"Country\": \"Democratic People's Republic of Korea\", \"Year\": 2011, \"Hepatitis B\": 94.0, \"Polio\": 99.0, \"Diphtheria\": 94.0, \"Schooling\": null, \"Average Vaccination Rate\": 95.66666666666667}, {\"Country\": \"Democratic People's Republic of Korea\", \"Year\": 2010, \"Hepatitis B\": 93.0, \"Polio\": 99.0, \"Diphtheria\": 93.0, \"Schooling\": null, \"Average Vaccination Rate\": 95.0}, {\"Country\": \"Democratic People's Republic of Korea\", \"Year\": 2009, \"Hepatitis B\": 93.0, \"Polio\": 98.0, \"Diphtheria\": 93.0, \"Schooling\": null, \"Average Vaccination Rate\": 94.66666666666667}, {\"Country\": \"Democratic People's Republic of Korea\", \"Year\": 2008, \"Hepatitis B\": 92.0, \"Polio\": 98.0, \"Diphtheria\": 92.0, \"Schooling\": null, \"Average Vaccination Rate\": 94.0}, {\"Country\": \"Democratic People's Republic of Korea\", \"Year\": 2007, \"Hepatitis B\": 92.0, \"Polio\": 99.0, \"Diphtheria\": 92.0, \"Schooling\": null, \"Average Vaccination Rate\": 94.33333333333333}, {\"Country\": \"Democratic People's Republic of Korea\", \"Year\": 2006, \"Hepatitis B\": 96.0, \"Polio\": 98.0, \"Diphtheria\": 89.0, \"Schooling\": null, \"Average Vaccination Rate\": 94.33333333333333}, {\"Country\": \"Democratic People's Republic of Korea\", \"Year\": 2005, \"Hepatitis B\": 92.0, \"Polio\": 97.0, \"Diphtheria\": 79.0, \"Schooling\": null, \"Average Vaccination Rate\": 89.33333333333333}, {\"Country\": \"Democratic People's Republic of Korea\", \"Year\": 2004, \"Hepatitis B\": 98.0, \"Polio\": 99.0, \"Diphtheria\": 72.0, \"Schooling\": null, \"Average Vaccination Rate\": 89.66666666666667}, {\"Country\": \"Democratic People's Republic of Korea\", \"Year\": 2003, \"Hepatitis B\": 27.0, \"Polio\": 99.0, \"Diphtheria\": 68.0, \"Schooling\": null, \"Average Vaccination Rate\": 64.66666666666667}, {\"Country\": \"Democratic People's Republic of Korea\", \"Year\": 2002, \"Hepatitis B\": null, \"Polio\": 99.0, \"Diphtheria\": 64.0, \"Schooling\": null, \"Average Vaccination Rate\": null}, {\"Country\": \"Democratic People's Republic of Korea\", \"Year\": 2001, \"Hepatitis B\": null, \"Polio\": 98.0, \"Diphtheria\": 62.0, \"Schooling\": null, \"Average Vaccination Rate\": null}, {\"Country\": \"Democratic People's Republic of Korea\", \"Year\": 2000, \"Hepatitis B\": null, \"Polio\": 93.0, \"Diphtheria\": 56.0, \"Schooling\": null, \"Average Vaccination Rate\": null}, {\"Country\": \"India\", \"Year\": 2015, \"Hepatitis B\": 87.0, \"Polio\": 86.0, \"Diphtheria\": 87.0, \"Schooling\": 11.6, \"Average Vaccination Rate\": 86.66666666666667}, {\"Country\": \"India\", \"Year\": 2014, \"Hepatitis B\": 79.0, \"Polio\": 84.0, \"Diphtheria\": 85.0, \"Schooling\": 11.6, \"Average Vaccination Rate\": 82.66666666666667}, {\"Country\": \"India\", \"Year\": 2013, \"Hepatitis B\": 7.0, \"Polio\": 82.0, \"Diphtheria\": 83.0, \"Schooling\": 11.5, \"Average Vaccination Rate\": 57.333333333333336}, {\"Country\": \"India\", \"Year\": 2012, \"Hepatitis B\": 73.0, \"Polio\": 79.0, \"Diphtheria\": 82.0, \"Schooling\": 11.3, \"Average Vaccination Rate\": 78.0}, {\"Country\": \"India\", \"Year\": 2011, \"Hepatitis B\": 44.0, \"Polio\": 79.0, \"Diphtheria\": 82.0, \"Schooling\": 10.8, \"Average Vaccination Rate\": 68.33333333333333}, {\"Country\": \"India\", \"Year\": 2010, \"Hepatitis B\": 38.0, \"Polio\": 76.0, \"Diphtheria\": 79.0, \"Schooling\": 10.4, \"Average Vaccination Rate\": 64.33333333333333}, {\"Country\": \"India\", \"Year\": 2009, \"Hepatitis B\": 37.0, \"Polio\": 73.0, \"Diphtheria\": 74.0, \"Schooling\": 10.5, \"Average Vaccination Rate\": 61.333333333333336}, {\"Country\": \"India\", \"Year\": 2008, \"Hepatitis B\": 29.0, \"Polio\": 69.0, \"Diphtheria\": 7.0, \"Schooling\": 10.2, \"Average Vaccination Rate\": 35.0}, {\"Country\": \"India\", \"Year\": 2007, \"Hepatitis B\": 6.0, \"Polio\": 67.0, \"Diphtheria\": 64.0, \"Schooling\": 9.9, \"Average Vaccination Rate\": 45.666666666666664}, {\"Country\": \"India\", \"Year\": 2006, \"Hepatitis B\": 6.0, \"Polio\": 66.0, \"Diphtheria\": 65.0, \"Schooling\": 9.7, \"Average Vaccination Rate\": 45.666666666666664}, {\"Country\": \"India\", \"Year\": 2005, \"Hepatitis B\": 8.0, \"Polio\": 65.0, \"Diphtheria\": 65.0, \"Schooling\": 9.4, \"Average Vaccination Rate\": 46.0}, {\"Country\": \"India\", \"Year\": 2004, \"Hepatitis B\": 6.0, \"Polio\": 58.0, \"Diphtheria\": 63.0, \"Schooling\": 9.2, \"Average Vaccination Rate\": 42.333333333333336}, {\"Country\": \"India\", \"Year\": 2003, \"Hepatitis B\": null, \"Polio\": 57.0, \"Diphtheria\": 61.0, \"Schooling\": 8.6, \"Average Vaccination Rate\": null}, {\"Country\": \"India\", \"Year\": 2002, \"Hepatitis B\": null, \"Polio\": 58.0, \"Diphtheria\": 59.0, \"Schooling\": 8.4, \"Average Vaccination Rate\": null}, {\"Country\": \"India\", \"Year\": 2001, \"Hepatitis B\": null, \"Polio\": 58.0, \"Diphtheria\": 59.0, \"Schooling\": 8.3, \"Average Vaccination Rate\": null}, {\"Country\": \"India\", \"Year\": 2000, \"Hepatitis B\": null, \"Polio\": 57.0, \"Diphtheria\": 58.0, \"Schooling\": 8.3, \"Average Vaccination Rate\": null}, {\"Country\": \"Indonesia\", \"Year\": 2015, \"Hepatitis B\": 78.0, \"Polio\": 8.0, \"Diphtheria\": 78.0, \"Schooling\": 12.9, \"Average Vaccination Rate\": 54.666666666666664}, {\"Country\": \"Indonesia\", \"Year\": 2014, \"Hepatitis B\": 78.0, \"Polio\": 8.0, \"Diphtheria\": 78.0, \"Schooling\": 12.9, \"Average Vaccination Rate\": 54.666666666666664}, {\"Country\": \"Indonesia\", \"Year\": 2013, \"Hepatitis B\": 85.0, \"Polio\": 86.0, \"Diphtheria\": 85.0, \"Schooling\": 12.9, \"Average Vaccination Rate\": 85.33333333333333}, {\"Country\": \"Indonesia\", \"Year\": 2012, \"Hepatitis B\": 83.0, \"Polio\": 84.0, \"Diphtheria\": 83.0, \"Schooling\": 12.6, \"Average Vaccination Rate\": 83.33333333333333}, {\"Country\": \"Indonesia\", \"Year\": 2011, \"Hepatitis B\": 81.0, \"Polio\": 81.0, \"Diphtheria\": 81.0, \"Schooling\": 12.3, \"Average Vaccination Rate\": 81.0}, {\"Country\": \"Indonesia\", \"Year\": 2010, \"Hepatitis B\": 83.0, \"Polio\": 82.0, \"Diphtheria\": 81.0, \"Schooling\": 12.1, \"Average Vaccination Rate\": 82.0}, {\"Country\": \"Indonesia\", \"Year\": 2009, \"Hepatitis B\": 82.0, \"Polio\": 85.0, \"Diphtheria\": 78.0, \"Schooling\": 11.7, \"Average Vaccination Rate\": 81.66666666666667}, {\"Country\": \"Indonesia\", \"Year\": 2008, \"Hepatitis B\": 82.0, \"Polio\": 83.0, \"Diphtheria\": 77.0, \"Schooling\": 11.7, \"Average Vaccination Rate\": 80.66666666666667}, {\"Country\": \"Indonesia\", \"Year\": 2007, \"Hepatitis B\": 76.0, \"Polio\": 77.0, \"Diphtheria\": 73.0, \"Schooling\": 11.0, \"Average Vaccination Rate\": 75.33333333333333}, {\"Country\": \"Indonesia\", \"Year\": 2006, \"Hepatitis B\": 66.0, \"Polio\": 78.0, \"Diphtheria\": 72.0, \"Schooling\": 10.9, \"Average Vaccination Rate\": 72.0}, {\"Country\": \"Indonesia\", \"Year\": 2005, \"Hepatitis B\": 65.0, \"Polio\": 79.0, \"Diphtheria\": 72.0, \"Schooling\": 11.1, \"Average Vaccination Rate\": 72.0}, {\"Country\": \"Indonesia\", \"Year\": 2004, \"Hepatitis B\": 64.0, \"Polio\": 79.0, \"Diphtheria\": 71.0, \"Schooling\": 11.0, \"Average Vaccination Rate\": 71.33333333333333}, {\"Country\": \"Indonesia\", \"Year\": 2003, \"Hepatitis B\": 64.0, \"Polio\": 8.0, \"Diphtheria\": 71.0, \"Schooling\": 10.8, \"Average Vaccination Rate\": 47.666666666666664}, {\"Country\": \"Indonesia\", \"Year\": 2002, \"Hepatitis B\": 63.0, \"Polio\": 8.0, \"Diphtheria\": 7.0, \"Schooling\": 10.6, \"Average Vaccination Rate\": 26.0}, {\"Country\": \"Indonesia\", \"Year\": 2001, \"Hepatitis B\": 62.0, \"Polio\": 77.0, \"Diphtheria\": 76.0, \"Schooling\": 10.6, \"Average Vaccination Rate\": 71.66666666666667}, {\"Country\": \"Indonesia\", \"Year\": 2000, \"Hepatitis B\": 65.0, \"Polio\": 72.0, \"Diphtheria\": 75.0, \"Schooling\": 10.7, \"Average Vaccination Rate\": 70.66666666666667}, {\"Country\": \"Japan\", \"Year\": 2015, \"Hepatitis B\": null, \"Polio\": 99.0, \"Diphtheria\": 96.0, \"Schooling\": 15.3, \"Average Vaccination Rate\": null}, {\"Country\": \"Japan\", \"Year\": 2014, \"Hepatitis B\": null, \"Polio\": 99.0, \"Diphtheria\": 96.0, \"Schooling\": 15.3, \"Average Vaccination Rate\": null}, {\"Country\": \"Japan\", \"Year\": 2013, \"Hepatitis B\": null, \"Polio\": 99.0, \"Diphtheria\": 96.0, \"Schooling\": 15.3, \"Average Vaccination Rate\": null}, {\"Country\": \"Japan\", \"Year\": 2012, \"Hepatitis B\": null, \"Polio\": 99.0, \"Diphtheria\": 97.0, \"Schooling\": 15.3, \"Average Vaccination Rate\": null}, {\"Country\": \"Japan\", \"Year\": 2011, \"Hepatitis B\": null, \"Polio\": 96.0, \"Diphtheria\": 97.0, \"Schooling\": 15.1, \"Average Vaccination Rate\": null}, {\"Country\": \"Japan\", \"Year\": 2010, \"Hepatitis B\": null, \"Polio\": 98.0, \"Diphtheria\": 97.0, \"Schooling\": 15.1, \"Average Vaccination Rate\": null}, {\"Country\": \"Japan\", \"Year\": 2009, \"Hepatitis B\": null, \"Polio\": 99.0, \"Diphtheria\": 97.0, \"Schooling\": 15.0, \"Average Vaccination Rate\": null}, {\"Country\": \"Japan\", \"Year\": 2008, \"Hepatitis B\": null, \"Polio\": 98.0, \"Diphtheria\": 98.0, \"Schooling\": 15.0, \"Average Vaccination Rate\": null}, {\"Country\": \"Japan\", \"Year\": 2007, \"Hepatitis B\": null, \"Polio\": 97.0, \"Diphtheria\": 98.0, \"Schooling\": 15.0, \"Average Vaccination Rate\": null}, {\"Country\": \"Japan\", \"Year\": 2006, \"Hepatitis B\": null, \"Polio\": 95.0, \"Diphtheria\": 98.0, \"Schooling\": 14.9, \"Average Vaccination Rate\": null}, {\"Country\": \"Japan\", \"Year\": 2005, \"Hepatitis B\": null, \"Polio\": 95.0, \"Diphtheria\": 98.0, \"Schooling\": 14.9, \"Average Vaccination Rate\": null}, {\"Country\": \"Japan\", \"Year\": 2004, \"Hepatitis B\": null, \"Polio\": 97.0, \"Diphtheria\": 99.0, \"Schooling\": 14.8, \"Average Vaccination Rate\": null}, {\"Country\": \"Japan\", \"Year\": 2003, \"Hepatitis B\": null, \"Polio\": 97.0, \"Diphtheria\": 97.0, \"Schooling\": 14.8, \"Average Vaccination Rate\": null}, {\"Country\": \"Japan\", \"Year\": 2002, \"Hepatitis B\": null, \"Polio\": 89.0, \"Diphtheria\": 96.0, \"Schooling\": 14.7, \"Average Vaccination Rate\": null}, {\"Country\": \"Japan\", \"Year\": 2001, \"Hepatitis B\": null, \"Polio\": 81.0, \"Diphtheria\": 95.0, \"Schooling\": 14.6, \"Average Vaccination Rate\": null}, {\"Country\": \"Japan\", \"Year\": 2000, \"Hepatitis B\": null, \"Polio\": 98.0, \"Diphtheria\": 85.0, \"Schooling\": 14.5, \"Average Vaccination Rate\": null}, {\"Country\": \"Lao People's Democratic Republic\", \"Year\": 2015, \"Hepatitis B\": 89.0, \"Polio\": 89.0, \"Diphtheria\": 89.0, \"Schooling\": 10.8, \"Average Vaccination Rate\": 89.0}, {\"Country\": \"Lao People's Democratic Republic\", \"Year\": 2014, \"Hepatitis B\": 88.0, \"Polio\": 88.0, \"Diphtheria\": 88.0, \"Schooling\": 10.6, \"Average Vaccination Rate\": 88.0}, {\"Country\": \"Lao People's Democratic Republic\", \"Year\": 2013, \"Hepatitis B\": 87.0, \"Polio\": 86.0, \"Diphtheria\": 87.0, \"Schooling\": 10.4, \"Average Vaccination Rate\": 86.66666666666667}, {\"Country\": \"Lao People's Democratic Republic\", \"Year\": 2012, \"Hepatitis B\": 79.0, \"Polio\": 78.0, \"Diphtheria\": 79.0, \"Schooling\": 10.2, \"Average Vaccination Rate\": 78.66666666666667}, {\"Country\": \"Lao People's Democratic Republic\", \"Year\": 2011, \"Hepatitis B\": 78.0, \"Polio\": 79.0, \"Diphtheria\": 78.0, \"Schooling\": 9.9, \"Average Vaccination Rate\": 78.33333333333333}, {\"Country\": \"Lao People's Democratic Republic\", \"Year\": 2010, \"Hepatitis B\": 74.0, \"Polio\": 76.0, \"Diphtheria\": 74.0, \"Schooling\": 9.6, \"Average Vaccination Rate\": 74.66666666666667}, {\"Country\": \"Lao People's Democratic Republic\", \"Year\": 2009, \"Hepatitis B\": 67.0, \"Polio\": 67.0, \"Diphtheria\": 67.0, \"Schooling\": 9.4, \"Average Vaccination Rate\": 67.0}, {\"Country\": \"Lao People's Democratic Republic\", \"Year\": 2008, \"Hepatitis B\": 61.0, \"Polio\": 6.0, \"Diphtheria\": 61.0, \"Schooling\": 9.2, \"Average Vaccination Rate\": 42.666666666666664}, {\"Country\": \"Lao People's Democratic Republic\", \"Year\": 2007, \"Hepatitis B\": 5.0, \"Polio\": 46.0, \"Diphtheria\": 5.0, \"Schooling\": 9.0, \"Average Vaccination Rate\": 18.666666666666668}, {\"Country\": \"Lao People's Democratic Republic\", \"Year\": 2006, \"Hepatitis B\": 57.0, \"Polio\": 56.0, \"Diphtheria\": 57.0, \"Schooling\": 9.0, \"Average Vaccination Rate\": 56.666666666666664}, {\"Country\": \"Lao People's Democratic Republic\", \"Year\": 2005, \"Hepatitis B\": 49.0, \"Polio\": 5.0, \"Diphtheria\": 49.0, \"Schooling\": 8.7, \"Average Vaccination Rate\": 34.333333333333336}, {\"Country\": \"Lao People's Democratic Republic\", \"Year\": 2004, \"Hepatitis B\": 45.0, \"Polio\": 46.0, \"Diphtheria\": 45.0, \"Schooling\": 8.6, \"Average Vaccination Rate\": 45.333333333333336}, {\"Country\": \"Lao People's Democratic Republic\", \"Year\": 2003, \"Hepatitis B\": 5.0, \"Polio\": 52.0, \"Diphtheria\": 49.0, \"Schooling\": 8.3, \"Average Vaccination Rate\": 35.333333333333336}, {\"Country\": \"Lao People's Democratic Republic\", \"Year\": 2002, \"Hepatitis B\": null, \"Polio\": 55.0, \"Diphtheria\": 53.0, \"Schooling\": 8.0, \"Average Vaccination Rate\": null}, {\"Country\": \"Lao People's Democratic Republic\", \"Year\": 2001, \"Hepatitis B\": null, \"Polio\": 55.0, \"Diphtheria\": 52.0, \"Schooling\": 8.0, \"Average Vaccination Rate\": null}, {\"Country\": \"Lao People's Democratic Republic\", \"Year\": 2000, \"Hepatitis B\": null, \"Polio\": 57.0, \"Diphtheria\": 51.0, \"Schooling\": 8.0, \"Average Vaccination Rate\": null}, {\"Country\": \"Malaysia\", \"Year\": 2015, \"Hepatitis B\": 99.0, \"Polio\": 99.0, \"Diphtheria\": 99.0, \"Schooling\": 13.1, \"Average Vaccination Rate\": 99.0}, {\"Country\": \"Malaysia\", \"Year\": 2014, \"Hepatitis B\": 96.0, \"Polio\": 97.0, \"Diphtheria\": 97.0, \"Schooling\": 13.0, \"Average Vaccination Rate\": 96.66666666666667}, {\"Country\": \"Malaysia\", \"Year\": 2013, \"Hepatitis B\": 96.0, \"Polio\": 97.0, \"Diphtheria\": 97.0, \"Schooling\": 12.9, \"Average Vaccination Rate\": 96.66666666666667}, {\"Country\": \"Malaysia\", \"Year\": 2012, \"Hepatitis B\": 97.0, \"Polio\": 97.0, \"Diphtheria\": 97.0, \"Schooling\": 12.9, \"Average Vaccination Rate\": 97.0}, {\"Country\": \"Malaysia\", \"Year\": 2011, \"Hepatitis B\": 96.0, \"Polio\": 96.0, \"Diphtheria\": 96.0, \"Schooling\": 13.0, \"Average Vaccination Rate\": 96.0}, {\"Country\": \"Malaysia\", \"Year\": 2010, \"Hepatitis B\": 96.0, \"Polio\": 96.0, \"Diphtheria\": 96.0, \"Schooling\": 12.8, \"Average Vaccination Rate\": 96.0}, {\"Country\": \"Malaysia\", \"Year\": 2009, \"Hepatitis B\": 96.0, \"Polio\": 97.0, \"Diphtheria\": 97.0, \"Schooling\": 12.6, \"Average Vaccination Rate\": 96.66666666666667}, {\"Country\": \"Malaysia\", \"Year\": 2008, \"Hepatitis B\": 97.0, \"Polio\": 97.0, \"Diphtheria\": 97.0, \"Schooling\": 12.5, \"Average Vaccination Rate\": 97.0}, {\"Country\": \"Malaysia\", \"Year\": 2007, \"Hepatitis B\": 96.0, \"Polio\": 97.0, \"Diphtheria\": 97.0, \"Schooling\": 12.3, \"Average Vaccination Rate\": 96.66666666666667}, {\"Country\": \"Malaysia\", \"Year\": 2006, \"Hepatitis B\": 95.0, \"Polio\": 95.0, \"Diphtheria\": 95.0, \"Schooling\": 12.7, \"Average Vaccination Rate\": 95.0}, {\"Country\": \"Malaysia\", \"Year\": 2005, \"Hepatitis B\": 96.0, \"Polio\": 96.0, \"Diphtheria\": 96.0, \"Schooling\": 12.9, \"Average Vaccination Rate\": 96.0}, {\"Country\": \"Malaysia\", \"Year\": 2004, \"Hepatitis B\": 94.0, \"Polio\": 95.0, \"Diphtheria\": 95.0, \"Schooling\": 12.7, \"Average Vaccination Rate\": 94.66666666666667}, {\"Country\": \"Malaysia\", \"Year\": 2003, \"Hepatitis B\": 95.0, \"Polio\": 96.0, \"Diphtheria\": 96.0, \"Schooling\": 12.1, \"Average Vaccination Rate\": 95.66666666666667}, {\"Country\": \"Malaysia\", \"Year\": 2002, \"Hepatitis B\": 95.0, \"Polio\": 94.0, \"Diphtheria\": 94.0, \"Schooling\": 12.0, \"Average Vaccination Rate\": 94.33333333333333}, {\"Country\": \"Malaysia\", \"Year\": 2001, \"Hepatitis B\": 95.0, \"Polio\": 95.0, \"Diphtheria\": 96.0, \"Schooling\": 11.9, \"Average Vaccination Rate\": 95.33333333333333}, {\"Country\": \"Malaysia\", \"Year\": 2000, \"Hepatitis B\": 97.0, \"Polio\": 98.0, \"Diphtheria\": 98.0, \"Schooling\": 11.6, \"Average Vaccination Rate\": 97.66666666666667}, {\"Country\": \"Mongolia\", \"Year\": 2015, \"Hepatitis B\": 99.0, \"Polio\": 99.0, \"Diphtheria\": 99.0, \"Schooling\": 14.8, \"Average Vaccination Rate\": 99.0}, {\"Country\": \"Mongolia\", \"Year\": 2014, \"Hepatitis B\": 99.0, \"Polio\": 99.0, \"Diphtheria\": 99.0, \"Schooling\": 14.8, \"Average Vaccination Rate\": 99.0}, {\"Country\": \"Mongolia\", \"Year\": 2013, \"Hepatitis B\": 98.0, \"Polio\": 98.0, \"Diphtheria\": 98.0, \"Schooling\": 14.7, \"Average Vaccination Rate\": 98.0}, {\"Country\": \"Mongolia\", \"Year\": 2012, \"Hepatitis B\": 99.0, \"Polio\": 99.0, \"Diphtheria\": 99.0, \"Schooling\": 14.7, \"Average Vaccination Rate\": 99.0}, {\"Country\": \"Mongolia\", \"Year\": 2011, \"Hepatitis B\": 99.0, \"Polio\": 99.0, \"Diphtheria\": 99.0, \"Schooling\": 14.6, \"Average Vaccination Rate\": 99.0}, {\"Country\": \"Mongolia\", \"Year\": 2010, \"Hepatitis B\": 96.0, \"Polio\": 96.0, \"Diphtheria\": 96.0, \"Schooling\": 14.3, \"Average Vaccination Rate\": 96.0}, {\"Country\": \"Mongolia\", \"Year\": 2009, \"Hepatitis B\": 97.0, \"Polio\": 96.0, \"Diphtheria\": 95.0, \"Schooling\": 13.8, \"Average Vaccination Rate\": 96.0}, {\"Country\": \"Mongolia\", \"Year\": 2008, \"Hepatitis B\": 96.0, \"Polio\": 95.0, \"Diphtheria\": 96.0, \"Schooling\": 13.4, \"Average Vaccination Rate\": 95.66666666666667}, {\"Country\": \"Mongolia\", \"Year\": 2007, \"Hepatitis B\": 98.0, \"Polio\": 99.0, \"Diphtheria\": 95.0, \"Schooling\": 13.0, \"Average Vaccination Rate\": 97.33333333333333}, {\"Country\": \"Mongolia\", \"Year\": 2006, \"Hepatitis B\": 98.0, \"Polio\": 98.0, \"Diphtheria\": 99.0, \"Schooling\": 12.7, \"Average Vaccination Rate\": 98.33333333333333}, {\"Country\": \"Mongolia\", \"Year\": 2005, \"Hepatitis B\": 98.0, \"Polio\": 99.0, \"Diphtheria\": 99.0, \"Schooling\": 11.8, \"Average Vaccination Rate\": 98.66666666666667}, {\"Country\": \"Mongolia\", \"Year\": 2004, \"Hepatitis B\": 98.0, \"Polio\": 99.0, \"Diphtheria\": 99.0, \"Schooling\": 11.2, \"Average Vaccination Rate\": 98.66666666666667}, {\"Country\": \"Mongolia\", \"Year\": 2003, \"Hepatitis B\": 98.0, \"Polio\": 98.0, \"Diphtheria\": 98.0, \"Schooling\": 10.5, \"Average Vaccination Rate\": 98.0}, {\"Country\": \"Mongolia\", \"Year\": 2002, \"Hepatitis B\": 98.0, \"Polio\": 98.0, \"Diphtheria\": 98.0, \"Schooling\": 10.1, \"Average Vaccination Rate\": 98.0}, {\"Country\": \"Mongolia\", \"Year\": 2001, \"Hepatitis B\": 95.0, \"Polio\": 95.0, \"Diphtheria\": 95.0, \"Schooling\": 9.4, \"Average Vaccination Rate\": 95.0}, {\"Country\": \"Mongolia\", \"Year\": 2000, \"Hepatitis B\": 93.0, \"Polio\": 94.0, \"Diphtheria\": 94.0, \"Schooling\": 8.9, \"Average Vaccination Rate\": 93.66666666666667}, {\"Country\": \"Myanmar\", \"Year\": 2015, \"Hepatitis B\": 89.0, \"Polio\": 89.0, \"Diphtheria\": 89.0, \"Schooling\": 9.1, \"Average Vaccination Rate\": 89.0}, {\"Country\": \"Myanmar\", \"Year\": 2014, \"Hepatitis B\": 88.0, \"Polio\": 88.0, \"Diphtheria\": 88.0, \"Schooling\": 9.1, \"Average Vaccination Rate\": 88.0}, {\"Country\": \"Myanmar\", \"Year\": 2013, \"Hepatitis B\": 75.0, \"Polio\": 76.0, \"Diphtheria\": 75.0, \"Schooling\": 9.1, \"Average Vaccination Rate\": 75.33333333333333}, {\"Country\": \"Myanmar\", \"Year\": 2012, \"Hepatitis B\": 58.0, \"Polio\": 87.0, \"Diphtheria\": 84.0, \"Schooling\": 9.1, \"Average Vaccination Rate\": 76.33333333333333}, {\"Country\": \"Myanmar\", \"Year\": 2011, \"Hepatitis B\": 4.0, \"Polio\": 9.0, \"Diphtheria\": 84.0, \"Schooling\": 9.1, \"Average Vaccination Rate\": 32.333333333333336}, {\"Country\": \"Myanmar\", \"Year\": 2010, \"Hepatitis B\": 92.0, \"Polio\": 9.0, \"Diphtheria\": 9.0, \"Schooling\": 8.8, \"Average Vaccination Rate\": 36.666666666666664}, {\"Country\": \"Myanmar\", \"Year\": 2009, \"Hepatitis B\": 91.0, \"Polio\": 9.0, \"Diphtheria\": 9.0, \"Schooling\": 8.5, \"Average Vaccination Rate\": 36.333333333333336}, {\"Country\": \"Myanmar\", \"Year\": 2008, \"Hepatitis B\": 85.0, \"Polio\": 85.0, \"Diphtheria\": 85.0, \"Schooling\": 8.2, \"Average Vaccination Rate\": 85.0}, {\"Country\": \"Myanmar\", \"Year\": 2007, \"Hepatitis B\": 85.0, \"Polio\": 84.0, \"Diphtheria\": 86.0, \"Schooling\": 8.1, \"Average Vaccination Rate\": 85.0}, {\"Country\": \"Myanmar\", \"Year\": 2006, \"Hepatitis B\": 75.0, \"Polio\": 82.0, \"Diphtheria\": 82.0, \"Schooling\": 8.0, \"Average Vaccination Rate\": 79.66666666666667}, {\"Country\": \"Myanmar\", \"Year\": 2005, \"Hepatitis B\": 62.0, \"Polio\": 86.0, \"Diphtheria\": 73.0, \"Schooling\": 7.9, \"Average Vaccination Rate\": 73.66666666666667}, {\"Country\": \"Myanmar\", \"Year\": 2004, \"Hepatitis B\": 39.0, \"Polio\": 92.0, \"Diphtheria\": 82.0, \"Schooling\": 7.8, \"Average Vaccination Rate\": 71.0}, {\"Country\": \"Myanmar\", \"Year\": 2003, \"Hepatitis B\": 8.0, \"Polio\": 86.0, \"Diphtheria\": 78.0, \"Schooling\": 7.7, \"Average Vaccination Rate\": 57.333333333333336}, {\"Country\": \"Myanmar\", \"Year\": 2002, \"Hepatitis B\": null, \"Polio\": 84.0, \"Diphtheria\": 79.0, \"Schooling\": 7.6, \"Average Vaccination Rate\": null}, {\"Country\": \"Myanmar\", \"Year\": 2001, \"Hepatitis B\": null, \"Polio\": 77.0, \"Diphtheria\": 73.0, \"Schooling\": 7.6, \"Average Vaccination Rate\": null}, {\"Country\": \"Myanmar\", \"Year\": 2000, \"Hepatitis B\": null, \"Polio\": 88.0, \"Diphtheria\": 82.0, \"Schooling\": 7.5, \"Average Vaccination Rate\": null}, {\"Country\": \"Pakistan\", \"Year\": 2015, \"Hepatitis B\": 72.0, \"Polio\": 72.0, \"Diphtheria\": 72.0, \"Schooling\": 8.1, \"Average Vaccination Rate\": 72.0}, {\"Country\": \"Pakistan\", \"Year\": 2014, \"Hepatitis B\": 72.0, \"Polio\": 72.0, \"Diphtheria\": 72.0, \"Schooling\": 7.8, \"Average Vaccination Rate\": 72.0}, {\"Country\": \"Pakistan\", \"Year\": 2013, \"Hepatitis B\": 72.0, \"Polio\": 72.0, \"Diphtheria\": 72.0, \"Schooling\": 7.7, \"Average Vaccination Rate\": 72.0}, {\"Country\": \"Pakistan\", \"Year\": 2012, \"Hepatitis B\": 72.0, \"Polio\": 72.0, \"Diphtheria\": 72.0, \"Schooling\": 7.6, \"Average Vaccination Rate\": 72.0}, {\"Country\": \"Pakistan\", \"Year\": 2011, \"Hepatitis B\": 74.0, \"Polio\": 75.0, \"Diphtheria\": 74.0, \"Schooling\": 7.5, \"Average Vaccination Rate\": 74.33333333333333}, {\"Country\": \"Pakistan\", \"Year\": 2010, \"Hepatitis B\": 82.0, \"Polio\": 82.0, \"Diphtheria\": 82.0, \"Schooling\": 7.5, \"Average Vaccination Rate\": 82.0}, {\"Country\": \"Pakistan\", \"Year\": 2009, \"Hepatitis B\": 78.0, \"Polio\": 7.0, \"Diphtheria\": 71.0, \"Schooling\": 7.3, \"Average Vaccination Rate\": 52.0}, {\"Country\": \"Pakistan\", \"Year\": 2008, \"Hepatitis B\": 65.0, \"Polio\": 7.0, \"Diphtheria\": 62.0, \"Schooling\": 7.3, \"Average Vaccination Rate\": 44.666666666666664}, {\"Country\": \"Pakistan\", \"Year\": 2007, \"Hepatitis B\": 75.0, \"Polio\": 75.0, \"Diphtheria\": 75.0, \"Schooling\": 6.7, \"Average Vaccination Rate\": 75.0}, {\"Country\": \"Pakistan\", \"Year\": 2006, \"Hepatitis B\": 78.0, \"Polio\": 77.0, \"Diphtheria\": 78.0, \"Schooling\": 6.5, \"Average Vaccination Rate\": 77.66666666666667}, {\"Country\": \"Pakistan\", \"Year\": 2005, \"Hepatitis B\": 7.0, \"Polio\": 78.0, \"Diphtheria\": 77.0, \"Schooling\": 6.1, \"Average Vaccination Rate\": 54.0}, {\"Country\": \"Pakistan\", \"Year\": 2004, \"Hepatitis B\": 65.0, \"Polio\": 65.0, \"Diphtheria\": 65.0, \"Schooling\": 5.6, \"Average Vaccination Rate\": 65.0}, {\"Country\": \"Pakistan\", \"Year\": 2003, \"Hepatitis B\": 63.0, \"Polio\": 69.0, \"Diphtheria\": 67.0, \"Schooling\": 5.6, \"Average Vaccination Rate\": 66.33333333333333}, {\"Country\": \"Pakistan\", \"Year\": 2002, \"Hepatitis B\": null, \"Polio\": 71.0, \"Diphtheria\": 68.0, \"Schooling\": 5.5, \"Average Vaccination Rate\": null}, {\"Country\": \"Pakistan\", \"Year\": 2001, \"Hepatitis B\": null, \"Polio\": 68.0, \"Diphtheria\": 65.0, \"Schooling\": 5.4, \"Average Vaccination Rate\": null}, {\"Country\": \"Pakistan\", \"Year\": 2000, \"Hepatitis B\": null, \"Polio\": 65.0, \"Diphtheria\": 62.0, \"Schooling\": 5.3, \"Average Vaccination Rate\": null}, {\"Country\": \"Philippines\", \"Year\": 2015, \"Hepatitis B\": 6.0, \"Polio\": 79.0, \"Diphtheria\": 6.0, \"Schooling\": 11.7, \"Average Vaccination Rate\": 30.333333333333332}, {\"Country\": \"Philippines\", \"Year\": 2014, \"Hepatitis B\": 67.0, \"Polio\": 77.0, \"Diphtheria\": 67.0, \"Schooling\": 11.7, \"Average Vaccination Rate\": 70.33333333333333}, {\"Country\": \"Philippines\", \"Year\": 2013, \"Hepatitis B\": 89.0, \"Polio\": 84.0, \"Diphtheria\": 89.0, \"Schooling\": 11.7, \"Average Vaccination Rate\": 87.33333333333333}, {\"Country\": \"Philippines\", \"Year\": 2012, \"Hepatitis B\": 88.0, \"Polio\": 88.0, \"Diphtheria\": 88.0, \"Schooling\": 11.6, \"Average Vaccination Rate\": 88.0}, {\"Country\": \"Philippines\", \"Year\": 2011, \"Hepatitis B\": 87.0, \"Polio\": 87.0, \"Diphtheria\": 87.0, \"Schooling\": 11.5, \"Average Vaccination Rate\": 87.0}, {\"Country\": \"Philippines\", \"Year\": 2010, \"Hepatitis B\": 77.0, \"Polio\": 78.0, \"Diphtheria\": 79.0, \"Schooling\": 11.4, \"Average Vaccination Rate\": 78.0}, {\"Country\": \"Philippines\", \"Year\": 2009, \"Hepatitis B\": 85.0, \"Polio\": 86.0, \"Diphtheria\": 87.0, \"Schooling\": 11.7, \"Average Vaccination Rate\": 86.0}, {\"Country\": \"Philippines\", \"Year\": 2008, \"Hepatitis B\": 88.0, \"Polio\": 91.0, \"Diphtheria\": 91.0, \"Schooling\": 11.5, \"Average Vaccination Rate\": 90.0}, {\"Country\": \"Philippines\", \"Year\": 2007, \"Hepatitis B\": 87.0, \"Polio\": 87.0, \"Diphtheria\": 87.0, \"Schooling\": 11.4, \"Average Vaccination Rate\": 87.0}, {\"Country\": \"Philippines\", \"Year\": 2006, \"Hepatitis B\": 77.0, \"Polio\": 88.0, \"Diphtheria\": 88.0, \"Schooling\": 11.5, \"Average Vaccination Rate\": 84.33333333333333}, {\"Country\": \"Philippines\", \"Year\": 2005, \"Hepatitis B\": 49.0, \"Polio\": 9.0, \"Diphtheria\": 89.0, \"Schooling\": 11.6, \"Average Vaccination Rate\": 49.0}, {\"Country\": \"Philippines\", \"Year\": 2004, \"Hepatitis B\": 48.0, \"Polio\": 85.0, \"Diphtheria\": 88.0, \"Schooling\": 11.6, \"Average Vaccination Rate\": 73.66666666666667}, {\"Country\": \"Philippines\", \"Year\": 2003, \"Hepatitis B\": 52.0, \"Polio\": 85.0, \"Diphtheria\": 84.0, \"Schooling\": 11.6, \"Average Vaccination Rate\": 73.66666666666667}, {\"Country\": \"Philippines\", \"Year\": 2002, \"Hepatitis B\": 42.0, \"Polio\": 77.0, \"Diphtheria\": 79.0, \"Schooling\": 11.4, \"Average Vaccination Rate\": 66.0}, {\"Country\": \"Philippines\", \"Year\": 2001, \"Hepatitis B\": 45.0, \"Polio\": 76.0, \"Diphtheria\": 79.0, \"Schooling\": 11.4, \"Average Vaccination Rate\": 66.66666666666667}, {\"Country\": \"Philippines\", \"Year\": 2000, \"Hepatitis B\": 7.0, \"Polio\": 74.0, \"Diphtheria\": 78.0, \"Schooling\": 11.4, \"Average Vaccination Rate\": 53.0}, {\"Country\": \"Republic of Korea\", \"Year\": 2015, \"Hepatitis B\": 98.0, \"Polio\": 98.0, \"Diphtheria\": 98.0, \"Schooling\": null, \"Average Vaccination Rate\": 98.0}, {\"Country\": \"Republic of Korea\", \"Year\": 2014, \"Hepatitis B\": 99.0, \"Polio\": 99.0, \"Diphtheria\": 99.0, \"Schooling\": null, \"Average Vaccination Rate\": 99.0}, {\"Country\": \"Republic of Korea\", \"Year\": 2013, \"Hepatitis B\": 99.0, \"Polio\": 99.0, \"Diphtheria\": 99.0, \"Schooling\": null, \"Average Vaccination Rate\": 99.0}, {\"Country\": \"Republic of Korea\", \"Year\": 2012, \"Hepatitis B\": 99.0, \"Polio\": 99.0, \"Diphtheria\": 99.0, \"Schooling\": null, \"Average Vaccination Rate\": 99.0}, {\"Country\": \"Republic of Korea\", \"Year\": 2011, \"Hepatitis B\": 99.0, \"Polio\": 98.0, \"Diphtheria\": 99.0, \"Schooling\": null, \"Average Vaccination Rate\": 98.66666666666667}, {\"Country\": \"Republic of Korea\", \"Year\": 2010, \"Hepatitis B\": 94.0, \"Polio\": 95.0, \"Diphtheria\": 94.0, \"Schooling\": null, \"Average Vaccination Rate\": 94.33333333333333}, {\"Country\": \"Republic of Korea\", \"Year\": 2009, \"Hepatitis B\": 94.0, \"Polio\": 95.0, \"Diphtheria\": 94.0, \"Schooling\": null, \"Average Vaccination Rate\": 94.33333333333333}, {\"Country\": \"Republic of Korea\", \"Year\": 2008, \"Hepatitis B\": 94.0, \"Polio\": 92.0, \"Diphtheria\": 94.0, \"Schooling\": null, \"Average Vaccination Rate\": 93.33333333333333}, {\"Country\": \"Republic of Korea\", \"Year\": 2007, \"Hepatitis B\": 91.0, \"Polio\": 91.0, \"Diphtheria\": 91.0, \"Schooling\": null, \"Average Vaccination Rate\": 91.0}, {\"Country\": \"Republic of Korea\", \"Year\": 2006, \"Hepatitis B\": 99.0, \"Polio\": 98.0, \"Diphtheria\": 98.0, \"Schooling\": null, \"Average Vaccination Rate\": 98.33333333333333}, {\"Country\": \"Republic of Korea\", \"Year\": 2005, \"Hepatitis B\": 99.0, \"Polio\": 96.0, \"Diphtheria\": 96.0, \"Schooling\": null, \"Average Vaccination Rate\": 97.0}, {\"Country\": \"Republic of Korea\", \"Year\": 2004, \"Hepatitis B\": 92.0, \"Polio\": 9.0, \"Diphtheria\": 88.0, \"Schooling\": null, \"Average Vaccination Rate\": 63.0}, {\"Country\": \"Republic of Korea\", \"Year\": 2003, \"Hepatitis B\": 91.0, \"Polio\": 94.0, \"Diphtheria\": 97.0, \"Schooling\": null, \"Average Vaccination Rate\": 94.0}, {\"Country\": \"Republic of Korea\", \"Year\": 2002, \"Hepatitis B\": 92.0, \"Polio\": 99.0, \"Diphtheria\": 97.0, \"Schooling\": null, \"Average Vaccination Rate\": 96.0}, {\"Country\": \"Republic of Korea\", \"Year\": 2001, \"Hepatitis B\": 89.0, \"Polio\": 99.0, \"Diphtheria\": 97.0, \"Schooling\": null, \"Average Vaccination Rate\": 95.0}, {\"Country\": \"Republic of Korea\", \"Year\": 2000, \"Hepatitis B\": 93.0, \"Polio\": 99.0, \"Diphtheria\": 97.0, \"Schooling\": null, \"Average Vaccination Rate\": 96.33333333333333}, {\"Country\": \"Russian Federation\", \"Year\": 2015, \"Hepatitis B\": 97.0, \"Polio\": 97.0, \"Diphtheria\": 97.0, \"Schooling\": 15.0, \"Average Vaccination Rate\": 97.0}, {\"Country\": \"Russian Federation\", \"Year\": 2014, \"Hepatitis B\": 97.0, \"Polio\": 97.0, \"Diphtheria\": 97.0, \"Schooling\": 14.9, \"Average Vaccination Rate\": 97.0}, {\"Country\": \"Russian Federation\", \"Year\": 2013, \"Hepatitis B\": 97.0, \"Polio\": 98.0, \"Diphtheria\": 97.0, \"Schooling\": 14.6, \"Average Vaccination Rate\": 97.33333333333333}, {\"Country\": \"Russian Federation\", \"Year\": 2012, \"Hepatitis B\": 97.0, \"Polio\": 98.0, \"Diphtheria\": 97.0, \"Schooling\": 14.3, \"Average Vaccination Rate\": 97.33333333333333}, {\"Country\": \"Russian Federation\", \"Year\": 2011, \"Hepatitis B\": 97.0, \"Polio\": 97.0, \"Diphtheria\": 97.0, \"Schooling\": 14.0, \"Average Vaccination Rate\": 97.0}, {\"Country\": \"Russian Federation\", \"Year\": 2010, \"Hepatitis B\": 97.0, \"Polio\": 98.0, \"Diphtheria\": 97.0, \"Schooling\": 13.7, \"Average Vaccination Rate\": 97.33333333333333}, {\"Country\": \"Russian Federation\", \"Year\": 2009, \"Hepatitis B\": 98.0, \"Polio\": 98.0, \"Diphtheria\": 98.0, \"Schooling\": 14.0, \"Average Vaccination Rate\": 98.0}, {\"Country\": \"Russian Federation\", \"Year\": 2008, \"Hepatitis B\": 98.0, \"Polio\": 98.0, \"Diphtheria\": 98.0, \"Schooling\": 13.9, \"Average Vaccination Rate\": 98.0}, {\"Country\": \"Russian Federation\", \"Year\": 2007, \"Hepatitis B\": 98.0, \"Polio\": 98.0, \"Diphtheria\": 98.0, \"Schooling\": 13.8, \"Average Vaccination Rate\": 98.0}, {\"Country\": \"Russian Federation\", \"Year\": 2006, \"Hepatitis B\": 98.0, \"Polio\": 98.0, \"Diphtheria\": 98.0, \"Schooling\": 13.8, \"Average Vaccination Rate\": 98.0}, {\"Country\": \"Russian Federation\", \"Year\": 2005, \"Hepatitis B\": 97.0, \"Polio\": 98.0, \"Diphtheria\": 98.0, \"Schooling\": 13.7, \"Average Vaccination Rate\": 97.66666666666667}, {\"Country\": \"Russian Federation\", \"Year\": 2004, \"Hepatitis B\": 96.0, \"Polio\": 98.0, \"Diphtheria\": 97.0, \"Schooling\": 13.6, \"Average Vaccination Rate\": 97.0}, {\"Country\": \"Russian Federation\", \"Year\": 2003, \"Hepatitis B\": 94.0, \"Polio\": 97.0, \"Diphtheria\": 96.0, \"Schooling\": 13.2, \"Average Vaccination Rate\": 95.66666666666667}, {\"Country\": \"Russian Federation\", \"Year\": 2002, \"Hepatitis B\": 81.0, \"Polio\": 97.0, \"Diphtheria\": 97.0, \"Schooling\": 12.8, \"Average Vaccination Rate\": 91.66666666666667}, {\"Country\": \"Russian Federation\", \"Year\": 2001, \"Hepatitis B\": 43.0, \"Polio\": 97.0, \"Diphtheria\": 96.0, \"Schooling\": 12.5, \"Average Vaccination Rate\": 78.66666666666667}, {\"Country\": \"Russian Federation\", \"Year\": 2000, \"Hepatitis B\": null, \"Polio\": 97.0, \"Diphtheria\": 96.0, \"Schooling\": 12.1, \"Average Vaccination Rate\": null}, {\"Country\": \"Singapore\", \"Year\": 2015, \"Hepatitis B\": 96.0, \"Polio\": 96.0, \"Diphtheria\": 96.0, \"Schooling\": 15.4, \"Average Vaccination Rate\": 96.0}, {\"Country\": \"Singapore\", \"Year\": 2014, \"Hepatitis B\": 96.0, \"Polio\": 96.0, \"Diphtheria\": 96.0, \"Schooling\": 15.4, \"Average Vaccination Rate\": 96.0}, {\"Country\": \"Singapore\", \"Year\": 2013, \"Hepatitis B\": 97.0, \"Polio\": 97.0, \"Diphtheria\": 97.0, \"Schooling\": 15.4, \"Average Vaccination Rate\": 97.0}, {\"Country\": \"Singapore\", \"Year\": 2012, \"Hepatitis B\": 97.0, \"Polio\": 97.0, \"Diphtheria\": 97.0, \"Schooling\": 15.4, \"Average Vaccination Rate\": 97.0}, {\"Country\": \"Singapore\", \"Year\": 2011, \"Hepatitis B\": 96.0, \"Polio\": 96.0, \"Diphtheria\": 96.0, \"Schooling\": 15.2, \"Average Vaccination Rate\": 96.0}, {\"Country\": \"Singapore\", \"Year\": 2010, \"Hepatitis B\": 96.0, \"Polio\": 96.0, \"Diphtheria\": 96.0, \"Schooling\": 14.5, \"Average Vaccination Rate\": 96.0}, {\"Country\": \"Singapore\", \"Year\": 2009, \"Hepatitis B\": 96.0, \"Polio\": 97.0, \"Diphtheria\": 97.0, \"Schooling\": 14.4, \"Average Vaccination Rate\": 96.66666666666667}, {\"Country\": \"Singapore\", \"Year\": 2008, \"Hepatitis B\": 97.0, \"Polio\": 97.0, \"Diphtheria\": 97.0, \"Schooling\": 14.2, \"Average Vaccination Rate\": 97.0}, {\"Country\": \"Singapore\", \"Year\": 2007, \"Hepatitis B\": 96.0, \"Polio\": 97.0, \"Diphtheria\": 97.0, \"Schooling\": 14.1, \"Average Vaccination Rate\": 96.66666666666667}, {\"Country\": \"Singapore\", \"Year\": 2006, \"Hepatitis B\": 95.0, \"Polio\": 95.0, \"Diphtheria\": 95.0, \"Schooling\": 13.9, \"Average Vaccination Rate\": 95.0}, {\"Country\": \"Singapore\", \"Year\": 2005, \"Hepatitis B\": 96.0, \"Polio\": 96.0, \"Diphtheria\": 96.0, \"Schooling\": 12.6, \"Average Vaccination Rate\": 96.0}, {\"Country\": \"Singapore\", \"Year\": 2004, \"Hepatitis B\": 94.0, \"Polio\": 95.0, \"Diphtheria\": 95.0, \"Schooling\": 12.7, \"Average Vaccination Rate\": 94.66666666666667}, {\"Country\": \"Singapore\", \"Year\": 2003, \"Hepatitis B\": 95.0, \"Polio\": 96.0, \"Diphtheria\": 96.0, \"Schooling\": 12.7, \"Average Vaccination Rate\": 95.66666666666667}, {\"Country\": \"Singapore\", \"Year\": 2002, \"Hepatitis B\": 95.0, \"Polio\": 94.0, \"Diphtheria\": 94.0, \"Schooling\": 12.6, \"Average Vaccination Rate\": 94.33333333333333}, {\"Country\": \"Singapore\", \"Year\": 2001, \"Hepatitis B\": 95.0, \"Polio\": 95.0, \"Diphtheria\": 96.0, \"Schooling\": 12.7, \"Average Vaccination Rate\": 95.33333333333333}, {\"Country\": \"Singapore\", \"Year\": 2000, \"Hepatitis B\": 97.0, \"Polio\": 98.0, \"Diphtheria\": 98.0, \"Schooling\": 12.5, \"Average Vaccination Rate\": 97.66666666666667}, {\"Country\": \"Sri Lanka\", \"Year\": 2015, \"Hepatitis B\": 99.0, \"Polio\": 99.0, \"Diphtheria\": 99.0, \"Schooling\": 14.0, \"Average Vaccination Rate\": 99.0}, {\"Country\": \"Sri Lanka\", \"Year\": 2014, \"Hepatitis B\": 99.0, \"Polio\": 99.0, \"Diphtheria\": 99.0, \"Schooling\": 14.0, \"Average Vaccination Rate\": 99.0}, {\"Country\": \"Sri Lanka\", \"Year\": 2013, \"Hepatitis B\": 99.0, \"Polio\": 99.0, \"Diphtheria\": 99.0, \"Schooling\": 13.8, \"Average Vaccination Rate\": 99.0}, {\"Country\": \"Sri Lanka\", \"Year\": 2012, \"Hepatitis B\": 99.0, \"Polio\": 99.0, \"Diphtheria\": 99.0, \"Schooling\": 13.7, \"Average Vaccination Rate\": 99.0}, {\"Country\": \"Sri Lanka\", \"Year\": 2011, \"Hepatitis B\": 99.0, \"Polio\": 99.0, \"Diphtheria\": 99.0, \"Schooling\": 13.6, \"Average Vaccination Rate\": 99.0}, {\"Country\": \"Sri Lanka\", \"Year\": 2010, \"Hepatitis B\": 99.0, \"Polio\": 99.0, \"Diphtheria\": 99.0, \"Schooling\": 13.5, \"Average Vaccination Rate\": 99.0}, {\"Country\": \"Sri Lanka\", \"Year\": 2009, \"Hepatitis B\": 97.0, \"Polio\": 97.0, \"Diphtheria\": 97.0, \"Schooling\": 13.4, \"Average Vaccination Rate\": 97.0}, {\"Country\": \"Sri Lanka\", \"Year\": 2008, \"Hepatitis B\": 98.0, \"Polio\": 98.0, \"Diphtheria\": 98.0, \"Schooling\": 13.3, \"Average Vaccination Rate\": 98.0}, {\"Country\": \"Sri Lanka\", \"Year\": 2007, \"Hepatitis B\": 98.0, \"Polio\": 98.0, \"Diphtheria\": 98.0, \"Schooling\": 13.2, \"Average Vaccination Rate\": 98.0}, {\"Country\": \"Sri Lanka\", \"Year\": 2006, \"Hepatitis B\": 98.0, \"Polio\": 98.0, \"Diphtheria\": 98.0, \"Schooling\": 13.1, \"Average Vaccination Rate\": 98.0}, {\"Country\": \"Sri Lanka\", \"Year\": 2005, \"Hepatitis B\": 99.0, \"Polio\": 99.0, \"Diphtheria\": 99.0, \"Schooling\": 12.9, \"Average Vaccination Rate\": 99.0}, {\"Country\": \"Sri Lanka\", \"Year\": 2004, \"Hepatitis B\": 62.0, \"Polio\": 97.0, \"Diphtheria\": 97.0, \"Schooling\": 12.8, \"Average Vaccination Rate\": 85.33333333333333}, {\"Country\": \"Sri Lanka\", \"Year\": 2003, \"Hepatitis B\": 32.0, \"Polio\": 98.0, \"Diphtheria\": 99.0, \"Schooling\": 12.7, \"Average Vaccination Rate\": 76.33333333333333}, {\"Country\": \"Sri Lanka\", \"Year\": 2002, \"Hepatitis B\": null, \"Polio\": 98.0, \"Diphtheria\": 98.0, \"Schooling\": 12.6, \"Average Vaccination Rate\": null}, {\"Country\": \"Sri Lanka\", \"Year\": 2001, \"Hepatitis B\": null, \"Polio\": 98.0, \"Diphtheria\": 98.0, \"Schooling\": 12.5, \"Average Vaccination Rate\": null}, {\"Country\": \"Sri Lanka\", \"Year\": 2000, \"Hepatitis B\": null, \"Polio\": 99.0, \"Diphtheria\": 99.0, \"Schooling\": 12.4, \"Average Vaccination Rate\": null}, {\"Country\": \"Thailand\", \"Year\": 2015, \"Hepatitis B\": 99.0, \"Polio\": 99.0, \"Diphtheria\": 99.0, \"Schooling\": 13.6, \"Average Vaccination Rate\": 99.0}, {\"Country\": \"Thailand\", \"Year\": 2014, \"Hepatitis B\": 99.0, \"Polio\": 99.0, \"Diphtheria\": 99.0, \"Schooling\": 13.6, \"Average Vaccination Rate\": 99.0}, {\"Country\": \"Thailand\", \"Year\": 2013, \"Hepatitis B\": 99.0, \"Polio\": 99.0, \"Diphtheria\": 99.0, \"Schooling\": 13.6, \"Average Vaccination Rate\": 99.0}, {\"Country\": \"Thailand\", \"Year\": 2012, \"Hepatitis B\": 98.0, \"Polio\": 99.0, \"Diphtheria\": 99.0, \"Schooling\": 13.7, \"Average Vaccination Rate\": 98.66666666666667}, {\"Country\": \"Thailand\", \"Year\": 2011, \"Hepatitis B\": 98.0, \"Polio\": 99.0, \"Diphtheria\": 99.0, \"Schooling\": 13.3, \"Average Vaccination Rate\": 98.66666666666667}, {\"Country\": \"Thailand\", \"Year\": 2010, \"Hepatitis B\": 98.0, \"Polio\": 99.0, \"Diphtheria\": 99.0, \"Schooling\": 13.1, \"Average Vaccination Rate\": 98.66666666666667}, {\"Country\": \"Thailand\", \"Year\": 2009, \"Hepatitis B\": 98.0, \"Polio\": 99.0, \"Diphtheria\": 99.0, \"Schooling\": 13.0, \"Average Vaccination Rate\": 98.66666666666667}, {\"Country\": \"Thailand\", \"Year\": 2008, \"Hepatitis B\": 98.0, \"Polio\": 99.0, \"Diphtheria\": 99.0, \"Schooling\": 12.9, \"Average Vaccination Rate\": 98.66666666666667}, {\"Country\": \"Thailand\", \"Year\": 2007, \"Hepatitis B\": 96.0, \"Polio\": 98.0, \"Diphtheria\": 98.0, \"Schooling\": 12.3, \"Average Vaccination Rate\": 97.33333333333333}, {\"Country\": \"Thailand\", \"Year\": 2006, \"Hepatitis B\": 96.0, \"Polio\": 98.0, \"Diphtheria\": 98.0, \"Schooling\": 12.4, \"Average Vaccination Rate\": 97.33333333333333}, {\"Country\": \"Thailand\", \"Year\": 2005, \"Hepatitis B\": 96.0, \"Polio\": 98.0, \"Diphtheria\": 98.0, \"Schooling\": 12.0, \"Average Vaccination Rate\": 97.33333333333333}, {\"Country\": \"Thailand\", \"Year\": 2004, \"Hepatitis B\": 96.0, \"Polio\": 98.0, \"Diphtheria\": 98.0, \"Schooling\": 11.9, \"Average Vaccination Rate\": 97.33333333333333}, {\"Country\": \"Thailand\", \"Year\": 2003, \"Hepatitis B\": 96.0, \"Polio\": 98.0, \"Diphtheria\": 98.0, \"Schooling\": 11.8, \"Average Vaccination Rate\": 97.33333333333333}, {\"Country\": \"Thailand\", \"Year\": 2002, \"Hepatitis B\": 95.0, \"Polio\": 97.0, \"Diphtheria\": 96.0, \"Schooling\": 11.5, \"Average Vaccination Rate\": 96.0}, {\"Country\": \"Thailand\", \"Year\": 2001, \"Hepatitis B\": 95.0, \"Polio\": 97.0, \"Diphtheria\": 96.0, \"Schooling\": 11.2, \"Average Vaccination Rate\": 96.0}, {\"Country\": \"Thailand\", \"Year\": 2000, \"Hepatitis B\": 95.0, \"Polio\": 97.0, \"Diphtheria\": 97.0, \"Schooling\": 10.9, \"Average Vaccination Rate\": 96.33333333333333}, {\"Country\": \"Timor-Leste\", \"Year\": 2015, \"Hepatitis B\": 76.0, \"Polio\": 75.0, \"Diphtheria\": 76.0, \"Schooling\": 12.5, \"Average Vaccination Rate\": 75.66666666666667}, {\"Country\": \"Timor-Leste\", \"Year\": 2014, \"Hepatitis B\": 77.0, \"Polio\": 76.0, \"Diphtheria\": 77.0, \"Schooling\": 12.5, \"Average Vaccination Rate\": 76.66666666666667}, {\"Country\": \"Timor-Leste\", \"Year\": 2013, \"Hepatitis B\": 82.0, \"Polio\": 82.0, \"Diphtheria\": 82.0, \"Schooling\": 12.5, \"Average Vaccination Rate\": 82.0}, {\"Country\": \"Timor-Leste\", \"Year\": 2012, \"Hepatitis B\": 83.0, \"Polio\": 83.0, \"Diphtheria\": 83.0, \"Schooling\": 12.5, \"Average Vaccination Rate\": 83.0}, {\"Country\": \"Timor-Leste\", \"Year\": 2011, \"Hepatitis B\": 67.0, \"Polio\": 66.0, \"Diphtheria\": 67.0, \"Schooling\": 12.5, \"Average Vaccination Rate\": 66.66666666666667}, {\"Country\": \"Timor-Leste\", \"Year\": 2010, \"Hepatitis B\": 72.0, \"Polio\": 72.0, \"Diphtheria\": 72.0, \"Schooling\": 12.4, \"Average Vaccination Rate\": 72.0}, {\"Country\": \"Timor-Leste\", \"Year\": 2009, \"Hepatitis B\": 72.0, \"Polio\": 78.0, \"Diphtheria\": 72.0, \"Schooling\": 12.1, \"Average Vaccination Rate\": 74.0}, {\"Country\": \"Timor-Leste\", \"Year\": 2008, \"Hepatitis B\": 79.0, \"Polio\": 79.0, \"Diphtheria\": 79.0, \"Schooling\": 11.7, \"Average Vaccination Rate\": 79.0}, {\"Country\": \"Timor-Leste\", \"Year\": 2007, \"Hepatitis B\": null, \"Polio\": 7.0, \"Diphtheria\": 7.0, \"Schooling\": 11.3, \"Average Vaccination Rate\": null}, {\"Country\": \"Timor-Leste\", \"Year\": 2006, \"Hepatitis B\": null, \"Polio\": 62.0, \"Diphtheria\": 63.0, \"Schooling\": 11.0, \"Average Vaccination Rate\": null}, {\"Country\": \"Timor-Leste\", \"Year\": 2005, \"Hepatitis B\": null, \"Polio\": 55.0, \"Diphtheria\": 55.0, \"Schooling\": 10.6, \"Average Vaccination Rate\": null}, {\"Country\": \"Timor-Leste\", \"Year\": 2004, \"Hepatitis B\": null, \"Polio\": 57.0, \"Diphtheria\": 57.0, \"Schooling\": 10.2, \"Average Vaccination Rate\": null}, {\"Country\": \"Timor-Leste\", \"Year\": 2003, \"Hepatitis B\": null, \"Polio\": 55.0, \"Diphtheria\": 55.0, \"Schooling\": 9.8, \"Average Vaccination Rate\": null}, {\"Country\": \"Timor-Leste\", \"Year\": 2002, \"Hepatitis B\": null, \"Polio\": 38.0, \"Diphtheria\": 54.0, \"Schooling\": 9.8, \"Average Vaccination Rate\": null}, {\"Country\": \"Timor-Leste\", \"Year\": 2001, \"Hepatitis B\": null, \"Polio\": null, \"Diphtheria\": null, \"Schooling\": 9.8, \"Average Vaccination Rate\": null}, {\"Country\": \"Timor-Leste\", \"Year\": 2000, \"Hepatitis B\": null, \"Polio\": null, \"Diphtheria\": null, \"Schooling\": 0.0, \"Average Vaccination Rate\": null}, {\"Country\": \"Viet Nam\", \"Year\": 2015, \"Hepatitis B\": 97.0, \"Polio\": 97.0, \"Diphtheria\": 97.0, \"Schooling\": 12.6, \"Average Vaccination Rate\": 97.0}, {\"Country\": \"Viet Nam\", \"Year\": 2014, \"Hepatitis B\": 95.0, \"Polio\": 96.0, \"Diphtheria\": 95.0, \"Schooling\": 12.5, \"Average Vaccination Rate\": 95.33333333333333}, {\"Country\": \"Viet Nam\", \"Year\": 2013, \"Hepatitis B\": 59.0, \"Polio\": 93.0, \"Diphtheria\": 59.0, \"Schooling\": 12.3, \"Average Vaccination Rate\": 70.33333333333333}, {\"Country\": \"Viet Nam\", \"Year\": 2012, \"Hepatitis B\": 97.0, \"Polio\": 97.0, \"Diphtheria\": 97.0, \"Schooling\": 12.2, \"Average Vaccination Rate\": 97.0}, {\"Country\": \"Viet Nam\", \"Year\": 2011, \"Hepatitis B\": 95.0, \"Polio\": 96.0, \"Diphtheria\": 95.0, \"Schooling\": 12.0, \"Average Vaccination Rate\": 95.33333333333333}, {\"Country\": \"Viet Nam\", \"Year\": 2010, \"Hepatitis B\": 88.0, \"Polio\": 94.0, \"Diphtheria\": 93.0, \"Schooling\": 11.9, \"Average Vaccination Rate\": 91.66666666666667}, {\"Country\": \"Viet Nam\", \"Year\": 2009, \"Hepatitis B\": 94.0, \"Polio\": 97.0, \"Diphtheria\": 96.0, \"Schooling\": 11.7, \"Average Vaccination Rate\": 95.66666666666667}, {\"Country\": \"Viet Nam\", \"Year\": 2008, \"Hepatitis B\": 87.0, \"Polio\": 93.0, \"Diphtheria\": 93.0, \"Schooling\": 11.6, \"Average Vaccination Rate\": 91.0}, {\"Country\": \"Viet Nam\", \"Year\": 2007, \"Hepatitis B\": 67.0, \"Polio\": 92.0, \"Diphtheria\": 92.0, \"Schooling\": 11.4, \"Average Vaccination Rate\": 83.66666666666667}, {\"Country\": \"Viet Nam\", \"Year\": 2006, \"Hepatitis B\": 93.0, \"Polio\": 94.0, \"Diphtheria\": 94.0, \"Schooling\": 11.3, \"Average Vaccination Rate\": 93.66666666666667}, {\"Country\": \"Viet Nam\", \"Year\": 2005, \"Hepatitis B\": 94.0, \"Polio\": 94.0, \"Diphtheria\": 95.0, \"Schooling\": 11.1, \"Average Vaccination Rate\": 94.33333333333333}, {\"Country\": \"Viet Nam\", \"Year\": 2004, \"Hepatitis B\": 94.0, \"Polio\": 96.0, \"Diphtheria\": 96.0, \"Schooling\": 11.0, \"Average Vaccination Rate\": 95.33333333333333}, {\"Country\": \"Viet Nam\", \"Year\": 2003, \"Hepatitis B\": 78.0, \"Polio\": 96.0, \"Diphtheria\": 99.0, \"Schooling\": 10.9, \"Average Vaccination Rate\": 91.0}, {\"Country\": \"Viet Nam\", \"Year\": 2002, \"Hepatitis B\": null, \"Polio\": 92.0, \"Diphtheria\": 75.0, \"Schooling\": 10.7, \"Average Vaccination Rate\": null}, {\"Country\": \"Viet Nam\", \"Year\": 2001, \"Hepatitis B\": null, \"Polio\": 96.0, \"Diphtheria\": 96.0, \"Schooling\": 10.6, \"Average Vaccination Rate\": null}, {\"Country\": \"Viet Nam\", \"Year\": 2000, \"Hepatitis B\": null, \"Polio\": 96.0, \"Diphtheria\": 96.0, \"Schooling\": 10.4, \"Average Vaccination Rate\": null}]}}, {\"mode\": \"vega-lite\"});\n",
              "</script>"
            ],
            "text/plain": [
              "alt.Chart(...)"
            ]
          },
          "metadata": {},
          "execution_count": 8
        }
      ]
    },
    {
      "cell_type": "markdown",
      "source": [
        "**Diphtheria**\n",
        "- North Korea and South Korea are missing (because of missing values in schooling)\n",
        "- Some values of Diphtheria below/around 10, the decimal is probably placed wrongly"
      ],
      "metadata": {
        "id": "Dm3MpWkIPtnH"
      }
    },
    {
      "cell_type": "code",
      "source": [
        "alt.Chart(FactorHealth1).mark_point().encode(\n",
        "    x ='Schooling',\n",
        "    y ='Diphtheria',\n",
        "    color = 'Country'\n",
        ")"
      ],
      "metadata": {
        "colab": {
          "base_uri": "https://localhost:8080/",
          "height": 369
        },
        "id": "mbt03qPGcPbf",
        "outputId": "ecf7233c-b895-473d-8160-83e20f7a6b64"
      },
      "execution_count": 9,
      "outputs": [
        {
          "output_type": "execute_result",
          "data": {
            "text/html": [
              "\n",
              "<div id=\"altair-viz-e790dea93c0f4dbaa00fd66152a1b2fc\"></div>\n",
              "<script type=\"text/javascript\">\n",
              "  var VEGA_DEBUG = (typeof VEGA_DEBUG == \"undefined\") ? {} : VEGA_DEBUG;\n",
              "  (function(spec, embedOpt){\n",
              "    let outputDiv = document.currentScript.previousElementSibling;\n",
              "    if (outputDiv.id !== \"altair-viz-e790dea93c0f4dbaa00fd66152a1b2fc\") {\n",
              "      outputDiv = document.getElementById(\"altair-viz-e790dea93c0f4dbaa00fd66152a1b2fc\");\n",
              "    }\n",
              "    const paths = {\n",
              "      \"vega\": \"https://cdn.jsdelivr.net/npm//vega@5?noext\",\n",
              "      \"vega-lib\": \"https://cdn.jsdelivr.net/npm//vega-lib?noext\",\n",
              "      \"vega-lite\": \"https://cdn.jsdelivr.net/npm//vega-lite@4.17.0?noext\",\n",
              "      \"vega-embed\": \"https://cdn.jsdelivr.net/npm//vega-embed@6?noext\",\n",
              "    };\n",
              "\n",
              "    function maybeLoadScript(lib, version) {\n",
              "      var key = `${lib.replace(\"-\", \"\")}_version`;\n",
              "      return (VEGA_DEBUG[key] == version) ?\n",
              "        Promise.resolve(paths[lib]) :\n",
              "        new Promise(function(resolve, reject) {\n",
              "          var s = document.createElement('script');\n",
              "          document.getElementsByTagName(\"head\")[0].appendChild(s);\n",
              "          s.async = true;\n",
              "          s.onload = () => {\n",
              "            VEGA_DEBUG[key] = version;\n",
              "            return resolve(paths[lib]);\n",
              "          };\n",
              "          s.onerror = () => reject(`Error loading script: ${paths[lib]}`);\n",
              "          s.src = paths[lib];\n",
              "        });\n",
              "    }\n",
              "\n",
              "    function showError(err) {\n",
              "      outputDiv.innerHTML = `<div class=\"error\" style=\"color:red;\">${err}</div>`;\n",
              "      throw err;\n",
              "    }\n",
              "\n",
              "    function displayChart(vegaEmbed) {\n",
              "      vegaEmbed(outputDiv, spec, embedOpt)\n",
              "        .catch(err => showError(`Javascript Error: ${err.message}<br>This usually means there's a typo in your chart specification. See the javascript console for the full traceback.`));\n",
              "    }\n",
              "\n",
              "    if(typeof define === \"function\" && define.amd) {\n",
              "      requirejs.config({paths});\n",
              "      require([\"vega-embed\"], displayChart, err => showError(`Error loading script: ${err.message}`));\n",
              "    } else {\n",
              "      maybeLoadScript(\"vega\", \"5\")\n",
              "        .then(() => maybeLoadScript(\"vega-lite\", \"4.17.0\"))\n",
              "        .then(() => maybeLoadScript(\"vega-embed\", \"6\"))\n",
              "        .catch(showError)\n",
              "        .then(() => displayChart(vegaEmbed));\n",
              "    }\n",
              "  })({\"config\": {\"view\": {\"continuousWidth\": 400, \"continuousHeight\": 300}}, \"data\": {\"name\": \"data-5d7784e6133ec95ec4ff5e057c2af840\"}, \"mark\": \"point\", \"encoding\": {\"color\": {\"field\": \"Country\", \"type\": \"nominal\"}, \"x\": {\"field\": \"Schooling\", \"type\": \"quantitative\"}, \"y\": {\"field\": \"Diphtheria\", \"type\": \"quantitative\"}}, \"$schema\": \"https://vega.github.io/schema/vega-lite/v4.17.0.json\", \"datasets\": {\"data-5d7784e6133ec95ec4ff5e057c2af840\": [{\"Country\": \"Bangladesh\", \"Year\": 2015, \"Hepatitis B\": 97.0, \"Polio\": 97.0, \"Diphtheria\": 97.0, \"Schooling\": 10.2, \"Average Vaccination Rate\": 97.0}, {\"Country\": \"Bangladesh\", \"Year\": 2014, \"Hepatitis B\": 97.0, \"Polio\": 97.0, \"Diphtheria\": 97.0, \"Schooling\": 10.0, \"Average Vaccination Rate\": 97.0}, {\"Country\": \"Bangladesh\", \"Year\": 2013, \"Hepatitis B\": 96.0, \"Polio\": 96.0, \"Diphtheria\": 96.0, \"Schooling\": 10.0, \"Average Vaccination Rate\": 96.0}, {\"Country\": \"Bangladesh\", \"Year\": 2012, \"Hepatitis B\": 94.0, \"Polio\": 94.0, \"Diphtheria\": 94.0, \"Schooling\": 9.9, \"Average Vaccination Rate\": 94.0}, {\"Country\": \"Bangladesh\", \"Year\": 2011, \"Hepatitis B\": 96.0, \"Polio\": 96.0, \"Diphtheria\": 96.0, \"Schooling\": 9.4, \"Average Vaccination Rate\": 96.0}, {\"Country\": \"Bangladesh\", \"Year\": 2010, \"Hepatitis B\": 94.0, \"Polio\": 94.0, \"Diphtheria\": 94.0, \"Schooling\": 8.9, \"Average Vaccination Rate\": 94.0}, {\"Country\": \"Bangladesh\", \"Year\": 2009, \"Hepatitis B\": 97.0, \"Polio\": 97.0, \"Diphtheria\": 97.0, \"Schooling\": 8.4, \"Average Vaccination Rate\": 97.0}, {\"Country\": \"Bangladesh\", \"Year\": 2008, \"Hepatitis B\": 96.0, \"Polio\": 96.0, \"Diphtheria\": 96.0, \"Schooling\": 8.6, \"Average Vaccination Rate\": 96.0}, {\"Country\": \"Bangladesh\", \"Year\": 2007, \"Hepatitis B\": 95.0, \"Polio\": 96.0, \"Diphtheria\": 94.0, \"Schooling\": 8.6, \"Average Vaccination Rate\": 95.0}, {\"Country\": \"Bangladesh\", \"Year\": 2006, \"Hepatitis B\": 86.0, \"Polio\": 95.0, \"Diphtheria\": 94.0, \"Schooling\": 8.4, \"Average Vaccination Rate\": 91.66666666666667}, {\"Country\": \"Bangladesh\", \"Year\": 2005, \"Hepatitis B\": 45.0, \"Polio\": 94.0, \"Diphtheria\": 93.0, \"Schooling\": 8.2, \"Average Vaccination Rate\": 77.33333333333333}, {\"Country\": \"Bangladesh\", \"Year\": 2004, \"Hepatitis B\": 11.0, \"Polio\": 88.0, \"Diphtheria\": 99.0, \"Schooling\": 8.1, \"Average Vaccination Rate\": 66.0}, {\"Country\": \"Bangladesh\", \"Year\": 2003, \"Hepatitis B\": 5.0, \"Polio\": 9.0, \"Diphtheria\": 87.0, \"Schooling\": 7.9, \"Average Vaccination Rate\": 33.666666666666664}, {\"Country\": \"Bangladesh\", \"Year\": 2002, \"Hepatitis B\": null, \"Polio\": 83.0, \"Diphtheria\": 83.0, \"Schooling\": 7.7, \"Average Vaccination Rate\": null}, {\"Country\": \"Bangladesh\", \"Year\": 2001, \"Hepatitis B\": null, \"Polio\": 85.0, \"Diphtheria\": 85.0, \"Schooling\": 7.5, \"Average Vaccination Rate\": null}, {\"Country\": \"Bangladesh\", \"Year\": 2000, \"Hepatitis B\": null, \"Polio\": 83.0, \"Diphtheria\": 82.0, \"Schooling\": 7.3, \"Average Vaccination Rate\": null}, {\"Country\": \"Brunei Darussalam\", \"Year\": 2015, \"Hepatitis B\": 99.0, \"Polio\": 99.0, \"Diphtheria\": 99.0, \"Schooling\": 14.9, \"Average Vaccination Rate\": 99.0}, {\"Country\": \"Brunei Darussalam\", \"Year\": 2014, \"Hepatitis B\": 99.0, \"Polio\": 99.0, \"Diphtheria\": 99.0, \"Schooling\": 15.0, \"Average Vaccination Rate\": 99.0}, {\"Country\": \"Brunei Darussalam\", \"Year\": 2013, \"Hepatitis B\": 98.0, \"Polio\": 99.0, \"Diphtheria\": 99.0, \"Schooling\": 14.9, \"Average Vaccination Rate\": 98.66666666666667}, {\"Country\": \"Brunei Darussalam\", \"Year\": 2012, \"Hepatitis B\": 99.0, \"Polio\": 99.0, \"Diphtheria\": 99.0, \"Schooling\": 14.4, \"Average Vaccination Rate\": 99.0}, {\"Country\": \"Brunei Darussalam\", \"Year\": 2011, \"Hepatitis B\": 93.0, \"Polio\": 99.0, \"Diphtheria\": 97.0, \"Schooling\": 14.1, \"Average Vaccination Rate\": 96.33333333333333}, {\"Country\": \"Brunei Darussalam\", \"Year\": 2010, \"Hepatitis B\": 96.0, \"Polio\": 99.0, \"Diphtheria\": 95.0, \"Schooling\": 14.2, \"Average Vaccination Rate\": 96.66666666666667}, {\"Country\": \"Brunei Darussalam\", \"Year\": 2009, \"Hepatitis B\": 96.0, \"Polio\": 99.0, \"Diphtheria\": 99.0, \"Schooling\": 14.1, \"Average Vaccination Rate\": 98.0}, {\"Country\": \"Brunei Darussalam\", \"Year\": 2008, \"Hepatitis B\": 96.0, \"Polio\": 97.0, \"Diphtheria\": 98.0, \"Schooling\": 14.2, \"Average Vaccination Rate\": 97.0}, {\"Country\": \"Brunei Darussalam\", \"Year\": 2007, \"Hepatitis B\": 97.0, \"Polio\": 95.0, \"Diphtheria\": 99.0, \"Schooling\": 14.3, \"Average Vaccination Rate\": 97.0}, {\"Country\": \"Brunei Darussalam\", \"Year\": 2006, \"Hepatitis B\": 99.0, \"Polio\": 94.0, \"Diphtheria\": 97.0, \"Schooling\": 14.3, \"Average Vaccination Rate\": 96.66666666666667}, {\"Country\": \"Brunei Darussalam\", \"Year\": 2005, \"Hepatitis B\": 99.0, \"Polio\": 93.0, \"Diphtheria\": 94.0, \"Schooling\": 14.1, \"Average Vaccination Rate\": 95.33333333333333}, {\"Country\": \"Brunei Darussalam\", \"Year\": 2004, \"Hepatitis B\": 99.0, \"Polio\": 92.0, \"Diphtheria\": 92.0, \"Schooling\": 13.7, \"Average Vaccination Rate\": 94.33333333333333}, {\"Country\": \"Brunei Darussalam\", \"Year\": 2003, \"Hepatitis B\": 99.0, \"Polio\": 99.0, \"Diphtheria\": 92.0, \"Schooling\": 13.4, \"Average Vaccination Rate\": 96.66666666666667}, {\"Country\": \"Brunei Darussalam\", \"Year\": 2002, \"Hepatitis B\": 99.0, \"Polio\": 99.0, \"Diphtheria\": 94.0, \"Schooling\": 13.3, \"Average Vaccination Rate\": 97.33333333333333}, {\"Country\": \"Brunei Darussalam\", \"Year\": 2001, \"Hepatitis B\": 99.0, \"Polio\": 99.0, \"Diphtheria\": 97.0, \"Schooling\": 13.4, \"Average Vaccination Rate\": 98.33333333333333}, {\"Country\": \"Brunei Darussalam\", \"Year\": 2000, \"Hepatitis B\": 99.0, \"Polio\": 99.0, \"Diphtheria\": 99.0, \"Schooling\": 13.4, \"Average Vaccination Rate\": 99.0}, {\"Country\": \"Cambodia\", \"Year\": 2015, \"Hepatitis B\": 89.0, \"Polio\": 87.0, \"Diphtheria\": 89.0, \"Schooling\": 10.9, \"Average Vaccination Rate\": 88.33333333333333}, {\"Country\": \"Cambodia\", \"Year\": 2014, \"Hepatitis B\": 88.0, \"Polio\": 87.0, \"Diphtheria\": 88.0, \"Schooling\": 10.9, \"Average Vaccination Rate\": 87.66666666666667}, {\"Country\": \"Cambodia\", \"Year\": 2013, \"Hepatitis B\": 83.0, \"Polio\": 66.0, \"Diphtheria\": 83.0, \"Schooling\": 10.8, \"Average Vaccination Rate\": 77.33333333333333}, {\"Country\": \"Cambodia\", \"Year\": 2012, \"Hepatitis B\": 86.0, \"Polio\": 84.0, \"Diphtheria\": 86.0, \"Schooling\": 10.7, \"Average Vaccination Rate\": 85.33333333333333}, {\"Country\": \"Cambodia\", \"Year\": 2011, \"Hepatitis B\": 88.0, \"Polio\": 87.0, \"Diphtheria\": 88.0, \"Schooling\": 10.7, \"Average Vaccination Rate\": 87.66666666666667}, {\"Country\": \"Cambodia\", \"Year\": 2010, \"Hepatitis B\": 89.0, \"Polio\": 88.0, \"Diphtheria\": 89.0, \"Schooling\": 10.6, \"Average Vaccination Rate\": 88.66666666666667}, {\"Country\": \"Cambodia\", \"Year\": 2009, \"Hepatitis B\": 92.0, \"Polio\": 95.0, \"Diphtheria\": 94.0, \"Schooling\": 10.5, \"Average Vaccination Rate\": 93.66666666666667}, {\"Country\": \"Cambodia\", \"Year\": 2008, \"Hepatitis B\": 91.0, \"Polio\": 91.0, \"Diphtheria\": 91.0, \"Schooling\": 10.5, \"Average Vaccination Rate\": 91.0}, {\"Country\": \"Cambodia\", \"Year\": 2007, \"Hepatitis B\": 82.0, \"Polio\": 82.0, \"Diphtheria\": 82.0, \"Schooling\": 10.3, \"Average Vaccination Rate\": 82.0}, {\"Country\": \"Cambodia\", \"Year\": 2006, \"Hepatitis B\": 8.0, \"Polio\": 8.0, \"Diphtheria\": 8.0, \"Schooling\": 10.1, \"Average Vaccination Rate\": 8.0}, {\"Country\": \"Cambodia\", \"Year\": 2005, \"Hepatitis B\": null, \"Polio\": 82.0, \"Diphtheria\": 82.0, \"Schooling\": 10.0, \"Average Vaccination Rate\": null}, {\"Country\": \"Cambodia\", \"Year\": 2004, \"Hepatitis B\": null, \"Polio\": 86.0, \"Diphtheria\": 85.0, \"Schooling\": 9.7, \"Average Vaccination Rate\": null}, {\"Country\": \"Cambodia\", \"Year\": 2003, \"Hepatitis B\": null, \"Polio\": 69.0, \"Diphtheria\": 69.0, \"Schooling\": 9.3, \"Average Vaccination Rate\": null}, {\"Country\": \"Cambodia\", \"Year\": 2002, \"Hepatitis B\": null, \"Polio\": 54.0, \"Diphtheria\": 54.0, \"Schooling\": 8.2, \"Average Vaccination Rate\": null}, {\"Country\": \"Cambodia\", \"Year\": 2001, \"Hepatitis B\": null, \"Polio\": 59.0, \"Diphtheria\": 6.0, \"Schooling\": 7.6, \"Average Vaccination Rate\": null}, {\"Country\": \"Cambodia\", \"Year\": 2000, \"Hepatitis B\": null, \"Polio\": 62.0, \"Diphtheria\": 59.0, \"Schooling\": 7.2, \"Average Vaccination Rate\": null}, {\"Country\": \"China\", \"Year\": 2015, \"Hepatitis B\": 99.0, \"Polio\": 99.0, \"Diphtheria\": 99.0, \"Schooling\": 13.5, \"Average Vaccination Rate\": 99.0}, {\"Country\": \"China\", \"Year\": 2014, \"Hepatitis B\": 99.0, \"Polio\": 99.0, \"Diphtheria\": 99.0, \"Schooling\": 13.1, \"Average Vaccination Rate\": 99.0}, {\"Country\": \"China\", \"Year\": 2013, \"Hepatitis B\": 99.0, \"Polio\": 99.0, \"Diphtheria\": 99.0, \"Schooling\": 12.7, \"Average Vaccination Rate\": 99.0}, {\"Country\": \"China\", \"Year\": 2012, \"Hepatitis B\": 99.0, \"Polio\": 99.0, \"Diphtheria\": 99.0, \"Schooling\": 12.4, \"Average Vaccination Rate\": 99.0}, {\"Country\": \"China\", \"Year\": 2011, \"Hepatitis B\": 99.0, \"Polio\": 99.0, \"Diphtheria\": 99.0, \"Schooling\": 12.8, \"Average Vaccination Rate\": 99.0}, {\"Country\": \"China\", \"Year\": 2010, \"Hepatitis B\": 99.0, \"Polio\": 99.0, \"Diphtheria\": 99.0, \"Schooling\": 12.5, \"Average Vaccination Rate\": 99.0}, {\"Country\": \"China\", \"Year\": 2009, \"Hepatitis B\": 99.0, \"Polio\": 99.0, \"Diphtheria\": 99.0, \"Schooling\": 12.2, \"Average Vaccination Rate\": 99.0}, {\"Country\": \"China\", \"Year\": 2008, \"Hepatitis B\": 95.0, \"Polio\": 99.0, \"Diphtheria\": 97.0, \"Schooling\": 11.9, \"Average Vaccination Rate\": 97.0}, {\"Country\": \"China\", \"Year\": 2007, \"Hepatitis B\": 92.0, \"Polio\": 94.0, \"Diphtheria\": 93.0, \"Schooling\": 11.4, \"Average Vaccination Rate\": 93.0}, {\"Country\": \"China\", \"Year\": 2006, \"Hepatitis B\": 91.0, \"Polio\": 94.0, \"Diphtheria\": 93.0, \"Schooling\": 11.0, \"Average Vaccination Rate\": 92.66666666666667}, {\"Country\": \"China\", \"Year\": 2005, \"Hepatitis B\": 84.0, \"Polio\": 87.0, \"Diphtheria\": 87.0, \"Schooling\": 10.6, \"Average Vaccination Rate\": 86.0}, {\"Country\": \"China\", \"Year\": 2004, \"Hepatitis B\": 79.0, \"Polio\": 87.0, \"Diphtheria\": 87.0, \"Schooling\": 10.2, \"Average Vaccination Rate\": 84.33333333333333}, {\"Country\": \"China\", \"Year\": 2003, \"Hepatitis B\": 75.0, \"Polio\": 87.0, \"Diphtheria\": 86.0, \"Schooling\": 9.9, \"Average Vaccination Rate\": 82.66666666666667}, {\"Country\": \"China\", \"Year\": 2002, \"Hepatitis B\": 7.0, \"Polio\": 86.0, \"Diphtheria\": 86.0, \"Schooling\": 9.7, \"Average Vaccination Rate\": 59.666666666666664}, {\"Country\": \"China\", \"Year\": 2001, \"Hepatitis B\": 65.0, \"Polio\": 86.0, \"Diphtheria\": 86.0, \"Schooling\": 9.6, \"Average Vaccination Rate\": 79.0}, {\"Country\": \"China\", \"Year\": 2000, \"Hepatitis B\": 6.0, \"Polio\": 86.0, \"Diphtheria\": 85.0, \"Schooling\": 9.5, \"Average Vaccination Rate\": 59.0}, {\"Country\": \"Democratic People's Republic of Korea\", \"Year\": 2015, \"Hepatitis B\": 96.0, \"Polio\": 99.0, \"Diphtheria\": 96.0, \"Schooling\": null, \"Average Vaccination Rate\": 97.0}, {\"Country\": \"Democratic People's Republic of Korea\", \"Year\": 2014, \"Hepatitis B\": 93.0, \"Polio\": 99.0, \"Diphtheria\": 93.0, \"Schooling\": null, \"Average Vaccination Rate\": 95.0}, {\"Country\": \"Democratic People's Republic of Korea\", \"Year\": 2013, \"Hepatitis B\": 93.0, \"Polio\": 99.0, \"Diphtheria\": 93.0, \"Schooling\": null, \"Average Vaccination Rate\": 95.0}, {\"Country\": \"Democratic People's Republic of Korea\", \"Year\": 2012, \"Hepatitis B\": 96.0, \"Polio\": 99.0, \"Diphtheria\": 96.0, \"Schooling\": null, \"Average Vaccination Rate\": 97.0}, {\"Country\": \"Democratic People's Republic of Korea\", \"Year\": 2011, \"Hepatitis B\": 94.0, \"Polio\": 99.0, \"Diphtheria\": 94.0, \"Schooling\": null, \"Average Vaccination Rate\": 95.66666666666667}, {\"Country\": \"Democratic People's Republic of Korea\", \"Year\": 2010, \"Hepatitis B\": 93.0, \"Polio\": 99.0, \"Diphtheria\": 93.0, \"Schooling\": null, \"Average Vaccination Rate\": 95.0}, {\"Country\": \"Democratic People's Republic of Korea\", \"Year\": 2009, \"Hepatitis B\": 93.0, \"Polio\": 98.0, \"Diphtheria\": 93.0, \"Schooling\": null, \"Average Vaccination Rate\": 94.66666666666667}, {\"Country\": \"Democratic People's Republic of Korea\", \"Year\": 2008, \"Hepatitis B\": 92.0, \"Polio\": 98.0, \"Diphtheria\": 92.0, \"Schooling\": null, \"Average Vaccination Rate\": 94.0}, {\"Country\": \"Democratic People's Republic of Korea\", \"Year\": 2007, \"Hepatitis B\": 92.0, \"Polio\": 99.0, \"Diphtheria\": 92.0, \"Schooling\": null, \"Average Vaccination Rate\": 94.33333333333333}, {\"Country\": \"Democratic People's Republic of Korea\", \"Year\": 2006, \"Hepatitis B\": 96.0, \"Polio\": 98.0, \"Diphtheria\": 89.0, \"Schooling\": null, \"Average Vaccination Rate\": 94.33333333333333}, {\"Country\": \"Democratic People's Republic of Korea\", \"Year\": 2005, \"Hepatitis B\": 92.0, \"Polio\": 97.0, \"Diphtheria\": 79.0, \"Schooling\": null, \"Average Vaccination Rate\": 89.33333333333333}, {\"Country\": \"Democratic People's Republic of Korea\", \"Year\": 2004, \"Hepatitis B\": 98.0, \"Polio\": 99.0, \"Diphtheria\": 72.0, \"Schooling\": null, \"Average Vaccination Rate\": 89.66666666666667}, {\"Country\": \"Democratic People's Republic of Korea\", \"Year\": 2003, \"Hepatitis B\": 27.0, \"Polio\": 99.0, \"Diphtheria\": 68.0, \"Schooling\": null, \"Average Vaccination Rate\": 64.66666666666667}, {\"Country\": \"Democratic People's Republic of Korea\", \"Year\": 2002, \"Hepatitis B\": null, \"Polio\": 99.0, \"Diphtheria\": 64.0, \"Schooling\": null, \"Average Vaccination Rate\": null}, {\"Country\": \"Democratic People's Republic of Korea\", \"Year\": 2001, \"Hepatitis B\": null, \"Polio\": 98.0, \"Diphtheria\": 62.0, \"Schooling\": null, \"Average Vaccination Rate\": null}, {\"Country\": \"Democratic People's Republic of Korea\", \"Year\": 2000, \"Hepatitis B\": null, \"Polio\": 93.0, \"Diphtheria\": 56.0, \"Schooling\": null, \"Average Vaccination Rate\": null}, {\"Country\": \"India\", \"Year\": 2015, \"Hepatitis B\": 87.0, \"Polio\": 86.0, \"Diphtheria\": 87.0, \"Schooling\": 11.6, \"Average Vaccination Rate\": 86.66666666666667}, {\"Country\": \"India\", \"Year\": 2014, \"Hepatitis B\": 79.0, \"Polio\": 84.0, \"Diphtheria\": 85.0, \"Schooling\": 11.6, \"Average Vaccination Rate\": 82.66666666666667}, {\"Country\": \"India\", \"Year\": 2013, \"Hepatitis B\": 7.0, \"Polio\": 82.0, \"Diphtheria\": 83.0, \"Schooling\": 11.5, \"Average Vaccination Rate\": 57.333333333333336}, {\"Country\": \"India\", \"Year\": 2012, \"Hepatitis B\": 73.0, \"Polio\": 79.0, \"Diphtheria\": 82.0, \"Schooling\": 11.3, \"Average Vaccination Rate\": 78.0}, {\"Country\": \"India\", \"Year\": 2011, \"Hepatitis B\": 44.0, \"Polio\": 79.0, \"Diphtheria\": 82.0, \"Schooling\": 10.8, \"Average Vaccination Rate\": 68.33333333333333}, {\"Country\": \"India\", \"Year\": 2010, \"Hepatitis B\": 38.0, \"Polio\": 76.0, \"Diphtheria\": 79.0, \"Schooling\": 10.4, \"Average Vaccination Rate\": 64.33333333333333}, {\"Country\": \"India\", \"Year\": 2009, \"Hepatitis B\": 37.0, \"Polio\": 73.0, \"Diphtheria\": 74.0, \"Schooling\": 10.5, \"Average Vaccination Rate\": 61.333333333333336}, {\"Country\": \"India\", \"Year\": 2008, \"Hepatitis B\": 29.0, \"Polio\": 69.0, \"Diphtheria\": 7.0, \"Schooling\": 10.2, \"Average Vaccination Rate\": 35.0}, {\"Country\": \"India\", \"Year\": 2007, \"Hepatitis B\": 6.0, \"Polio\": 67.0, \"Diphtheria\": 64.0, \"Schooling\": 9.9, \"Average Vaccination Rate\": 45.666666666666664}, {\"Country\": \"India\", \"Year\": 2006, \"Hepatitis B\": 6.0, \"Polio\": 66.0, \"Diphtheria\": 65.0, \"Schooling\": 9.7, \"Average Vaccination Rate\": 45.666666666666664}, {\"Country\": \"India\", \"Year\": 2005, \"Hepatitis B\": 8.0, \"Polio\": 65.0, \"Diphtheria\": 65.0, \"Schooling\": 9.4, \"Average Vaccination Rate\": 46.0}, {\"Country\": \"India\", \"Year\": 2004, \"Hepatitis B\": 6.0, \"Polio\": 58.0, \"Diphtheria\": 63.0, \"Schooling\": 9.2, \"Average Vaccination Rate\": 42.333333333333336}, {\"Country\": \"India\", \"Year\": 2003, \"Hepatitis B\": null, \"Polio\": 57.0, \"Diphtheria\": 61.0, \"Schooling\": 8.6, \"Average Vaccination Rate\": null}, {\"Country\": \"India\", \"Year\": 2002, \"Hepatitis B\": null, \"Polio\": 58.0, \"Diphtheria\": 59.0, \"Schooling\": 8.4, \"Average Vaccination Rate\": null}, {\"Country\": \"India\", \"Year\": 2001, \"Hepatitis B\": null, \"Polio\": 58.0, \"Diphtheria\": 59.0, \"Schooling\": 8.3, \"Average Vaccination Rate\": null}, {\"Country\": \"India\", \"Year\": 2000, \"Hepatitis B\": null, \"Polio\": 57.0, \"Diphtheria\": 58.0, \"Schooling\": 8.3, \"Average Vaccination Rate\": null}, {\"Country\": \"Indonesia\", \"Year\": 2015, \"Hepatitis B\": 78.0, \"Polio\": 8.0, \"Diphtheria\": 78.0, \"Schooling\": 12.9, \"Average Vaccination Rate\": 54.666666666666664}, {\"Country\": \"Indonesia\", \"Year\": 2014, \"Hepatitis B\": 78.0, \"Polio\": 8.0, \"Diphtheria\": 78.0, \"Schooling\": 12.9, \"Average Vaccination Rate\": 54.666666666666664}, {\"Country\": \"Indonesia\", \"Year\": 2013, \"Hepatitis B\": 85.0, \"Polio\": 86.0, \"Diphtheria\": 85.0, \"Schooling\": 12.9, \"Average Vaccination Rate\": 85.33333333333333}, {\"Country\": \"Indonesia\", \"Year\": 2012, \"Hepatitis B\": 83.0, \"Polio\": 84.0, \"Diphtheria\": 83.0, \"Schooling\": 12.6, \"Average Vaccination Rate\": 83.33333333333333}, {\"Country\": \"Indonesia\", \"Year\": 2011, \"Hepatitis B\": 81.0, \"Polio\": 81.0, \"Diphtheria\": 81.0, \"Schooling\": 12.3, \"Average Vaccination Rate\": 81.0}, {\"Country\": \"Indonesia\", \"Year\": 2010, \"Hepatitis B\": 83.0, \"Polio\": 82.0, \"Diphtheria\": 81.0, \"Schooling\": 12.1, \"Average Vaccination Rate\": 82.0}, {\"Country\": \"Indonesia\", \"Year\": 2009, \"Hepatitis B\": 82.0, \"Polio\": 85.0, \"Diphtheria\": 78.0, \"Schooling\": 11.7, \"Average Vaccination Rate\": 81.66666666666667}, {\"Country\": \"Indonesia\", \"Year\": 2008, \"Hepatitis B\": 82.0, \"Polio\": 83.0, \"Diphtheria\": 77.0, \"Schooling\": 11.7, \"Average Vaccination Rate\": 80.66666666666667}, {\"Country\": \"Indonesia\", \"Year\": 2007, \"Hepatitis B\": 76.0, \"Polio\": 77.0, \"Diphtheria\": 73.0, \"Schooling\": 11.0, \"Average Vaccination Rate\": 75.33333333333333}, {\"Country\": \"Indonesia\", \"Year\": 2006, \"Hepatitis B\": 66.0, \"Polio\": 78.0, \"Diphtheria\": 72.0, \"Schooling\": 10.9, \"Average Vaccination Rate\": 72.0}, {\"Country\": \"Indonesia\", \"Year\": 2005, \"Hepatitis B\": 65.0, \"Polio\": 79.0, \"Diphtheria\": 72.0, \"Schooling\": 11.1, \"Average Vaccination Rate\": 72.0}, {\"Country\": \"Indonesia\", \"Year\": 2004, \"Hepatitis B\": 64.0, \"Polio\": 79.0, \"Diphtheria\": 71.0, \"Schooling\": 11.0, \"Average Vaccination Rate\": 71.33333333333333}, {\"Country\": \"Indonesia\", \"Year\": 2003, \"Hepatitis B\": 64.0, \"Polio\": 8.0, \"Diphtheria\": 71.0, \"Schooling\": 10.8, \"Average Vaccination Rate\": 47.666666666666664}, {\"Country\": \"Indonesia\", \"Year\": 2002, \"Hepatitis B\": 63.0, \"Polio\": 8.0, \"Diphtheria\": 7.0, \"Schooling\": 10.6, \"Average Vaccination Rate\": 26.0}, {\"Country\": \"Indonesia\", \"Year\": 2001, \"Hepatitis B\": 62.0, \"Polio\": 77.0, \"Diphtheria\": 76.0, \"Schooling\": 10.6, \"Average Vaccination Rate\": 71.66666666666667}, {\"Country\": \"Indonesia\", \"Year\": 2000, \"Hepatitis B\": 65.0, \"Polio\": 72.0, \"Diphtheria\": 75.0, \"Schooling\": 10.7, \"Average Vaccination Rate\": 70.66666666666667}, {\"Country\": \"Japan\", \"Year\": 2015, \"Hepatitis B\": null, \"Polio\": 99.0, \"Diphtheria\": 96.0, \"Schooling\": 15.3, \"Average Vaccination Rate\": null}, {\"Country\": \"Japan\", \"Year\": 2014, \"Hepatitis B\": null, \"Polio\": 99.0, \"Diphtheria\": 96.0, \"Schooling\": 15.3, \"Average Vaccination Rate\": null}, {\"Country\": \"Japan\", \"Year\": 2013, \"Hepatitis B\": null, \"Polio\": 99.0, \"Diphtheria\": 96.0, \"Schooling\": 15.3, \"Average Vaccination Rate\": null}, {\"Country\": \"Japan\", \"Year\": 2012, \"Hepatitis B\": null, \"Polio\": 99.0, \"Diphtheria\": 97.0, \"Schooling\": 15.3, \"Average Vaccination Rate\": null}, {\"Country\": \"Japan\", \"Year\": 2011, \"Hepatitis B\": null, \"Polio\": 96.0, \"Diphtheria\": 97.0, \"Schooling\": 15.1, \"Average Vaccination Rate\": null}, {\"Country\": \"Japan\", \"Year\": 2010, \"Hepatitis B\": null, \"Polio\": 98.0, \"Diphtheria\": 97.0, \"Schooling\": 15.1, \"Average Vaccination Rate\": null}, {\"Country\": \"Japan\", \"Year\": 2009, \"Hepatitis B\": null, \"Polio\": 99.0, \"Diphtheria\": 97.0, \"Schooling\": 15.0, \"Average Vaccination Rate\": null}, {\"Country\": \"Japan\", \"Year\": 2008, \"Hepatitis B\": null, \"Polio\": 98.0, \"Diphtheria\": 98.0, \"Schooling\": 15.0, \"Average Vaccination Rate\": null}, {\"Country\": \"Japan\", \"Year\": 2007, \"Hepatitis B\": null, \"Polio\": 97.0, \"Diphtheria\": 98.0, \"Schooling\": 15.0, \"Average Vaccination Rate\": null}, {\"Country\": \"Japan\", \"Year\": 2006, \"Hepatitis B\": null, \"Polio\": 95.0, \"Diphtheria\": 98.0, \"Schooling\": 14.9, \"Average Vaccination Rate\": null}, {\"Country\": \"Japan\", \"Year\": 2005, \"Hepatitis B\": null, \"Polio\": 95.0, \"Diphtheria\": 98.0, \"Schooling\": 14.9, \"Average Vaccination Rate\": null}, {\"Country\": \"Japan\", \"Year\": 2004, \"Hepatitis B\": null, \"Polio\": 97.0, \"Diphtheria\": 99.0, \"Schooling\": 14.8, \"Average Vaccination Rate\": null}, {\"Country\": \"Japan\", \"Year\": 2003, \"Hepatitis B\": null, \"Polio\": 97.0, \"Diphtheria\": 97.0, \"Schooling\": 14.8, \"Average Vaccination Rate\": null}, {\"Country\": \"Japan\", \"Year\": 2002, \"Hepatitis B\": null, \"Polio\": 89.0, \"Diphtheria\": 96.0, \"Schooling\": 14.7, \"Average Vaccination Rate\": null}, {\"Country\": \"Japan\", \"Year\": 2001, \"Hepatitis B\": null, \"Polio\": 81.0, \"Diphtheria\": 95.0, \"Schooling\": 14.6, \"Average Vaccination Rate\": null}, {\"Country\": \"Japan\", \"Year\": 2000, \"Hepatitis B\": null, \"Polio\": 98.0, \"Diphtheria\": 85.0, \"Schooling\": 14.5, \"Average Vaccination Rate\": null}, {\"Country\": \"Lao People's Democratic Republic\", \"Year\": 2015, \"Hepatitis B\": 89.0, \"Polio\": 89.0, \"Diphtheria\": 89.0, \"Schooling\": 10.8, \"Average Vaccination Rate\": 89.0}, {\"Country\": \"Lao People's Democratic Republic\", \"Year\": 2014, \"Hepatitis B\": 88.0, \"Polio\": 88.0, \"Diphtheria\": 88.0, \"Schooling\": 10.6, \"Average Vaccination Rate\": 88.0}, {\"Country\": \"Lao People's Democratic Republic\", \"Year\": 2013, \"Hepatitis B\": 87.0, \"Polio\": 86.0, \"Diphtheria\": 87.0, \"Schooling\": 10.4, \"Average Vaccination Rate\": 86.66666666666667}, {\"Country\": \"Lao People's Democratic Republic\", \"Year\": 2012, \"Hepatitis B\": 79.0, \"Polio\": 78.0, \"Diphtheria\": 79.0, \"Schooling\": 10.2, \"Average Vaccination Rate\": 78.66666666666667}, {\"Country\": \"Lao People's Democratic Republic\", \"Year\": 2011, \"Hepatitis B\": 78.0, \"Polio\": 79.0, \"Diphtheria\": 78.0, \"Schooling\": 9.9, \"Average Vaccination Rate\": 78.33333333333333}, {\"Country\": \"Lao People's Democratic Republic\", \"Year\": 2010, \"Hepatitis B\": 74.0, \"Polio\": 76.0, \"Diphtheria\": 74.0, \"Schooling\": 9.6, \"Average Vaccination Rate\": 74.66666666666667}, {\"Country\": \"Lao People's Democratic Republic\", \"Year\": 2009, \"Hepatitis B\": 67.0, \"Polio\": 67.0, \"Diphtheria\": 67.0, \"Schooling\": 9.4, \"Average Vaccination Rate\": 67.0}, {\"Country\": \"Lao People's Democratic Republic\", \"Year\": 2008, \"Hepatitis B\": 61.0, \"Polio\": 6.0, \"Diphtheria\": 61.0, \"Schooling\": 9.2, \"Average Vaccination Rate\": 42.666666666666664}, {\"Country\": \"Lao People's Democratic Republic\", \"Year\": 2007, \"Hepatitis B\": 5.0, \"Polio\": 46.0, \"Diphtheria\": 5.0, \"Schooling\": 9.0, \"Average Vaccination Rate\": 18.666666666666668}, {\"Country\": \"Lao People's Democratic Republic\", \"Year\": 2006, \"Hepatitis B\": 57.0, \"Polio\": 56.0, \"Diphtheria\": 57.0, \"Schooling\": 9.0, \"Average Vaccination Rate\": 56.666666666666664}, {\"Country\": \"Lao People's Democratic Republic\", \"Year\": 2005, \"Hepatitis B\": 49.0, \"Polio\": 5.0, \"Diphtheria\": 49.0, \"Schooling\": 8.7, \"Average Vaccination Rate\": 34.333333333333336}, {\"Country\": \"Lao People's Democratic Republic\", \"Year\": 2004, \"Hepatitis B\": 45.0, \"Polio\": 46.0, \"Diphtheria\": 45.0, \"Schooling\": 8.6, \"Average Vaccination Rate\": 45.333333333333336}, {\"Country\": \"Lao People's Democratic Republic\", \"Year\": 2003, \"Hepatitis B\": 5.0, \"Polio\": 52.0, \"Diphtheria\": 49.0, \"Schooling\": 8.3, \"Average Vaccination Rate\": 35.333333333333336}, {\"Country\": \"Lao People's Democratic Republic\", \"Year\": 2002, \"Hepatitis B\": null, \"Polio\": 55.0, \"Diphtheria\": 53.0, \"Schooling\": 8.0, \"Average Vaccination Rate\": null}, {\"Country\": \"Lao People's Democratic Republic\", \"Year\": 2001, \"Hepatitis B\": null, \"Polio\": 55.0, \"Diphtheria\": 52.0, \"Schooling\": 8.0, \"Average Vaccination Rate\": null}, {\"Country\": \"Lao People's Democratic Republic\", \"Year\": 2000, \"Hepatitis B\": null, \"Polio\": 57.0, \"Diphtheria\": 51.0, \"Schooling\": 8.0, \"Average Vaccination Rate\": null}, {\"Country\": \"Malaysia\", \"Year\": 2015, \"Hepatitis B\": 99.0, \"Polio\": 99.0, \"Diphtheria\": 99.0, \"Schooling\": 13.1, \"Average Vaccination Rate\": 99.0}, {\"Country\": \"Malaysia\", \"Year\": 2014, \"Hepatitis B\": 96.0, \"Polio\": 97.0, \"Diphtheria\": 97.0, \"Schooling\": 13.0, \"Average Vaccination Rate\": 96.66666666666667}, {\"Country\": \"Malaysia\", \"Year\": 2013, \"Hepatitis B\": 96.0, \"Polio\": 97.0, \"Diphtheria\": 97.0, \"Schooling\": 12.9, \"Average Vaccination Rate\": 96.66666666666667}, {\"Country\": \"Malaysia\", \"Year\": 2012, \"Hepatitis B\": 97.0, \"Polio\": 97.0, \"Diphtheria\": 97.0, \"Schooling\": 12.9, \"Average Vaccination Rate\": 97.0}, {\"Country\": \"Malaysia\", \"Year\": 2011, \"Hepatitis B\": 96.0, \"Polio\": 96.0, \"Diphtheria\": 96.0, \"Schooling\": 13.0, \"Average Vaccination Rate\": 96.0}, {\"Country\": \"Malaysia\", \"Year\": 2010, \"Hepatitis B\": 96.0, \"Polio\": 96.0, \"Diphtheria\": 96.0, \"Schooling\": 12.8, \"Average Vaccination Rate\": 96.0}, {\"Country\": \"Malaysia\", \"Year\": 2009, \"Hepatitis B\": 96.0, \"Polio\": 97.0, \"Diphtheria\": 97.0, \"Schooling\": 12.6, \"Average Vaccination Rate\": 96.66666666666667}, {\"Country\": \"Malaysia\", \"Year\": 2008, \"Hepatitis B\": 97.0, \"Polio\": 97.0, \"Diphtheria\": 97.0, \"Schooling\": 12.5, \"Average Vaccination Rate\": 97.0}, {\"Country\": \"Malaysia\", \"Year\": 2007, \"Hepatitis B\": 96.0, \"Polio\": 97.0, \"Diphtheria\": 97.0, \"Schooling\": 12.3, \"Average Vaccination Rate\": 96.66666666666667}, {\"Country\": \"Malaysia\", \"Year\": 2006, \"Hepatitis B\": 95.0, \"Polio\": 95.0, \"Diphtheria\": 95.0, \"Schooling\": 12.7, \"Average Vaccination Rate\": 95.0}, {\"Country\": \"Malaysia\", \"Year\": 2005, \"Hepatitis B\": 96.0, \"Polio\": 96.0, \"Diphtheria\": 96.0, \"Schooling\": 12.9, \"Average Vaccination Rate\": 96.0}, {\"Country\": \"Malaysia\", \"Year\": 2004, \"Hepatitis B\": 94.0, \"Polio\": 95.0, \"Diphtheria\": 95.0, \"Schooling\": 12.7, \"Average Vaccination Rate\": 94.66666666666667}, {\"Country\": \"Malaysia\", \"Year\": 2003, \"Hepatitis B\": 95.0, \"Polio\": 96.0, \"Diphtheria\": 96.0, \"Schooling\": 12.1, \"Average Vaccination Rate\": 95.66666666666667}, {\"Country\": \"Malaysia\", \"Year\": 2002, \"Hepatitis B\": 95.0, \"Polio\": 94.0, \"Diphtheria\": 94.0, \"Schooling\": 12.0, \"Average Vaccination Rate\": 94.33333333333333}, {\"Country\": \"Malaysia\", \"Year\": 2001, \"Hepatitis B\": 95.0, \"Polio\": 95.0, \"Diphtheria\": 96.0, \"Schooling\": 11.9, \"Average Vaccination Rate\": 95.33333333333333}, {\"Country\": \"Malaysia\", \"Year\": 2000, \"Hepatitis B\": 97.0, \"Polio\": 98.0, \"Diphtheria\": 98.0, \"Schooling\": 11.6, \"Average Vaccination Rate\": 97.66666666666667}, {\"Country\": \"Mongolia\", \"Year\": 2015, \"Hepatitis B\": 99.0, \"Polio\": 99.0, \"Diphtheria\": 99.0, \"Schooling\": 14.8, \"Average Vaccination Rate\": 99.0}, {\"Country\": \"Mongolia\", \"Year\": 2014, \"Hepatitis B\": 99.0, \"Polio\": 99.0, \"Diphtheria\": 99.0, \"Schooling\": 14.8, \"Average Vaccination Rate\": 99.0}, {\"Country\": \"Mongolia\", \"Year\": 2013, \"Hepatitis B\": 98.0, \"Polio\": 98.0, \"Diphtheria\": 98.0, \"Schooling\": 14.7, \"Average Vaccination Rate\": 98.0}, {\"Country\": \"Mongolia\", \"Year\": 2012, \"Hepatitis B\": 99.0, \"Polio\": 99.0, \"Diphtheria\": 99.0, \"Schooling\": 14.7, \"Average Vaccination Rate\": 99.0}, {\"Country\": \"Mongolia\", \"Year\": 2011, \"Hepatitis B\": 99.0, \"Polio\": 99.0, \"Diphtheria\": 99.0, \"Schooling\": 14.6, \"Average Vaccination Rate\": 99.0}, {\"Country\": \"Mongolia\", \"Year\": 2010, \"Hepatitis B\": 96.0, \"Polio\": 96.0, \"Diphtheria\": 96.0, \"Schooling\": 14.3, \"Average Vaccination Rate\": 96.0}, {\"Country\": \"Mongolia\", \"Year\": 2009, \"Hepatitis B\": 97.0, \"Polio\": 96.0, \"Diphtheria\": 95.0, \"Schooling\": 13.8, \"Average Vaccination Rate\": 96.0}, {\"Country\": \"Mongolia\", \"Year\": 2008, \"Hepatitis B\": 96.0, \"Polio\": 95.0, \"Diphtheria\": 96.0, \"Schooling\": 13.4, \"Average Vaccination Rate\": 95.66666666666667}, {\"Country\": \"Mongolia\", \"Year\": 2007, \"Hepatitis B\": 98.0, \"Polio\": 99.0, \"Diphtheria\": 95.0, \"Schooling\": 13.0, \"Average Vaccination Rate\": 97.33333333333333}, {\"Country\": \"Mongolia\", \"Year\": 2006, \"Hepatitis B\": 98.0, \"Polio\": 98.0, \"Diphtheria\": 99.0, \"Schooling\": 12.7, \"Average Vaccination Rate\": 98.33333333333333}, {\"Country\": \"Mongolia\", \"Year\": 2005, \"Hepatitis B\": 98.0, \"Polio\": 99.0, \"Diphtheria\": 99.0, \"Schooling\": 11.8, \"Average Vaccination Rate\": 98.66666666666667}, {\"Country\": \"Mongolia\", \"Year\": 2004, \"Hepatitis B\": 98.0, \"Polio\": 99.0, \"Diphtheria\": 99.0, \"Schooling\": 11.2, \"Average Vaccination Rate\": 98.66666666666667}, {\"Country\": \"Mongolia\", \"Year\": 2003, \"Hepatitis B\": 98.0, \"Polio\": 98.0, \"Diphtheria\": 98.0, \"Schooling\": 10.5, \"Average Vaccination Rate\": 98.0}, {\"Country\": \"Mongolia\", \"Year\": 2002, \"Hepatitis B\": 98.0, \"Polio\": 98.0, \"Diphtheria\": 98.0, \"Schooling\": 10.1, \"Average Vaccination Rate\": 98.0}, {\"Country\": \"Mongolia\", \"Year\": 2001, \"Hepatitis B\": 95.0, \"Polio\": 95.0, \"Diphtheria\": 95.0, \"Schooling\": 9.4, \"Average Vaccination Rate\": 95.0}, {\"Country\": \"Mongolia\", \"Year\": 2000, \"Hepatitis B\": 93.0, \"Polio\": 94.0, \"Diphtheria\": 94.0, \"Schooling\": 8.9, \"Average Vaccination Rate\": 93.66666666666667}, {\"Country\": \"Myanmar\", \"Year\": 2015, \"Hepatitis B\": 89.0, \"Polio\": 89.0, \"Diphtheria\": 89.0, \"Schooling\": 9.1, \"Average Vaccination Rate\": 89.0}, {\"Country\": \"Myanmar\", \"Year\": 2014, \"Hepatitis B\": 88.0, \"Polio\": 88.0, \"Diphtheria\": 88.0, \"Schooling\": 9.1, \"Average Vaccination Rate\": 88.0}, {\"Country\": \"Myanmar\", \"Year\": 2013, \"Hepatitis B\": 75.0, \"Polio\": 76.0, \"Diphtheria\": 75.0, \"Schooling\": 9.1, \"Average Vaccination Rate\": 75.33333333333333}, {\"Country\": \"Myanmar\", \"Year\": 2012, \"Hepatitis B\": 58.0, \"Polio\": 87.0, \"Diphtheria\": 84.0, \"Schooling\": 9.1, \"Average Vaccination Rate\": 76.33333333333333}, {\"Country\": \"Myanmar\", \"Year\": 2011, \"Hepatitis B\": 4.0, \"Polio\": 9.0, \"Diphtheria\": 84.0, \"Schooling\": 9.1, \"Average Vaccination Rate\": 32.333333333333336}, {\"Country\": \"Myanmar\", \"Year\": 2010, \"Hepatitis B\": 92.0, \"Polio\": 9.0, \"Diphtheria\": 9.0, \"Schooling\": 8.8, \"Average Vaccination Rate\": 36.666666666666664}, {\"Country\": \"Myanmar\", \"Year\": 2009, \"Hepatitis B\": 91.0, \"Polio\": 9.0, \"Diphtheria\": 9.0, \"Schooling\": 8.5, \"Average Vaccination Rate\": 36.333333333333336}, {\"Country\": \"Myanmar\", \"Year\": 2008, \"Hepatitis B\": 85.0, \"Polio\": 85.0, \"Diphtheria\": 85.0, \"Schooling\": 8.2, \"Average Vaccination Rate\": 85.0}, {\"Country\": \"Myanmar\", \"Year\": 2007, \"Hepatitis B\": 85.0, \"Polio\": 84.0, \"Diphtheria\": 86.0, \"Schooling\": 8.1, \"Average Vaccination Rate\": 85.0}, {\"Country\": \"Myanmar\", \"Year\": 2006, \"Hepatitis B\": 75.0, \"Polio\": 82.0, \"Diphtheria\": 82.0, \"Schooling\": 8.0, \"Average Vaccination Rate\": 79.66666666666667}, {\"Country\": \"Myanmar\", \"Year\": 2005, \"Hepatitis B\": 62.0, \"Polio\": 86.0, \"Diphtheria\": 73.0, \"Schooling\": 7.9, \"Average Vaccination Rate\": 73.66666666666667}, {\"Country\": \"Myanmar\", \"Year\": 2004, \"Hepatitis B\": 39.0, \"Polio\": 92.0, \"Diphtheria\": 82.0, \"Schooling\": 7.8, \"Average Vaccination Rate\": 71.0}, {\"Country\": \"Myanmar\", \"Year\": 2003, \"Hepatitis B\": 8.0, \"Polio\": 86.0, \"Diphtheria\": 78.0, \"Schooling\": 7.7, \"Average Vaccination Rate\": 57.333333333333336}, {\"Country\": \"Myanmar\", \"Year\": 2002, \"Hepatitis B\": null, \"Polio\": 84.0, \"Diphtheria\": 79.0, \"Schooling\": 7.6, \"Average Vaccination Rate\": null}, {\"Country\": \"Myanmar\", \"Year\": 2001, \"Hepatitis B\": null, \"Polio\": 77.0, \"Diphtheria\": 73.0, \"Schooling\": 7.6, \"Average Vaccination Rate\": null}, {\"Country\": \"Myanmar\", \"Year\": 2000, \"Hepatitis B\": null, \"Polio\": 88.0, \"Diphtheria\": 82.0, \"Schooling\": 7.5, \"Average Vaccination Rate\": null}, {\"Country\": \"Pakistan\", \"Year\": 2015, \"Hepatitis B\": 72.0, \"Polio\": 72.0, \"Diphtheria\": 72.0, \"Schooling\": 8.1, \"Average Vaccination Rate\": 72.0}, {\"Country\": \"Pakistan\", \"Year\": 2014, \"Hepatitis B\": 72.0, \"Polio\": 72.0, \"Diphtheria\": 72.0, \"Schooling\": 7.8, \"Average Vaccination Rate\": 72.0}, {\"Country\": \"Pakistan\", \"Year\": 2013, \"Hepatitis B\": 72.0, \"Polio\": 72.0, \"Diphtheria\": 72.0, \"Schooling\": 7.7, \"Average Vaccination Rate\": 72.0}, {\"Country\": \"Pakistan\", \"Year\": 2012, \"Hepatitis B\": 72.0, \"Polio\": 72.0, \"Diphtheria\": 72.0, \"Schooling\": 7.6, \"Average Vaccination Rate\": 72.0}, {\"Country\": \"Pakistan\", \"Year\": 2011, \"Hepatitis B\": 74.0, \"Polio\": 75.0, \"Diphtheria\": 74.0, \"Schooling\": 7.5, \"Average Vaccination Rate\": 74.33333333333333}, {\"Country\": \"Pakistan\", \"Year\": 2010, \"Hepatitis B\": 82.0, \"Polio\": 82.0, \"Diphtheria\": 82.0, \"Schooling\": 7.5, \"Average Vaccination Rate\": 82.0}, {\"Country\": \"Pakistan\", \"Year\": 2009, \"Hepatitis B\": 78.0, \"Polio\": 7.0, \"Diphtheria\": 71.0, \"Schooling\": 7.3, \"Average Vaccination Rate\": 52.0}, {\"Country\": \"Pakistan\", \"Year\": 2008, \"Hepatitis B\": 65.0, \"Polio\": 7.0, \"Diphtheria\": 62.0, \"Schooling\": 7.3, \"Average Vaccination Rate\": 44.666666666666664}, {\"Country\": \"Pakistan\", \"Year\": 2007, \"Hepatitis B\": 75.0, \"Polio\": 75.0, \"Diphtheria\": 75.0, \"Schooling\": 6.7, \"Average Vaccination Rate\": 75.0}, {\"Country\": \"Pakistan\", \"Year\": 2006, \"Hepatitis B\": 78.0, \"Polio\": 77.0, \"Diphtheria\": 78.0, \"Schooling\": 6.5, \"Average Vaccination Rate\": 77.66666666666667}, {\"Country\": \"Pakistan\", \"Year\": 2005, \"Hepatitis B\": 7.0, \"Polio\": 78.0, \"Diphtheria\": 77.0, \"Schooling\": 6.1, \"Average Vaccination Rate\": 54.0}, {\"Country\": \"Pakistan\", \"Year\": 2004, \"Hepatitis B\": 65.0, \"Polio\": 65.0, \"Diphtheria\": 65.0, \"Schooling\": 5.6, \"Average Vaccination Rate\": 65.0}, {\"Country\": \"Pakistan\", \"Year\": 2003, \"Hepatitis B\": 63.0, \"Polio\": 69.0, \"Diphtheria\": 67.0, \"Schooling\": 5.6, \"Average Vaccination Rate\": 66.33333333333333}, {\"Country\": \"Pakistan\", \"Year\": 2002, \"Hepatitis B\": null, \"Polio\": 71.0, \"Diphtheria\": 68.0, \"Schooling\": 5.5, \"Average Vaccination Rate\": null}, {\"Country\": \"Pakistan\", \"Year\": 2001, \"Hepatitis B\": null, \"Polio\": 68.0, \"Diphtheria\": 65.0, \"Schooling\": 5.4, \"Average Vaccination Rate\": null}, {\"Country\": \"Pakistan\", \"Year\": 2000, \"Hepatitis B\": null, \"Polio\": 65.0, \"Diphtheria\": 62.0, \"Schooling\": 5.3, \"Average Vaccination Rate\": null}, {\"Country\": \"Philippines\", \"Year\": 2015, \"Hepatitis B\": 6.0, \"Polio\": 79.0, \"Diphtheria\": 6.0, \"Schooling\": 11.7, \"Average Vaccination Rate\": 30.333333333333332}, {\"Country\": \"Philippines\", \"Year\": 2014, \"Hepatitis B\": 67.0, \"Polio\": 77.0, \"Diphtheria\": 67.0, \"Schooling\": 11.7, \"Average Vaccination Rate\": 70.33333333333333}, {\"Country\": \"Philippines\", \"Year\": 2013, \"Hepatitis B\": 89.0, \"Polio\": 84.0, \"Diphtheria\": 89.0, \"Schooling\": 11.7, \"Average Vaccination Rate\": 87.33333333333333}, {\"Country\": \"Philippines\", \"Year\": 2012, \"Hepatitis B\": 88.0, \"Polio\": 88.0, \"Diphtheria\": 88.0, \"Schooling\": 11.6, \"Average Vaccination Rate\": 88.0}, {\"Country\": \"Philippines\", \"Year\": 2011, \"Hepatitis B\": 87.0, \"Polio\": 87.0, \"Diphtheria\": 87.0, \"Schooling\": 11.5, \"Average Vaccination Rate\": 87.0}, {\"Country\": \"Philippines\", \"Year\": 2010, \"Hepatitis B\": 77.0, \"Polio\": 78.0, \"Diphtheria\": 79.0, \"Schooling\": 11.4, \"Average Vaccination Rate\": 78.0}, {\"Country\": \"Philippines\", \"Year\": 2009, \"Hepatitis B\": 85.0, \"Polio\": 86.0, \"Diphtheria\": 87.0, \"Schooling\": 11.7, \"Average Vaccination Rate\": 86.0}, {\"Country\": \"Philippines\", \"Year\": 2008, \"Hepatitis B\": 88.0, \"Polio\": 91.0, \"Diphtheria\": 91.0, \"Schooling\": 11.5, \"Average Vaccination Rate\": 90.0}, {\"Country\": \"Philippines\", \"Year\": 2007, \"Hepatitis B\": 87.0, \"Polio\": 87.0, \"Diphtheria\": 87.0, \"Schooling\": 11.4, \"Average Vaccination Rate\": 87.0}, {\"Country\": \"Philippines\", \"Year\": 2006, \"Hepatitis B\": 77.0, \"Polio\": 88.0, \"Diphtheria\": 88.0, \"Schooling\": 11.5, \"Average Vaccination Rate\": 84.33333333333333}, {\"Country\": \"Philippines\", \"Year\": 2005, \"Hepatitis B\": 49.0, \"Polio\": 9.0, \"Diphtheria\": 89.0, \"Schooling\": 11.6, \"Average Vaccination Rate\": 49.0}, {\"Country\": \"Philippines\", \"Year\": 2004, \"Hepatitis B\": 48.0, \"Polio\": 85.0, \"Diphtheria\": 88.0, \"Schooling\": 11.6, \"Average Vaccination Rate\": 73.66666666666667}, {\"Country\": \"Philippines\", \"Year\": 2003, \"Hepatitis B\": 52.0, \"Polio\": 85.0, \"Diphtheria\": 84.0, \"Schooling\": 11.6, \"Average Vaccination Rate\": 73.66666666666667}, {\"Country\": \"Philippines\", \"Year\": 2002, \"Hepatitis B\": 42.0, \"Polio\": 77.0, \"Diphtheria\": 79.0, \"Schooling\": 11.4, \"Average Vaccination Rate\": 66.0}, {\"Country\": \"Philippines\", \"Year\": 2001, \"Hepatitis B\": 45.0, \"Polio\": 76.0, \"Diphtheria\": 79.0, \"Schooling\": 11.4, \"Average Vaccination Rate\": 66.66666666666667}, {\"Country\": \"Philippines\", \"Year\": 2000, \"Hepatitis B\": 7.0, \"Polio\": 74.0, \"Diphtheria\": 78.0, \"Schooling\": 11.4, \"Average Vaccination Rate\": 53.0}, {\"Country\": \"Republic of Korea\", \"Year\": 2015, \"Hepatitis B\": 98.0, \"Polio\": 98.0, \"Diphtheria\": 98.0, \"Schooling\": null, \"Average Vaccination Rate\": 98.0}, {\"Country\": \"Republic of Korea\", \"Year\": 2014, \"Hepatitis B\": 99.0, \"Polio\": 99.0, \"Diphtheria\": 99.0, \"Schooling\": null, \"Average Vaccination Rate\": 99.0}, {\"Country\": \"Republic of Korea\", \"Year\": 2013, \"Hepatitis B\": 99.0, \"Polio\": 99.0, \"Diphtheria\": 99.0, \"Schooling\": null, \"Average Vaccination Rate\": 99.0}, {\"Country\": \"Republic of Korea\", \"Year\": 2012, \"Hepatitis B\": 99.0, \"Polio\": 99.0, \"Diphtheria\": 99.0, \"Schooling\": null, \"Average Vaccination Rate\": 99.0}, {\"Country\": \"Republic of Korea\", \"Year\": 2011, \"Hepatitis B\": 99.0, \"Polio\": 98.0, \"Diphtheria\": 99.0, \"Schooling\": null, \"Average Vaccination Rate\": 98.66666666666667}, {\"Country\": \"Republic of Korea\", \"Year\": 2010, \"Hepatitis B\": 94.0, \"Polio\": 95.0, \"Diphtheria\": 94.0, \"Schooling\": null, \"Average Vaccination Rate\": 94.33333333333333}, {\"Country\": \"Republic of Korea\", \"Year\": 2009, \"Hepatitis B\": 94.0, \"Polio\": 95.0, \"Diphtheria\": 94.0, \"Schooling\": null, \"Average Vaccination Rate\": 94.33333333333333}, {\"Country\": \"Republic of Korea\", \"Year\": 2008, \"Hepatitis B\": 94.0, \"Polio\": 92.0, \"Diphtheria\": 94.0, \"Schooling\": null, \"Average Vaccination Rate\": 93.33333333333333}, {\"Country\": \"Republic of Korea\", \"Year\": 2007, \"Hepatitis B\": 91.0, \"Polio\": 91.0, \"Diphtheria\": 91.0, \"Schooling\": null, \"Average Vaccination Rate\": 91.0}, {\"Country\": \"Republic of Korea\", \"Year\": 2006, \"Hepatitis B\": 99.0, \"Polio\": 98.0, \"Diphtheria\": 98.0, \"Schooling\": null, \"Average Vaccination Rate\": 98.33333333333333}, {\"Country\": \"Republic of Korea\", \"Year\": 2005, \"Hepatitis B\": 99.0, \"Polio\": 96.0, \"Diphtheria\": 96.0, \"Schooling\": null, \"Average Vaccination Rate\": 97.0}, {\"Country\": \"Republic of Korea\", \"Year\": 2004, \"Hepatitis B\": 92.0, \"Polio\": 9.0, \"Diphtheria\": 88.0, \"Schooling\": null, \"Average Vaccination Rate\": 63.0}, {\"Country\": \"Republic of Korea\", \"Year\": 2003, \"Hepatitis B\": 91.0, \"Polio\": 94.0, \"Diphtheria\": 97.0, \"Schooling\": null, \"Average Vaccination Rate\": 94.0}, {\"Country\": \"Republic of Korea\", \"Year\": 2002, \"Hepatitis B\": 92.0, \"Polio\": 99.0, \"Diphtheria\": 97.0, \"Schooling\": null, \"Average Vaccination Rate\": 96.0}, {\"Country\": \"Republic of Korea\", \"Year\": 2001, \"Hepatitis B\": 89.0, \"Polio\": 99.0, \"Diphtheria\": 97.0, \"Schooling\": null, \"Average Vaccination Rate\": 95.0}, {\"Country\": \"Republic of Korea\", \"Year\": 2000, \"Hepatitis B\": 93.0, \"Polio\": 99.0, \"Diphtheria\": 97.0, \"Schooling\": null, \"Average Vaccination Rate\": 96.33333333333333}, {\"Country\": \"Russian Federation\", \"Year\": 2015, \"Hepatitis B\": 97.0, \"Polio\": 97.0, \"Diphtheria\": 97.0, \"Schooling\": 15.0, \"Average Vaccination Rate\": 97.0}, {\"Country\": \"Russian Federation\", \"Year\": 2014, \"Hepatitis B\": 97.0, \"Polio\": 97.0, \"Diphtheria\": 97.0, \"Schooling\": 14.9, \"Average Vaccination Rate\": 97.0}, {\"Country\": \"Russian Federation\", \"Year\": 2013, \"Hepatitis B\": 97.0, \"Polio\": 98.0, \"Diphtheria\": 97.0, \"Schooling\": 14.6, \"Average Vaccination Rate\": 97.33333333333333}, {\"Country\": \"Russian Federation\", \"Year\": 2012, \"Hepatitis B\": 97.0, \"Polio\": 98.0, \"Diphtheria\": 97.0, \"Schooling\": 14.3, \"Average Vaccination Rate\": 97.33333333333333}, {\"Country\": \"Russian Federation\", \"Year\": 2011, \"Hepatitis B\": 97.0, \"Polio\": 97.0, \"Diphtheria\": 97.0, \"Schooling\": 14.0, \"Average Vaccination Rate\": 97.0}, {\"Country\": \"Russian Federation\", \"Year\": 2010, \"Hepatitis B\": 97.0, \"Polio\": 98.0, \"Diphtheria\": 97.0, \"Schooling\": 13.7, \"Average Vaccination Rate\": 97.33333333333333}, {\"Country\": \"Russian Federation\", \"Year\": 2009, \"Hepatitis B\": 98.0, \"Polio\": 98.0, \"Diphtheria\": 98.0, \"Schooling\": 14.0, \"Average Vaccination Rate\": 98.0}, {\"Country\": \"Russian Federation\", \"Year\": 2008, \"Hepatitis B\": 98.0, \"Polio\": 98.0, \"Diphtheria\": 98.0, \"Schooling\": 13.9, \"Average Vaccination Rate\": 98.0}, {\"Country\": \"Russian Federation\", \"Year\": 2007, \"Hepatitis B\": 98.0, \"Polio\": 98.0, \"Diphtheria\": 98.0, \"Schooling\": 13.8, \"Average Vaccination Rate\": 98.0}, {\"Country\": \"Russian Federation\", \"Year\": 2006, \"Hepatitis B\": 98.0, \"Polio\": 98.0, \"Diphtheria\": 98.0, \"Schooling\": 13.8, \"Average Vaccination Rate\": 98.0}, {\"Country\": \"Russian Federation\", \"Year\": 2005, \"Hepatitis B\": 97.0, \"Polio\": 98.0, \"Diphtheria\": 98.0, \"Schooling\": 13.7, \"Average Vaccination Rate\": 97.66666666666667}, {\"Country\": \"Russian Federation\", \"Year\": 2004, \"Hepatitis B\": 96.0, \"Polio\": 98.0, \"Diphtheria\": 97.0, \"Schooling\": 13.6, \"Average Vaccination Rate\": 97.0}, {\"Country\": \"Russian Federation\", \"Year\": 2003, \"Hepatitis B\": 94.0, \"Polio\": 97.0, \"Diphtheria\": 96.0, \"Schooling\": 13.2, \"Average Vaccination Rate\": 95.66666666666667}, {\"Country\": \"Russian Federation\", \"Year\": 2002, \"Hepatitis B\": 81.0, \"Polio\": 97.0, \"Diphtheria\": 97.0, \"Schooling\": 12.8, \"Average Vaccination Rate\": 91.66666666666667}, {\"Country\": \"Russian Federation\", \"Year\": 2001, \"Hepatitis B\": 43.0, \"Polio\": 97.0, \"Diphtheria\": 96.0, \"Schooling\": 12.5, \"Average Vaccination Rate\": 78.66666666666667}, {\"Country\": \"Russian Federation\", \"Year\": 2000, \"Hepatitis B\": null, \"Polio\": 97.0, \"Diphtheria\": 96.0, \"Schooling\": 12.1, \"Average Vaccination Rate\": null}, {\"Country\": \"Singapore\", \"Year\": 2015, \"Hepatitis B\": 96.0, \"Polio\": 96.0, \"Diphtheria\": 96.0, \"Schooling\": 15.4, \"Average Vaccination Rate\": 96.0}, {\"Country\": \"Singapore\", \"Year\": 2014, \"Hepatitis B\": 96.0, \"Polio\": 96.0, \"Diphtheria\": 96.0, \"Schooling\": 15.4, \"Average Vaccination Rate\": 96.0}, {\"Country\": \"Singapore\", \"Year\": 2013, \"Hepatitis B\": 97.0, \"Polio\": 97.0, \"Diphtheria\": 97.0, \"Schooling\": 15.4, \"Average Vaccination Rate\": 97.0}, {\"Country\": \"Singapore\", \"Year\": 2012, \"Hepatitis B\": 97.0, \"Polio\": 97.0, \"Diphtheria\": 97.0, \"Schooling\": 15.4, \"Average Vaccination Rate\": 97.0}, {\"Country\": \"Singapore\", \"Year\": 2011, \"Hepatitis B\": 96.0, \"Polio\": 96.0, \"Diphtheria\": 96.0, \"Schooling\": 15.2, \"Average Vaccination Rate\": 96.0}, {\"Country\": \"Singapore\", \"Year\": 2010, \"Hepatitis B\": 96.0, \"Polio\": 96.0, \"Diphtheria\": 96.0, \"Schooling\": 14.5, \"Average Vaccination Rate\": 96.0}, {\"Country\": \"Singapore\", \"Year\": 2009, \"Hepatitis B\": 96.0, \"Polio\": 97.0, \"Diphtheria\": 97.0, \"Schooling\": 14.4, \"Average Vaccination Rate\": 96.66666666666667}, {\"Country\": \"Singapore\", \"Year\": 2008, \"Hepatitis B\": 97.0, \"Polio\": 97.0, \"Diphtheria\": 97.0, \"Schooling\": 14.2, \"Average Vaccination Rate\": 97.0}, {\"Country\": \"Singapore\", \"Year\": 2007, \"Hepatitis B\": 96.0, \"Polio\": 97.0, \"Diphtheria\": 97.0, \"Schooling\": 14.1, \"Average Vaccination Rate\": 96.66666666666667}, {\"Country\": \"Singapore\", \"Year\": 2006, \"Hepatitis B\": 95.0, \"Polio\": 95.0, \"Diphtheria\": 95.0, \"Schooling\": 13.9, \"Average Vaccination Rate\": 95.0}, {\"Country\": \"Singapore\", \"Year\": 2005, \"Hepatitis B\": 96.0, \"Polio\": 96.0, \"Diphtheria\": 96.0, \"Schooling\": 12.6, \"Average Vaccination Rate\": 96.0}, {\"Country\": \"Singapore\", \"Year\": 2004, \"Hepatitis B\": 94.0, \"Polio\": 95.0, \"Diphtheria\": 95.0, \"Schooling\": 12.7, \"Average Vaccination Rate\": 94.66666666666667}, {\"Country\": \"Singapore\", \"Year\": 2003, \"Hepatitis B\": 95.0, \"Polio\": 96.0, \"Diphtheria\": 96.0, \"Schooling\": 12.7, \"Average Vaccination Rate\": 95.66666666666667}, {\"Country\": \"Singapore\", \"Year\": 2002, \"Hepatitis B\": 95.0, \"Polio\": 94.0, \"Diphtheria\": 94.0, \"Schooling\": 12.6, \"Average Vaccination Rate\": 94.33333333333333}, {\"Country\": \"Singapore\", \"Year\": 2001, \"Hepatitis B\": 95.0, \"Polio\": 95.0, \"Diphtheria\": 96.0, \"Schooling\": 12.7, \"Average Vaccination Rate\": 95.33333333333333}, {\"Country\": \"Singapore\", \"Year\": 2000, \"Hepatitis B\": 97.0, \"Polio\": 98.0, \"Diphtheria\": 98.0, \"Schooling\": 12.5, \"Average Vaccination Rate\": 97.66666666666667}, {\"Country\": \"Sri Lanka\", \"Year\": 2015, \"Hepatitis B\": 99.0, \"Polio\": 99.0, \"Diphtheria\": 99.0, \"Schooling\": 14.0, \"Average Vaccination Rate\": 99.0}, {\"Country\": \"Sri Lanka\", \"Year\": 2014, \"Hepatitis B\": 99.0, \"Polio\": 99.0, \"Diphtheria\": 99.0, \"Schooling\": 14.0, \"Average Vaccination Rate\": 99.0}, {\"Country\": \"Sri Lanka\", \"Year\": 2013, \"Hepatitis B\": 99.0, \"Polio\": 99.0, \"Diphtheria\": 99.0, \"Schooling\": 13.8, \"Average Vaccination Rate\": 99.0}, {\"Country\": \"Sri Lanka\", \"Year\": 2012, \"Hepatitis B\": 99.0, \"Polio\": 99.0, \"Diphtheria\": 99.0, \"Schooling\": 13.7, \"Average Vaccination Rate\": 99.0}, {\"Country\": \"Sri Lanka\", \"Year\": 2011, \"Hepatitis B\": 99.0, \"Polio\": 99.0, \"Diphtheria\": 99.0, \"Schooling\": 13.6, \"Average Vaccination Rate\": 99.0}, {\"Country\": \"Sri Lanka\", \"Year\": 2010, \"Hepatitis B\": 99.0, \"Polio\": 99.0, \"Diphtheria\": 99.0, \"Schooling\": 13.5, \"Average Vaccination Rate\": 99.0}, {\"Country\": \"Sri Lanka\", \"Year\": 2009, \"Hepatitis B\": 97.0, \"Polio\": 97.0, \"Diphtheria\": 97.0, \"Schooling\": 13.4, \"Average Vaccination Rate\": 97.0}, {\"Country\": \"Sri Lanka\", \"Year\": 2008, \"Hepatitis B\": 98.0, \"Polio\": 98.0, \"Diphtheria\": 98.0, \"Schooling\": 13.3, \"Average Vaccination Rate\": 98.0}, {\"Country\": \"Sri Lanka\", \"Year\": 2007, \"Hepatitis B\": 98.0, \"Polio\": 98.0, \"Diphtheria\": 98.0, \"Schooling\": 13.2, \"Average Vaccination Rate\": 98.0}, {\"Country\": \"Sri Lanka\", \"Year\": 2006, \"Hepatitis B\": 98.0, \"Polio\": 98.0, \"Diphtheria\": 98.0, \"Schooling\": 13.1, \"Average Vaccination Rate\": 98.0}, {\"Country\": \"Sri Lanka\", \"Year\": 2005, \"Hepatitis B\": 99.0, \"Polio\": 99.0, \"Diphtheria\": 99.0, \"Schooling\": 12.9, \"Average Vaccination Rate\": 99.0}, {\"Country\": \"Sri Lanka\", \"Year\": 2004, \"Hepatitis B\": 62.0, \"Polio\": 97.0, \"Diphtheria\": 97.0, \"Schooling\": 12.8, \"Average Vaccination Rate\": 85.33333333333333}, {\"Country\": \"Sri Lanka\", \"Year\": 2003, \"Hepatitis B\": 32.0, \"Polio\": 98.0, \"Diphtheria\": 99.0, \"Schooling\": 12.7, \"Average Vaccination Rate\": 76.33333333333333}, {\"Country\": \"Sri Lanka\", \"Year\": 2002, \"Hepatitis B\": null, \"Polio\": 98.0, \"Diphtheria\": 98.0, \"Schooling\": 12.6, \"Average Vaccination Rate\": null}, {\"Country\": \"Sri Lanka\", \"Year\": 2001, \"Hepatitis B\": null, \"Polio\": 98.0, \"Diphtheria\": 98.0, \"Schooling\": 12.5, \"Average Vaccination Rate\": null}, {\"Country\": \"Sri Lanka\", \"Year\": 2000, \"Hepatitis B\": null, \"Polio\": 99.0, \"Diphtheria\": 99.0, \"Schooling\": 12.4, \"Average Vaccination Rate\": null}, {\"Country\": \"Thailand\", \"Year\": 2015, \"Hepatitis B\": 99.0, \"Polio\": 99.0, \"Diphtheria\": 99.0, \"Schooling\": 13.6, \"Average Vaccination Rate\": 99.0}, {\"Country\": \"Thailand\", \"Year\": 2014, \"Hepatitis B\": 99.0, \"Polio\": 99.0, \"Diphtheria\": 99.0, \"Schooling\": 13.6, \"Average Vaccination Rate\": 99.0}, {\"Country\": \"Thailand\", \"Year\": 2013, \"Hepatitis B\": 99.0, \"Polio\": 99.0, \"Diphtheria\": 99.0, \"Schooling\": 13.6, \"Average Vaccination Rate\": 99.0}, {\"Country\": \"Thailand\", \"Year\": 2012, \"Hepatitis B\": 98.0, \"Polio\": 99.0, \"Diphtheria\": 99.0, \"Schooling\": 13.7, \"Average Vaccination Rate\": 98.66666666666667}, {\"Country\": \"Thailand\", \"Year\": 2011, \"Hepatitis B\": 98.0, \"Polio\": 99.0, \"Diphtheria\": 99.0, \"Schooling\": 13.3, \"Average Vaccination Rate\": 98.66666666666667}, {\"Country\": \"Thailand\", \"Year\": 2010, \"Hepatitis B\": 98.0, \"Polio\": 99.0, \"Diphtheria\": 99.0, \"Schooling\": 13.1, \"Average Vaccination Rate\": 98.66666666666667}, {\"Country\": \"Thailand\", \"Year\": 2009, \"Hepatitis B\": 98.0, \"Polio\": 99.0, \"Diphtheria\": 99.0, \"Schooling\": 13.0, \"Average Vaccination Rate\": 98.66666666666667}, {\"Country\": \"Thailand\", \"Year\": 2008, \"Hepatitis B\": 98.0, \"Polio\": 99.0, \"Diphtheria\": 99.0, \"Schooling\": 12.9, \"Average Vaccination Rate\": 98.66666666666667}, {\"Country\": \"Thailand\", \"Year\": 2007, \"Hepatitis B\": 96.0, \"Polio\": 98.0, \"Diphtheria\": 98.0, \"Schooling\": 12.3, \"Average Vaccination Rate\": 97.33333333333333}, {\"Country\": \"Thailand\", \"Year\": 2006, \"Hepatitis B\": 96.0, \"Polio\": 98.0, \"Diphtheria\": 98.0, \"Schooling\": 12.4, \"Average Vaccination Rate\": 97.33333333333333}, {\"Country\": \"Thailand\", \"Year\": 2005, \"Hepatitis B\": 96.0, \"Polio\": 98.0, \"Diphtheria\": 98.0, \"Schooling\": 12.0, \"Average Vaccination Rate\": 97.33333333333333}, {\"Country\": \"Thailand\", \"Year\": 2004, \"Hepatitis B\": 96.0, \"Polio\": 98.0, \"Diphtheria\": 98.0, \"Schooling\": 11.9, \"Average Vaccination Rate\": 97.33333333333333}, {\"Country\": \"Thailand\", \"Year\": 2003, \"Hepatitis B\": 96.0, \"Polio\": 98.0, \"Diphtheria\": 98.0, \"Schooling\": 11.8, \"Average Vaccination Rate\": 97.33333333333333}, {\"Country\": \"Thailand\", \"Year\": 2002, \"Hepatitis B\": 95.0, \"Polio\": 97.0, \"Diphtheria\": 96.0, \"Schooling\": 11.5, \"Average Vaccination Rate\": 96.0}, {\"Country\": \"Thailand\", \"Year\": 2001, \"Hepatitis B\": 95.0, \"Polio\": 97.0, \"Diphtheria\": 96.0, \"Schooling\": 11.2, \"Average Vaccination Rate\": 96.0}, {\"Country\": \"Thailand\", \"Year\": 2000, \"Hepatitis B\": 95.0, \"Polio\": 97.0, \"Diphtheria\": 97.0, \"Schooling\": 10.9, \"Average Vaccination Rate\": 96.33333333333333}, {\"Country\": \"Timor-Leste\", \"Year\": 2015, \"Hepatitis B\": 76.0, \"Polio\": 75.0, \"Diphtheria\": 76.0, \"Schooling\": 12.5, \"Average Vaccination Rate\": 75.66666666666667}, {\"Country\": \"Timor-Leste\", \"Year\": 2014, \"Hepatitis B\": 77.0, \"Polio\": 76.0, \"Diphtheria\": 77.0, \"Schooling\": 12.5, \"Average Vaccination Rate\": 76.66666666666667}, {\"Country\": \"Timor-Leste\", \"Year\": 2013, \"Hepatitis B\": 82.0, \"Polio\": 82.0, \"Diphtheria\": 82.0, \"Schooling\": 12.5, \"Average Vaccination Rate\": 82.0}, {\"Country\": \"Timor-Leste\", \"Year\": 2012, \"Hepatitis B\": 83.0, \"Polio\": 83.0, \"Diphtheria\": 83.0, \"Schooling\": 12.5, \"Average Vaccination Rate\": 83.0}, {\"Country\": \"Timor-Leste\", \"Year\": 2011, \"Hepatitis B\": 67.0, \"Polio\": 66.0, \"Diphtheria\": 67.0, \"Schooling\": 12.5, \"Average Vaccination Rate\": 66.66666666666667}, {\"Country\": \"Timor-Leste\", \"Year\": 2010, \"Hepatitis B\": 72.0, \"Polio\": 72.0, \"Diphtheria\": 72.0, \"Schooling\": 12.4, \"Average Vaccination Rate\": 72.0}, {\"Country\": \"Timor-Leste\", \"Year\": 2009, \"Hepatitis B\": 72.0, \"Polio\": 78.0, \"Diphtheria\": 72.0, \"Schooling\": 12.1, \"Average Vaccination Rate\": 74.0}, {\"Country\": \"Timor-Leste\", \"Year\": 2008, \"Hepatitis B\": 79.0, \"Polio\": 79.0, \"Diphtheria\": 79.0, \"Schooling\": 11.7, \"Average Vaccination Rate\": 79.0}, {\"Country\": \"Timor-Leste\", \"Year\": 2007, \"Hepatitis B\": null, \"Polio\": 7.0, \"Diphtheria\": 7.0, \"Schooling\": 11.3, \"Average Vaccination Rate\": null}, {\"Country\": \"Timor-Leste\", \"Year\": 2006, \"Hepatitis B\": null, \"Polio\": 62.0, \"Diphtheria\": 63.0, \"Schooling\": 11.0, \"Average Vaccination Rate\": null}, {\"Country\": \"Timor-Leste\", \"Year\": 2005, \"Hepatitis B\": null, \"Polio\": 55.0, \"Diphtheria\": 55.0, \"Schooling\": 10.6, \"Average Vaccination Rate\": null}, {\"Country\": \"Timor-Leste\", \"Year\": 2004, \"Hepatitis B\": null, \"Polio\": 57.0, \"Diphtheria\": 57.0, \"Schooling\": 10.2, \"Average Vaccination Rate\": null}, {\"Country\": \"Timor-Leste\", \"Year\": 2003, \"Hepatitis B\": null, \"Polio\": 55.0, \"Diphtheria\": 55.0, \"Schooling\": 9.8, \"Average Vaccination Rate\": null}, {\"Country\": \"Timor-Leste\", \"Year\": 2002, \"Hepatitis B\": null, \"Polio\": 38.0, \"Diphtheria\": 54.0, \"Schooling\": 9.8, \"Average Vaccination Rate\": null}, {\"Country\": \"Timor-Leste\", \"Year\": 2001, \"Hepatitis B\": null, \"Polio\": null, \"Diphtheria\": null, \"Schooling\": 9.8, \"Average Vaccination Rate\": null}, {\"Country\": \"Timor-Leste\", \"Year\": 2000, \"Hepatitis B\": null, \"Polio\": null, \"Diphtheria\": null, \"Schooling\": 0.0, \"Average Vaccination Rate\": null}, {\"Country\": \"Viet Nam\", \"Year\": 2015, \"Hepatitis B\": 97.0, \"Polio\": 97.0, \"Diphtheria\": 97.0, \"Schooling\": 12.6, \"Average Vaccination Rate\": 97.0}, {\"Country\": \"Viet Nam\", \"Year\": 2014, \"Hepatitis B\": 95.0, \"Polio\": 96.0, \"Diphtheria\": 95.0, \"Schooling\": 12.5, \"Average Vaccination Rate\": 95.33333333333333}, {\"Country\": \"Viet Nam\", \"Year\": 2013, \"Hepatitis B\": 59.0, \"Polio\": 93.0, \"Diphtheria\": 59.0, \"Schooling\": 12.3, \"Average Vaccination Rate\": 70.33333333333333}, {\"Country\": \"Viet Nam\", \"Year\": 2012, \"Hepatitis B\": 97.0, \"Polio\": 97.0, \"Diphtheria\": 97.0, \"Schooling\": 12.2, \"Average Vaccination Rate\": 97.0}, {\"Country\": \"Viet Nam\", \"Year\": 2011, \"Hepatitis B\": 95.0, \"Polio\": 96.0, \"Diphtheria\": 95.0, \"Schooling\": 12.0, \"Average Vaccination Rate\": 95.33333333333333}, {\"Country\": \"Viet Nam\", \"Year\": 2010, \"Hepatitis B\": 88.0, \"Polio\": 94.0, \"Diphtheria\": 93.0, \"Schooling\": 11.9, \"Average Vaccination Rate\": 91.66666666666667}, {\"Country\": \"Viet Nam\", \"Year\": 2009, \"Hepatitis B\": 94.0, \"Polio\": 97.0, \"Diphtheria\": 96.0, \"Schooling\": 11.7, \"Average Vaccination Rate\": 95.66666666666667}, {\"Country\": \"Viet Nam\", \"Year\": 2008, \"Hepatitis B\": 87.0, \"Polio\": 93.0, \"Diphtheria\": 93.0, \"Schooling\": 11.6, \"Average Vaccination Rate\": 91.0}, {\"Country\": \"Viet Nam\", \"Year\": 2007, \"Hepatitis B\": 67.0, \"Polio\": 92.0, \"Diphtheria\": 92.0, \"Schooling\": 11.4, \"Average Vaccination Rate\": 83.66666666666667}, {\"Country\": \"Viet Nam\", \"Year\": 2006, \"Hepatitis B\": 93.0, \"Polio\": 94.0, \"Diphtheria\": 94.0, \"Schooling\": 11.3, \"Average Vaccination Rate\": 93.66666666666667}, {\"Country\": \"Viet Nam\", \"Year\": 2005, \"Hepatitis B\": 94.0, \"Polio\": 94.0, \"Diphtheria\": 95.0, \"Schooling\": 11.1, \"Average Vaccination Rate\": 94.33333333333333}, {\"Country\": \"Viet Nam\", \"Year\": 2004, \"Hepatitis B\": 94.0, \"Polio\": 96.0, \"Diphtheria\": 96.0, \"Schooling\": 11.0, \"Average Vaccination Rate\": 95.33333333333333}, {\"Country\": \"Viet Nam\", \"Year\": 2003, \"Hepatitis B\": 78.0, \"Polio\": 96.0, \"Diphtheria\": 99.0, \"Schooling\": 10.9, \"Average Vaccination Rate\": 91.0}, {\"Country\": \"Viet Nam\", \"Year\": 2002, \"Hepatitis B\": null, \"Polio\": 92.0, \"Diphtheria\": 75.0, \"Schooling\": 10.7, \"Average Vaccination Rate\": null}, {\"Country\": \"Viet Nam\", \"Year\": 2001, \"Hepatitis B\": null, \"Polio\": 96.0, \"Diphtheria\": 96.0, \"Schooling\": 10.6, \"Average Vaccination Rate\": null}, {\"Country\": \"Viet Nam\", \"Year\": 2000, \"Hepatitis B\": null, \"Polio\": 96.0, \"Diphtheria\": 96.0, \"Schooling\": 10.4, \"Average Vaccination Rate\": null}]}}, {\"mode\": \"vega-lite\"});\n",
              "</script>"
            ],
            "text/plain": [
              "alt.Chart(...)"
            ]
          },
          "metadata": {},
          "execution_count": 9
        }
      ]
    },
    {
      "cell_type": "markdown",
      "source": [
        "**Checking for typos in countries' names**\n",
        "- Checking the unique country values in the data file\n",
        "- Every country only has one unique value, so there are no typos"
      ],
      "metadata": {
        "id": "OWox_jPKTn9x"
      }
    },
    {
      "cell_type": "markdown",
      "source": [
        "**Resolving the issues in missing data**\n",
        "- Making a new data file\n",
        "  - Minimum value of Hepatitis B to 12\n",
        "  - Minimum value of Polio to 10\n",
        "  - Minimum value of Diphtheria to 10\n",
        "  - Minimum value of Schooling to 2"
      ],
      "metadata": {
        "id": "T8FRjDhzUUDZ"
      }
    },
    {
      "cell_type": "code",
      "source": [
        "FactorHealth2 = FactorHealth1[(FactorHealth1['Hepatitis B'] >= 12.0) & (FactorHealth1['Diphtheria'] >= 10.0) & (FactorHealth1['Polio'] >= 10.0) & (FactorHealth1['Schooling'] >= 2.0)]"
      ],
      "metadata": {
        "id": "k0bArWc1f9s0"
      },
      "execution_count": 10,
      "outputs": []
    },
    {
      "cell_type": "markdown",
      "source": [
        "# **Results**"
      ],
      "metadata": {
        "id": "FeNkmYbdsxKJ"
      }
    },
    {
      "cell_type": "markdown",
      "source": [
        "**Determining correlation of every country**\n",
        "- Function of correlation of every country using the '.corr()' function\n",
        "- Dropdown of a country made to compare them with each other\n",
        "- Also, 'import interact,fixed' is used because 'df = fixed(df)'\n",
        "- Function copied two times for comparing two graphs with each other\n",
        "\n",
        "**Visualization of every correlation**\n",
        "- Graph with regression line with dropdown for every country\n",
        "- Function copied two times for comparing two graphs with each other\n"
      ],
      "metadata": {
        "id": "XWwbqoqHVeVv"
      }
    },
    {
      "cell_type": "code",
      "source": [
        "from ipywidgets import interact, fixed\n",
        "\n",
        "def Country_data(Country, FactorHealth2):\n",
        "  return FactorHealth2.loc[FactorHealth2['Country'] == Country]\n",
        "\n",
        "def correlation(Country, FactorHealth2):\n",
        "  Countries_data = Country_data(Country, FactorHealth2)\n",
        "  CorrCountry = Countries_data[['Schooling', 'Average Vaccination Rate']].corr()\n",
        "  return CorrCountry\n",
        "\n",
        "def interact_visualization3(Country, FactorHealth2):\n",
        "  Visualization = correlation(Country, FactorHealth2)\n",
        "  display(Visualization)\n",
        "\n",
        "interact(interact_visualization3,\n",
        "         Country=FactorHealth2['Country'].unique(),\n",
        "         FactorHealth2=fixed(FactorHealth2));"
      ],
      "metadata": {
        "id": "QEBIl2FN4Z94",
        "colab": {
          "base_uri": "https://localhost:8080/",
          "height": 144,
          "referenced_widgets": [
            "0a750581e35345d09b94ffd6ac39c7a5",
            "cabfc1053a544205b55094f0f6788f0e",
            "9bf8c121086d4743bf094b3f9b457642",
            "b011a13bc6b24ab3a1face888b532aee",
            "12f20b043e5b47a094e1d334b46efbc5",
            "e47ef70ace674f5fa4d6e69760f60e16",
            "0310aeb5a9324c528d6799c4210ccd34"
          ]
        },
        "outputId": "2e531e23-78c6-425d-97a9-76230825e9a1"
      },
      "execution_count": 11,
      "outputs": [
        {
          "output_type": "display_data",
          "data": {
            "text/plain": [
              "interactive(children=(Dropdown(description='Country', options=('Bangladesh', 'Brunei Darussalam', 'Cambodia', …"
            ],
            "application/vnd.jupyter.widget-view+json": {
              "version_major": 2,
              "version_minor": 0,
              "model_id": "0a750581e35345d09b94ffd6ac39c7a5"
            }
          },
          "metadata": {}
        }
      ]
    },
    {
      "cell_type": "code",
      "source": [
        "from ipywidgets import interact, fixed\n",
        "\n",
        "def Country_data(Country, FactorHealth2):\n",
        "  return FactorHealth2.loc[FactorHealth2['Country'] == Country]\n",
        "\n",
        "def correlation(Country, FactorHealth2):\n",
        "  Countries_data = Country_data(Country, FactorHealth2)\n",
        "  CorrCountry = Countries_data[['Schooling', 'Average Vaccination Rate']].corr()\n",
        "  return CorrCountry\n",
        "\n",
        "def interact_visualization3(Country, FactorHealth2):\n",
        "  Visualization = correlation(Country, FactorHealth2)\n",
        "  display(Visualization)\n",
        "\n",
        "interact(interact_visualization3,\n",
        "         Country=FactorHealth2['Country'].unique(),\n",
        "         FactorHealth2=fixed(FactorHealth2));"
      ],
      "metadata": {
        "colab": {
          "base_uri": "https://localhost:8080/",
          "height": 144,
          "referenced_widgets": [
            "a109656ea6184cf68de1b3b201b5ab8a",
            "97b5814f8deb47a9bd724b35e6021564",
            "64fbf04b006d4c3c830106eac5fbbc18",
            "2541cf3286584338a0c80a97f2ffd4a8",
            "a0da5b7de2834853b2a3e9291b0350e1",
            "9148924f78db4837bed7ae646042f13c",
            "f3e1c516a9e04e9d95a19ee778c65b8a"
          ]
        },
        "id": "yCfy8AxZb_1r",
        "outputId": "4b4a51dd-6aa9-4c38-d7e0-d45963ab7108"
      },
      "execution_count": 12,
      "outputs": [
        {
          "output_type": "display_data",
          "data": {
            "text/plain": [
              "interactive(children=(Dropdown(description='Country', options=('Bangladesh', 'Brunei Darussalam', 'Cambodia', …"
            ],
            "application/vnd.jupyter.widget-view+json": {
              "version_major": 2,
              "version_minor": 0,
              "model_id": "a109656ea6184cf68de1b3b201b5ab8a"
            }
          },
          "metadata": {}
        }
      ]
    },
    {
      "cell_type": "code",
      "source": [
        "#Correlation of each country compared to other countries\n",
        "from ipywidgets import interact, fixed\n",
        "\n",
        "def Country_data(Country, FactorHealth2):\n",
        "  return FactorHealth2.loc[FactorHealth2['Country'] == Country]\n",
        "\n",
        "def interact_visualization(Country, FactorHealth2):\n",
        "  Visualization = Country_data(Country, FactorHealth2)\n",
        "  ChartPoint = alt.Chart(Visualization).mark_point().encode(x = 'Schooling', y = 'Average Vaccination Rate')\n",
        "  ChartTotal = ChartPoint + ChartPoint.transform_regression('Schooling', 'Average Vaccination Rate').mark_line()\n",
        "  display(ChartTotal)\n",
        "\n",
        "interact(interact_visualization,\n",
        "         Country=FactorHealth2['Country'].unique(),\n",
        "         FactorHealth2=fixed(FactorHealth2));"
      ],
      "metadata": {
        "colab": {
          "base_uri": "https://localhost:8080/",
          "height": 401,
          "referenced_widgets": [
            "51cdee17276045e190ca74c7b02a4725",
            "5cf3a38348e642fb80b52b3b12b20ce4",
            "28208a9d84eb413b804e1037b153e654",
            "4f6feea783be48f691e2dd0311e34bdb",
            "2fbde92ea784426cbeb32283643c029f",
            "59788b7e08b74f50a426b385ae435920",
            "4f8cdc0a85a447f1984b288cbac86c6f"
          ]
        },
        "id": "bjLOGAO2KuWE",
        "outputId": "52f1a0bf-e5aa-4d50-fa27-4778371e0136"
      },
      "execution_count": 13,
      "outputs": [
        {
          "output_type": "display_data",
          "data": {
            "text/plain": [
              "interactive(children=(Dropdown(description='Country', options=('Bangladesh', 'Brunei Darussalam', 'Cambodia', …"
            ],
            "application/vnd.jupyter.widget-view+json": {
              "version_major": 2,
              "version_minor": 0,
              "model_id": "51cdee17276045e190ca74c7b02a4725"
            }
          },
          "metadata": {}
        }
      ]
    },
    {
      "cell_type": "code",
      "source": [
        "def Country_data(Country, FactorHealth2):\n",
        "  return FactorHealth2.loc[FactorHealth2['Country'] == Country]\n",
        "\n",
        "def interact_visualization(Country, FactorHealth2):\n",
        "  Visualization = Country_data(Country, FactorHealth2)\n",
        "  ChartPoint = alt.Chart(Visualization).mark_point().encode(x = 'Schooling', y = 'Average Vaccination Rate')\n",
        "  ChartTotal = ChartPoint + ChartPoint.transform_regression('Schooling', 'Average Vaccination Rate').mark_line()\n",
        "  display(ChartTotal)\n",
        "\n",
        "interact(interact_visualization,\n",
        "         Country=FactorHealth2['Country'].unique(),\n",
        "         FactorHealth2=fixed(FactorHealth2));"
      ],
      "metadata": {
        "colab": {
          "base_uri": "https://localhost:8080/",
          "height": 401,
          "referenced_widgets": [
            "9ffd74fa4f3e48dd907def69e96f5532",
            "3bdb8f3603c94c18b3a5a72c98afeccc",
            "f6195fc8ed8e410997d6eb3b10bb3530",
            "e74bcf7eb1604ba4be4aedb302ef8a62",
            "8647b87cd1864c03b3903d1ee6765954",
            "28b3c1ea3d6042c7bb3223b352a4c5e9",
            "ad36ecf79937449fa0de526e8ccaf861"
          ]
        },
        "id": "E75rWovRH5Jt",
        "outputId": "a07201d0-9a88-4a6c-a4a2-f2953dcf15af"
      },
      "execution_count": 14,
      "outputs": [
        {
          "output_type": "display_data",
          "data": {
            "text/plain": [
              "interactive(children=(Dropdown(description='Country', options=('Bangladesh', 'Brunei Darussalam', 'Cambodia', …"
            ],
            "application/vnd.jupyter.widget-view+json": {
              "version_major": 2,
              "version_minor": 0,
              "model_id": "9ffd74fa4f3e48dd907def69e96f5532"
            }
          },
          "metadata": {}
        }
      ]
    },
    {
      "cell_type": "markdown",
      "source": [
        "**Results of comparisons between countries**\n",
        "- The correlation the between average vaccination rate and schooling varies a lot per country\n",
        "- Examples:\n",
        "  - High correlations: China, Laos and India\n",
        "  - Low correlations: Vietnam, Cambodia and Singapore"
      ],
      "metadata": {
        "id": "mxdSUg4oN4dr"
      }
    },
    {
      "cell_type": "markdown",
      "source": [
        "**Overall correlation between Average Vaccination Rate and Schooling**\n",
        "- A new datafile made with the mean of Average Vaccination Rate and Schooling for every country\n",
        "- Correlation determined using the '.corr()' function\n",
        "- Visualization in a scatterplot with regression line\n",
        "\n"
      ],
      "metadata": {
        "id": "nbVgt1ITmNaQ"
      }
    },
    {
      "cell_type": "code",
      "source": [
        "#Comparing the mean average vaccination rate of every country\n",
        "FactorHealth3 = FactorHealth2.groupby('Country')[['Schooling', 'Average Vaccination Rate']].mean()\n",
        "FactorHealth3.loc[:, ['Schooling', 'Average Vaccination Rate']].corr()"
      ],
      "metadata": {
        "colab": {
          "base_uri": "https://localhost:8080/",
          "height": 112
        },
        "id": "I8oLV7esNswr",
        "outputId": "8a4f97a8-cbb6-48ee-c643-f96783966e7f"
      },
      "execution_count": 15,
      "outputs": [
        {
          "output_type": "execute_result",
          "data": {
            "text/plain": [
              "                          Schooling  Average Vaccination Rate\n",
              "Schooling                  1.000000                  0.641809\n",
              "Average Vaccination Rate   0.641809                  1.000000"
            ],
            "text/html": [
              "\n",
              "  <div id=\"df-2fa196e5-b07e-4ba0-af9d-f0e56c8bf9f7\" class=\"colab-df-container\">\n",
              "    <div>\n",
              "<style scoped>\n",
              "    .dataframe tbody tr th:only-of-type {\n",
              "        vertical-align: middle;\n",
              "    }\n",
              "\n",
              "    .dataframe tbody tr th {\n",
              "        vertical-align: top;\n",
              "    }\n",
              "\n",
              "    .dataframe thead th {\n",
              "        text-align: right;\n",
              "    }\n",
              "</style>\n",
              "<table border=\"1\" class=\"dataframe\">\n",
              "  <thead>\n",
              "    <tr style=\"text-align: right;\">\n",
              "      <th></th>\n",
              "      <th>Schooling</th>\n",
              "      <th>Average Vaccination Rate</th>\n",
              "    </tr>\n",
              "  </thead>\n",
              "  <tbody>\n",
              "    <tr>\n",
              "      <th>Schooling</th>\n",
              "      <td>1.000000</td>\n",
              "      <td>0.641809</td>\n",
              "    </tr>\n",
              "    <tr>\n",
              "      <th>Average Vaccination Rate</th>\n",
              "      <td>0.641809</td>\n",
              "      <td>1.000000</td>\n",
              "    </tr>\n",
              "  </tbody>\n",
              "</table>\n",
              "</div>\n",
              "    <div class=\"colab-df-buttons\">\n",
              "\n",
              "  <div class=\"colab-df-container\">\n",
              "    <button class=\"colab-df-convert\" onclick=\"convertToInteractive('df-2fa196e5-b07e-4ba0-af9d-f0e56c8bf9f7')\"\n",
              "            title=\"Convert this dataframe to an interactive table.\"\n",
              "            style=\"display:none;\">\n",
              "\n",
              "  <svg xmlns=\"http://www.w3.org/2000/svg\" height=\"24px\" viewBox=\"0 -960 960 960\">\n",
              "    <path d=\"M120-120v-720h720v720H120Zm60-500h600v-160H180v160Zm220 220h160v-160H400v160Zm0 220h160v-160H400v160ZM180-400h160v-160H180v160Zm440 0h160v-160H620v160ZM180-180h160v-160H180v160Zm440 0h160v-160H620v160Z\"/>\n",
              "  </svg>\n",
              "    </button>\n",
              "\n",
              "  <style>\n",
              "    .colab-df-container {\n",
              "      display:flex;\n",
              "      gap: 12px;\n",
              "    }\n",
              "\n",
              "    .colab-df-convert {\n",
              "      background-color: #E8F0FE;\n",
              "      border: none;\n",
              "      border-radius: 50%;\n",
              "      cursor: pointer;\n",
              "      display: none;\n",
              "      fill: #1967D2;\n",
              "      height: 32px;\n",
              "      padding: 0 0 0 0;\n",
              "      width: 32px;\n",
              "    }\n",
              "\n",
              "    .colab-df-convert:hover {\n",
              "      background-color: #E2EBFA;\n",
              "      box-shadow: 0px 1px 2px rgba(60, 64, 67, 0.3), 0px 1px 3px 1px rgba(60, 64, 67, 0.15);\n",
              "      fill: #174EA6;\n",
              "    }\n",
              "\n",
              "    .colab-df-buttons div {\n",
              "      margin-bottom: 4px;\n",
              "    }\n",
              "\n",
              "    [theme=dark] .colab-df-convert {\n",
              "      background-color: #3B4455;\n",
              "      fill: #D2E3FC;\n",
              "    }\n",
              "\n",
              "    [theme=dark] .colab-df-convert:hover {\n",
              "      background-color: #434B5C;\n",
              "      box-shadow: 0px 1px 3px 1px rgba(0, 0, 0, 0.15);\n",
              "      filter: drop-shadow(0px 1px 2px rgba(0, 0, 0, 0.3));\n",
              "      fill: #FFFFFF;\n",
              "    }\n",
              "  </style>\n",
              "\n",
              "    <script>\n",
              "      const buttonEl =\n",
              "        document.querySelector('#df-2fa196e5-b07e-4ba0-af9d-f0e56c8bf9f7 button.colab-df-convert');\n",
              "      buttonEl.style.display =\n",
              "        google.colab.kernel.accessAllowed ? 'block' : 'none';\n",
              "\n",
              "      async function convertToInteractive(key) {\n",
              "        const element = document.querySelector('#df-2fa196e5-b07e-4ba0-af9d-f0e56c8bf9f7');\n",
              "        const dataTable =\n",
              "          await google.colab.kernel.invokeFunction('convertToInteractive',\n",
              "                                                    [key], {});\n",
              "        if (!dataTable) return;\n",
              "\n",
              "        const docLinkHtml = 'Like what you see? Visit the ' +\n",
              "          '<a target=\"_blank\" href=https://colab.research.google.com/notebooks/data_table.ipynb>data table notebook</a>'\n",
              "          + ' to learn more about interactive tables.';\n",
              "        element.innerHTML = '';\n",
              "        dataTable['output_type'] = 'display_data';\n",
              "        await google.colab.output.renderOutput(dataTable, element);\n",
              "        const docLink = document.createElement('div');\n",
              "        docLink.innerHTML = docLinkHtml;\n",
              "        element.appendChild(docLink);\n",
              "      }\n",
              "    </script>\n",
              "  </div>\n",
              "\n",
              "\n",
              "<div id=\"df-ba630dad-eedc-4cd2-a77d-2c3d9dd2dfd0\">\n",
              "  <button class=\"colab-df-quickchart\" onclick=\"quickchart('df-ba630dad-eedc-4cd2-a77d-2c3d9dd2dfd0')\"\n",
              "            title=\"Suggest charts\"\n",
              "            style=\"display:none;\">\n",
              "\n",
              "<svg xmlns=\"http://www.w3.org/2000/svg\" height=\"24px\"viewBox=\"0 0 24 24\"\n",
              "     width=\"24px\">\n",
              "    <g>\n",
              "        <path d=\"M19 3H5c-1.1 0-2 .9-2 2v14c0 1.1.9 2 2 2h14c1.1 0 2-.9 2-2V5c0-1.1-.9-2-2-2zM9 17H7v-7h2v7zm4 0h-2V7h2v10zm4 0h-2v-4h2v4z\"/>\n",
              "    </g>\n",
              "</svg>\n",
              "  </button>\n",
              "\n",
              "<style>\n",
              "  .colab-df-quickchart {\n",
              "      --bg-color: #E8F0FE;\n",
              "      --fill-color: #1967D2;\n",
              "      --hover-bg-color: #E2EBFA;\n",
              "      --hover-fill-color: #174EA6;\n",
              "      --disabled-fill-color: #AAA;\n",
              "      --disabled-bg-color: #DDD;\n",
              "  }\n",
              "\n",
              "  [theme=dark] .colab-df-quickchart {\n",
              "      --bg-color: #3B4455;\n",
              "      --fill-color: #D2E3FC;\n",
              "      --hover-bg-color: #434B5C;\n",
              "      --hover-fill-color: #FFFFFF;\n",
              "      --disabled-bg-color: #3B4455;\n",
              "      --disabled-fill-color: #666;\n",
              "  }\n",
              "\n",
              "  .colab-df-quickchart {\n",
              "    background-color: var(--bg-color);\n",
              "    border: none;\n",
              "    border-radius: 50%;\n",
              "    cursor: pointer;\n",
              "    display: none;\n",
              "    fill: var(--fill-color);\n",
              "    height: 32px;\n",
              "    padding: 0;\n",
              "    width: 32px;\n",
              "  }\n",
              "\n",
              "  .colab-df-quickchart:hover {\n",
              "    background-color: var(--hover-bg-color);\n",
              "    box-shadow: 0 1px 2px rgba(60, 64, 67, 0.3), 0 1px 3px 1px rgba(60, 64, 67, 0.15);\n",
              "    fill: var(--button-hover-fill-color);\n",
              "  }\n",
              "\n",
              "  .colab-df-quickchart-complete:disabled,\n",
              "  .colab-df-quickchart-complete:disabled:hover {\n",
              "    background-color: var(--disabled-bg-color);\n",
              "    fill: var(--disabled-fill-color);\n",
              "    box-shadow: none;\n",
              "  }\n",
              "\n",
              "  .colab-df-spinner {\n",
              "    border: 2px solid var(--fill-color);\n",
              "    border-color: transparent;\n",
              "    border-bottom-color: var(--fill-color);\n",
              "    animation:\n",
              "      spin 1s steps(1) infinite;\n",
              "  }\n",
              "\n",
              "  @keyframes spin {\n",
              "    0% {\n",
              "      border-color: transparent;\n",
              "      border-bottom-color: var(--fill-color);\n",
              "      border-left-color: var(--fill-color);\n",
              "    }\n",
              "    20% {\n",
              "      border-color: transparent;\n",
              "      border-left-color: var(--fill-color);\n",
              "      border-top-color: var(--fill-color);\n",
              "    }\n",
              "    30% {\n",
              "      border-color: transparent;\n",
              "      border-left-color: var(--fill-color);\n",
              "      border-top-color: var(--fill-color);\n",
              "      border-right-color: var(--fill-color);\n",
              "    }\n",
              "    40% {\n",
              "      border-color: transparent;\n",
              "      border-right-color: var(--fill-color);\n",
              "      border-top-color: var(--fill-color);\n",
              "    }\n",
              "    60% {\n",
              "      border-color: transparent;\n",
              "      border-right-color: var(--fill-color);\n",
              "    }\n",
              "    80% {\n",
              "      border-color: transparent;\n",
              "      border-right-color: var(--fill-color);\n",
              "      border-bottom-color: var(--fill-color);\n",
              "    }\n",
              "    90% {\n",
              "      border-color: transparent;\n",
              "      border-bottom-color: var(--fill-color);\n",
              "    }\n",
              "  }\n",
              "</style>\n",
              "\n",
              "  <script>\n",
              "    async function quickchart(key) {\n",
              "      const quickchartButtonEl =\n",
              "        document.querySelector('#' + key + ' button');\n",
              "      quickchartButtonEl.disabled = true;  // To prevent multiple clicks.\n",
              "      quickchartButtonEl.classList.add('colab-df-spinner');\n",
              "      try {\n",
              "        const charts = await google.colab.kernel.invokeFunction(\n",
              "            'suggestCharts', [key], {});\n",
              "      } catch (error) {\n",
              "        console.error('Error during call to suggestCharts:', error);\n",
              "      }\n",
              "      quickchartButtonEl.classList.remove('colab-df-spinner');\n",
              "      quickchartButtonEl.classList.add('colab-df-quickchart-complete');\n",
              "    }\n",
              "    (() => {\n",
              "      let quickchartButtonEl =\n",
              "        document.querySelector('#df-ba630dad-eedc-4cd2-a77d-2c3d9dd2dfd0 button');\n",
              "      quickchartButtonEl.style.display =\n",
              "        google.colab.kernel.accessAllowed ? 'block' : 'none';\n",
              "    })();\n",
              "  </script>\n",
              "</div>\n",
              "    </div>\n",
              "  </div>\n"
            ],
            "application/vnd.google.colaboratory.intrinsic+json": {
              "type": "dataframe",
              "summary": "{\n  \"name\": \"FactorHealth3\",\n  \"rows\": 2,\n  \"fields\": [\n    {\n      \"column\": \"Schooling\",\n      \"properties\": {\n        \"dtype\": \"number\",\n        \"std\": 0.2532790570950811,\n        \"min\": 0.6418093223910668,\n        \"max\": 1.0,\n        \"num_unique_values\": 2,\n        \"samples\": [\n          0.6418093223910668,\n          1.0\n        ],\n        \"semantic_type\": \"\",\n        \"description\": \"\"\n      }\n    },\n    {\n      \"column\": \"Average Vaccination Rate\",\n      \"properties\": {\n        \"dtype\": \"number\",\n        \"std\": 0.2532790570950811,\n        \"min\": 0.6418093223910668,\n        \"max\": 1.0,\n        \"num_unique_values\": 2,\n        \"samples\": [\n          1.0,\n          0.6418093223910668\n        ],\n        \"semantic_type\": \"\",\n        \"description\": \"\"\n      }\n    }\n  ]\n}"
            }
          },
          "metadata": {},
          "execution_count": 15
        }
      ]
    },
    {
      "cell_type": "code",
      "source": [
        "#Comparing the mean average vaccination rate of every country\n",
        "chart = alt.Chart(FactorHealth3).mark_point().encode(\n",
        "    x = 'Schooling',\n",
        "    y = 'Average Vaccination Rate'\n",
        ")\n",
        "chart + chart.transform_regression('Schooling', 'Average Vaccination Rate').mark_line()"
      ],
      "metadata": {
        "colab": {
          "base_uri": "https://localhost:8080/",
          "height": 369
        },
        "id": "AtZxYkrL1XUc",
        "outputId": "cebc78c4-cad2-486a-c967-aee3e9f20c7f"
      },
      "execution_count": 16,
      "outputs": [
        {
          "output_type": "execute_result",
          "data": {
            "text/html": [
              "\n",
              "<div id=\"altair-viz-7ee21bce4afe4126b377e1e0c4548c0f\"></div>\n",
              "<script type=\"text/javascript\">\n",
              "  var VEGA_DEBUG = (typeof VEGA_DEBUG == \"undefined\") ? {} : VEGA_DEBUG;\n",
              "  (function(spec, embedOpt){\n",
              "    let outputDiv = document.currentScript.previousElementSibling;\n",
              "    if (outputDiv.id !== \"altair-viz-7ee21bce4afe4126b377e1e0c4548c0f\") {\n",
              "      outputDiv = document.getElementById(\"altair-viz-7ee21bce4afe4126b377e1e0c4548c0f\");\n",
              "    }\n",
              "    const paths = {\n",
              "      \"vega\": \"https://cdn.jsdelivr.net/npm//vega@5?noext\",\n",
              "      \"vega-lib\": \"https://cdn.jsdelivr.net/npm//vega-lib?noext\",\n",
              "      \"vega-lite\": \"https://cdn.jsdelivr.net/npm//vega-lite@4.17.0?noext\",\n",
              "      \"vega-embed\": \"https://cdn.jsdelivr.net/npm//vega-embed@6?noext\",\n",
              "    };\n",
              "\n",
              "    function maybeLoadScript(lib, version) {\n",
              "      var key = `${lib.replace(\"-\", \"\")}_version`;\n",
              "      return (VEGA_DEBUG[key] == version) ?\n",
              "        Promise.resolve(paths[lib]) :\n",
              "        new Promise(function(resolve, reject) {\n",
              "          var s = document.createElement('script');\n",
              "          document.getElementsByTagName(\"head\")[0].appendChild(s);\n",
              "          s.async = true;\n",
              "          s.onload = () => {\n",
              "            VEGA_DEBUG[key] = version;\n",
              "            return resolve(paths[lib]);\n",
              "          };\n",
              "          s.onerror = () => reject(`Error loading script: ${paths[lib]}`);\n",
              "          s.src = paths[lib];\n",
              "        });\n",
              "    }\n",
              "\n",
              "    function showError(err) {\n",
              "      outputDiv.innerHTML = `<div class=\"error\" style=\"color:red;\">${err}</div>`;\n",
              "      throw err;\n",
              "    }\n",
              "\n",
              "    function displayChart(vegaEmbed) {\n",
              "      vegaEmbed(outputDiv, spec, embedOpt)\n",
              "        .catch(err => showError(`Javascript Error: ${err.message}<br>This usually means there's a typo in your chart specification. See the javascript console for the full traceback.`));\n",
              "    }\n",
              "\n",
              "    if(typeof define === \"function\" && define.amd) {\n",
              "      requirejs.config({paths});\n",
              "      require([\"vega-embed\"], displayChart, err => showError(`Error loading script: ${err.message}`));\n",
              "    } else {\n",
              "      maybeLoadScript(\"vega\", \"5\")\n",
              "        .then(() => maybeLoadScript(\"vega-lite\", \"4.17.0\"))\n",
              "        .then(() => maybeLoadScript(\"vega-embed\", \"6\"))\n",
              "        .catch(showError)\n",
              "        .then(() => displayChart(vegaEmbed));\n",
              "    }\n",
              "  })({\"config\": {\"view\": {\"continuousWidth\": 400, \"continuousHeight\": 300}}, \"layer\": [{\"mark\": \"point\", \"encoding\": {\"x\": {\"field\": \"Schooling\", \"type\": \"quantitative\"}, \"y\": {\"field\": \"Average Vaccination Rate\", \"type\": \"quantitative\"}}}, {\"mark\": \"line\", \"encoding\": {\"x\": {\"field\": \"Schooling\", \"type\": \"quantitative\"}, \"y\": {\"field\": \"Average Vaccination Rate\", \"type\": \"quantitative\"}}, \"transform\": [{\"on\": \"Schooling\", \"regression\": \"Average Vaccination Rate\"}]}], \"data\": {\"name\": \"data-2c8ffcf642dd1e332844fb6f1aa9529d\"}, \"$schema\": \"https://vega.github.io/schema/vega-lite/v4.17.0.json\", \"datasets\": {\"data-2c8ffcf642dd1e332844fb6f1aa9529d\": [{\"Schooling\": 9.145454545454545, \"Average Vaccination Rate\": 93.72727272727273}, {\"Schooling\": 14.10625, \"Average Vaccination Rate\": 97.39583333333333}, {\"Schooling\": 10.655555555555557, \"Average Vaccination Rate\": 86.85185185185185}, {\"Schooling\": 11.700000000000001, \"Average Vaccination Rate\": 93.40476190476191}, {\"Schooling\": 11.033333333333333, \"Average Vaccination Rate\": 73.55555555555556}, {\"Schooling\": 11.549999999999999, \"Average Vaccination Rate\": 77.25}, {\"Schooling\": 9.833333333333334, \"Average Vaccination Rate\": 73.81481481481482}, {\"Schooling\": 12.5625, \"Average Vaccination Rate\": 96.27083333333333}, {\"Schooling\": 12.66875, \"Average Vaccination Rate\": 97.45833333333333}, {\"Schooling\": 8.488888888888887, \"Average Vaccination Rate\": 80.33333333333333}, {\"Schooling\": 7.06, \"Average Vaccination Rate\": 72.83333333333334}, {\"Schooling\": 11.538461538461538, \"Average Vaccination Rate\": 79.84615384615384}, {\"Schooling\": 13.853333333333333, \"Average Vaccination Rate\": 95.71111111111112}, {\"Schooling\": 13.98125, \"Average Vaccination Rate\": 96.0625}, {\"Schooling\": 13.384615384615385, \"Average Vaccination Rate\": 95.82051282051283}, {\"Schooling\": 12.55, \"Average Vaccination Rate\": 97.83333333333333}, {\"Schooling\": 12.3375, \"Average Vaccination Rate\": 76.125}, {\"Schooling\": 11.73076923076923, \"Average Vaccination Rate\": 91.64102564102564}]}}, {\"mode\": \"vega-lite\"});\n",
              "</script>"
            ],
            "text/plain": [
              "alt.LayerChart(...)"
            ]
          },
          "metadata": {},
          "execution_count": 16
        }
      ]
    },
    {
      "cell_type": "markdown",
      "source": [
        "**Results overall correlation**\n",
        "- A moderate correlation between the average vaccination rate and schooling"
      ],
      "metadata": {
        "id": "NS86VirLoAiR"
      }
    },
    {
      "cell_type": "markdown",
      "source": [
        "**Comparison of countries over the years**\n",
        "- Same as for the previous interactive graphs, only 'country' is made a color and 'year' is made a dropdown"
      ],
      "metadata": {
        "id": "0r5p_90_oMtQ"
      }
    },
    {
      "cell_type": "code",
      "source": [
        "def Year_data(Year, FactorHealth2):\n",
        "  return FactorHealth2.loc[FactorHealth2['Year'] == Year]\n",
        "\n",
        "\n",
        "def interact_visualization1(Year, FactorHealth2):\n",
        "  Visualization1 = Year_data(Year, FactorHealth2)\n",
        "  ChartTotal1 = alt.Chart(Visualization1).mark_point().encode(x = 'Schooling', y = 'Average Vaccination Rate', color = 'Country')\n",
        "  display(ChartTotal1)\n",
        "\n",
        "interact(interact_visualization1, Year = FactorHealth2['Year'].unique(), FactorHealth2=fixed(FactorHealth2));"
      ],
      "metadata": {
        "colab": {
          "base_uri": "https://localhost:8080/",
          "height": 401,
          "referenced_widgets": [
            "f538b6f854d3422ebec2049fff6ec5dd",
            "ea4c376862334c428825a1752358529b",
            "b8968e24308c40c38532cc97095921bf",
            "9b6f1c17cdcc448fb040754f878d5136",
            "e47fab7dc36649fb9defba99af52c7b2",
            "e3745a64bb4e4084b74171e903a73017",
            "682701e2d6d2476e8f43be56346be324"
          ]
        },
        "id": "nfk8wSSjG3c4",
        "outputId": "220e147c-5901-4005-c6fa-0fcef59da83f"
      },
      "execution_count": 17,
      "outputs": [
        {
          "output_type": "display_data",
          "data": {
            "text/plain": [
              "interactive(children=(Dropdown(description='Year', options=(2015, 2014, 2013, 2012, 2011, 2010, 2009, 2008, 20…"
            ],
            "application/vnd.jupyter.widget-view+json": {
              "version_major": 2,
              "version_minor": 0,
              "model_id": "f538b6f854d3422ebec2049fff6ec5dd"
            }
          },
          "metadata": {}
        }
      ]
    },
    {
      "cell_type": "markdown",
      "source": [
        "**Results of countries over the years**\n",
        "- This also varies a lot per country\n",
        "- Examples:\n",
        "  - Malaysia always had high schooling and a high vaccination rate\n",
        "  - In India, Schooling and the Average Vaccination Rate increased over the years  "
      ],
      "metadata": {
        "id": "7dhAaVPOqcTI"
      }
    },
    {
      "cell_type": "markdown",
      "source": [
        "# **Conclusion**"
      ],
      "metadata": {
        "id": "98z9cOIVt_Ap"
      }
    },
    {
      "cell_type": "markdown",
      "source": [
        "- Correlation between Average Vaccination Rate and Schooling varies per country\n",
        "  - Same case when comparing countries over the years\n",
        "- There's a moderate correlation between the Average Vaccination Rate and Schooling overall"
      ],
      "metadata": {
        "id": "_tqzPVeeuCzA"
      }
    }
  ]
}